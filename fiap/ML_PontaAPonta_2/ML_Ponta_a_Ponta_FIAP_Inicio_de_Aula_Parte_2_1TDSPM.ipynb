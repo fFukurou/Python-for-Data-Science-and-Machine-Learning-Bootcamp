{
  "nbformat": 4,
  "nbformat_minor": 0,
  "metadata": {
    "colab": {
      "provenance": []
    },
    "kernelspec": {
      "name": "python3",
      "display_name": "Python 3"
    },
    "language_info": {
      "name": "python"
    }
  },
  "cells": [
    {
      "cell_type": "markdown",
      "source": [
        "#Modelo de Machine Learning de Ponta a Ponta"
      ],
      "metadata": {
        "id": "ieVSM_NaVTDU"
      }
    },
    {
      "cell_type": "markdown",
      "source": [
        "Depois que apresentamos as soluções para melhorar o desempenho da empresa e recuperar uma parte do faturamento, estamos prontos para criar um Modelo de Machine Learning capaz de prever a demanda para os próximos dias, gerando valor para os parceiros e levando informações preciosas para que eles possam se preparar para o dia de trabalho."
      ],
      "metadata": {
        "id": "adsLnldVXIPu"
      }
    },
    {
      "cell_type": "code",
      "execution_count": 1,
      "metadata": {
        "id": "P4KJTld7xMu3"
      },
      "outputs": [],
      "source": [
        "#import das bibliotecas\n",
        "import pandas as pd\n",
        "import numpy as np"
      ]
    },
    {
      "cell_type": "markdown",
      "source": [
        "## Análise de Estrutura"
      ],
      "metadata": {
        "id": "B4rp2cIZyof2"
      }
    },
    {
      "cell_type": "markdown",
      "source": [
        "## Remoção de Outliers"
      ],
      "metadata": {
        "id": "qJjAbDBWVXI7"
      }
    },
    {
      "cell_type": "code",
      "source": [
        "#Leitura do csv\n",
        "df_orders = pd.read_csv(\"orders.csv\")"
      ],
      "metadata": {
        "id": "QKHvsKN89Vi9"
      },
      "execution_count": 2,
      "outputs": []
    },
    {
      "cell_type": "code",
      "source": [
        "#Corte de outliers\n",
        "df_orders = df_orders[(df_orders['order_amount'] >= 15) &\n",
        "          (df_orders['order_amount'] <= 200)]"
      ],
      "metadata": {
        "id": "5018W-fu12t-"
      },
      "execution_count": 3,
      "outputs": []
    },
    {
      "cell_type": "code",
      "source": [
        "#info\n",
        "df_orders.info()"
      ],
      "metadata": {
        "id": "KQQ9AhAmxbHm",
        "colab": {
          "base_uri": "https://localhost:8080/"
        },
        "outputId": "f1cb005d-6d9d-44a9-d5f7-3fabdcf9197d"
      },
      "execution_count": 4,
      "outputs": [
        {
          "output_type": "stream",
          "name": "stdout",
          "text": [
            "<class 'pandas.core.frame.DataFrame'>\n",
            "Index: 333629 entries, 0 to 368998\n",
            "Data columns (total 29 columns):\n",
            " #   Column                             Non-Null Count   Dtype  \n",
            "---  ------                             --------------   -----  \n",
            " 0   order_id                           333629 non-null  int64  \n",
            " 1   store_id                           333629 non-null  int64  \n",
            " 2   channel_id                         333629 non-null  int64  \n",
            " 3   payment_order_id                   333629 non-null  int64  \n",
            " 4   delivery_order_id                  333629 non-null  int64  \n",
            " 5   order_status                       333629 non-null  object \n",
            " 6   order_amount                       333629 non-null  float64\n",
            " 7   order_delivery_fee                 333629 non-null  float64\n",
            " 8   order_delivery_cost                327275 non-null  float64\n",
            " 9   order_created_hour                 333629 non-null  int64  \n",
            " 10  order_created_minute               333629 non-null  int64  \n",
            " 11  order_created_day                  333629 non-null  int64  \n",
            " 12  order_created_month                333629 non-null  int64  \n",
            " 13  order_created_year                 333629 non-null  int64  \n",
            " 14  order_moment_created               333629 non-null  object \n",
            " 15  order_moment_accepted              325043 non-null  object \n",
            " 16  order_moment_ready                 312152 non-null  object \n",
            " 17  order_moment_collected             297660 non-null  object \n",
            " 18  order_moment_in_expedition         275498 non-null  object \n",
            " 19  order_moment_delivering            312842 non-null  object \n",
            " 20  order_moment_delivered             16930 non-null   object \n",
            " 21  order_moment_finished              320733 non-null  object \n",
            " 22  order_metric_collected_time        290223 non-null  float64\n",
            " 23  order_metric_paused_time           272423 non-null  float64\n",
            " 24  order_metric_production_time       312151 non-null  float64\n",
            " 25  order_metric_walking_time          269553 non-null  float64\n",
            " 26  order_metric_expediton_speed_time  304793 non-null  float64\n",
            " 27  order_metric_transit_time          312372 non-null  float64\n",
            " 28  order_metric_cycle_time            320707 non-null  float64\n",
            "dtypes: float64(10), int64(10), object(9)\n",
            "memory usage: 76.4+ MB\n"
          ]
        }
      ]
    },
    {
      "cell_type": "markdown",
      "source": [
        "## Novas Features"
      ],
      "metadata": {
        "id": "m1889SjWzJYH"
      }
    },
    {
      "cell_type": "code",
      "source": [
        "#converter order_moment_created para data\n",
        "df_orders['order_moment_created'] = pd.to_datetime(df_orders['order_moment_created'])"
      ],
      "metadata": {
        "id": "9_3JJnwIzPdD",
        "colab": {
          "base_uri": "https://localhost:8080/"
        },
        "outputId": "920775ca-52a4-4dd7-ff95-0d7d66817abf"
      },
      "execution_count": 5,
      "outputs": [
        {
          "output_type": "stream",
          "name": "stderr",
          "text": [
            "<ipython-input-5-5a5a7be8dc62>:2: UserWarning: Could not infer format, so each element will be parsed individually, falling back to `dateutil`. To ensure parsing is consistent and as-expected, please specify a format.\n",
            "  df_orders['order_moment_created'] = pd.to_datetime(df_orders['order_moment_created'])\n"
          ]
        }
      ]
    },
    {
      "cell_type": "code",
      "source": [
        "#nova coluna com o dia da semana\n",
        "df_orders['day_of_week'] = df_orders['order_moment_created'].dt.day_of_week"
      ],
      "metadata": {
        "id": "LMgRI5OE1hIk"
      },
      "execution_count": 6,
      "outputs": []
    },
    {
      "cell_type": "code",
      "source": [
        "#['order_moment_created'].dt.day_name"
      ],
      "metadata": {
        "id": "EgvdLSdxyyLh"
      },
      "execution_count": 7,
      "outputs": []
    },
    {
      "cell_type": "code",
      "source": [
        "#Análise da quantidade de horas que temos pedidos por dia\n",
        "df_orders['order_created_hour'].value_counts().reset_index().sort_values('order_created_hour')"
      ],
      "metadata": {
        "id": "lPyiEvdJ5w2N",
        "colab": {
          "base_uri": "https://localhost:8080/",
          "height": 802
        },
        "outputId": "1f5f1433-66fd-41dc-808e-e1081d45b99d"
      },
      "execution_count": 8,
      "outputs": [
        {
          "output_type": "execute_result",
          "data": {
            "text/plain": [
              "    order_created_hour  count\n",
              "6                    0  25126\n",
              "12                   1   4002\n",
              "13                   2   1003\n",
              "15                   3    713\n",
              "18                   4    267\n",
              "17                   5    417\n",
              "19                   6    260\n",
              "21                   7    214\n",
              "23                   8    124\n",
              "22                   9    126\n",
              "20                  10    216\n",
              "16                  11    430\n",
              "14                  12    925\n",
              "11                  13   4636\n",
              "4                   14  31303\n",
              "0                   15  46235\n",
              "3                   16  32297\n",
              "7                   17  23202\n",
              "8                   18  17864\n",
              "9                   19  15239\n",
              "10                  20  14993\n",
              "5                   21  26324\n",
              "1                   22  44931\n",
              "2                   23  42782"
            ],
            "text/html": [
              "\n",
              "  <div id=\"df-a2467a70-6e23-4174-88d3-4018a5e024a7\" class=\"colab-df-container\">\n",
              "    <div>\n",
              "<style scoped>\n",
              "    .dataframe tbody tr th:only-of-type {\n",
              "        vertical-align: middle;\n",
              "    }\n",
              "\n",
              "    .dataframe tbody tr th {\n",
              "        vertical-align: top;\n",
              "    }\n",
              "\n",
              "    .dataframe thead th {\n",
              "        text-align: right;\n",
              "    }\n",
              "</style>\n",
              "<table border=\"1\" class=\"dataframe\">\n",
              "  <thead>\n",
              "    <tr style=\"text-align: right;\">\n",
              "      <th></th>\n",
              "      <th>order_created_hour</th>\n",
              "      <th>count</th>\n",
              "    </tr>\n",
              "  </thead>\n",
              "  <tbody>\n",
              "    <tr>\n",
              "      <th>6</th>\n",
              "      <td>0</td>\n",
              "      <td>25126</td>\n",
              "    </tr>\n",
              "    <tr>\n",
              "      <th>12</th>\n",
              "      <td>1</td>\n",
              "      <td>4002</td>\n",
              "    </tr>\n",
              "    <tr>\n",
              "      <th>13</th>\n",
              "      <td>2</td>\n",
              "      <td>1003</td>\n",
              "    </tr>\n",
              "    <tr>\n",
              "      <th>15</th>\n",
              "      <td>3</td>\n",
              "      <td>713</td>\n",
              "    </tr>\n",
              "    <tr>\n",
              "      <th>18</th>\n",
              "      <td>4</td>\n",
              "      <td>267</td>\n",
              "    </tr>\n",
              "    <tr>\n",
              "      <th>17</th>\n",
              "      <td>5</td>\n",
              "      <td>417</td>\n",
              "    </tr>\n",
              "    <tr>\n",
              "      <th>19</th>\n",
              "      <td>6</td>\n",
              "      <td>260</td>\n",
              "    </tr>\n",
              "    <tr>\n",
              "      <th>21</th>\n",
              "      <td>7</td>\n",
              "      <td>214</td>\n",
              "    </tr>\n",
              "    <tr>\n",
              "      <th>23</th>\n",
              "      <td>8</td>\n",
              "      <td>124</td>\n",
              "    </tr>\n",
              "    <tr>\n",
              "      <th>22</th>\n",
              "      <td>9</td>\n",
              "      <td>126</td>\n",
              "    </tr>\n",
              "    <tr>\n",
              "      <th>20</th>\n",
              "      <td>10</td>\n",
              "      <td>216</td>\n",
              "    </tr>\n",
              "    <tr>\n",
              "      <th>16</th>\n",
              "      <td>11</td>\n",
              "      <td>430</td>\n",
              "    </tr>\n",
              "    <tr>\n",
              "      <th>14</th>\n",
              "      <td>12</td>\n",
              "      <td>925</td>\n",
              "    </tr>\n",
              "    <tr>\n",
              "      <th>11</th>\n",
              "      <td>13</td>\n",
              "      <td>4636</td>\n",
              "    </tr>\n",
              "    <tr>\n",
              "      <th>4</th>\n",
              "      <td>14</td>\n",
              "      <td>31303</td>\n",
              "    </tr>\n",
              "    <tr>\n",
              "      <th>0</th>\n",
              "      <td>15</td>\n",
              "      <td>46235</td>\n",
              "    </tr>\n",
              "    <tr>\n",
              "      <th>3</th>\n",
              "      <td>16</td>\n",
              "      <td>32297</td>\n",
              "    </tr>\n",
              "    <tr>\n",
              "      <th>7</th>\n",
              "      <td>17</td>\n",
              "      <td>23202</td>\n",
              "    </tr>\n",
              "    <tr>\n",
              "      <th>8</th>\n",
              "      <td>18</td>\n",
              "      <td>17864</td>\n",
              "    </tr>\n",
              "    <tr>\n",
              "      <th>9</th>\n",
              "      <td>19</td>\n",
              "      <td>15239</td>\n",
              "    </tr>\n",
              "    <tr>\n",
              "      <th>10</th>\n",
              "      <td>20</td>\n",
              "      <td>14993</td>\n",
              "    </tr>\n",
              "    <tr>\n",
              "      <th>5</th>\n",
              "      <td>21</td>\n",
              "      <td>26324</td>\n",
              "    </tr>\n",
              "    <tr>\n",
              "      <th>1</th>\n",
              "      <td>22</td>\n",
              "      <td>44931</td>\n",
              "    </tr>\n",
              "    <tr>\n",
              "      <th>2</th>\n",
              "      <td>23</td>\n",
              "      <td>42782</td>\n",
              "    </tr>\n",
              "  </tbody>\n",
              "</table>\n",
              "</div>\n",
              "    <div class=\"colab-df-buttons\">\n",
              "\n",
              "  <div class=\"colab-df-container\">\n",
              "    <button class=\"colab-df-convert\" onclick=\"convertToInteractive('df-a2467a70-6e23-4174-88d3-4018a5e024a7')\"\n",
              "            title=\"Convert this dataframe to an interactive table.\"\n",
              "            style=\"display:none;\">\n",
              "\n",
              "  <svg xmlns=\"http://www.w3.org/2000/svg\" height=\"24px\" viewBox=\"0 -960 960 960\">\n",
              "    <path d=\"M120-120v-720h720v720H120Zm60-500h600v-160H180v160Zm220 220h160v-160H400v160Zm0 220h160v-160H400v160ZM180-400h160v-160H180v160Zm440 0h160v-160H620v160ZM180-180h160v-160H180v160Zm440 0h160v-160H620v160Z\"/>\n",
              "  </svg>\n",
              "    </button>\n",
              "\n",
              "  <style>\n",
              "    .colab-df-container {\n",
              "      display:flex;\n",
              "      gap: 12px;\n",
              "    }\n",
              "\n",
              "    .colab-df-convert {\n",
              "      background-color: #E8F0FE;\n",
              "      border: none;\n",
              "      border-radius: 50%;\n",
              "      cursor: pointer;\n",
              "      display: none;\n",
              "      fill: #1967D2;\n",
              "      height: 32px;\n",
              "      padding: 0 0 0 0;\n",
              "      width: 32px;\n",
              "    }\n",
              "\n",
              "    .colab-df-convert:hover {\n",
              "      background-color: #E2EBFA;\n",
              "      box-shadow: 0px 1px 2px rgba(60, 64, 67, 0.3), 0px 1px 3px 1px rgba(60, 64, 67, 0.15);\n",
              "      fill: #174EA6;\n",
              "    }\n",
              "\n",
              "    .colab-df-buttons div {\n",
              "      margin-bottom: 4px;\n",
              "    }\n",
              "\n",
              "    [theme=dark] .colab-df-convert {\n",
              "      background-color: #3B4455;\n",
              "      fill: #D2E3FC;\n",
              "    }\n",
              "\n",
              "    [theme=dark] .colab-df-convert:hover {\n",
              "      background-color: #434B5C;\n",
              "      box-shadow: 0px 1px 3px 1px rgba(0, 0, 0, 0.15);\n",
              "      filter: drop-shadow(0px 1px 2px rgba(0, 0, 0, 0.3));\n",
              "      fill: #FFFFFF;\n",
              "    }\n",
              "  </style>\n",
              "\n",
              "    <script>\n",
              "      const buttonEl =\n",
              "        document.querySelector('#df-a2467a70-6e23-4174-88d3-4018a5e024a7 button.colab-df-convert');\n",
              "      buttonEl.style.display =\n",
              "        google.colab.kernel.accessAllowed ? 'block' : 'none';\n",
              "\n",
              "      async function convertToInteractive(key) {\n",
              "        const element = document.querySelector('#df-a2467a70-6e23-4174-88d3-4018a5e024a7');\n",
              "        const dataTable =\n",
              "          await google.colab.kernel.invokeFunction('convertToInteractive',\n",
              "                                                    [key], {});\n",
              "        if (!dataTable) return;\n",
              "\n",
              "        const docLinkHtml = 'Like what you see? Visit the ' +\n",
              "          '<a target=\"_blank\" href=https://colab.research.google.com/notebooks/data_table.ipynb>data table notebook</a>'\n",
              "          + ' to learn more about interactive tables.';\n",
              "        element.innerHTML = '';\n",
              "        dataTable['output_type'] = 'display_data';\n",
              "        await google.colab.output.renderOutput(dataTable, element);\n",
              "        const docLink = document.createElement('div');\n",
              "        docLink.innerHTML = docLinkHtml;\n",
              "        element.appendChild(docLink);\n",
              "      }\n",
              "    </script>\n",
              "  </div>\n",
              "\n",
              "\n",
              "<div id=\"df-e80a0bc1-fb09-4d09-a320-9c6b0c10472c\">\n",
              "  <button class=\"colab-df-quickchart\" onclick=\"quickchart('df-e80a0bc1-fb09-4d09-a320-9c6b0c10472c')\"\n",
              "            title=\"Suggest charts\"\n",
              "            style=\"display:none;\">\n",
              "\n",
              "<svg xmlns=\"http://www.w3.org/2000/svg\" height=\"24px\"viewBox=\"0 0 24 24\"\n",
              "     width=\"24px\">\n",
              "    <g>\n",
              "        <path d=\"M19 3H5c-1.1 0-2 .9-2 2v14c0 1.1.9 2 2 2h14c1.1 0 2-.9 2-2V5c0-1.1-.9-2-2-2zM9 17H7v-7h2v7zm4 0h-2V7h2v10zm4 0h-2v-4h2v4z\"/>\n",
              "    </g>\n",
              "</svg>\n",
              "  </button>\n",
              "\n",
              "<style>\n",
              "  .colab-df-quickchart {\n",
              "      --bg-color: #E8F0FE;\n",
              "      --fill-color: #1967D2;\n",
              "      --hover-bg-color: #E2EBFA;\n",
              "      --hover-fill-color: #174EA6;\n",
              "      --disabled-fill-color: #AAA;\n",
              "      --disabled-bg-color: #DDD;\n",
              "  }\n",
              "\n",
              "  [theme=dark] .colab-df-quickchart {\n",
              "      --bg-color: #3B4455;\n",
              "      --fill-color: #D2E3FC;\n",
              "      --hover-bg-color: #434B5C;\n",
              "      --hover-fill-color: #FFFFFF;\n",
              "      --disabled-bg-color: #3B4455;\n",
              "      --disabled-fill-color: #666;\n",
              "  }\n",
              "\n",
              "  .colab-df-quickchart {\n",
              "    background-color: var(--bg-color);\n",
              "    border: none;\n",
              "    border-radius: 50%;\n",
              "    cursor: pointer;\n",
              "    display: none;\n",
              "    fill: var(--fill-color);\n",
              "    height: 32px;\n",
              "    padding: 0;\n",
              "    width: 32px;\n",
              "  }\n",
              "\n",
              "  .colab-df-quickchart:hover {\n",
              "    background-color: var(--hover-bg-color);\n",
              "    box-shadow: 0 1px 2px rgba(60, 64, 67, 0.3), 0 1px 3px 1px rgba(60, 64, 67, 0.15);\n",
              "    fill: var(--button-hover-fill-color);\n",
              "  }\n",
              "\n",
              "  .colab-df-quickchart-complete:disabled,\n",
              "  .colab-df-quickchart-complete:disabled:hover {\n",
              "    background-color: var(--disabled-bg-color);\n",
              "    fill: var(--disabled-fill-color);\n",
              "    box-shadow: none;\n",
              "  }\n",
              "\n",
              "  .colab-df-spinner {\n",
              "    border: 2px solid var(--fill-color);\n",
              "    border-color: transparent;\n",
              "    border-bottom-color: var(--fill-color);\n",
              "    animation:\n",
              "      spin 1s steps(1) infinite;\n",
              "  }\n",
              "\n",
              "  @keyframes spin {\n",
              "    0% {\n",
              "      border-color: transparent;\n",
              "      border-bottom-color: var(--fill-color);\n",
              "      border-left-color: var(--fill-color);\n",
              "    }\n",
              "    20% {\n",
              "      border-color: transparent;\n",
              "      border-left-color: var(--fill-color);\n",
              "      border-top-color: var(--fill-color);\n",
              "    }\n",
              "    30% {\n",
              "      border-color: transparent;\n",
              "      border-left-color: var(--fill-color);\n",
              "      border-top-color: var(--fill-color);\n",
              "      border-right-color: var(--fill-color);\n",
              "    }\n",
              "    40% {\n",
              "      border-color: transparent;\n",
              "      border-right-color: var(--fill-color);\n",
              "      border-top-color: var(--fill-color);\n",
              "    }\n",
              "    60% {\n",
              "      border-color: transparent;\n",
              "      border-right-color: var(--fill-color);\n",
              "    }\n",
              "    80% {\n",
              "      border-color: transparent;\n",
              "      border-right-color: var(--fill-color);\n",
              "      border-bottom-color: var(--fill-color);\n",
              "    }\n",
              "    90% {\n",
              "      border-color: transparent;\n",
              "      border-bottom-color: var(--fill-color);\n",
              "    }\n",
              "  }\n",
              "</style>\n",
              "\n",
              "  <script>\n",
              "    async function quickchart(key) {\n",
              "      const quickchartButtonEl =\n",
              "        document.querySelector('#' + key + ' button');\n",
              "      quickchartButtonEl.disabled = true;  // To prevent multiple clicks.\n",
              "      quickchartButtonEl.classList.add('colab-df-spinner');\n",
              "      try {\n",
              "        const charts = await google.colab.kernel.invokeFunction(\n",
              "            'suggestCharts', [key], {});\n",
              "      } catch (error) {\n",
              "        console.error('Error during call to suggestCharts:', error);\n",
              "      }\n",
              "      quickchartButtonEl.classList.remove('colab-df-spinner');\n",
              "      quickchartButtonEl.classList.add('colab-df-quickchart-complete');\n",
              "    }\n",
              "    (() => {\n",
              "      let quickchartButtonEl =\n",
              "        document.querySelector('#df-e80a0bc1-fb09-4d09-a320-9c6b0c10472c button');\n",
              "      quickchartButtonEl.style.display =\n",
              "        google.colab.kernel.accessAllowed ? 'block' : 'none';\n",
              "    })();\n",
              "  </script>\n",
              "</div>\n",
              "\n",
              "    </div>\n",
              "  </div>\n"
            ],
            "application/vnd.google.colaboratory.intrinsic+json": {
              "type": "dataframe",
              "summary": "{\n  \"name\": \"df_orders['order_created_hour']\",\n  \"rows\": 24,\n  \"fields\": [\n    {\n      \"column\": \"order_created_hour\",\n      \"properties\": {\n        \"dtype\": \"number\",\n        \"std\": 7,\n        \"min\": 0,\n        \"max\": 23,\n        \"num_unique_values\": 24,\n        \"samples\": [\n          8,\n          16,\n          0\n        ],\n        \"semantic_type\": \"\",\n        \"description\": \"\"\n      }\n    },\n    {\n      \"column\": \"count\",\n      \"properties\": {\n        \"dtype\": \"number\",\n        \"std\": 16220,\n        \"min\": 124,\n        \"max\": 46235,\n        \"num_unique_values\": 24,\n        \"samples\": [\n          124,\n          32297,\n          25126\n        ],\n        \"semantic_type\": \"\",\n        \"description\": \"\"\n      }\n    }\n  ]\n}"
            }
          },
          "metadata": {},
          "execution_count": 8
        }
      ]
    },
    {
      "cell_type": "code",
      "source": [
        "#criando função por faixa de horário\n",
        "def faixa_horario(hora):\n",
        "    if hora >= 0 and hora <= 5:\n",
        "      return 'madrugada'\n",
        "    elif hora >= 6 and hora <= 10:\n",
        "      return 'manha'\n",
        "    elif hora >= 11 and hora <= 14:\n",
        "      return 'almoco'\n",
        "    elif hora >= 15 and  hora <= 18:\n",
        "      return 'tarde'\n",
        "    else:\n",
        "      return 'noite'\n",
        "faixa_horario(19)"
      ],
      "metadata": {
        "id": "Uw-f5H6Q6X7k",
        "colab": {
          "base_uri": "https://localhost:8080/",
          "height": 35
        },
        "outputId": "d303495e-0373-4037-a4f4-e191bf3be229"
      },
      "execution_count": 9,
      "outputs": [
        {
          "output_type": "execute_result",
          "data": {
            "text/plain": [
              "'noite'"
            ],
            "application/vnd.google.colaboratory.intrinsic+json": {
              "type": "string"
            }
          },
          "metadata": {},
          "execution_count": 9
        }
      ]
    },
    {
      "cell_type": "code",
      "source": [
        "#aplicando função e criando uma nova coluna com o nome de faixa de horário\n",
        "df_orders['faixa_horario'] = df_orders['order_created_hour'].apply(faixa_horario)"
      ],
      "metadata": {
        "id": "HhUb-QCe5aZ2"
      },
      "execution_count": 10,
      "outputs": []
    },
    {
      "cell_type": "code",
      "source": [
        "#distribuição da faixa de horário\n",
        "df_orders['faixa_horario'].value_counts()"
      ],
      "metadata": {
        "id": "MLN9tLHZ8Rn0",
        "colab": {
          "base_uri": "https://localhost:8080/",
          "height": 272
        },
        "outputId": "162a200c-ba2c-4f74-a486-9f303ac3d4c5"
      },
      "execution_count": 11,
      "outputs": [
        {
          "output_type": "execute_result",
          "data": {
            "text/plain": [
              "faixa_horario\n",
              "noite        144269\n",
              "tarde        119598\n",
              "almoco        37294\n",
              "madrugada     31528\n",
              "manha           940\n",
              "Name: count, dtype: int64"
            ],
            "text/html": [
              "<div>\n",
              "<style scoped>\n",
              "    .dataframe tbody tr th:only-of-type {\n",
              "        vertical-align: middle;\n",
              "    }\n",
              "\n",
              "    .dataframe tbody tr th {\n",
              "        vertical-align: top;\n",
              "    }\n",
              "\n",
              "    .dataframe thead th {\n",
              "        text-align: right;\n",
              "    }\n",
              "</style>\n",
              "<table border=\"1\" class=\"dataframe\">\n",
              "  <thead>\n",
              "    <tr style=\"text-align: right;\">\n",
              "      <th></th>\n",
              "      <th>count</th>\n",
              "    </tr>\n",
              "    <tr>\n",
              "      <th>faixa_horario</th>\n",
              "      <th></th>\n",
              "    </tr>\n",
              "  </thead>\n",
              "  <tbody>\n",
              "    <tr>\n",
              "      <th>noite</th>\n",
              "      <td>144269</td>\n",
              "    </tr>\n",
              "    <tr>\n",
              "      <th>tarde</th>\n",
              "      <td>119598</td>\n",
              "    </tr>\n",
              "    <tr>\n",
              "      <th>almoco</th>\n",
              "      <td>37294</td>\n",
              "    </tr>\n",
              "    <tr>\n",
              "      <th>madrugada</th>\n",
              "      <td>31528</td>\n",
              "    </tr>\n",
              "    <tr>\n",
              "      <th>manha</th>\n",
              "      <td>940</td>\n",
              "    </tr>\n",
              "  </tbody>\n",
              "</table>\n",
              "</div><br><label><b>dtype:</b> int64</label>"
            ]
          },
          "metadata": {},
          "execution_count": 11
        }
      ]
    },
    {
      "cell_type": "markdown",
      "source": [
        "## DataPrep"
      ],
      "metadata": {
        "id": "OqQgnykXyruE"
      }
    },
    {
      "cell_type": "code",
      "source": [
        "#Criando um novo dataset de orders_treatment\n",
        "df_orders_treatment = df_orders.copy()"
      ],
      "metadata": {
        "id": "E5tzvIEo-giy"
      },
      "execution_count": 12,
      "outputs": []
    },
    {
      "cell_type": "code",
      "source": [
        "#info\n",
        "df_orders_treatment.info()"
      ],
      "metadata": {
        "id": "ZEE97xId3L-k",
        "colab": {
          "base_uri": "https://localhost:8080/"
        },
        "outputId": "6937b3ce-02a2-478f-84aa-3cf4aa11923f"
      },
      "execution_count": 13,
      "outputs": [
        {
          "output_type": "stream",
          "name": "stdout",
          "text": [
            "<class 'pandas.core.frame.DataFrame'>\n",
            "Index: 333629 entries, 0 to 368998\n",
            "Data columns (total 31 columns):\n",
            " #   Column                             Non-Null Count   Dtype         \n",
            "---  ------                             --------------   -----         \n",
            " 0   order_id                           333629 non-null  int64         \n",
            " 1   store_id                           333629 non-null  int64         \n",
            " 2   channel_id                         333629 non-null  int64         \n",
            " 3   payment_order_id                   333629 non-null  int64         \n",
            " 4   delivery_order_id                  333629 non-null  int64         \n",
            " 5   order_status                       333629 non-null  object        \n",
            " 6   order_amount                       333629 non-null  float64       \n",
            " 7   order_delivery_fee                 333629 non-null  float64       \n",
            " 8   order_delivery_cost                327275 non-null  float64       \n",
            " 9   order_created_hour                 333629 non-null  int64         \n",
            " 10  order_created_minute               333629 non-null  int64         \n",
            " 11  order_created_day                  333629 non-null  int64         \n",
            " 12  order_created_month                333629 non-null  int64         \n",
            " 13  order_created_year                 333629 non-null  int64         \n",
            " 14  order_moment_created               333629 non-null  datetime64[ns]\n",
            " 15  order_moment_accepted              325043 non-null  object        \n",
            " 16  order_moment_ready                 312152 non-null  object        \n",
            " 17  order_moment_collected             297660 non-null  object        \n",
            " 18  order_moment_in_expedition         275498 non-null  object        \n",
            " 19  order_moment_delivering            312842 non-null  object        \n",
            " 20  order_moment_delivered             16930 non-null   object        \n",
            " 21  order_moment_finished              320733 non-null  object        \n",
            " 22  order_metric_collected_time        290223 non-null  float64       \n",
            " 23  order_metric_paused_time           272423 non-null  float64       \n",
            " 24  order_metric_production_time       312151 non-null  float64       \n",
            " 25  order_metric_walking_time          269553 non-null  float64       \n",
            " 26  order_metric_expediton_speed_time  304793 non-null  float64       \n",
            " 27  order_metric_transit_time          312372 non-null  float64       \n",
            " 28  order_metric_cycle_time            320707 non-null  float64       \n",
            " 29  day_of_week                        333629 non-null  int32         \n",
            " 30  faixa_horario                      333629 non-null  object        \n",
            "dtypes: datetime64[ns](1), float64(10), int32(1), int64(10), object(9)\n",
            "memory usage: 80.2+ MB\n"
          ]
        }
      ]
    },
    {
      "cell_type": "markdown",
      "source": [
        "### Data Cleaning"
      ],
      "metadata": {
        "id": "H2YTy5rBFYlT"
      }
    },
    {
      "cell_type": "markdown",
      "source": [
        "#### Exclusão de colunas"
      ],
      "metadata": {
        "id": "2-70KGa5-mDO"
      }
    },
    {
      "cell_type": "code",
      "source": [
        "#após realizar análise das variáveis excluir variável order_moment_delivered\n",
        "df_orders_treatment.drop('order_moment_delivered', axis=1, inplace=True)"
      ],
      "metadata": {
        "id": "Osr4xOQV2l0M"
      },
      "execution_count": 14,
      "outputs": []
    },
    {
      "cell_type": "code",
      "source": [
        "#definição das colunas que serão excluídas da nossa base\n",
        "columns_delete = ['payment_order_id',\n",
        "'delivery_order_id',\n",
        "'order_status',\n",
        "'order_created_minute',\n",
        "'order_created_month',\n",
        "'order_created_year',\n",
        "'order_moment_created',\n",
        "'order_moment_accepted',\n",
        "'order_moment_ready',\n",
        "'order_moment_collected',\n",
        "'order_moment_in_expedition',\n",
        "'order_moment_delivering',\n",
        "'order_moment_finished',\n",
        "'order_delivery_fee',\n",
        "'order_delivery_cost',\n",
        "'order_created_hour']"
      ],
      "metadata": {
        "id": "A1SOA6Px3OpG"
      },
      "execution_count": 15,
      "outputs": []
    },
    {
      "cell_type": "code",
      "source": [
        "#excluir colunas\n",
        "df_orders_treatment.drop(columns_delete, axis=1, inplace=True)"
      ],
      "metadata": {
        "id": "Q0jLXVK03v9X"
      },
      "execution_count": 16,
      "outputs": []
    },
    {
      "cell_type": "markdown",
      "source": [
        "#### Prenchendo valores nulos"
      ],
      "metadata": {
        "id": "bLgeTuLD-paw"
      }
    },
    {
      "cell_type": "code",
      "source": [
        "#info\n",
        "df_orders_treatment.info()"
      ],
      "metadata": {
        "id": "joDBi9FtWVSh",
        "colab": {
          "base_uri": "https://localhost:8080/"
        },
        "outputId": "66ba673a-ffbc-485a-f4e4-97495cae2240"
      },
      "execution_count": 17,
      "outputs": [
        {
          "output_type": "stream",
          "name": "stdout",
          "text": [
            "<class 'pandas.core.frame.DataFrame'>\n",
            "Index: 333629 entries, 0 to 368998\n",
            "Data columns (total 14 columns):\n",
            " #   Column                             Non-Null Count   Dtype  \n",
            "---  ------                             --------------   -----  \n",
            " 0   order_id                           333629 non-null  int64  \n",
            " 1   store_id                           333629 non-null  int64  \n",
            " 2   channel_id                         333629 non-null  int64  \n",
            " 3   order_amount                       333629 non-null  float64\n",
            " 4   order_created_day                  333629 non-null  int64  \n",
            " 5   order_metric_collected_time        290223 non-null  float64\n",
            " 6   order_metric_paused_time           272423 non-null  float64\n",
            " 7   order_metric_production_time       312151 non-null  float64\n",
            " 8   order_metric_walking_time          269553 non-null  float64\n",
            " 9   order_metric_expediton_speed_time  304793 non-null  float64\n",
            " 10  order_metric_transit_time          312372 non-null  float64\n",
            " 11  order_metric_cycle_time            320707 non-null  float64\n",
            " 12  day_of_week                        333629 non-null  int32  \n",
            " 13  faixa_horario                      333629 non-null  object \n",
            "dtypes: float64(8), int32(1), int64(4), object(1)\n",
            "memory usage: 36.9+ MB\n"
          ]
        }
      ]
    },
    {
      "cell_type": "code",
      "source": [
        "#utilização do fillna com a mediana para preencher os valores do order_metric_collected_time\n",
        "df_orders_treatment['order_metric_collected_time'] \\\n",
        "  .fillna(df_orders_treatment['order_metric_collected_time'].median(), inplace=True)"
      ],
      "metadata": {
        "id": "IuOEJ3xHDBcZ",
        "colab": {
          "base_uri": "https://localhost:8080/"
        },
        "outputId": "0a40c04c-efa4-4d7c-d2b9-a820252176f0"
      },
      "execution_count": 18,
      "outputs": [
        {
          "output_type": "stream",
          "name": "stderr",
          "text": [
            "<ipython-input-18-233c5c044caf>:2: FutureWarning: A value is trying to be set on a copy of a DataFrame or Series through chained assignment using an inplace method.\n",
            "The behavior will change in pandas 3.0. This inplace method will never work because the intermediate object on which we are setting values always behaves as a copy.\n",
            "\n",
            "For example, when doing 'df[col].method(value, inplace=True)', try using 'df.method({col: value}, inplace=True)' or df[col] = df[col].method(value) instead, to perform the operation inplace on the original object.\n",
            "\n",
            "\n",
            "  df_orders_treatment['order_metric_collected_time'] \\\n"
          ]
        }
      ]
    },
    {
      "cell_type": "code",
      "source": [
        "df_orders_treatment.info()"
      ],
      "metadata": {
        "colab": {
          "base_uri": "https://localhost:8080/"
        },
        "id": "YyjqHzYz59Bx",
        "outputId": "f653fe2c-7a65-415a-a75f-87754f1923fa"
      },
      "execution_count": 19,
      "outputs": [
        {
          "output_type": "stream",
          "name": "stdout",
          "text": [
            "<class 'pandas.core.frame.DataFrame'>\n",
            "Index: 333629 entries, 0 to 368998\n",
            "Data columns (total 14 columns):\n",
            " #   Column                             Non-Null Count   Dtype  \n",
            "---  ------                             --------------   -----  \n",
            " 0   order_id                           333629 non-null  int64  \n",
            " 1   store_id                           333629 non-null  int64  \n",
            " 2   channel_id                         333629 non-null  int64  \n",
            " 3   order_amount                       333629 non-null  float64\n",
            " 4   order_created_day                  333629 non-null  int64  \n",
            " 5   order_metric_collected_time        333629 non-null  float64\n",
            " 6   order_metric_paused_time           272423 non-null  float64\n",
            " 7   order_metric_production_time       312151 non-null  float64\n",
            " 8   order_metric_walking_time          269553 non-null  float64\n",
            " 9   order_metric_expediton_speed_time  304793 non-null  float64\n",
            " 10  order_metric_transit_time          312372 non-null  float64\n",
            " 11  order_metric_cycle_time            320707 non-null  float64\n",
            " 12  day_of_week                        333629 non-null  int32  \n",
            " 13  faixa_horario                      333629 non-null  object \n",
            "dtypes: float64(8), int32(1), int64(4), object(1)\n",
            "memory usage: 36.9+ MB\n"
          ]
        }
      ]
    },
    {
      "cell_type": "markdown",
      "source": [
        "### Criação do dataset final"
      ],
      "metadata": {
        "id": "FDclaSBLEkbq"
      }
    },
    {
      "cell_type": "code",
      "source": [
        "#Criação do dataset final de grupos\n",
        "df_orders_treatment_group = df_orders_treatment.groupby(['store_id', 'channel_id', 'order_created_day', 'day_of_week', 'faixa_horario']) \\\n",
        "  .agg({'order_metric_collected_time':'median',\n",
        "        'order_metric_paused_time':'median',\n",
        "        'order_metric_production_time':'median',\n",
        "        'order_metric_walking_time':'median',\n",
        "        'order_metric_expediton_speed_time':'median',\n",
        "        'order_metric_transit_time':'median',\n",
        "        'order_metric_cycle_time':'median',\n",
        "        'order_id':'count'}) \\\n",
        "  .reset_index() \\\n",
        "  .sort_values('order_id', ascending=False)\n",
        "\n",
        "df_orders_treatment_group=df_orders_treatment_group.rename(columns = {'order_id':'demanda'})\n",
        "\n",
        "df_orders_treatment_group.head()"
      ],
      "metadata": {
        "id": "BroxawKwBeb4",
        "colab": {
          "base_uri": "https://localhost:8080/",
          "height": 226
        },
        "outputId": "606707b4-2113-4d66-8fbc-47d21e382e34"
      },
      "execution_count": 20,
      "outputs": [
        {
          "output_type": "execute_result",
          "data": {
            "text/plain": [
              "       store_id  channel_id  order_created_day  day_of_week faixa_horario  \\\n",
              "22931       676           5                 26            4         noite   \n",
              "22766       676           5                 12            4         noite   \n",
              "22707       676           5                  7            6         tarde   \n",
              "22956       676           5                 28            6         tarde   \n",
              "24297       707           5                 26            4         noite   \n",
              "\n",
              "       order_metric_collected_time  order_metric_paused_time  \\\n",
              "22931                        1.600                     2.930   \n",
              "22766                        1.600                     3.475   \n",
              "22707                        2.500                     2.330   \n",
              "22956                        1.600                     2.875   \n",
              "24297                        1.345                     1.570   \n",
              "\n",
              "       order_metric_production_time  order_metric_walking_time  \\\n",
              "22931                        30.135                      2.300   \n",
              "22766                        34.250                      1.840   \n",
              "22707                        30.035                      2.880   \n",
              "22956                        33.520                      1.640   \n",
              "24297                        21.525                      4.465   \n",
              "\n",
              "       order_metric_expediton_speed_time  order_metric_transit_time  \\\n",
              "22931                              5.950                     15.320   \n",
              "22766                              6.250                     14.185   \n",
              "22707                              6.375                     13.450   \n",
              "22956                              5.170                     12.470   \n",
              "24297                              6.075                     16.025   \n",
              "\n",
              "       order_metric_cycle_time  demanda  \n",
              "22931                   52.150      182  \n",
              "22766                   57.880      157  \n",
              "22707                   49.785      154  \n",
              "22956                   52.760      147  \n",
              "24297                   48.625      146  "
            ],
            "text/html": [
              "\n",
              "  <div id=\"df-79dd7d9b-4227-4be1-8929-89b113171ee4\" class=\"colab-df-container\">\n",
              "    <div>\n",
              "<style scoped>\n",
              "    .dataframe tbody tr th:only-of-type {\n",
              "        vertical-align: middle;\n",
              "    }\n",
              "\n",
              "    .dataframe tbody tr th {\n",
              "        vertical-align: top;\n",
              "    }\n",
              "\n",
              "    .dataframe thead th {\n",
              "        text-align: right;\n",
              "    }\n",
              "</style>\n",
              "<table border=\"1\" class=\"dataframe\">\n",
              "  <thead>\n",
              "    <tr style=\"text-align: right;\">\n",
              "      <th></th>\n",
              "      <th>store_id</th>\n",
              "      <th>channel_id</th>\n",
              "      <th>order_created_day</th>\n",
              "      <th>day_of_week</th>\n",
              "      <th>faixa_horario</th>\n",
              "      <th>order_metric_collected_time</th>\n",
              "      <th>order_metric_paused_time</th>\n",
              "      <th>order_metric_production_time</th>\n",
              "      <th>order_metric_walking_time</th>\n",
              "      <th>order_metric_expediton_speed_time</th>\n",
              "      <th>order_metric_transit_time</th>\n",
              "      <th>order_metric_cycle_time</th>\n",
              "      <th>demanda</th>\n",
              "    </tr>\n",
              "  </thead>\n",
              "  <tbody>\n",
              "    <tr>\n",
              "      <th>22931</th>\n",
              "      <td>676</td>\n",
              "      <td>5</td>\n",
              "      <td>26</td>\n",
              "      <td>4</td>\n",
              "      <td>noite</td>\n",
              "      <td>1.600</td>\n",
              "      <td>2.930</td>\n",
              "      <td>30.135</td>\n",
              "      <td>2.300</td>\n",
              "      <td>5.950</td>\n",
              "      <td>15.320</td>\n",
              "      <td>52.150</td>\n",
              "      <td>182</td>\n",
              "    </tr>\n",
              "    <tr>\n",
              "      <th>22766</th>\n",
              "      <td>676</td>\n",
              "      <td>5</td>\n",
              "      <td>12</td>\n",
              "      <td>4</td>\n",
              "      <td>noite</td>\n",
              "      <td>1.600</td>\n",
              "      <td>3.475</td>\n",
              "      <td>34.250</td>\n",
              "      <td>1.840</td>\n",
              "      <td>6.250</td>\n",
              "      <td>14.185</td>\n",
              "      <td>57.880</td>\n",
              "      <td>157</td>\n",
              "    </tr>\n",
              "    <tr>\n",
              "      <th>22707</th>\n",
              "      <td>676</td>\n",
              "      <td>5</td>\n",
              "      <td>7</td>\n",
              "      <td>6</td>\n",
              "      <td>tarde</td>\n",
              "      <td>2.500</td>\n",
              "      <td>2.330</td>\n",
              "      <td>30.035</td>\n",
              "      <td>2.880</td>\n",
              "      <td>6.375</td>\n",
              "      <td>13.450</td>\n",
              "      <td>49.785</td>\n",
              "      <td>154</td>\n",
              "    </tr>\n",
              "    <tr>\n",
              "      <th>22956</th>\n",
              "      <td>676</td>\n",
              "      <td>5</td>\n",
              "      <td>28</td>\n",
              "      <td>6</td>\n",
              "      <td>tarde</td>\n",
              "      <td>1.600</td>\n",
              "      <td>2.875</td>\n",
              "      <td>33.520</td>\n",
              "      <td>1.640</td>\n",
              "      <td>5.170</td>\n",
              "      <td>12.470</td>\n",
              "      <td>52.760</td>\n",
              "      <td>147</td>\n",
              "    </tr>\n",
              "    <tr>\n",
              "      <th>24297</th>\n",
              "      <td>707</td>\n",
              "      <td>5</td>\n",
              "      <td>26</td>\n",
              "      <td>4</td>\n",
              "      <td>noite</td>\n",
              "      <td>1.345</td>\n",
              "      <td>1.570</td>\n",
              "      <td>21.525</td>\n",
              "      <td>4.465</td>\n",
              "      <td>6.075</td>\n",
              "      <td>16.025</td>\n",
              "      <td>48.625</td>\n",
              "      <td>146</td>\n",
              "    </tr>\n",
              "  </tbody>\n",
              "</table>\n",
              "</div>\n",
              "    <div class=\"colab-df-buttons\">\n",
              "\n",
              "  <div class=\"colab-df-container\">\n",
              "    <button class=\"colab-df-convert\" onclick=\"convertToInteractive('df-79dd7d9b-4227-4be1-8929-89b113171ee4')\"\n",
              "            title=\"Convert this dataframe to an interactive table.\"\n",
              "            style=\"display:none;\">\n",
              "\n",
              "  <svg xmlns=\"http://www.w3.org/2000/svg\" height=\"24px\" viewBox=\"0 -960 960 960\">\n",
              "    <path d=\"M120-120v-720h720v720H120Zm60-500h600v-160H180v160Zm220 220h160v-160H400v160Zm0 220h160v-160H400v160ZM180-400h160v-160H180v160Zm440 0h160v-160H620v160ZM180-180h160v-160H180v160Zm440 0h160v-160H620v160Z\"/>\n",
              "  </svg>\n",
              "    </button>\n",
              "\n",
              "  <style>\n",
              "    .colab-df-container {\n",
              "      display:flex;\n",
              "      gap: 12px;\n",
              "    }\n",
              "\n",
              "    .colab-df-convert {\n",
              "      background-color: #E8F0FE;\n",
              "      border: none;\n",
              "      border-radius: 50%;\n",
              "      cursor: pointer;\n",
              "      display: none;\n",
              "      fill: #1967D2;\n",
              "      height: 32px;\n",
              "      padding: 0 0 0 0;\n",
              "      width: 32px;\n",
              "    }\n",
              "\n",
              "    .colab-df-convert:hover {\n",
              "      background-color: #E2EBFA;\n",
              "      box-shadow: 0px 1px 2px rgba(60, 64, 67, 0.3), 0px 1px 3px 1px rgba(60, 64, 67, 0.15);\n",
              "      fill: #174EA6;\n",
              "    }\n",
              "\n",
              "    .colab-df-buttons div {\n",
              "      margin-bottom: 4px;\n",
              "    }\n",
              "\n",
              "    [theme=dark] .colab-df-convert {\n",
              "      background-color: #3B4455;\n",
              "      fill: #D2E3FC;\n",
              "    }\n",
              "\n",
              "    [theme=dark] .colab-df-convert:hover {\n",
              "      background-color: #434B5C;\n",
              "      box-shadow: 0px 1px 3px 1px rgba(0, 0, 0, 0.15);\n",
              "      filter: drop-shadow(0px 1px 2px rgba(0, 0, 0, 0.3));\n",
              "      fill: #FFFFFF;\n",
              "    }\n",
              "  </style>\n",
              "\n",
              "    <script>\n",
              "      const buttonEl =\n",
              "        document.querySelector('#df-79dd7d9b-4227-4be1-8929-89b113171ee4 button.colab-df-convert');\n",
              "      buttonEl.style.display =\n",
              "        google.colab.kernel.accessAllowed ? 'block' : 'none';\n",
              "\n",
              "      async function convertToInteractive(key) {\n",
              "        const element = document.querySelector('#df-79dd7d9b-4227-4be1-8929-89b113171ee4');\n",
              "        const dataTable =\n",
              "          await google.colab.kernel.invokeFunction('convertToInteractive',\n",
              "                                                    [key], {});\n",
              "        if (!dataTable) return;\n",
              "\n",
              "        const docLinkHtml = 'Like what you see? Visit the ' +\n",
              "          '<a target=\"_blank\" href=https://colab.research.google.com/notebooks/data_table.ipynb>data table notebook</a>'\n",
              "          + ' to learn more about interactive tables.';\n",
              "        element.innerHTML = '';\n",
              "        dataTable['output_type'] = 'display_data';\n",
              "        await google.colab.output.renderOutput(dataTable, element);\n",
              "        const docLink = document.createElement('div');\n",
              "        docLink.innerHTML = docLinkHtml;\n",
              "        element.appendChild(docLink);\n",
              "      }\n",
              "    </script>\n",
              "  </div>\n",
              "\n",
              "\n",
              "<div id=\"df-37478f41-bea3-4362-9af8-54535590718d\">\n",
              "  <button class=\"colab-df-quickchart\" onclick=\"quickchart('df-37478f41-bea3-4362-9af8-54535590718d')\"\n",
              "            title=\"Suggest charts\"\n",
              "            style=\"display:none;\">\n",
              "\n",
              "<svg xmlns=\"http://www.w3.org/2000/svg\" height=\"24px\"viewBox=\"0 0 24 24\"\n",
              "     width=\"24px\">\n",
              "    <g>\n",
              "        <path d=\"M19 3H5c-1.1 0-2 .9-2 2v14c0 1.1.9 2 2 2h14c1.1 0 2-.9 2-2V5c0-1.1-.9-2-2-2zM9 17H7v-7h2v7zm4 0h-2V7h2v10zm4 0h-2v-4h2v4z\"/>\n",
              "    </g>\n",
              "</svg>\n",
              "  </button>\n",
              "\n",
              "<style>\n",
              "  .colab-df-quickchart {\n",
              "      --bg-color: #E8F0FE;\n",
              "      --fill-color: #1967D2;\n",
              "      --hover-bg-color: #E2EBFA;\n",
              "      --hover-fill-color: #174EA6;\n",
              "      --disabled-fill-color: #AAA;\n",
              "      --disabled-bg-color: #DDD;\n",
              "  }\n",
              "\n",
              "  [theme=dark] .colab-df-quickchart {\n",
              "      --bg-color: #3B4455;\n",
              "      --fill-color: #D2E3FC;\n",
              "      --hover-bg-color: #434B5C;\n",
              "      --hover-fill-color: #FFFFFF;\n",
              "      --disabled-bg-color: #3B4455;\n",
              "      --disabled-fill-color: #666;\n",
              "  }\n",
              "\n",
              "  .colab-df-quickchart {\n",
              "    background-color: var(--bg-color);\n",
              "    border: none;\n",
              "    border-radius: 50%;\n",
              "    cursor: pointer;\n",
              "    display: none;\n",
              "    fill: var(--fill-color);\n",
              "    height: 32px;\n",
              "    padding: 0;\n",
              "    width: 32px;\n",
              "  }\n",
              "\n",
              "  .colab-df-quickchart:hover {\n",
              "    background-color: var(--hover-bg-color);\n",
              "    box-shadow: 0 1px 2px rgba(60, 64, 67, 0.3), 0 1px 3px 1px rgba(60, 64, 67, 0.15);\n",
              "    fill: var(--button-hover-fill-color);\n",
              "  }\n",
              "\n",
              "  .colab-df-quickchart-complete:disabled,\n",
              "  .colab-df-quickchart-complete:disabled:hover {\n",
              "    background-color: var(--disabled-bg-color);\n",
              "    fill: var(--disabled-fill-color);\n",
              "    box-shadow: none;\n",
              "  }\n",
              "\n",
              "  .colab-df-spinner {\n",
              "    border: 2px solid var(--fill-color);\n",
              "    border-color: transparent;\n",
              "    border-bottom-color: var(--fill-color);\n",
              "    animation:\n",
              "      spin 1s steps(1) infinite;\n",
              "  }\n",
              "\n",
              "  @keyframes spin {\n",
              "    0% {\n",
              "      border-color: transparent;\n",
              "      border-bottom-color: var(--fill-color);\n",
              "      border-left-color: var(--fill-color);\n",
              "    }\n",
              "    20% {\n",
              "      border-color: transparent;\n",
              "      border-left-color: var(--fill-color);\n",
              "      border-top-color: var(--fill-color);\n",
              "    }\n",
              "    30% {\n",
              "      border-color: transparent;\n",
              "      border-left-color: var(--fill-color);\n",
              "      border-top-color: var(--fill-color);\n",
              "      border-right-color: var(--fill-color);\n",
              "    }\n",
              "    40% {\n",
              "      border-color: transparent;\n",
              "      border-right-color: var(--fill-color);\n",
              "      border-top-color: var(--fill-color);\n",
              "    }\n",
              "    60% {\n",
              "      border-color: transparent;\n",
              "      border-right-color: var(--fill-color);\n",
              "    }\n",
              "    80% {\n",
              "      border-color: transparent;\n",
              "      border-right-color: var(--fill-color);\n",
              "      border-bottom-color: var(--fill-color);\n",
              "    }\n",
              "    90% {\n",
              "      border-color: transparent;\n",
              "      border-bottom-color: var(--fill-color);\n",
              "    }\n",
              "  }\n",
              "</style>\n",
              "\n",
              "  <script>\n",
              "    async function quickchart(key) {\n",
              "      const quickchartButtonEl =\n",
              "        document.querySelector('#' + key + ' button');\n",
              "      quickchartButtonEl.disabled = true;  // To prevent multiple clicks.\n",
              "      quickchartButtonEl.classList.add('colab-df-spinner');\n",
              "      try {\n",
              "        const charts = await google.colab.kernel.invokeFunction(\n",
              "            'suggestCharts', [key], {});\n",
              "      } catch (error) {\n",
              "        console.error('Error during call to suggestCharts:', error);\n",
              "      }\n",
              "      quickchartButtonEl.classList.remove('colab-df-spinner');\n",
              "      quickchartButtonEl.classList.add('colab-df-quickchart-complete');\n",
              "    }\n",
              "    (() => {\n",
              "      let quickchartButtonEl =\n",
              "        document.querySelector('#df-37478f41-bea3-4362-9af8-54535590718d button');\n",
              "      quickchartButtonEl.style.display =\n",
              "        google.colab.kernel.accessAllowed ? 'block' : 'none';\n",
              "    })();\n",
              "  </script>\n",
              "</div>\n",
              "\n",
              "    </div>\n",
              "  </div>\n"
            ],
            "application/vnd.google.colaboratory.intrinsic+json": {
              "type": "dataframe",
              "variable_name": "df_orders_treatment_group",
              "summary": "{\n  \"name\": \"df_orders_treatment_group\",\n  \"rows\": 66624,\n  \"fields\": [\n    {\n      \"column\": \"store_id\",\n      \"properties\": {\n        \"dtype\": \"number\",\n        \"std\": 1244,\n        \"min\": 3,\n        \"max\": 4679,\n        \"num_unique_values\": 885,\n        \"samples\": [\n          950,\n          406,\n          1166\n        ],\n        \"semantic_type\": \"\",\n        \"description\": \"\"\n      }\n    },\n    {\n      \"column\": \"channel_id\",\n      \"properties\": {\n        \"dtype\": \"number\",\n        \"std\": 7,\n        \"min\": 1,\n        \"max\": 49,\n        \"num_unique_values\": 38,\n        \"samples\": [\n          4,\n          38,\n          31\n        ],\n        \"semantic_type\": \"\",\n        \"description\": \"\"\n      }\n    },\n    {\n      \"column\": \"order_created_day\",\n      \"properties\": {\n        \"dtype\": \"number\",\n        \"std\": 8,\n        \"min\": 1,\n        \"max\": 31,\n        \"num_unique_values\": 31,\n        \"samples\": [\n          31,\n          9,\n          22\n        ],\n        \"semantic_type\": \"\",\n        \"description\": \"\"\n      }\n    },\n    {\n      \"column\": \"day_of_week\",\n      \"properties\": {\n        \"dtype\": \"int32\",\n        \"num_unique_values\": 7,\n        \"samples\": [\n          4,\n          6,\n          0\n        ],\n        \"semantic_type\": \"\",\n        \"description\": \"\"\n      }\n    },\n    {\n      \"column\": \"faixa_horario\",\n      \"properties\": {\n        \"dtype\": \"category\",\n        \"num_unique_values\": 5,\n        \"samples\": [\n          \"tarde\",\n          \"manha\",\n          \"almoco\"\n        ],\n        \"semantic_type\": \"\",\n        \"description\": \"\"\n      }\n    },\n    {\n      \"column\": \"order_metric_collected_time\",\n      \"properties\": {\n        \"dtype\": \"number\",\n        \"std\": 10.353432839820957,\n        \"min\": -0.02,\n        \"max\": 1404.23,\n        \"num_unique_values\": 3021,\n        \"samples\": [\n          0.125,\n          0.775,\n          2.2\n        ],\n        \"semantic_type\": \"\",\n        \"description\": \"\"\n      }\n    },\n    {\n      \"column\": \"order_metric_paused_time\",\n      \"properties\": {\n        \"dtype\": \"number\",\n        \"std\": 80.62202397038999,\n        \"min\": -2728.35,\n        \"max\": 11712.28,\n        \"num_unique_values\": 6224,\n        \"samples\": [\n          4.475,\n          10.835,\n          2.3899999999999997\n        ],\n        \"semantic_type\": \"\",\n        \"description\": \"\"\n      }\n    },\n    {\n      \"column\": \"order_metric_production_time\",\n      \"properties\": {\n        \"dtype\": \"number\",\n        \"std\": 404.49028935885553,\n        \"min\": 0.0,\n        \"max\": 62210.149999999994,\n        \"num_unique_values\": 10851,\n        \"samples\": [\n          12.625,\n          689.8199999999999,\n          28.865000000000002\n        ],\n        \"semantic_type\": \"\",\n        \"description\": \"\"\n      }\n    },\n    {\n      \"column\": \"order_metric_walking_time\",\n      \"properties\": {\n        \"dtype\": \"number\",\n        \"std\": 24.489438590096718,\n        \"min\": 0.02,\n        \"max\": 2735.52,\n        \"num_unique_values\": 4011,\n        \"samples\": [\n          4.95,\n          12.575,\n          10.33\n        ],\n        \"semantic_type\": \"\",\n        \"description\": \"\"\n      }\n    },\n    {\n      \"column\": \"order_metric_expediton_speed_time\",\n      \"properties\": {\n        \"dtype\": \"number\",\n        \"std\": 88.91205367908114,\n        \"min\": 0.0,\n        \"max\": 11718.2,\n        \"num_unique_values\": 8171,\n        \"samples\": [\n          19.1,\n          56.86,\n          13.91\n        ],\n        \"semantic_type\": \"\",\n        \"description\": \"\"\n      }\n    },\n    {\n      \"column\": \"order_metric_transit_time\",\n      \"properties\": {\n        \"dtype\": \"number\",\n        \"std\": 643.5961804752745,\n        \"min\": -2.8,\n        \"max\": 55611.505,\n        \"num_unique_values\": 10728,\n        \"samples\": [\n          18.395,\n          17.105,\n          14.325\n        ],\n        \"semantic_type\": \"\",\n        \"description\": \"\"\n      }\n    },\n    {\n      \"column\": \"order_metric_cycle_time\",\n      \"properties\": {\n        \"dtype\": \"number\",\n        \"std\": 849.8213858360284,\n        \"min\": 0.39,\n        \"max\": 65126.685,\n        \"num_unique_values\": 16928,\n        \"samples\": [\n          201.345,\n          754.08,\n          43.975\n        ],\n        \"semantic_type\": \"\",\n        \"description\": \"\"\n      }\n    },\n    {\n      \"column\": \"demanda\",\n      \"properties\": {\n        \"dtype\": \"number\",\n        \"std\": 8,\n        \"min\": 1,\n        \"max\": 182,\n        \"num_unique_values\": 123,\n        \"samples\": [\n          106,\n          78,\n          76\n        ],\n        \"semantic_type\": \"\",\n        \"description\": \"\"\n      }\n    }\n  ]\n}"
            }
          },
          "metadata": {},
          "execution_count": 20
        }
      ]
    },
    {
      "cell_type": "code",
      "source": [
        "#info\n",
        "df_orders_treatment_group.info()"
      ],
      "metadata": {
        "id": "aNecbZgZ_iiX",
        "colab": {
          "base_uri": "https://localhost:8080/"
        },
        "outputId": "3bdcc964-906a-4c34-9486-31b61719b7b0"
      },
      "execution_count": 21,
      "outputs": [
        {
          "output_type": "stream",
          "name": "stdout",
          "text": [
            "<class 'pandas.core.frame.DataFrame'>\n",
            "Index: 66624 entries, 22931 to 66623\n",
            "Data columns (total 13 columns):\n",
            " #   Column                             Non-Null Count  Dtype  \n",
            "---  ------                             --------------  -----  \n",
            " 0   store_id                           66624 non-null  int64  \n",
            " 1   channel_id                         66624 non-null  int64  \n",
            " 2   order_created_day                  66624 non-null  int64  \n",
            " 3   day_of_week                        66624 non-null  int32  \n",
            " 4   faixa_horario                      66624 non-null  object \n",
            " 5   order_metric_collected_time        66624 non-null  float64\n",
            " 6   order_metric_paused_time           57376 non-null  float64\n",
            " 7   order_metric_production_time       62378 non-null  float64\n",
            " 8   order_metric_walking_time          57516 non-null  float64\n",
            " 9   order_metric_expediton_speed_time  61213 non-null  float64\n",
            " 10  order_metric_transit_time          62402 non-null  float64\n",
            " 11  order_metric_cycle_time            63752 non-null  float64\n",
            " 12  demanda                            66624 non-null  int64  \n",
            "dtypes: float64(7), int32(1), int64(4), object(1)\n",
            "memory usage: 6.9+ MB\n"
          ]
        }
      ]
    },
    {
      "cell_type": "markdown",
      "source": [
        "### Criando um conjunto de testes"
      ],
      "metadata": {
        "id": "NKw2IBKtEodf"
      }
    },
    {
      "cell_type": "markdown",
      "source": [
        "Antes de seguir adiante, vamos precisar criar um conjunto de teste, colocá-lo de lado e nunca checá-lo. <br/>\n",
        "\n",
        "Quando estimamos o erro de generalização utilizando o conjunto de teste, sua estimativa será muito otimista e será lançado um sistema que não funcionará tão bem quanto o esperado.  <br/>\n",
        "\n",
        "Isso é chamado de **data snooping bias.** <br/>\n",
        "\n",
        "O Scikit-Learn fornece algumas funções para dividir conjuntos de dados em vários subconjuntos de diversas maneiras. A função mais simples é train_test_split."
      ],
      "metadata": {
        "id": "_oqalSEkErkv"
      }
    },
    {
      "cell_type": "code",
      "source": [
        "#import do train_test_split\n",
        "from sklearn.model_selection import train_test_split"
      ],
      "metadata": {
        "id": "rHzKB3py_sG3"
      },
      "execution_count": 22,
      "outputs": []
    },
    {
      "cell_type": "code",
      "source": [
        "#Separa a base de treino e teste\n",
        "train_set, test_set = train_test_split(df_orders_treatment_group, test_size=0.2, random_state=42)\n",
        "df_orders_train = train_set.copy()\n",
        "df_orders_train.info()"
      ],
      "metadata": {
        "id": "gG3gTaR2Q5XY",
        "colab": {
          "base_uri": "https://localhost:8080/"
        },
        "outputId": "8d794e14-cf77-4792-a762-529d5167c912"
      },
      "execution_count": 23,
      "outputs": [
        {
          "output_type": "stream",
          "name": "stdout",
          "text": [
            "<class 'pandas.core.frame.DataFrame'>\n",
            "Index: 53299 entries, 49037 to 9950\n",
            "Data columns (total 13 columns):\n",
            " #   Column                             Non-Null Count  Dtype  \n",
            "---  ------                             --------------  -----  \n",
            " 0   store_id                           53299 non-null  int64  \n",
            " 1   channel_id                         53299 non-null  int64  \n",
            " 2   order_created_day                  53299 non-null  int64  \n",
            " 3   day_of_week                        53299 non-null  int32  \n",
            " 4   faixa_horario                      53299 non-null  object \n",
            " 5   order_metric_collected_time        53299 non-null  float64\n",
            " 6   order_metric_paused_time           45895 non-null  float64\n",
            " 7   order_metric_production_time       49878 non-null  float64\n",
            " 8   order_metric_walking_time          45998 non-null  float64\n",
            " 9   order_metric_expediton_speed_time  48955 non-null  float64\n",
            " 10  order_metric_transit_time          49934 non-null  float64\n",
            " 11  order_metric_cycle_time            51003 non-null  float64\n",
            " 12  demanda                            53299 non-null  int64  \n",
            "dtypes: float64(7), int32(1), int64(4), object(1)\n",
            "memory usage: 5.5+ MB\n"
          ]
        }
      ]
    },
    {
      "cell_type": "code",
      "source": [
        "#Separa a Label principal\n",
        "df_orders_treatment_label = df_orders_train[['demanda']].copy()"
      ],
      "metadata": {
        "id": "KESN2BGBVApy"
      },
      "execution_count": 24,
      "outputs": []
    },
    {
      "cell_type": "code",
      "source": [
        "#Remove a Label da base\n",
        "df_orders_treatment = df_orders_train.drop('demanda', axis=1)"
      ],
      "metadata": {
        "id": "Yq7j9Kc3VL-g"
      },
      "execution_count": 25,
      "outputs": []
    },
    {
      "cell_type": "code",
      "source": [
        "#Seleciona as variáveis float64\n",
        "df_orders_float64 = df_orders_treatment.select_dtypes(np.float64).copy()\n",
        "#df_orders_float64.head()"
      ],
      "metadata": {
        "id": "yD4MyMloD5mw"
      },
      "execution_count": 26,
      "outputs": []
    },
    {
      "cell_type": "code",
      "source": [
        "#Import do SimpleImputer\n",
        "from sklearn.impute import SimpleImputer"
      ],
      "metadata": {
        "id": "MlPpXdTcDnHf"
      },
      "execution_count": 27,
      "outputs": []
    },
    {
      "cell_type": "code",
      "source": [
        "#Adicionando estratégia da mediana no imputer\n",
        "imputer = SimpleImputer(strategy='median')"
      ],
      "metadata": {
        "id": "4qp-NpFTDqHj"
      },
      "execution_count": 28,
      "outputs": []
    },
    {
      "cell_type": "code",
      "source": [
        "#Treina o imputer\n",
        "imputer.fit(df_orders_float64)"
      ],
      "metadata": {
        "id": "XHgqdnrtEQjd",
        "colab": {
          "base_uri": "https://localhost:8080/",
          "height": 80
        },
        "outputId": "c756cd2d-1ac1-4381-87e9-2328ed829939"
      },
      "execution_count": 29,
      "outputs": [
        {
          "output_type": "execute_result",
          "data": {
            "text/plain": [
              "SimpleImputer(strategy='median')"
            ],
            "text/html": [
              "<style>#sk-container-id-1 {\n",
              "  /* Definition of color scheme common for light and dark mode */\n",
              "  --sklearn-color-text: black;\n",
              "  --sklearn-color-line: gray;\n",
              "  /* Definition of color scheme for unfitted estimators */\n",
              "  --sklearn-color-unfitted-level-0: #fff5e6;\n",
              "  --sklearn-color-unfitted-level-1: #f6e4d2;\n",
              "  --sklearn-color-unfitted-level-2: #ffe0b3;\n",
              "  --sklearn-color-unfitted-level-3: chocolate;\n",
              "  /* Definition of color scheme for fitted estimators */\n",
              "  --sklearn-color-fitted-level-0: #f0f8ff;\n",
              "  --sklearn-color-fitted-level-1: #d4ebff;\n",
              "  --sklearn-color-fitted-level-2: #b3dbfd;\n",
              "  --sklearn-color-fitted-level-3: cornflowerblue;\n",
              "\n",
              "  /* Specific color for light theme */\n",
              "  --sklearn-color-text-on-default-background: var(--sg-text-color, var(--theme-code-foreground, var(--jp-content-font-color1, black)));\n",
              "  --sklearn-color-background: var(--sg-background-color, var(--theme-background, var(--jp-layout-color0, white)));\n",
              "  --sklearn-color-border-box: var(--sg-text-color, var(--theme-code-foreground, var(--jp-content-font-color1, black)));\n",
              "  --sklearn-color-icon: #696969;\n",
              "\n",
              "  @media (prefers-color-scheme: dark) {\n",
              "    /* Redefinition of color scheme for dark theme */\n",
              "    --sklearn-color-text-on-default-background: var(--sg-text-color, var(--theme-code-foreground, var(--jp-content-font-color1, white)));\n",
              "    --sklearn-color-background: var(--sg-background-color, var(--theme-background, var(--jp-layout-color0, #111)));\n",
              "    --sklearn-color-border-box: var(--sg-text-color, var(--theme-code-foreground, var(--jp-content-font-color1, white)));\n",
              "    --sklearn-color-icon: #878787;\n",
              "  }\n",
              "}\n",
              "\n",
              "#sk-container-id-1 {\n",
              "  color: var(--sklearn-color-text);\n",
              "}\n",
              "\n",
              "#sk-container-id-1 pre {\n",
              "  padding: 0;\n",
              "}\n",
              "\n",
              "#sk-container-id-1 input.sk-hidden--visually {\n",
              "  border: 0;\n",
              "  clip: rect(1px 1px 1px 1px);\n",
              "  clip: rect(1px, 1px, 1px, 1px);\n",
              "  height: 1px;\n",
              "  margin: -1px;\n",
              "  overflow: hidden;\n",
              "  padding: 0;\n",
              "  position: absolute;\n",
              "  width: 1px;\n",
              "}\n",
              "\n",
              "#sk-container-id-1 div.sk-dashed-wrapped {\n",
              "  border: 1px dashed var(--sklearn-color-line);\n",
              "  margin: 0 0.4em 0.5em 0.4em;\n",
              "  box-sizing: border-box;\n",
              "  padding-bottom: 0.4em;\n",
              "  background-color: var(--sklearn-color-background);\n",
              "}\n",
              "\n",
              "#sk-container-id-1 div.sk-container {\n",
              "  /* jupyter's `normalize.less` sets `[hidden] { display: none; }`\n",
              "     but bootstrap.min.css set `[hidden] { display: none !important; }`\n",
              "     so we also need the `!important` here to be able to override the\n",
              "     default hidden behavior on the sphinx rendered scikit-learn.org.\n",
              "     See: https://github.com/scikit-learn/scikit-learn/issues/21755 */\n",
              "  display: inline-block !important;\n",
              "  position: relative;\n",
              "}\n",
              "\n",
              "#sk-container-id-1 div.sk-text-repr-fallback {\n",
              "  display: none;\n",
              "}\n",
              "\n",
              "div.sk-parallel-item,\n",
              "div.sk-serial,\n",
              "div.sk-item {\n",
              "  /* draw centered vertical line to link estimators */\n",
              "  background-image: linear-gradient(var(--sklearn-color-text-on-default-background), var(--sklearn-color-text-on-default-background));\n",
              "  background-size: 2px 100%;\n",
              "  background-repeat: no-repeat;\n",
              "  background-position: center center;\n",
              "}\n",
              "\n",
              "/* Parallel-specific style estimator block */\n",
              "\n",
              "#sk-container-id-1 div.sk-parallel-item::after {\n",
              "  content: \"\";\n",
              "  width: 100%;\n",
              "  border-bottom: 2px solid var(--sklearn-color-text-on-default-background);\n",
              "  flex-grow: 1;\n",
              "}\n",
              "\n",
              "#sk-container-id-1 div.sk-parallel {\n",
              "  display: flex;\n",
              "  align-items: stretch;\n",
              "  justify-content: center;\n",
              "  background-color: var(--sklearn-color-background);\n",
              "  position: relative;\n",
              "}\n",
              "\n",
              "#sk-container-id-1 div.sk-parallel-item {\n",
              "  display: flex;\n",
              "  flex-direction: column;\n",
              "}\n",
              "\n",
              "#sk-container-id-1 div.sk-parallel-item:first-child::after {\n",
              "  align-self: flex-end;\n",
              "  width: 50%;\n",
              "}\n",
              "\n",
              "#sk-container-id-1 div.sk-parallel-item:last-child::after {\n",
              "  align-self: flex-start;\n",
              "  width: 50%;\n",
              "}\n",
              "\n",
              "#sk-container-id-1 div.sk-parallel-item:only-child::after {\n",
              "  width: 0;\n",
              "}\n",
              "\n",
              "/* Serial-specific style estimator block */\n",
              "\n",
              "#sk-container-id-1 div.sk-serial {\n",
              "  display: flex;\n",
              "  flex-direction: column;\n",
              "  align-items: center;\n",
              "  background-color: var(--sklearn-color-background);\n",
              "  padding-right: 1em;\n",
              "  padding-left: 1em;\n",
              "}\n",
              "\n",
              "\n",
              "/* Toggleable style: style used for estimator/Pipeline/ColumnTransformer box that is\n",
              "clickable and can be expanded/collapsed.\n",
              "- Pipeline and ColumnTransformer use this feature and define the default style\n",
              "- Estimators will overwrite some part of the style using the `sk-estimator` class\n",
              "*/\n",
              "\n",
              "/* Pipeline and ColumnTransformer style (default) */\n",
              "\n",
              "#sk-container-id-1 div.sk-toggleable {\n",
              "  /* Default theme specific background. It is overwritten whether we have a\n",
              "  specific estimator or a Pipeline/ColumnTransformer */\n",
              "  background-color: var(--sklearn-color-background);\n",
              "}\n",
              "\n",
              "/* Toggleable label */\n",
              "#sk-container-id-1 label.sk-toggleable__label {\n",
              "  cursor: pointer;\n",
              "  display: block;\n",
              "  width: 100%;\n",
              "  margin-bottom: 0;\n",
              "  padding: 0.5em;\n",
              "  box-sizing: border-box;\n",
              "  text-align: center;\n",
              "}\n",
              "\n",
              "#sk-container-id-1 label.sk-toggleable__label-arrow:before {\n",
              "  /* Arrow on the left of the label */\n",
              "  content: \"▸\";\n",
              "  float: left;\n",
              "  margin-right: 0.25em;\n",
              "  color: var(--sklearn-color-icon);\n",
              "}\n",
              "\n",
              "#sk-container-id-1 label.sk-toggleable__label-arrow:hover:before {\n",
              "  color: var(--sklearn-color-text);\n",
              "}\n",
              "\n",
              "/* Toggleable content - dropdown */\n",
              "\n",
              "#sk-container-id-1 div.sk-toggleable__content {\n",
              "  max-height: 0;\n",
              "  max-width: 0;\n",
              "  overflow: hidden;\n",
              "  text-align: left;\n",
              "  /* unfitted */\n",
              "  background-color: var(--sklearn-color-unfitted-level-0);\n",
              "}\n",
              "\n",
              "#sk-container-id-1 div.sk-toggleable__content.fitted {\n",
              "  /* fitted */\n",
              "  background-color: var(--sklearn-color-fitted-level-0);\n",
              "}\n",
              "\n",
              "#sk-container-id-1 div.sk-toggleable__content pre {\n",
              "  margin: 0.2em;\n",
              "  border-radius: 0.25em;\n",
              "  color: var(--sklearn-color-text);\n",
              "  /* unfitted */\n",
              "  background-color: var(--sklearn-color-unfitted-level-0);\n",
              "}\n",
              "\n",
              "#sk-container-id-1 div.sk-toggleable__content.fitted pre {\n",
              "  /* unfitted */\n",
              "  background-color: var(--sklearn-color-fitted-level-0);\n",
              "}\n",
              "\n",
              "#sk-container-id-1 input.sk-toggleable__control:checked~div.sk-toggleable__content {\n",
              "  /* Expand drop-down */\n",
              "  max-height: 200px;\n",
              "  max-width: 100%;\n",
              "  overflow: auto;\n",
              "}\n",
              "\n",
              "#sk-container-id-1 input.sk-toggleable__control:checked~label.sk-toggleable__label-arrow:before {\n",
              "  content: \"▾\";\n",
              "}\n",
              "\n",
              "/* Pipeline/ColumnTransformer-specific style */\n",
              "\n",
              "#sk-container-id-1 div.sk-label input.sk-toggleable__control:checked~label.sk-toggleable__label {\n",
              "  color: var(--sklearn-color-text);\n",
              "  background-color: var(--sklearn-color-unfitted-level-2);\n",
              "}\n",
              "\n",
              "#sk-container-id-1 div.sk-label.fitted input.sk-toggleable__control:checked~label.sk-toggleable__label {\n",
              "  background-color: var(--sklearn-color-fitted-level-2);\n",
              "}\n",
              "\n",
              "/* Estimator-specific style */\n",
              "\n",
              "/* Colorize estimator box */\n",
              "#sk-container-id-1 div.sk-estimator input.sk-toggleable__control:checked~label.sk-toggleable__label {\n",
              "  /* unfitted */\n",
              "  background-color: var(--sklearn-color-unfitted-level-2);\n",
              "}\n",
              "\n",
              "#sk-container-id-1 div.sk-estimator.fitted input.sk-toggleable__control:checked~label.sk-toggleable__label {\n",
              "  /* fitted */\n",
              "  background-color: var(--sklearn-color-fitted-level-2);\n",
              "}\n",
              "\n",
              "#sk-container-id-1 div.sk-label label.sk-toggleable__label,\n",
              "#sk-container-id-1 div.sk-label label {\n",
              "  /* The background is the default theme color */\n",
              "  color: var(--sklearn-color-text-on-default-background);\n",
              "}\n",
              "\n",
              "/* On hover, darken the color of the background */\n",
              "#sk-container-id-1 div.sk-label:hover label.sk-toggleable__label {\n",
              "  color: var(--sklearn-color-text);\n",
              "  background-color: var(--sklearn-color-unfitted-level-2);\n",
              "}\n",
              "\n",
              "/* Label box, darken color on hover, fitted */\n",
              "#sk-container-id-1 div.sk-label.fitted:hover label.sk-toggleable__label.fitted {\n",
              "  color: var(--sklearn-color-text);\n",
              "  background-color: var(--sklearn-color-fitted-level-2);\n",
              "}\n",
              "\n",
              "/* Estimator label */\n",
              "\n",
              "#sk-container-id-1 div.sk-label label {\n",
              "  font-family: monospace;\n",
              "  font-weight: bold;\n",
              "  display: inline-block;\n",
              "  line-height: 1.2em;\n",
              "}\n",
              "\n",
              "#sk-container-id-1 div.sk-label-container {\n",
              "  text-align: center;\n",
              "}\n",
              "\n",
              "/* Estimator-specific */\n",
              "#sk-container-id-1 div.sk-estimator {\n",
              "  font-family: monospace;\n",
              "  border: 1px dotted var(--sklearn-color-border-box);\n",
              "  border-radius: 0.25em;\n",
              "  box-sizing: border-box;\n",
              "  margin-bottom: 0.5em;\n",
              "  /* unfitted */\n",
              "  background-color: var(--sklearn-color-unfitted-level-0);\n",
              "}\n",
              "\n",
              "#sk-container-id-1 div.sk-estimator.fitted {\n",
              "  /* fitted */\n",
              "  background-color: var(--sklearn-color-fitted-level-0);\n",
              "}\n",
              "\n",
              "/* on hover */\n",
              "#sk-container-id-1 div.sk-estimator:hover {\n",
              "  /* unfitted */\n",
              "  background-color: var(--sklearn-color-unfitted-level-2);\n",
              "}\n",
              "\n",
              "#sk-container-id-1 div.sk-estimator.fitted:hover {\n",
              "  /* fitted */\n",
              "  background-color: var(--sklearn-color-fitted-level-2);\n",
              "}\n",
              "\n",
              "/* Specification for estimator info (e.g. \"i\" and \"?\") */\n",
              "\n",
              "/* Common style for \"i\" and \"?\" */\n",
              "\n",
              ".sk-estimator-doc-link,\n",
              "a:link.sk-estimator-doc-link,\n",
              "a:visited.sk-estimator-doc-link {\n",
              "  float: right;\n",
              "  font-size: smaller;\n",
              "  line-height: 1em;\n",
              "  font-family: monospace;\n",
              "  background-color: var(--sklearn-color-background);\n",
              "  border-radius: 1em;\n",
              "  height: 1em;\n",
              "  width: 1em;\n",
              "  text-decoration: none !important;\n",
              "  margin-left: 1ex;\n",
              "  /* unfitted */\n",
              "  border: var(--sklearn-color-unfitted-level-1) 1pt solid;\n",
              "  color: var(--sklearn-color-unfitted-level-1);\n",
              "}\n",
              "\n",
              ".sk-estimator-doc-link.fitted,\n",
              "a:link.sk-estimator-doc-link.fitted,\n",
              "a:visited.sk-estimator-doc-link.fitted {\n",
              "  /* fitted */\n",
              "  border: var(--sklearn-color-fitted-level-1) 1pt solid;\n",
              "  color: var(--sklearn-color-fitted-level-1);\n",
              "}\n",
              "\n",
              "/* On hover */\n",
              "div.sk-estimator:hover .sk-estimator-doc-link:hover,\n",
              ".sk-estimator-doc-link:hover,\n",
              "div.sk-label-container:hover .sk-estimator-doc-link:hover,\n",
              ".sk-estimator-doc-link:hover {\n",
              "  /* unfitted */\n",
              "  background-color: var(--sklearn-color-unfitted-level-3);\n",
              "  color: var(--sklearn-color-background);\n",
              "  text-decoration: none;\n",
              "}\n",
              "\n",
              "div.sk-estimator.fitted:hover .sk-estimator-doc-link.fitted:hover,\n",
              ".sk-estimator-doc-link.fitted:hover,\n",
              "div.sk-label-container:hover .sk-estimator-doc-link.fitted:hover,\n",
              ".sk-estimator-doc-link.fitted:hover {\n",
              "  /* fitted */\n",
              "  background-color: var(--sklearn-color-fitted-level-3);\n",
              "  color: var(--sklearn-color-background);\n",
              "  text-decoration: none;\n",
              "}\n",
              "\n",
              "/* Span, style for the box shown on hovering the info icon */\n",
              ".sk-estimator-doc-link span {\n",
              "  display: none;\n",
              "  z-index: 9999;\n",
              "  position: relative;\n",
              "  font-weight: normal;\n",
              "  right: .2ex;\n",
              "  padding: .5ex;\n",
              "  margin: .5ex;\n",
              "  width: min-content;\n",
              "  min-width: 20ex;\n",
              "  max-width: 50ex;\n",
              "  color: var(--sklearn-color-text);\n",
              "  box-shadow: 2pt 2pt 4pt #999;\n",
              "  /* unfitted */\n",
              "  background: var(--sklearn-color-unfitted-level-0);\n",
              "  border: .5pt solid var(--sklearn-color-unfitted-level-3);\n",
              "}\n",
              "\n",
              ".sk-estimator-doc-link.fitted span {\n",
              "  /* fitted */\n",
              "  background: var(--sklearn-color-fitted-level-0);\n",
              "  border: var(--sklearn-color-fitted-level-3);\n",
              "}\n",
              "\n",
              ".sk-estimator-doc-link:hover span {\n",
              "  display: block;\n",
              "}\n",
              "\n",
              "/* \"?\"-specific style due to the `<a>` HTML tag */\n",
              "\n",
              "#sk-container-id-1 a.estimator_doc_link {\n",
              "  float: right;\n",
              "  font-size: 1rem;\n",
              "  line-height: 1em;\n",
              "  font-family: monospace;\n",
              "  background-color: var(--sklearn-color-background);\n",
              "  border-radius: 1rem;\n",
              "  height: 1rem;\n",
              "  width: 1rem;\n",
              "  text-decoration: none;\n",
              "  /* unfitted */\n",
              "  color: var(--sklearn-color-unfitted-level-1);\n",
              "  border: var(--sklearn-color-unfitted-level-1) 1pt solid;\n",
              "}\n",
              "\n",
              "#sk-container-id-1 a.estimator_doc_link.fitted {\n",
              "  /* fitted */\n",
              "  border: var(--sklearn-color-fitted-level-1) 1pt solid;\n",
              "  color: var(--sklearn-color-fitted-level-1);\n",
              "}\n",
              "\n",
              "/* On hover */\n",
              "#sk-container-id-1 a.estimator_doc_link:hover {\n",
              "  /* unfitted */\n",
              "  background-color: var(--sklearn-color-unfitted-level-3);\n",
              "  color: var(--sklearn-color-background);\n",
              "  text-decoration: none;\n",
              "}\n",
              "\n",
              "#sk-container-id-1 a.estimator_doc_link.fitted:hover {\n",
              "  /* fitted */\n",
              "  background-color: var(--sklearn-color-fitted-level-3);\n",
              "}\n",
              "</style><div id=\"sk-container-id-1\" class=\"sk-top-container\"><div class=\"sk-text-repr-fallback\"><pre>SimpleImputer(strategy=&#x27;median&#x27;)</pre><b>In a Jupyter environment, please rerun this cell to show the HTML representation or trust the notebook. <br />On GitHub, the HTML representation is unable to render, please try loading this page with nbviewer.org.</b></div><div class=\"sk-container\" hidden><div class=\"sk-item\"><div class=\"sk-estimator fitted sk-toggleable\"><input class=\"sk-toggleable__control sk-hidden--visually\" id=\"sk-estimator-id-1\" type=\"checkbox\" checked><label for=\"sk-estimator-id-1\" class=\"sk-toggleable__label fitted sk-toggleable__label-arrow fitted\">&nbsp;&nbsp;SimpleImputer<a class=\"sk-estimator-doc-link fitted\" rel=\"noreferrer\" target=\"_blank\" href=\"https://scikit-learn.org/1.5/modules/generated/sklearn.impute.SimpleImputer.html\">?<span>Documentation for SimpleImputer</span></a><span class=\"sk-estimator-doc-link fitted\">i<span>Fitted</span></span></label><div class=\"sk-toggleable__content fitted\"><pre>SimpleImputer(strategy=&#x27;median&#x27;)</pre></div> </div></div></div></div>"
            ]
          },
          "metadata": {},
          "execution_count": 29
        }
      ]
    },
    {
      "cell_type": "code",
      "source": [
        "#Cria nova matriz preenchendo os valores nulos com o imputer\n",
        "float_vars = imputer.transform(df_orders_float64)"
      ],
      "metadata": {
        "id": "25p7I6WhFJ3z"
      },
      "execution_count": 30,
      "outputs": []
    },
    {
      "cell_type": "code",
      "source": [
        "#float_vars"
      ],
      "metadata": {
        "id": "IMkWNNKzCiKL"
      },
      "execution_count": 31,
      "outputs": []
    },
    {
      "cell_type": "code",
      "source": [
        "#Cria novo dataset para apresentar os valores\n",
        "df_float64 = pd.DataFrame(float_vars, columns=df_orders_float64.columns,\n",
        "                          index=df_orders_float64.index)\n",
        "df_float64.info()"
      ],
      "metadata": {
        "id": "zAu5FhBeFYWO",
        "colab": {
          "base_uri": "https://localhost:8080/"
        },
        "outputId": "ea8f8266-6657-443e-d67a-f10b31e24d12"
      },
      "execution_count": 32,
      "outputs": [
        {
          "output_type": "stream",
          "name": "stdout",
          "text": [
            "<class 'pandas.core.frame.DataFrame'>\n",
            "Index: 53299 entries, 49037 to 9950\n",
            "Data columns (total 7 columns):\n",
            " #   Column                             Non-Null Count  Dtype  \n",
            "---  ------                             --------------  -----  \n",
            " 0   order_metric_collected_time        53299 non-null  float64\n",
            " 1   order_metric_paused_time           53299 non-null  float64\n",
            " 2   order_metric_production_time       53299 non-null  float64\n",
            " 3   order_metric_walking_time          53299 non-null  float64\n",
            " 4   order_metric_expediton_speed_time  53299 non-null  float64\n",
            " 5   order_metric_transit_time          53299 non-null  float64\n",
            " 6   order_metric_cycle_time            53299 non-null  float64\n",
            "dtypes: float64(7)\n",
            "memory usage: 3.3 MB\n"
          ]
        }
      ]
    },
    {
      "cell_type": "code",
      "source": [
        "#info do novo dataset\n",
        "df_float64.info()"
      ],
      "metadata": {
        "id": "CjkdpgnHFiTW",
        "colab": {
          "base_uri": "https://localhost:8080/"
        },
        "outputId": "6987abc8-4b0f-4bf8-a76e-2ecf85cc00af"
      },
      "execution_count": 96,
      "outputs": [
        {
          "output_type": "stream",
          "name": "stdout",
          "text": [
            "<class 'pandas.core.frame.DataFrame'>\n",
            "Index: 53299 entries, 49037 to 9950\n",
            "Data columns (total 7 columns):\n",
            " #   Column                             Non-Null Count  Dtype  \n",
            "---  ------                             --------------  -----  \n",
            " 0   order_metric_collected_time        53299 non-null  float64\n",
            " 1   order_metric_paused_time           53299 non-null  float64\n",
            " 2   order_metric_production_time       53299 non-null  float64\n",
            " 3   order_metric_walking_time          53299 non-null  float64\n",
            " 4   order_metric_expediton_speed_time  53299 non-null  float64\n",
            " 5   order_metric_transit_time          53299 non-null  float64\n",
            " 6   order_metric_cycle_time            53299 non-null  float64\n",
            "dtypes: float64(7)\n",
            "memory usage: 3.3 MB\n"
          ]
        }
      ]
    },
    {
      "cell_type": "markdown",
      "source": [
        "## Seleção Final"
      ],
      "metadata": {
        "id": "8JRumVFvC-Xs"
      }
    },
    {
      "cell_type": "markdown",
      "source": [
        "## Variáveis Categóricas"
      ],
      "metadata": {
        "id": "EwY0dcuLy5Ju"
      }
    },
    {
      "cell_type": "code",
      "source": [
        "#info\n"
      ],
      "metadata": {
        "id": "esYV575hF758"
      },
      "execution_count": 34,
      "outputs": []
    },
    {
      "cell_type": "code",
      "source": [
        "#seleção de day_of_week e faixa_horario\n"
      ],
      "metadata": {
        "id": "D-QUpDRIGFU-"
      },
      "execution_count": 35,
      "outputs": []
    },
    {
      "cell_type": "code",
      "source": [
        "#value_counts faixa de horario\n"
      ],
      "metadata": {
        "id": "jhUfHEZaGRwq"
      },
      "execution_count": 36,
      "outputs": []
    },
    {
      "cell_type": "code",
      "source": [
        "#novo dataset com a seleção das variaveis numéricas categóricas\n"
      ],
      "metadata": {
        "id": "GyBrO-NgWPM3"
      },
      "execution_count": 37,
      "outputs": []
    },
    {
      "cell_type": "code",
      "source": [
        "#novo dataset com a seleção das variáveis categóricas\n"
      ],
      "metadata": {
        "id": "kJOxsPD-GYO5"
      },
      "execution_count": 38,
      "outputs": []
    },
    {
      "cell_type": "code",
      "source": [
        "#import do OrdinalEncoder e do OneHotEncoder\n"
      ],
      "metadata": {
        "id": "l_LUSah5GopW"
      },
      "execution_count": 39,
      "outputs": []
    },
    {
      "cell_type": "markdown",
      "source": [
        "### Ordinal Encoder\n",
        "A maioria dos algoritmos de Aprendizado de Máquina prefere trabalhar com números, então vamos converter as categorias de texto para números. Para tanto, podemos utilizar o método OrdinalEncoder(), que mapeia cada categoria para um número inteiro diferente."
      ],
      "metadata": {
        "id": "8DgM52plFzYT"
      }
    },
    {
      "cell_type": "code",
      "source": [
        "#tratamento com o OrdinalEncoder\n"
      ],
      "metadata": {
        "id": "RRly-ClqGfDa"
      },
      "execution_count": 40,
      "outputs": []
    },
    {
      "cell_type": "code",
      "source": [
        "#Verificação das categorias do OrdinalEncoder\n"
      ],
      "metadata": {
        "id": "aoVOnEqrGwVA"
      },
      "execution_count": 41,
      "outputs": []
    },
    {
      "cell_type": "markdown",
      "source": [
        "### OneHotEncoder\n",
        "O OrdinalEncoder pega a quantidade de atributos e converte em números, porém transformando puramente em números ele cria uma diferença de valores entre os números. As categorias 0 e 1 transformadas tem uma distância semelhante, não podemos dizer o mesmo para as categorias 0 e 2, os algoritmos de ML enxergarão essa escala como uma diferença significa entre os dados. <br/>\n",
        "A utilização do OneHotEncoder é melhor aproveitada para esses casos. Ela cria novos atributos de acordo com a quantidade de atributos com 0 e 1.\n"
      ],
      "metadata": {
        "id": "VQRnqxB3GNt5"
      }
    },
    {
      "cell_type": "code",
      "source": [
        "#tratamento da categoria com o OneHotEncoder\n"
      ],
      "metadata": {
        "id": "gkooAI5-G8sR"
      },
      "execution_count": 42,
      "outputs": []
    },
    {
      "cell_type": "code",
      "source": [
        "#Visuaulização das categorias em array\n"
      ],
      "metadata": {
        "id": "4xdn9J15HFS0"
      },
      "execution_count": 43,
      "outputs": []
    },
    {
      "cell_type": "code",
      "source": [
        "#Visuaulização das categorias\n"
      ],
      "metadata": {
        "id": "nKAFUfGDHJT7"
      },
      "execution_count": 44,
      "outputs": []
    },
    {
      "cell_type": "markdown",
      "source": [
        "## Escalonando nossos dados"
      ],
      "metadata": {
        "id": "7gP5xugHzlC0"
      }
    },
    {
      "cell_type": "code",
      "source": [
        "#visualização do df_float64\n"
      ],
      "metadata": {
        "id": "1BSwtH47XDD6"
      },
      "execution_count": 45,
      "outputs": []
    },
    {
      "cell_type": "code",
      "source": [
        "#import do MinMaxScaler e do StandardScaler\n"
      ],
      "metadata": {
        "id": "KZeX408IXZBh"
      },
      "execution_count": 46,
      "outputs": []
    },
    {
      "cell_type": "markdown",
      "source": [
        "### MinMaxScaler\n",
        "O escalonamento min-max (muitas pessoas chamam de normalização) é bastante simples: os valores são deslocados e redimensionados para que acabem variando de 0 a 1. Ele subtrai o valor mínimo e divide pelo máximo menos o mínimo. O Scikit-Learn fornece um transformador chamado MinMaxScaler para isso. Ele possui um hiper parâmetro feature_range que permite alterar o intervalo se não quiser 0-1 por algum motivo."
      ],
      "metadata": {
        "id": "mjazQhmnGWjt"
      }
    },
    {
      "cell_type": "code",
      "source": [
        "#Tratamento com MinMaxScaler\n"
      ],
      "metadata": {
        "id": "Nbz6ypOfXQy4"
      },
      "execution_count": 47,
      "outputs": []
    },
    {
      "cell_type": "code",
      "source": [
        "#Visualiza transformação\n"
      ],
      "metadata": {
        "id": "Y4L6UwDpXbph"
      },
      "execution_count": 48,
      "outputs": []
    },
    {
      "cell_type": "markdown",
      "source": [
        "### StandardScaler\n",
        "A padronização é bem diferente: em primeiro lugar ela subtrai o valor médio (assim os valores padronizados sempre têm média zero) e, em seguida, divide pela variância, de modo que a distribuição resultante tenha variância unitária.\n",
        "Ao contrário do escalonamento min-max, a padronização não vincula valores a um intervalo específico, o que pode ser um problema para alguns algoritmos.\n",
        "No entanto, a padronização é muito menos afetada por outliers.\n",
        "O Scikit-Learn fornece um transformador para padronização chamado StandardScaler."
      ],
      "metadata": {
        "id": "-HKPHlK_XokM"
      }
    },
    {
      "cell_type": "code",
      "source": [
        "#Tratamento com o SatandardScaler\n"
      ],
      "metadata": {
        "id": "fhodSlMYXp8z"
      },
      "execution_count": 49,
      "outputs": []
    },
    {
      "cell_type": "code",
      "source": [
        "#Visualiza transformação\n"
      ],
      "metadata": {
        "id": "aytL1XUlXzKW"
      },
      "execution_count": 50,
      "outputs": []
    },
    {
      "cell_type": "markdown",
      "source": [
        "## Pipeline"
      ],
      "metadata": {
        "id": "_xF-yUUzz0vc"
      }
    },
    {
      "cell_type": "code",
      "source": [
        "#import do Pipeline\n"
      ],
      "metadata": {
        "id": "-ZZndJX7YbIT"
      },
      "execution_count": 51,
      "outputs": []
    },
    {
      "cell_type": "markdown",
      "source": [
        "Existem muitas etapas de transformação de dados que precisam ser executadas na ordem correta. Felizmente, o Scikit-Learn fornece a classe Pipeline para ajudar tais sequências de transformações.\n",
        "\n",
        "O construtor Pipeline se vale de uma lista de pares de nome/estimador que definem uma sequência de etapas. Todos, exceto o último estimador, devem ser transformadores (ou seja, eles devem ter um método fit_transform()).\n"
      ],
      "metadata": {
        "id": "AuqivqRTG4H7"
      }
    },
    {
      "cell_type": "markdown",
      "source": [
        "### Pipeline Numérico"
      ],
      "metadata": {
        "id": "GczkaZl3DU4b"
      }
    },
    {
      "cell_type": "code",
      "source": [
        "#Criação do novo pipeline com o Imputer e StandardScaler\n"
      ],
      "metadata": {
        "id": "m4uTVkPpYkAF"
      },
      "execution_count": 52,
      "outputs": []
    },
    {
      "cell_type": "code",
      "source": [
        "#Criação de um novo dataset com o pipline numérico\n"
      ],
      "metadata": {
        "id": "slFec5ZHYt0g"
      },
      "execution_count": 53,
      "outputs": []
    },
    {
      "cell_type": "code",
      "source": [
        "#Apresentação do Shape da transformação após o pipeline\n"
      ],
      "metadata": {
        "id": "Rs3d1B-wY2oz"
      },
      "execution_count": 54,
      "outputs": []
    },
    {
      "cell_type": "markdown",
      "source": [
        "### Pipeline Categório + Full Pipeline"
      ],
      "metadata": {
        "id": "JPIbqzVNHE4p"
      }
    },
    {
      "cell_type": "code",
      "source": [
        "#Import do column transform\n"
      ],
      "metadata": {
        "id": "D24yqg9wZSQX"
      },
      "execution_count": 55,
      "outputs": []
    },
    {
      "cell_type": "code",
      "source": [
        "#Seleção das variáveis numéricas, categóricas numéricas e categóricas.\n"
      ],
      "metadata": {
        "id": "V42BlUI5Y6v3"
      },
      "execution_count": 56,
      "outputs": []
    },
    {
      "cell_type": "code",
      "source": [
        "#Criação do Full Pipeline\n"
      ],
      "metadata": {
        "id": "A1ShBayxD5SH"
      },
      "execution_count": 57,
      "outputs": []
    },
    {
      "cell_type": "code",
      "source": [
        "#Transformação dos dados através do full pipeline\n"
      ],
      "metadata": {
        "id": "09-tdMHYD6zg"
      },
      "execution_count": 58,
      "outputs": []
    },
    {
      "cell_type": "code",
      "source": [
        "#Apresentação do shspe dos dados transformados\n"
      ],
      "metadata": {
        "id": "f1mEYNg3ZlrG"
      },
      "execution_count": 59,
      "outputs": []
    },
    {
      "cell_type": "markdown",
      "source": [
        "## Trienando o modelo"
      ],
      "metadata": {
        "id": "FOes0NdI0j7V"
      }
    },
    {
      "cell_type": "markdown",
      "source": [
        "### Regressão Linear\n",
        "A Regressão Linear é uma técnica estatística usada para modelar a relação entre uma variável dependente (ou alvo) e uma ou mais variáveis independentes (ou preditoras). O objetivo é ajustar uma linha reta (ou plano, no caso de múltiplas variáveis) que melhor represente essa relação, de forma a prever os valores da variável dependente com base nos valores das variáveis independentes."
      ],
      "metadata": {
        "id": "bpQhTNt4Hv09"
      }
    },
    {
      "cell_type": "markdown",
      "source": [
        "**Regressão Linear Simples:**<br/>\n",
        "Utiliza uma única variável independente para prever o valor da variável dependente. A equação da reta é dada por:\n",
        "\n",
        "$$\n",
        "y = \\beta_0 + \\beta_1 x + \\epsilon\n",
        "$$\n",
        "\n",
        "Onde:\n",
        "- $( y  )$ é a variável dependente (o que você quer prever),\n",
        "- \\( $\\beta_0 $ ) é o intercepto (onde a linha cruza o eixo y),\n",
        "- \\( $\\beta_1 $) é o coeficiente angular (influência de \\( x \\) sobre \\( y \\)),\n",
        "- \\( x \\) é a variável independente (o que você usa para prever),\n",
        "- \\( $\\epsilon \\$ ) é o erro ou termo de resíduo.\n",
        "\n",
        "**Regressão Linear Múltipla:** <br/>\n",
        "Utiliza duas ou mais variáveis independentes para prever o valor da variável dependente. A equação se expande para:\n",
        "\n",
        "$$\n",
        "y = \\beta_0 + \\beta_1 x_1 + \\beta_2 x_2 + \\dots + \\beta_n x_n + \\epsilon\n",
        "$$\n",
        "\n"
      ],
      "metadata": {
        "id": "e6JgCYyRI7y-"
      }
    },
    {
      "cell_type": "markdown",
      "source": [
        "<img src=\"https://analisemacro.com.br/wp-content/uploads/2023/08/p3.png\">"
      ],
      "metadata": {
        "id": "phuWzA_dL7DW"
      }
    },
    {
      "cell_type": "code",
      "source": [
        "#import e modelo de regressão linear\n"
      ],
      "metadata": {
        "id": "SNu7SixiZ-X_"
      },
      "execution_count": 60,
      "outputs": []
    },
    {
      "cell_type": "code",
      "source": [
        "#Seleciona os dados e as labels e passa pelo full pipeline\n"
      ],
      "metadata": {
        "id": "pfdQidDJaLx9"
      },
      "execution_count": 61,
      "outputs": []
    },
    {
      "cell_type": "code",
      "source": [
        "#Verifica as predições\n"
      ],
      "metadata": {
        "id": "vUb8w5zzavup"
      },
      "execution_count": 62,
      "outputs": []
    },
    {
      "cell_type": "code",
      "source": [
        "#Verifica os valores reais\n"
      ],
      "metadata": {
        "id": "SaO1-0YmayKw"
      },
      "execution_count": 63,
      "outputs": []
    },
    {
      "cell_type": "markdown",
      "source": [
        "### RMSE (Root Mean Squared Error)\n",
        "\n",
        "O **RMSE (Root Mean Squared Error)** ou **Erro Quadrático Médio da Raiz** é uma métrica usada para avaliar a qualidade de um modelo de regressão, especialmente em Machine Learning. Ele mede a diferença entre os valores preditos por um modelo e os valores reais observados. O RMSE dá uma indicação de quão bem o modelo está prevendo os dados.\n",
        "\n",
        "**Como é calculado o RMSE?** <br/>\n",
        "\n",
        "O RMSE é calculado em três etapas:\n",
        "\n",
        "1. **Calcula-se o erro para cada ponto de dados**: A diferença entre o valor observado (real) e o valor previsto pelo modelo.\n",
        "   \n",
        "   $$ \\text{Erro} = y_{\\text{real}} - y_{\\text{previsto}} $$\n",
        "\n",
        "2. **Eleva-se o erro ao quadrado**: Isso é feito para garantir que os erros negativos não cancelem os positivos, e também para dar maior peso a erros maiores.\n",
        "$$ \\text{Erro Quadrático} = (y_{\\text{real}} - y_{\\text{previsto}})^2 $$\n",
        "\n",
        "3. **Calcula-se a média dos erros quadráticos**: Soma-se todos os erros quadráticos e divide-se pelo número total de amostras.\n",
        "\n",
        "   $$ \\text{MSE} = \\frac{1}{n} \\sum_{i=1}^{n} (y_{\\text{real}}^{(i)} - y_{\\text{previsto}}^{(i)})^2 $$\n",
        "\n",
        "4. **Tira-se a raiz quadrada** da média dos erros quadráticos:\n",
        "\n",
        "   $$\\text{RMSE} = \\sqrt{\\frac{1}{n} \\sum_{i=1}^{n} (y_{\\text{real}}^{(i)} - y_{\\text{previsto}}^{(i)})^2}$$\n",
        "\n",
        "**Interpretação do RMSE:**\n",
        "- **RMSE = 0**: Indica que o modelo fez previsões perfeitas, ou seja, não houve erro entre os valores previstos e os reais.\n",
        "- **Valores maiores de RMSE**: Sugerem que o modelo tem maior erro de previsão. Quanto maior o RMSE, pior o modelo se ajusta aos dados.\n",
        "\n",
        "**Vantagens do RMSE:**\n",
        "- **Penaliza erros grandes**: Como o erro é elevado ao quadrado, os erros maiores têm um impacto mais significativo na métrica, o que é útil para identificar modelos que cometem grandes erros.\n",
        "\n",
        "**Limitação:**\n",
        "- **Sensível a outliers**: Como o erro é elevado ao quadrado, o RMSE é particularmente sensível a outliers (valores muito distantes dos demais), o que pode distorcer a avaliação do modelo.\n",
        "\n",
        "**Exemplo:**\n",
        "Se um modelo de regressão está prevendo o preço de casas, o RMSE pode ser usado para avaliar o quão próxima a previsão de preço está em relação ao preço real das casas. Se o RMSE for baixo, significa que as previsões estão próximas dos valores reais; se for alto, indica que as previsões estão dispersas dos valores reais.\n",
        "<br/><br/>\n",
        "**Comparação com outras métricas:**\n",
        "- O RMSE pode ser comparado com o **MAE (Mean Absolute Error)**, que é outra métrica comum. A diferença principal é que o RMSE penaliza mais fortemente os erros grandes, enquanto o MAE trata todos os erros de forma linear.\n"
      ],
      "metadata": {
        "id": "1AGDEhKqNQO2"
      }
    },
    {
      "cell_type": "code",
      "source": [
        "#Import da métrica erro quadrado médio\n"
      ],
      "metadata": {
        "id": "4ex3F-whHTV5"
      },
      "execution_count": 64,
      "outputs": []
    },
    {
      "cell_type": "markdown",
      "source": [
        "### MAE (Mean Absolute Error)\n",
        "\n",
        "O **MAE (Mean Absolute Error)** ou **Erro Médio Absoluto** é uma métrica de avaliação usada em modelos de regressão. Ele mede a magnitude média dos erros entre os valores previstos pelo modelo e os valores reais, sem considerar a direção do erro (se o valor previsto foi maior ou menor que o valor real).\n",
        "\n",
        "## Fórmula do MAE:\n",
        "\n",
        "A fórmula para calcular o MAE é:\n",
        "\n",
        "$$\n",
        "MAE = \\frac{1}{n} \\sum_{i=1}^{n} |y_{\\text{real}}^{(i)} - y_{\\text{previsto}}^{(i)}|\n",
        "$$\n",
        "\n",
        "**Como o MAE funciona:**\n",
        "- O MAE simplesmente soma a magnitude de todos os erros (diferença entre previsto e real) e divide pelo número total de pontos de dados.\n",
        "- Como utiliza o valor absoluto, o MAE não se preocupa se o modelo está subestimando ou superestimando as previsões, apenas com a magnitude média do erro.\n",
        "\n",
        "**Interpretação do MAE:**\n",
        "- **MAE = 0**: Significa que o modelo fez previsões perfeitas, ou seja, não há diferença entre os valores reais e os previstos.\n",
        "- **Valores maiores de MAE**: Indicam que as previsões do modelo estão, em média, mais distantes dos valores reais.\n",
        "\n",
        "**Vantagens do MAE:**\n",
        "- **Fácil de interpretar**: O MAE representa o erro médio em unidades da variável prevista, facilitando a compreensão do quão distantes estão as previsões em relação aos valores reais.\n",
        "- **Robustez**: O MAE é menos sensível a outliers (valores extremos) comparado ao RMSE, já que não eleva os erros ao quadrado.\n",
        "\n",
        "**Limitações do MAE:**\n",
        "- **Não penaliza grandes erros com intensidade**: Como não eleva os erros ao quadrado (diferente do RMSE), o MAE trata todos os erros de forma igual. Portanto, grandes erros não são penalizados de forma mais acentuada, o que pode ser uma desvantagem em alguns contextos.\n",
        "\n",
        "**Exemplo de uso do MAE:**\n",
        "Se você estiver prevendo o preço de casas, o MAE pode indicar o erro médio em dólares entre as previsões do modelo e os preços reais. Por exemplo, um **MAE de 5.000 dólares** significa que, em média, o modelo erra em 5.000 dólares ao prever o preço de uma casa.\n",
        "\n",
        "**Comparação com RMSE:**\n",
        "- **MAE** trata todos os erros de forma linear, sem dar mais peso aos erros maiores.\n",
        "- **RMSE** penaliza mais fortemente os grandes erros porque eleva os erros ao quadrado antes de calcular a média.\n",
        "\n",
        "Ambas as métricas são úteis, e a escolha entre uma e outra depende do tipo de análise que você deseja fazer. O **MAE** é mais simples e intuitivo, enquanto o **RMSE** é mais sensível a grandes erros.\n"
      ],
      "metadata": {
        "id": "R8IyoCCYPCC9"
      }
    },
    {
      "cell_type": "code",
      "source": [
        "#Import da métrica MAE\n",
        "\n",
        "# Gera as previsões\n",
        "\n",
        "# Calcula o MAE\n",
        "\n"
      ],
      "metadata": {
        "id": "pg4O7ryvO1uv"
      },
      "execution_count": 65,
      "outputs": []
    },
    {
      "cell_type": "code",
      "source": [
        "#Describe dos Labels\n"
      ],
      "metadata": {
        "id": "Atku55XJHg_Q"
      },
      "execution_count": 66,
      "outputs": []
    },
    {
      "cell_type": "markdown",
      "source": [
        "# Coeficiente de Determinação (R²)\n",
        "\n",
        "O **R²** (Coeficiente de Determinação) é uma métrica estatística utilizada para avaliar a qualidade de ajuste de um modelo de regressão. Ele mede a proporção da variabilidade total da variável dependente que é explicada pelas variáveis independentes do modelo.\n",
        "\n",
        "## Interpretação do R²:\n",
        "- **R² = 1**: O modelo explica 100% da variabilidade dos dados, ou seja, ajuste perfeito.\n",
        "- **R² = 0**: O modelo não explica nenhuma variabilidade dos dados. Nesse caso, a média dos dados seria um preditor tão bom quanto o modelo.\n",
        "- **R² < 0**: O modelo pode ser pior do que simplesmente usar a média dos dados como predição.\n",
        "\n",
        "## Fórmula do R²:\n",
        "\n",
        "$$\n",
        "R² = 1 - \\frac{\\text{SSR}}{\\text{SST}}\n",
        "$$\n",
        "\n",
        "Onde:\n",
        "- **SSR (Soma dos Quadrados dos Resíduos)**: Representa a soma das diferenças quadráticas entre os valores observados e os preditos pelo modelo.\n",
        "- **SST (Soma Total dos Quadrados)**: Representa a soma das diferenças quadráticas entre os valores observados e a média dos valores observados.\n",
        "\n",
        "Se a **SSR** for pequena, significa que o modelo faz boas previsões, e o valor de **R²** será próximo de 1.\n",
        "\n"
      ],
      "metadata": {
        "id": "S5b_GyYJm5pE"
      }
    },
    {
      "cell_type": "code",
      "source": [
        "#import do R²\n"
      ],
      "metadata": {
        "id": "pLhbVLtjm88_"
      },
      "execution_count": 67,
      "outputs": []
    },
    {
      "cell_type": "code",
      "source": [
        "#Nova variáveil com o R²\n",
        "\n",
        "# Exibindo o resultado\n",
        "\n"
      ],
      "metadata": {
        "id": "9zbRNrhfm_cS"
      },
      "execution_count": 68,
      "outputs": []
    },
    {
      "cell_type": "markdown",
      "source": [
        "### **Underfitting**\n",
        "Acontece quando o modelo é muito simples e não consegue capturar a complexidade dos dados de treinamento. Como resultado, ele apresenta um desempenho ruim tanto nos dados de treinamento quanto nos dados de teste (ou novos dados), pois não consegue aprender adequadamente os padrões.\n",
        "\n",
        "**Causas principais:**\n",
        "\n",
        "- Modelo muito simples (ex.: uma linha reta para dados que requerem uma curva mais complexa).\n",
        "- Poucos parâmetros ou features.\n",
        "- Pouco tempo de treinamento.\n",
        "- Alto erro nos dados de treinamento.\n",
        "- Baixo desempenho em dados novos (de teste ou validação).\n",
        "\n",
        "**Solução:**\n",
        "\n",
        "- Aumentar a complexidade do modelo.\n",
        "- Adicionar mais features relevantes.\n",
        "- Reduzir a regularização, se estiver em uso.\n"
      ],
      "metadata": {
        "id": "ItmaIH4dnOhv"
      }
    },
    {
      "cell_type": "markdown",
      "source": [
        "## Árvore de Decisão (DecisionTree)\n",
        "\n",
        "A Árvore de Decisão é um algoritmo de aprendizado supervisionado usado tanto para problemas de classificação quanto de regressão. Ela funciona como um conjunto de regras de decisão, onde os dados são divididos em subgrupos com base em características específicas. É chamada de \"árvore\" porque a estrutura se assemelha a um diagrama em forma de árvore, com um nó raiz no topo, nós internos que representam testes em atributos/características, e folhas que representam as decisões finais ou previsões.\n",
        "\n",
        "Estrutura da Árvore de Decisão:\n",
        "- **Nó raiz (Root Node):** É o nó inicial que contém o conjunto completo de dados e é o ponto de partida para a construção da árvore. Este nó representa a divisão do primeiro atributo.\n",
        "\n",
        "- **Nós internos (Internal Nodes):** Cada nó interno representa um teste em um atributo. Aqui, os dados são divididos com base em uma condição de decisão (por exemplo, \"Salário > 50K\").\n",
        "\n",
        "- **Galhos (Branches):** São os caminhos que conectam os nós. Cada ramo representa o resultado de um teste e direciona o fluxo de dados para os nós filhos.\n",
        "\n",
        "- **Folhas (Leaf Nodes):** Os nós folha representam a classe ou valor final de previsão. No caso de classificação, cada folha terá uma classe; no caso de regressão, terá um valor numérico."
      ],
      "metadata": {
        "id": "wjiuQnZTK5gs"
      }
    },
    {
      "cell_type": "code",
      "source": [
        "#import da árvore de decisão\n"
      ],
      "metadata": {
        "id": "0h9fnStdJp5d"
      },
      "execution_count": 69,
      "outputs": []
    },
    {
      "cell_type": "code",
      "source": [
        "#Treinamento da Árvore de Decisão\n"
      ],
      "metadata": {
        "id": "qySCrdfuJtzh"
      },
      "execution_count": 70,
      "outputs": []
    },
    {
      "cell_type": "code",
      "source": [
        "#Realiza as previsões e testa a métrica do RMSE\n"
      ],
      "metadata": {
        "id": "m896xCjYJ4F1"
      },
      "execution_count": 71,
      "outputs": []
    },
    {
      "cell_type": "code",
      "source": [
        "#Dados Predidos\n"
      ],
      "metadata": {
        "id": "ND-c4NuQKJqi"
      },
      "execution_count": 72,
      "outputs": []
    },
    {
      "cell_type": "code",
      "source": [
        "#dados reais\n"
      ],
      "metadata": {
        "id": "aiUuWo8jKP_b"
      },
      "execution_count": 73,
      "outputs": []
    },
    {
      "cell_type": "code",
      "source": [
        "#Nova variáveil com o R²\n",
        "\n",
        "# Exibindo o resultado\n"
      ],
      "metadata": {
        "id": "Y83KGZognUZI"
      },
      "execution_count": 74,
      "outputs": []
    },
    {
      "cell_type": "markdown",
      "source": [
        "### Overfitting\n",
        "Acontece quando o modelo é muito complexo e se ajusta muito bem aos dados de treinamento, capturando até mesmo o ruído e as peculiaridades dos dados. Como resultado, o modelo tem um ótimo desempenho nos dados de treinamento, mas um desempenho ruim em dados novos, porque ele \"aprendeu demais\" sobre os dados de treinamento e não consegue generalizar.\n",
        "\n",
        "**Causas principais:**\n",
        "\n",
        "- Modelo muito complexo (ex.: muitas camadas em uma rede neural ou uma árvore de decisão muito profunda).\n",
        "- Muito tempo de treinamento, levando o modelo a memorizar os dados de treinamento.\n",
        "- Pequeno conjunto de dados de treinamento (poucos exemplos).\n",
        "\n",
        "**Sintomas:**\n",
        "\n",
        "- Baixo erro nos dados de treinamento.\n",
        "- Alto erro nos dados de teste ou validação.\n",
        "\n",
        "**Solução:**\n",
        "\n",
        "- Obter mais dados para o treinamento.\n",
        "- Reduzir a complexidade do modelo (ex.: reduzir o número de parâmetros)."
      ],
      "metadata": {
        "id": "hI6fXWAOnXgT"
      }
    },
    {
      "cell_type": "markdown",
      "source": [
        "## Árvores Aleatória (Randon Forest)\n",
        "\n",
        "As Árvores Aleatórias (ou Random Forest) são uma extensão do algoritmo de Árvores de Decisão que combinam várias árvores de decisão para melhorar a precisão do modelo e reduzir o risco de overfitting (superajuste). Essa técnica é amplamente utilizada tanto para tarefas de classificação quanto de regressão e é conhecida por ser robusta, precisa e fácil de interpretar.\n",
        "\n",
        "O que é uma Random Forest?\n",
        "Uma Random Forest é composta por um conjunto de árvores de decisão independentes (daí o nome \"floresta\"), onde cada árvore é treinada em uma amostra diferente dos dados e com um subconjunto aleatório dos atributos. As previsões finais são feitas com base no consenso das árvores, o que reduz a variância e melhora a generalização do modelo.\n",
        "\n",
        "- Para classificação, a Random Forest usa a votação majoritária: cada árvore faz uma previsão e a classe mais votada é escolhida como a previsão final.\n",
        "- Para regressão, a Random Forest faz a média das previsões das várias árvores."
      ],
      "metadata": {
        "id": "qfArqpjVK2KC"
      }
    },
    {
      "cell_type": "code",
      "source": [
        "#import do random forest\n"
      ],
      "metadata": {
        "id": "OmqOfPqpKXMy"
      },
      "execution_count": 75,
      "outputs": []
    },
    {
      "cell_type": "code",
      "source": [
        "#treinamento do random forest\n"
      ],
      "metadata": {
        "id": "6yUIGKxAKaNE"
      },
      "execution_count": 76,
      "outputs": []
    },
    {
      "cell_type": "code",
      "source": [
        "#Realiza as previsões e testa a métrica do RMSE\n"
      ],
      "metadata": {
        "id": "DhKkMbXkKgEY"
      },
      "execution_count": 77,
      "outputs": []
    },
    {
      "cell_type": "code",
      "source": [
        "#predições\n"
      ],
      "metadata": {
        "id": "zcd4Gpv1Km81"
      },
      "execution_count": 78,
      "outputs": []
    },
    {
      "cell_type": "code",
      "source": [
        "#valores reais\n"
      ],
      "metadata": {
        "id": "NcDBOSnVKrVn"
      },
      "execution_count": 79,
      "outputs": []
    },
    {
      "cell_type": "code",
      "source": [
        "#Nova variáveil com o R²\n",
        "\n",
        "# Exibindo o resultado\n"
      ],
      "metadata": {
        "id": "oQ8FlOdQncw5"
      },
      "execution_count": 80,
      "outputs": []
    },
    {
      "cell_type": "markdown",
      "source": [
        "## Modelo Final\n",
        "\n",
        "Agora que já definimos o nosso modelo com a melhor métrica, podemos fazer criar o modelo de Machine Learning"
      ],
      "metadata": {
        "id": "CaoOX2iTMbed"
      }
    },
    {
      "cell_type": "code",
      "source": [
        "#seleciona o dataset de teste\n"
      ],
      "metadata": {
        "id": "HON9QlzRSn_Q"
      },
      "execution_count": 81,
      "outputs": []
    },
    {
      "cell_type": "code",
      "source": [
        "#seleciona o modelo final\n"
      ],
      "metadata": {
        "id": "L1yzpXgySp25"
      },
      "execution_count": 82,
      "outputs": []
    },
    {
      "cell_type": "code",
      "source": [
        "# Usando o conjunto de teste para a avaliação\n"
      ],
      "metadata": {
        "id": "_VE3ItifSvP_"
      },
      "execution_count": 83,
      "outputs": []
    },
    {
      "cell_type": "code",
      "source": [
        "# Transformando os dados de teste com o pipeline usado no treinamento\n"
      ],
      "metadata": {
        "id": "48bwm2TRSw_a"
      },
      "execution_count": 84,
      "outputs": []
    },
    {
      "cell_type": "code",
      "source": [
        "# Fazendo previsões com o modelo final\n"
      ],
      "metadata": {
        "id": "MTHiQ5L6Szge"
      },
      "execution_count": 85,
      "outputs": []
    },
    {
      "cell_type": "code",
      "source": [
        "# Calculando as métricas de desempenho\n",
        "\n",
        "# Exibindo os resultados\n"
      ],
      "metadata": {
        "id": "BMrCEzFrOa0_"
      },
      "execution_count": 86,
      "outputs": []
    },
    {
      "cell_type": "code",
      "source": [
        "#describe y_test\n"
      ],
      "metadata": {
        "id": "8B1AW7D-U-tL"
      },
      "execution_count": 87,
      "outputs": []
    },
    {
      "cell_type": "code",
      "source": [
        "#avalia os dados de entrada\n"
      ],
      "metadata": {
        "id": "Z8VYEsYuNkJX"
      },
      "execution_count": 88,
      "outputs": []
    },
    {
      "cell_type": "code",
      "source": [
        "#o valor real\n"
      ],
      "metadata": {
        "id": "lY9o4PUxTqyN"
      },
      "execution_count": 89,
      "outputs": []
    },
    {
      "cell_type": "code",
      "source": [
        "#previsão final\n"
      ],
      "metadata": {
        "id": "VbDODpTITcpv"
      },
      "execution_count": 90,
      "outputs": []
    },
    {
      "cell_type": "markdown",
      "source": [
        "## Export do Modelo\n",
        "\n",
        "No contexto de aprendizado de máquina, exportar um modelo refere-se ao processo de salvar o estado de um modelo treinado em um arquivo, permitindo que ele seja reutilizado posteriormente sem a necessidade de re-treinamento."
      ],
      "metadata": {
        "id": "0ZdzvqAS1cDZ"
      }
    },
    {
      "cell_type": "code",
      "source": [
        "#import do pickle\n"
      ],
      "metadata": {
        "id": "MYdIvFjMU8mL"
      },
      "execution_count": 91,
      "outputs": []
    },
    {
      "cell_type": "code",
      "source": [
        "#realiza o dumping do modelo\n"
      ],
      "metadata": {
        "id": "FvHpDHkcU_GY"
      },
      "execution_count": 92,
      "outputs": []
    },
    {
      "cell_type": "markdown",
      "source": [
        "## Import do Modelo"
      ],
      "metadata": {
        "id": "-WKuyGNe1eSB"
      }
    },
    {
      "cell_type": "code",
      "source": [
        "#import do modelo\n"
      ],
      "metadata": {
        "id": "hpQfcqUSVFwk"
      },
      "execution_count": 93,
      "outputs": []
    },
    {
      "cell_type": "code",
      "source": [
        "#faz a predição do X_test\n"
      ],
      "metadata": {
        "id": "e2EinC4VVHkN"
      },
      "execution_count": 94,
      "outputs": []
    },
    {
      "cell_type": "code",
      "source": [
        "#traz as métricas do rmse e mae\n"
      ],
      "metadata": {
        "id": "jE5D14rIUju2"
      },
      "execution_count": 95,
      "outputs": []
    }
  ]
}