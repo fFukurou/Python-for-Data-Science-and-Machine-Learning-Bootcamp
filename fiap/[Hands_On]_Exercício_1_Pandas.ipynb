{
 "cells": [
  {
   "cell_type": "code",
   "execution_count": 5,
   "metadata": {
    "id": "ifO9n3es6lZi"
   },
   "outputs": [],
   "source": [
    "import pandas as pd"
   ]
  },
  {
   "cell_type": "markdown",
   "metadata": {
    "id": "RglY5TWE8nXS"
   },
   "source": [
    "## 1 - Faça a leitura do Dataset exercicio_1.csv"
   ]
  },
  {
   "cell_type": "code",
   "execution_count": 8,
   "metadata": {
    "id": "n-79YaKT6xLg"
   },
   "outputs": [
    {
     "data": {
      "text/html": [
       "<div>\n",
       "<style scoped>\n",
       "    .dataframe tbody tr th:only-of-type {\n",
       "        vertical-align: middle;\n",
       "    }\n",
       "\n",
       "    .dataframe tbody tr th {\n",
       "        vertical-align: top;\n",
       "    }\n",
       "\n",
       "    .dataframe thead th {\n",
       "        text-align: right;\n",
       "    }\n",
       "</style>\n",
       "<table border=\"1\" class=\"dataframe\">\n",
       "  <thead>\n",
       "    <tr style=\"text-align: right;\">\n",
       "      <th></th>\n",
       "      <th>id_venda</th>\n",
       "      <th>nome_produto</th>\n",
       "      <th>vendas</th>\n",
       "      <th>custo</th>\n",
       "      <th>preco</th>\n",
       "    </tr>\n",
       "  </thead>\n",
       "  <tbody>\n",
       "    <tr>\n",
       "      <th>0</th>\n",
       "      <td>1</td>\n",
       "      <td>Lindt</td>\n",
       "      <td>150</td>\n",
       "      <td>5.0</td>\n",
       "      <td>8.0</td>\n",
       "    </tr>\n",
       "    <tr>\n",
       "      <th>1</th>\n",
       "      <td>2</td>\n",
       "      <td>Cadbury</td>\n",
       "      <td>200</td>\n",
       "      <td>3.0</td>\n",
       "      <td>6.0</td>\n",
       "    </tr>\n",
       "    <tr>\n",
       "      <th>2</th>\n",
       "      <td>3</td>\n",
       "      <td>Hershey's</td>\n",
       "      <td>180</td>\n",
       "      <td>4.0</td>\n",
       "      <td>7.0</td>\n",
       "    </tr>\n",
       "    <tr>\n",
       "      <th>3</th>\n",
       "      <td>4</td>\n",
       "      <td>Lindt</td>\n",
       "      <td>120</td>\n",
       "      <td>5.0</td>\n",
       "      <td>8.0</td>\n",
       "    </tr>\n",
       "    <tr>\n",
       "      <th>4</th>\n",
       "      <td>5</td>\n",
       "      <td>Cadbury</td>\n",
       "      <td>170</td>\n",
       "      <td>3.0</td>\n",
       "      <td>6.0</td>\n",
       "    </tr>\n",
       "  </tbody>\n",
       "</table>\n",
       "</div>"
      ],
      "text/plain": [
       "   id_venda nome_produto  vendas  custo  preco\n",
       "0         1        Lindt     150    5.0    8.0\n",
       "1         2      Cadbury     200    3.0    6.0\n",
       "2         3    Hershey's     180    4.0    7.0\n",
       "3         4        Lindt     120    5.0    8.0\n",
       "4         5      Cadbury     170    3.0    6.0"
      ]
     },
     "execution_count": 8,
     "metadata": {},
     "output_type": "execute_result"
    }
   ],
   "source": [
    "#Utilize o parâmetro sep=\";\" para leitura do Dataset\n",
    "df = pd.read_csv('./exercicio_1.csv', sep=';')\n",
    "df.head()"
   ]
  },
  {
   "cell_type": "markdown",
   "metadata": {
    "id": "QcmanOkC816s"
   },
   "source": [
    "## 2 - Crie uma nova coluna com o nome df[\"margem_lucro\"] com o cálculo: margem_lucro = preco - custo"
   ]
  },
  {
   "cell_type": "code",
   "execution_count": 11,
   "metadata": {
    "id": "Sui9bTw89EWU"
   },
   "outputs": [
    {
     "data": {
      "text/html": [
       "<div>\n",
       "<style scoped>\n",
       "    .dataframe tbody tr th:only-of-type {\n",
       "        vertical-align: middle;\n",
       "    }\n",
       "\n",
       "    .dataframe tbody tr th {\n",
       "        vertical-align: top;\n",
       "    }\n",
       "\n",
       "    .dataframe thead th {\n",
       "        text-align: right;\n",
       "    }\n",
       "</style>\n",
       "<table border=\"1\" class=\"dataframe\">\n",
       "  <thead>\n",
       "    <tr style=\"text-align: right;\">\n",
       "      <th></th>\n",
       "      <th>id_venda</th>\n",
       "      <th>nome_produto</th>\n",
       "      <th>vendas</th>\n",
       "      <th>custo</th>\n",
       "      <th>preco</th>\n",
       "      <th>margem_lucro</th>\n",
       "    </tr>\n",
       "  </thead>\n",
       "  <tbody>\n",
       "    <tr>\n",
       "      <th>0</th>\n",
       "      <td>1</td>\n",
       "      <td>Lindt</td>\n",
       "      <td>150</td>\n",
       "      <td>5.0</td>\n",
       "      <td>8.0</td>\n",
       "      <td>3.0</td>\n",
       "    </tr>\n",
       "    <tr>\n",
       "      <th>1</th>\n",
       "      <td>2</td>\n",
       "      <td>Cadbury</td>\n",
       "      <td>200</td>\n",
       "      <td>3.0</td>\n",
       "      <td>6.0</td>\n",
       "      <td>3.0</td>\n",
       "    </tr>\n",
       "    <tr>\n",
       "      <th>2</th>\n",
       "      <td>3</td>\n",
       "      <td>Hershey's</td>\n",
       "      <td>180</td>\n",
       "      <td>4.0</td>\n",
       "      <td>7.0</td>\n",
       "      <td>3.0</td>\n",
       "    </tr>\n",
       "    <tr>\n",
       "      <th>3</th>\n",
       "      <td>4</td>\n",
       "      <td>Lindt</td>\n",
       "      <td>120</td>\n",
       "      <td>5.0</td>\n",
       "      <td>8.0</td>\n",
       "      <td>3.0</td>\n",
       "    </tr>\n",
       "    <tr>\n",
       "      <th>4</th>\n",
       "      <td>5</td>\n",
       "      <td>Cadbury</td>\n",
       "      <td>170</td>\n",
       "      <td>3.0</td>\n",
       "      <td>6.0</td>\n",
       "      <td>3.0</td>\n",
       "    </tr>\n",
       "    <tr>\n",
       "      <th>5</th>\n",
       "      <td>6</td>\n",
       "      <td>Hershey's</td>\n",
       "      <td>190</td>\n",
       "      <td>4.0</td>\n",
       "      <td>7.0</td>\n",
       "      <td>3.0</td>\n",
       "    </tr>\n",
       "  </tbody>\n",
       "</table>\n",
       "</div>"
      ],
      "text/plain": [
       "   id_venda nome_produto  vendas  custo  preco  margem_lucro\n",
       "0         1        Lindt     150    5.0    8.0           3.0\n",
       "1         2      Cadbury     200    3.0    6.0           3.0\n",
       "2         3    Hershey's     180    4.0    7.0           3.0\n",
       "3         4        Lindt     120    5.0    8.0           3.0\n",
       "4         5      Cadbury     170    3.0    6.0           3.0\n",
       "5         6    Hershey's     190    4.0    7.0           3.0"
      ]
     },
     "execution_count": 11,
     "metadata": {},
     "output_type": "execute_result"
    }
   ],
   "source": [
    "df['margem_lucro'] = 0\n",
    "\n",
    "df['margem_lucro'] = df['preco'] - df['custo']\n",
    "\n",
    "df"
   ]
  },
  {
   "cell_type": "markdown",
   "metadata": {
    "id": "y0oxC4_o9upa"
   },
   "source": [
    "## 3 - Filtre as vendas para uma marca específica. Escolha a marca Lindt e exiba todas as suas vendas."
   ]
  },
  {
   "cell_type": "code",
   "execution_count": 13,
   "metadata": {
    "id": "ADCSxQeO9y53"
   },
   "outputs": [
    {
     "name": "stdout",
     "output_type": "stream",
     "text": [
      "   id_venda nome_produto  vendas  custo  preco  margem_lucro\n",
      "0         1        Lindt     150    5.0    8.0           3.0\n",
      "3         4        Lindt     120    5.0    8.0           3.0\n"
     ]
    }
   ],
   "source": [
    "vendas_lindt = df[df['nome_produto'] == 'Lindt']\n",
    "\n",
    "print(vendas_lindt)"
   ]
  },
  {
   "cell_type": "markdown",
   "metadata": {
    "id": "truB-RYS-F5m"
   },
   "source": [
    "## 4 - Qual a soma de vendas do produto 'Cadbury' ?"
   ]
  },
  {
   "cell_type": "code",
   "execution_count": 39,
   "metadata": {
    "id": "duaWarNo-WxJ"
   },
   "outputs": [
    {
     "data": {
      "text/plain": [
       "370"
      ]
     },
     "execution_count": 39,
     "metadata": {},
     "output_type": "execute_result"
    }
   ],
   "source": [
    "df\n",
    "vendas_cadbury = df[df['nome_produto'] == 'Cadbury']\n",
    "vendas_cadbury_total = vendas_cadbury['vendas'].sum()\n",
    "vendas_cadbury_total"
   ]
  },
  {
   "cell_type": "markdown",
   "metadata": {
    "id": "rPTU6YXFHQWG"
   },
   "source": [
    "## 5 - (Extra) Ordene o dataset com a soma da coluna de vendas por produto?\n",
    "Dica: Realizar agrupamento por produto realizando a soma da coluna vendas, por fim ordenar pelo novo valor da soma final.\n"
   ]
  },
  {
   "cell_type": "code",
   "execution_count": 35,
   "metadata": {},
   "outputs": [
    {
     "data": {
      "text/html": [
       "<div>\n",
       "<style scoped>\n",
       "    .dataframe tbody tr th:only-of-type {\n",
       "        vertical-align: middle;\n",
       "    }\n",
       "\n",
       "    .dataframe tbody tr th {\n",
       "        vertical-align: top;\n",
       "    }\n",
       "\n",
       "    .dataframe thead th {\n",
       "        text-align: right;\n",
       "    }\n",
       "</style>\n",
       "<table border=\"1\" class=\"dataframe\">\n",
       "  <thead>\n",
       "    <tr style=\"text-align: right;\">\n",
       "      <th></th>\n",
       "      <th>nome_produto</th>\n",
       "      <th>vendas</th>\n",
       "    </tr>\n",
       "  </thead>\n",
       "  <tbody>\n",
       "    <tr>\n",
       "      <th>0</th>\n",
       "      <td>Cadbury</td>\n",
       "      <td>370</td>\n",
       "    </tr>\n",
       "    <tr>\n",
       "      <th>1</th>\n",
       "      <td>Hershey's</td>\n",
       "      <td>370</td>\n",
       "    </tr>\n",
       "    <tr>\n",
       "      <th>2</th>\n",
       "      <td>Lindt</td>\n",
       "      <td>270</td>\n",
       "    </tr>\n",
       "  </tbody>\n",
       "</table>\n",
       "</div>"
      ],
      "text/plain": [
       "  nome_produto  vendas\n",
       "0      Cadbury     370\n",
       "1    Hershey's     370\n",
       "2        Lindt     270"
      ]
     },
     "execution_count": 35,
     "metadata": {},
     "output_type": "execute_result"
    }
   ],
   "source": [
    "vendas_agrupadas = df.groupby('nome_produto')['vendas'].sum().reset_index().sort_values(by='vendas', ascending=False)\n",
    "vendas_agrupadas"
   ]
  },
  {
   "cell_type": "code",
   "execution_count": 37,
   "metadata": {
    "id": "76hKo6LYHa1c"
   },
   "outputs": [
    {
     "name": "stdout",
     "output_type": "stream",
     "text": [
      "  nome_produto  vendas\n",
      "0      Cadbury     370\n",
      "1    Hershey's     370\n",
      "2        Lindt     270\n"
     ]
    }
   ],
   "source": [
    "vendas_agrupadas = df.groupby('nome_produto')['vendas'].sum().reset_index()\n",
    "\n",
    "vendas_agrupadas_ordenadas = vendas_agrupadas.sort_values(by='vendas', ascending=False)\n",
    "\n",
    "print(vendas_agrupadas_ordenadas)"
   ]
  },
  {
   "cell_type": "code",
   "execution_count": null,
   "metadata": {},
   "outputs": [],
   "source": []
  }
 ],
 "metadata": {
  "colab": {
   "provenance": []
  },
  "kernelspec": {
   "display_name": "Python 3 (ipykernel)",
   "language": "python",
   "name": "python3"
  },
  "language_info": {
   "codemirror_mode": {
    "name": "ipython",
    "version": 3
   },
   "file_extension": ".py",
   "mimetype": "text/x-python",
   "name": "python",
   "nbconvert_exporter": "python",
   "pygments_lexer": "ipython3",
   "version": "3.12.3"
  }
 },
 "nbformat": 4,
 "nbformat_minor": 4
}
