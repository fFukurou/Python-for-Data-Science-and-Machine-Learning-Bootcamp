{
 "cells": [
  {
   "cell_type": "code",
   "execution_count": null,
   "metadata": {
    "id": "ifO9n3es6lZi"
   },
   "outputs": [],
   "source": [
    "import pandas as pd"
   ]
  },
  {
   "cell_type": "markdown",
   "metadata": {
    "id": "RglY5TWE8nXS"
   },
   "source": [
    "## 1 - Faça a leitura do Dataset exercicio_1.csv"
   ]
  },
  {
   "cell_type": "code",
   "execution_count": null,
   "metadata": {
    "id": "n-79YaKT6xLg"
   },
   "outputs": [],
   "source": [
    "#Utilize o parâmetro sep=\";\" para leitura do Dataset\n"
   ]
  },
  {
   "cell_type": "markdown",
   "metadata": {
    "id": "QcmanOkC816s"
   },
   "source": [
    "## 2 - Crie uma nova coluna com o nome df[\"margem_lucro\"] com o cálculo: margem_lucro = preco - custo"
   ]
  },
  {
   "cell_type": "code",
   "execution_count": null,
   "metadata": {
    "id": "Sui9bTw89EWU"
   },
   "outputs": [],
   "source": [
    "#Crie a nova coluna no Dataframe\n",
    "\n",
    "#Mostre seu dataset novamente utilizando o .head com a nova coluna\n",
    "\n"
   ]
  },
  {
   "cell_type": "markdown",
   "metadata": {
    "id": "y0oxC4_o9upa"
   },
   "source": [
    "## 3 - Filtre as vendas para uma marca específica. Escolha a marca Lindt e exiba todas as suas vendas."
   ]
  },
  {
   "cell_type": "code",
   "execution_count": null,
   "metadata": {
    "id": "ADCSxQeO9y53"
   },
   "outputs": [],
   "source": []
  },
  {
   "cell_type": "markdown",
   "metadata": {
    "id": "truB-RYS-F5m"
   },
   "source": [
    "## 4 - Qual a soma de vendas do produto 'Cadbury' ?"
   ]
  },
  {
   "cell_type": "code",
   "execution_count": null,
   "metadata": {
    "id": "duaWarNo-WxJ"
   },
   "outputs": [],
   "source": []
  },
  {
   "cell_type": "markdown",
   "metadata": {
    "id": "rPTU6YXFHQWG"
   },
   "source": [
    "## 5 - (Extra) Ordene o dataset com a soma da coluna de vendas por produto?\n",
    "Dica: Realizar agrupamento por produto realizando a soma da coluna vendas, por fim ordenar pelo novo valor da soma final.\n"
   ]
  },
  {
   "cell_type": "code",
   "execution_count": null,
   "metadata": {
    "id": "76hKo6LYHa1c"
   },
   "outputs": [],
   "source": []
  }
 ],
 "metadata": {
  "colab": {
   "provenance": []
  },
  "kernelspec": {
   "display_name": "Python 3 (ipykernel)",
   "language": "python",
   "name": "python3"
  },
  "language_info": {
   "codemirror_mode": {
    "name": "ipython",
    "version": 3
   },
   "file_extension": ".py",
   "mimetype": "text/x-python",
   "name": "python",
   "nbconvert_exporter": "python",
   "pygments_lexer": "ipython3",
   "version": "3.12.3"
  }
 },
 "nbformat": 4,
 "nbformat_minor": 4
}
