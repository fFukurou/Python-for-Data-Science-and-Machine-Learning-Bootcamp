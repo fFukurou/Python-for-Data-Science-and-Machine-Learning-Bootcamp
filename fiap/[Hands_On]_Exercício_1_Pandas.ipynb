{
 "cells": [
  {
   "cell_type": "code",
   "execution_count": 5,
   "metadata": {
    "id": "ifO9n3es6lZi"
   },
   "outputs": [],
   "source": [
    "import pandas as pd"
   ]
  },
  {
   "cell_type": "markdown",
   "metadata": {
    "id": "RglY5TWE8nXS"
   },
   "source": [
    "## 1 - Faça a leitura do Dataset exercicio_1.csv"
   ]
  },
  {
   "cell_type": "code",
   "execution_count": 11,
   "metadata": {
    "id": "n-79YaKT6xLg"
   },
   "outputs": [],
   "source": [
    "#Utilize o parâmetro sep=\";\" para leitura do Dataset\n",
    "df = pd.read_csv('./exercicio_1.csv', sep=';')\n"
   ]
  },
  {
   "cell_type": "markdown",
   "metadata": {
    "id": "QcmanOkC816s"
   },
   "source": [
    "## 2 - Crie uma nova coluna com o nome df[\"margem_lucro\"] com o cálculo: margem_lucro = preco - custo"
   ]
  },
  {
   "cell_type": "code",
   "execution_count": 12,
   "metadata": {
    "id": "Sui9bTw89EWU"
   },
   "outputs": [
    {
     "name": "stdout",
     "output_type": "stream",
     "text": [
      "   id_venda nome_produto  vendas  custo  preco  nova_coluna\n",
      "0         1        Lindt     150    5.0    8.0            0\n",
      "1         2      Cadbury     200    3.0    6.0            0\n",
      "2         3    Hershey's     180    4.0    7.0            0\n",
      "3         4        Lindt     120    5.0    8.0            0\n",
      "4         5      Cadbury     170    3.0    6.0            0\n"
     ]
    }
   ],
   "source": [
    "df = pd.read_csv('exercicio_1.csv', sep=';')\n",
    "\n",
    "# Adicionando uma nova coluna chamada 'nova_coluna' com valores padrão (por exemplo, 0)\n",
    "df['nova_coluna'] = 0\n",
    "\n",
    "# Exibindo as primeiras linhas do DataFrame com a nova coluna\n",
    "print(df.head())\n",
    "\n"
   ]
  },
  {
   "cell_type": "markdown",
   "metadata": {
    "id": "y0oxC4_o9upa"
   },
   "source": [
    "## 3 - Filtre as vendas para uma marca específica. Escolha a marca Lindt e exiba todas as suas vendas."
   ]
  },
  {
   "cell_type": "code",
   "execution_count": 14,
   "metadata": {
    "id": "ADCSxQeO9y53"
   },
   "outputs": [
    {
     "name": "stdout",
     "output_type": "stream",
     "text": [
      "   id_venda nome_produto  vendas  custo  preco\n",
      "0         1        Lindt     150    5.0    8.0\n",
      "1         2      Cadbury     200    3.0    6.0\n",
      "2         3    Hershey's     180    4.0    7.0\n",
      "3         4        Lindt     120    5.0    8.0\n",
      "4         5      Cadbury     170    3.0    6.0\n",
      "   id_venda nome_produto  vendas  custo  preco\n",
      "0         1        Lindt     150    5.0    8.0\n",
      "3         4        Lindt     120    5.0    8.0\n"
     ]
    }
   ],
   "source": [
    "import pandas as pd\n",
    "\n",
    "# Leitura do arquivo CSV\n",
    "df = pd.read_csv('exercicio_1.csv', sep=';')\n",
    "\n",
    "# Exibir as primeiras linhas para verificar as colunas\n",
    "print(df.head())\n",
    "\n",
    "# Supondo que a coluna que contém a marca seja chamada 'marca'\n",
    "# Filtrar as vendas para a marca 'Lindt'\n",
    "df_lindt = df[df['nome_produto'] == 'Lindt']\n",
    "\n",
    "# Exibir todas as vendas para a marca 'Lindt'\n",
    "print(df_lindt)\n"
   ]
  },
  {
   "cell_type": "markdown",
   "metadata": {
    "id": "truB-RYS-F5m"
   },
   "source": [
    "## 4 - Qual a soma de vendas do produto 'Cadbury' ?"
   ]
  },
  {
   "cell_type": "code",
   "execution_count": 15,
   "metadata": {
    "id": "duaWarNo-WxJ"
   },
   "outputs": [
    {
     "name": "stdout",
     "output_type": "stream",
     "text": [
      "   id_venda nome_produto  vendas  custo  preco\n",
      "0         1        Lindt     150    5.0    8.0\n",
      "1         2      Cadbury     200    3.0    6.0\n",
      "2         3    Hershey's     180    4.0    7.0\n",
      "3         4        Lindt     120    5.0    8.0\n",
      "4         5      Cadbury     170    3.0    6.0\n",
      "Soma das vendas do produto 'Cadbury': 370\n"
     ]
    }
   ],
   "source": [
    "df = pd.read_csv('exercicio_1.csv', sep=';')\n",
    "print(df.head())\n",
    "df_cadbury = df[df['nome_produto'] == 'Cadbury']\n",
    "soma_vendas_cadbury = df_cadbury['vendas'].sum()\n",
    "print(f\"Soma das vendas do produto 'Cadbury': {soma_vendas_cadbury}\")"
   ]
  },
  {
   "cell_type": "markdown",
   "metadata": {
    "id": "rPTU6YXFHQWG"
   },
   "source": [
    "## 5 - (Extra) Ordene o dataset com a soma da coluna de vendas por produto?\n",
    "Dica: Realizar agrupamento por produto realizando a soma da coluna vendas, por fim ordenar pelo novo valor da soma final.\n"
   ]
  },
  {
   "cell_type": "code",
   "execution_count": 17,
   "metadata": {
    "id": "76hKo6LYHa1c"
   },
   "outputs": [
    {
     "name": "stdout",
     "output_type": "stream",
     "text": [
      "   id_venda nome_produto  vendas  custo  preco\n",
      "0         1        Lindt     150    5.0    8.0\n",
      "1         2      Cadbury     200    3.0    6.0\n",
      "2         3    Hershey's     180    4.0    7.0\n",
      "3         4        Lindt     120    5.0    8.0\n",
      "4         5      Cadbury     170    3.0    6.0\n",
      "  nome_produto  vendas\n",
      "0      Cadbury     370\n",
      "1    Hershey's     370\n",
      "2        Lindt     270\n"
     ]
    }
   ],
   "source": [
    "# Leitura do arquivo CSV\n",
    "df = pd.read_csv('exercicio_1.csv', sep=';')\n",
    "\n",
    "# Exibir as primeiras linhas para verificar as colunas\n",
    "print(df.head())\n",
    "\n",
    "# Agrupar por produto e calcular a soma das vendas\n",
    "df_agrupado = df.groupby('nome_produto')['vendas'].sum().reset_index()\n",
    "\n",
    "# Ordenar pelo valor da soma das vendas em ordem decrescente\n",
    "df_ordenado = df_agrupado.sort_values(by='vendas', ascending=False)\n",
    "\n",
    "# Exibir o DataFrame ordenado\n",
    "print(df_ordenado)"
   ]
  }
 ],
 "metadata": {
  "colab": {
   "provenance": []
  },
  "kernelspec": {
   "display_name": "Python 3 (ipykernel)",
   "language": "python",
   "name": "python3"
  },
  "language_info": {
   "codemirror_mode": {
    "name": "ipython",
    "version": 3
   },
   "file_extension": ".py",
   "mimetype": "text/x-python",
   "name": "python",
   "nbconvert_exporter": "python",
   "pygments_lexer": "ipython3",
   "version": "3.12.3"
  }
 },
 "nbformat": 4,
 "nbformat_minor": 4
}
