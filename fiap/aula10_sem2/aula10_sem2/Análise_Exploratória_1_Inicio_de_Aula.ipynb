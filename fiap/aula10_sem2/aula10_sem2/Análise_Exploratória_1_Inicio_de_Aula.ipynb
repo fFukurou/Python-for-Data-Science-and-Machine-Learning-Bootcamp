{
 "cells": [
  {
   "cell_type": "markdown",
   "metadata": {
    "id": "DBQS0hO_tQAM"
   },
   "source": [
    "## Import das bibliotecas"
   ]
  },
  {
   "cell_type": "code",
   "execution_count": 3,
   "metadata": {
    "id": "M0jyzcGgRCAE"
   },
   "outputs": [],
   "source": [
    "#import do pandas\n",
    "import pandas as pd"
   ]
  },
  {
   "cell_type": "markdown",
   "metadata": {
    "id": "xCymKGEmuJb0"
   },
   "source": [
    "## Crie um novo dataframe com .csv orders."
   ]
  },
  {
   "cell_type": "code",
   "execution_count": 5,
   "metadata": {
    "id": "TkdOrP3CuFME"
   },
   "outputs": [
    {
     "data": {
      "text/html": [
       "<div>\n",
       "<style scoped>\n",
       "    .dataframe tbody tr th:only-of-type {\n",
       "        vertical-align: middle;\n",
       "    }\n",
       "\n",
       "    .dataframe tbody tr th {\n",
       "        vertical-align: top;\n",
       "    }\n",
       "\n",
       "    .dataframe thead th {\n",
       "        text-align: right;\n",
       "    }\n",
       "</style>\n",
       "<table border=\"1\" class=\"dataframe\">\n",
       "  <thead>\n",
       "    <tr style=\"text-align: right;\">\n",
       "      <th></th>\n",
       "      <th>order_id</th>\n",
       "      <th>store_id</th>\n",
       "      <th>channel_id</th>\n",
       "      <th>payment_order_id</th>\n",
       "      <th>delivery_order_id</th>\n",
       "      <th>order_status</th>\n",
       "      <th>order_amount</th>\n",
       "      <th>order_delivery_fee</th>\n",
       "      <th>order_delivery_cost</th>\n",
       "      <th>order_created_hour</th>\n",
       "      <th>...</th>\n",
       "      <th>order_moment_delivering</th>\n",
       "      <th>order_moment_delivered</th>\n",
       "      <th>order_moment_finished</th>\n",
       "      <th>order_metric_collected_time</th>\n",
       "      <th>order_metric_paused_time</th>\n",
       "      <th>order_metric_production_time</th>\n",
       "      <th>order_metric_walking_time</th>\n",
       "      <th>order_metric_expediton_speed_time</th>\n",
       "      <th>order_metric_transit_time</th>\n",
       "      <th>order_metric_cycle_time</th>\n",
       "    </tr>\n",
       "  </thead>\n",
       "  <tbody>\n",
       "    <tr>\n",
       "      <th>0</th>\n",
       "      <td>68405119</td>\n",
       "      <td>3512</td>\n",
       "      <td>5</td>\n",
       "      <td>68405119</td>\n",
       "      <td>68405119</td>\n",
       "      <td>CANCELED</td>\n",
       "      <td>62.7</td>\n",
       "      <td>0.0</td>\n",
       "      <td>NaN</td>\n",
       "      <td>0</td>\n",
       "      <td>...</td>\n",
       "      <td>NaN</td>\n",
       "      <td>NaN</td>\n",
       "      <td>NaN</td>\n",
       "      <td>NaN</td>\n",
       "      <td>NaN</td>\n",
       "      <td>NaN</td>\n",
       "      <td>NaN</td>\n",
       "      <td>NaN</td>\n",
       "      <td>NaN</td>\n",
       "      <td>NaN</td>\n",
       "    </tr>\n",
       "    <tr>\n",
       "      <th>1</th>\n",
       "      <td>68405123</td>\n",
       "      <td>3512</td>\n",
       "      <td>5</td>\n",
       "      <td>68405123</td>\n",
       "      <td>68405123</td>\n",
       "      <td>CANCELED</td>\n",
       "      <td>62.7</td>\n",
       "      <td>0.0</td>\n",
       "      <td>NaN</td>\n",
       "      <td>0</td>\n",
       "      <td>...</td>\n",
       "      <td>NaN</td>\n",
       "      <td>NaN</td>\n",
       "      <td>NaN</td>\n",
       "      <td>NaN</td>\n",
       "      <td>NaN</td>\n",
       "      <td>NaN</td>\n",
       "      <td>NaN</td>\n",
       "      <td>NaN</td>\n",
       "      <td>NaN</td>\n",
       "      <td>NaN</td>\n",
       "    </tr>\n",
       "    <tr>\n",
       "      <th>2</th>\n",
       "      <td>68405206</td>\n",
       "      <td>3512</td>\n",
       "      <td>5</td>\n",
       "      <td>68405206</td>\n",
       "      <td>68405206</td>\n",
       "      <td>CANCELED</td>\n",
       "      <td>115.5</td>\n",
       "      <td>0.0</td>\n",
       "      <td>NaN</td>\n",
       "      <td>0</td>\n",
       "      <td>...</td>\n",
       "      <td>NaN</td>\n",
       "      <td>NaN</td>\n",
       "      <td>NaN</td>\n",
       "      <td>NaN</td>\n",
       "      <td>NaN</td>\n",
       "      <td>NaN</td>\n",
       "      <td>NaN</td>\n",
       "      <td>NaN</td>\n",
       "      <td>NaN</td>\n",
       "      <td>NaN</td>\n",
       "    </tr>\n",
       "    <tr>\n",
       "      <th>3</th>\n",
       "      <td>68405465</td>\n",
       "      <td>3401</td>\n",
       "      <td>5</td>\n",
       "      <td>68405465</td>\n",
       "      <td>68405465</td>\n",
       "      <td>CANCELED</td>\n",
       "      <td>55.9</td>\n",
       "      <td>0.0</td>\n",
       "      <td>NaN</td>\n",
       "      <td>0</td>\n",
       "      <td>...</td>\n",
       "      <td>NaN</td>\n",
       "      <td>NaN</td>\n",
       "      <td>NaN</td>\n",
       "      <td>NaN</td>\n",
       "      <td>NaN</td>\n",
       "      <td>NaN</td>\n",
       "      <td>NaN</td>\n",
       "      <td>NaN</td>\n",
       "      <td>NaN</td>\n",
       "      <td>NaN</td>\n",
       "    </tr>\n",
       "    <tr>\n",
       "      <th>4</th>\n",
       "      <td>68406064</td>\n",
       "      <td>3401</td>\n",
       "      <td>5</td>\n",
       "      <td>68406064</td>\n",
       "      <td>68406064</td>\n",
       "      <td>CANCELED</td>\n",
       "      <td>37.9</td>\n",
       "      <td>0.0</td>\n",
       "      <td>NaN</td>\n",
       "      <td>0</td>\n",
       "      <td>...</td>\n",
       "      <td>NaN</td>\n",
       "      <td>NaN</td>\n",
       "      <td>NaN</td>\n",
       "      <td>NaN</td>\n",
       "      <td>NaN</td>\n",
       "      <td>NaN</td>\n",
       "      <td>NaN</td>\n",
       "      <td>NaN</td>\n",
       "      <td>NaN</td>\n",
       "      <td>NaN</td>\n",
       "    </tr>\n",
       "  </tbody>\n",
       "</table>\n",
       "<p>5 rows × 29 columns</p>\n",
       "</div>"
      ],
      "text/plain": [
       "   order_id  store_id  channel_id  payment_order_id  delivery_order_id  \\\n",
       "0  68405119      3512           5          68405119           68405119   \n",
       "1  68405123      3512           5          68405123           68405123   \n",
       "2  68405206      3512           5          68405206           68405206   \n",
       "3  68405465      3401           5          68405465           68405465   \n",
       "4  68406064      3401           5          68406064           68406064   \n",
       "\n",
       "  order_status  order_amount  order_delivery_fee  order_delivery_cost  \\\n",
       "0     CANCELED          62.7                 0.0                  NaN   \n",
       "1     CANCELED          62.7                 0.0                  NaN   \n",
       "2     CANCELED         115.5                 0.0                  NaN   \n",
       "3     CANCELED          55.9                 0.0                  NaN   \n",
       "4     CANCELED          37.9                 0.0                  NaN   \n",
       "\n",
       "   order_created_hour  ...  order_moment_delivering  order_moment_delivered  \\\n",
       "0                   0  ...                      NaN                     NaN   \n",
       "1                   0  ...                      NaN                     NaN   \n",
       "2                   0  ...                      NaN                     NaN   \n",
       "3                   0  ...                      NaN                     NaN   \n",
       "4                   0  ...                      NaN                     NaN   \n",
       "\n",
       "   order_moment_finished  order_metric_collected_time  \\\n",
       "0                    NaN                          NaN   \n",
       "1                    NaN                          NaN   \n",
       "2                    NaN                          NaN   \n",
       "3                    NaN                          NaN   \n",
       "4                    NaN                          NaN   \n",
       "\n",
       "  order_metric_paused_time order_metric_production_time  \\\n",
       "0                      NaN                          NaN   \n",
       "1                      NaN                          NaN   \n",
       "2                      NaN                          NaN   \n",
       "3                      NaN                          NaN   \n",
       "4                      NaN                          NaN   \n",
       "\n",
       "  order_metric_walking_time order_metric_expediton_speed_time  \\\n",
       "0                       NaN                               NaN   \n",
       "1                       NaN                               NaN   \n",
       "2                       NaN                               NaN   \n",
       "3                       NaN                               NaN   \n",
       "4                       NaN                               NaN   \n",
       "\n",
       "  order_metric_transit_time order_metric_cycle_time  \n",
       "0                       NaN                     NaN  \n",
       "1                       NaN                     NaN  \n",
       "2                       NaN                     NaN  \n",
       "3                       NaN                     NaN  \n",
       "4                       NaN                     NaN  \n",
       "\n",
       "[5 rows x 29 columns]"
      ]
     },
     "execution_count": 5,
     "metadata": {},
     "output_type": "execute_result"
    }
   ],
   "source": [
    "#criar novo dataframe a partir de um .csv\n",
    "df = pd.read_csv('orders.csv')\n",
    "df.head()"
   ]
  },
  {
   "cell_type": "markdown",
   "metadata": {
    "id": "AWNPm_-mtVeb"
   },
   "source": [
    "## Quantos registros temos na nossa base?"
   ]
  },
  {
   "cell_type": "code",
   "execution_count": 7,
   "metadata": {
    "id": "MUlX03dlwMnK"
   },
   "outputs": [
    {
     "data": {
      "text/plain": [
       "368999"
      ]
     },
     "execution_count": 7,
     "metadata": {},
     "output_type": "execute_result"
    }
   ],
   "source": [
    "#quantidade de registros no dataframe\n",
    "len(df)"
   ]
  },
  {
   "cell_type": "markdown",
   "metadata": {
    "id": "HdzlPIgRw2gF"
   },
   "source": [
    "## Há dados faltantes na nossa base?"
   ]
  },
  {
   "cell_type": "code",
   "execution_count": 9,
   "metadata": {
    "id": "UUryFKU-v3Qq"
   },
   "outputs": [
    {
     "name": "stdout",
     "output_type": "stream",
     "text": [
      "order_id                                  0\n",
      "store_id                                  0\n",
      "channel_id                                0\n",
      "payment_order_id                          0\n",
      "delivery_order_id                         0\n",
      "order_status                              0\n",
      "order_amount                              0\n",
      "order_delivery_fee                        0\n",
      "order_delivery_cost                    7205\n",
      "order_created_hour                        0\n",
      "order_created_minute                      0\n",
      "order_created_day                         0\n",
      "order_created_month                       0\n",
      "order_created_year                        0\n",
      "order_moment_created                      0\n",
      "order_moment_accepted                  9461\n",
      "order_moment_ready                    25106\n",
      "order_moment_collected                42894\n",
      "order_moment_in_expedition            67429\n",
      "order_moment_delivering               25316\n",
      "order_moment_delivered               349398\n",
      "order_moment_finished                 15599\n",
      "order_metric_collected_time           51492\n",
      "order_metric_paused_time              71405\n",
      "order_metric_production_time          25107\n",
      "order_metric_walking_time             74056\n",
      "order_metric_expediton_speed_time     34582\n",
      "order_metric_transit_time             25857\n",
      "order_metric_cycle_time               15619\n",
      "dtype: int64\n"
     ]
    }
   ],
   "source": [
    "#informações sobre o dataframe\n",
    "dados_faltantes = df.isnull().sum()\n",
    "print(dados_faltantes)"
   ]
  },
  {
   "cell_type": "markdown",
   "metadata": {
    "id": "DDNQ3lVGyErP"
   },
   "source": [
    "## Desde quando temos esse histórico?"
   ]
  },
  {
   "cell_type": "code",
   "execution_count": 69,
   "metadata": {
    "id": "wHw8ckEEyI9-"
   },
   "outputs": [
    {
     "name": "stdout",
     "output_type": "stream",
     "text": [
      "object\n"
     ]
    }
   ],
   "source": [
    "#type da coluna de data\n",
    "print(df['order_moment_created'].dtype)"
   ]
  },
  {
   "cell_type": "code",
   "execution_count": 73,
   "metadata": {
    "id": "ERfYiQyFz97Z"
   },
   "outputs": [
    {
     "data": {
      "text/plain": [
       "'1/1/2021 10:00:35 PM'"
      ]
     },
     "execution_count": 73,
     "metadata": {},
     "output_type": "execute_result"
    }
   ],
   "source": [
    "#min da coluna de data\n",
    "min_data = df['order_moment_created'].min()\n",
    "min_data"
   ]
  },
  {
   "cell_type": "code",
   "execution_count": 75,
   "metadata": {
    "id": "2SiBPXhT0BHG"
   },
   "outputs": [
    {
     "data": {
      "text/plain": [
       "'4/9/2021 9:59:54 PM'"
      ]
     },
     "execution_count": 75,
     "metadata": {},
     "output_type": "execute_result"
    }
   ],
   "source": [
    "#max da coluna de data\n",
    "min_data = df['order_moment_created'].max()\n",
    "min_data"
   ]
  },
  {
   "cell_type": "code",
   "execution_count": 81,
   "metadata": {
    "id": "WYBZAYij0z34"
   },
   "outputs": [
    {
     "data": {
      "text/plain": [
       "0        2021-01-01 00:01:36\n",
       "1        2021-01-01 00:04:26\n",
       "2        2021-01-01 00:13:07\n",
       "3        2021-01-01 00:19:15\n",
       "4        2021-01-01 00:26:25\n",
       "                 ...        \n",
       "368994   2021-04-30 23:59:32\n",
       "368995   2021-04-30 23:59:39\n",
       "368996   2021-04-30 23:59:41\n",
       "368997   2021-04-30 23:59:42\n",
       "368998   2021-04-30 23:59:48\n",
       "Name: order_moment_created, Length: 368999, dtype: datetime64[ns]"
      ]
     },
     "execution_count": 81,
     "metadata": {},
     "output_type": "execute_result"
    }
   ],
   "source": [
    "#cast da coluna de data para o formato correto\n",
    "df['order_moment_created'] = pd.to_datetime(df['order_moment_created'])\n",
    "df['order_moment_created']"
   ]
  },
  {
   "cell_type": "code",
   "execution_count": 83,
   "metadata": {
    "id": "oKP1HYEO1c5L"
   },
   "outputs": [
    {
     "data": {
      "text/plain": [
       "Timestamp('2021-01-01 00:01:36')"
      ]
     },
     "execution_count": 83,
     "metadata": {},
     "output_type": "execute_result"
    }
   ],
   "source": [
    "#min da coluna de data\n",
    "min_data = df['order_moment_created'].min()\n",
    "min_data"
   ]
  },
  {
   "cell_type": "code",
   "execution_count": 85,
   "metadata": {
    "id": "g-sfEr9H1gXr"
   },
   "outputs": [
    {
     "data": {
      "text/plain": [
       "Timestamp('2021-04-30 23:59:48')"
      ]
     },
     "execution_count": 85,
     "metadata": {},
     "output_type": "execute_result"
    }
   ],
   "source": [
    "#max da coluna de data\n",
    "min_data = df['order_moment_created'].max()\n",
    "min_data"
   ]
  },
  {
   "cell_type": "markdown",
   "metadata": {
    "id": "eG9m9yXB2AV-"
   },
   "source": [
    "## Quantas lojas atendemos na nossa base?\n"
   ]
  },
  {
   "cell_type": "code",
   "execution_count": 87,
   "metadata": {
    "id": "Xo-nhYjK2CQX"
   },
   "outputs": [
    {
     "name": "stdout",
     "output_type": "stream",
     "text": [
      "Número de lojas únicas: 951\n"
     ]
    }
   ],
   "source": [
    "#contagem das lojas únicas\n",
    "unique_stores = df['store_id'].nunique()\n",
    "print(f\"Número de lojas únicas: {unique_stores}\")"
   ]
  },
  {
   "cell_type": "markdown",
   "metadata": {
    "id": "TkV9uG1k3ELu"
   },
   "source": [
    "## Quais são as principais lojas em quantidade de atendimento?\n"
   ]
  },
  {
   "cell_type": "code",
   "execution_count": 89,
   "metadata": {
    "id": "1btsWJAx3LbR"
   },
   "outputs": [
    {
     "name": "stdout",
     "output_type": "stream",
     "text": [
      "store_id\n",
      "53      14004\n",
      "676     12327\n",
      "707      9271\n",
      "149      8110\n",
      "274      7920\n",
      "        ...  \n",
      "2545        1\n",
      "2043        1\n",
      "1875        1\n",
      "1899        1\n",
      "3394        1\n",
      "Length: 951, dtype: int64\n"
     ]
    }
   ],
   "source": [
    "#ranking das maiores lojas por pedidos\n",
    "\n",
    "store_orders_count = df.groupby('store_id').size()\n",
    "sorted_stores = store_orders_count.sort_values(ascending=False)\n",
    "\n",
    "print(sorted_stores)\n"
   ]
  },
  {
   "cell_type": "code",
   "execution_count": 93,
   "metadata": {
    "id": "qgYkkMIE4GNN"
   },
   "outputs": [
    {
     "name": "stdout",
     "output_type": "stream",
     "text": [
      "     store_id  order_count  total_amount\n",
      "0           3           13        623.60\n",
      "1           6         3739     192522.20\n",
      "2           8         2472     103441.77\n",
      "3          53        14004     940857.74\n",
      "4          54           89       6887.60\n",
      "..        ...          ...           ...\n",
      "946      4669            3        892.76\n",
      "947      4671            1        269.90\n",
      "948      4675            3        629.60\n",
      "949      4676            1         64.90\n",
      "950      4679           89       4210.47\n",
      "\n",
      "[951 rows x 3 columns]\n"
     ]
    }
   ],
   "source": [
    "#group by com contagem agregada\n",
    "\n",
    "orders_count_per_store = df.groupby('store_id').size().reset_index(name='order_count')\n",
    "orders_sum_per_store = df.groupby('store_id')['order_amount'].sum().reset_index(name='total_amount')\n",
    "\n",
    "result = pd.merge(orders_count_per_store, orders_sum_per_store, on='store_id')\n",
    "\n",
    "print(result)"
   ]
  },
  {
   "cell_type": "markdown",
   "metadata": {
    "id": "YojnJMjY6LBV"
   },
   "source": [
    "## Qual a distribuição entre os status?"
   ]
  },
  {
   "cell_type": "code",
   "execution_count": 95,
   "metadata": {
    "id": "MQtNhiYg6O1X"
   },
   "outputs": [
    {
     "name": "stdout",
     "output_type": "stream",
     "text": [
      "  order_status   count\n",
      "0     CANCELED   16979\n",
      "1     FINISHED  352020\n"
     ]
    }
   ],
   "source": [
    "status_distribution = df.groupby('order_status').size().reset_index(name='count')\n",
    "\n",
    "print(status_distribution)\n"
   ]
  },
  {
   "cell_type": "code",
   "execution_count": 97,
   "metadata": {
    "id": "Xv1DTB6j7XmQ"
   },
   "outputs": [
    {
     "name": "stdout",
     "output_type": "stream",
     "text": [
      "  order_status  percentage\n",
      "0     FINISHED   95.398633\n",
      "1     CANCELED    4.601367\n"
     ]
    }
   ],
   "source": [
    "#distribuição entre status por porcentagem\n",
    "total_pedidos = len(df)\n",
    "\n",
    "status_count = df['order_status'].value_counts()\n",
    "\n",
    "status_percentage = (status_count / total_pedidos) * 100\n",
    "\n",
    "status_distribution_percentage = status_percentage.reset_index()\n",
    "status_distribution_percentage.columns = ['order_status', 'percentage']\n",
    "\n",
    "print(status_distribution_percentage)"
   ]
  },
  {
   "cell_type": "markdown",
   "metadata": {
    "id": "wdZNzCRp-A8w"
   },
   "source": [
    "## Qual o nome das lojas da tabela orders?"
   ]
  },
  {
   "cell_type": "code",
   "execution_count": 109,
   "metadata": {
    "id": "Lw7DNEcf-kfG"
   },
   "outputs": [],
   "source": [
    "#criação de um novo dataframe a partir de stores\n",
    "df = pd.read_csv('stores.csv', encoding=\"iso-8859-1\")"
   ]
  },
  {
   "cell_type": "code",
   "execution_count": 111,
   "metadata": {
    "id": "uyIoIogB_QLM"
   },
   "outputs": [
    {
     "data": {
      "text/html": [
       "<div>\n",
       "<style scoped>\n",
       "    .dataframe tbody tr th:only-of-type {\n",
       "        vertical-align: middle;\n",
       "    }\n",
       "\n",
       "    .dataframe tbody tr th {\n",
       "        vertical-align: top;\n",
       "    }\n",
       "\n",
       "    .dataframe thead th {\n",
       "        text-align: right;\n",
       "    }\n",
       "</style>\n",
       "<table border=\"1\" class=\"dataframe\">\n",
       "  <thead>\n",
       "    <tr style=\"text-align: right;\">\n",
       "      <th></th>\n",
       "      <th>store_id</th>\n",
       "      <th>hub_id</th>\n",
       "      <th>store_name</th>\n",
       "      <th>store_segment</th>\n",
       "      <th>store_plan_price</th>\n",
       "      <th>store_latitude</th>\n",
       "      <th>store_longitude</th>\n",
       "    </tr>\n",
       "  </thead>\n",
       "  <tbody>\n",
       "    <tr>\n",
       "      <th>0</th>\n",
       "      <td>3</td>\n",
       "      <td>2</td>\n",
       "      <td>CUMIURI</td>\n",
       "      <td>FOOD</td>\n",
       "      <td>0.0</td>\n",
       "      <td>NaN</td>\n",
       "      <td>NaN</td>\n",
       "    </tr>\n",
       "    <tr>\n",
       "      <th>1</th>\n",
       "      <td>6</td>\n",
       "      <td>3</td>\n",
       "      <td>PIMGUCIS DA VIVA</td>\n",
       "      <td>FOOD</td>\n",
       "      <td>0.0</td>\n",
       "      <td>-30.037415</td>\n",
       "      <td>-51.203520</td>\n",
       "    </tr>\n",
       "    <tr>\n",
       "      <th>2</th>\n",
       "      <td>8</td>\n",
       "      <td>3</td>\n",
       "      <td>RASMUR S</td>\n",
       "      <td>FOOD</td>\n",
       "      <td>0.0</td>\n",
       "      <td>-30.037415</td>\n",
       "      <td>-51.203520</td>\n",
       "    </tr>\n",
       "    <tr>\n",
       "      <th>3</th>\n",
       "      <td>53</td>\n",
       "      <td>8</td>\n",
       "      <td>PAPA SUCIS</td>\n",
       "      <td>FOOD</td>\n",
       "      <td>0.0</td>\n",
       "      <td>-22.921475</td>\n",
       "      <td>-43.234822</td>\n",
       "    </tr>\n",
       "    <tr>\n",
       "      <th>4</th>\n",
       "      <td>54</td>\n",
       "      <td>8</td>\n",
       "      <td>VUZPI PAZZIS</td>\n",
       "      <td>FOOD</td>\n",
       "      <td>0.0</td>\n",
       "      <td>-22.921475</td>\n",
       "      <td>-43.234822</td>\n",
       "    </tr>\n",
       "  </tbody>\n",
       "</table>\n",
       "</div>"
      ],
      "text/plain": [
       "   store_id  hub_id         store_name store_segment  store_plan_price  \\\n",
       "0         3       2            CUMIURI          FOOD               0.0   \n",
       "1         6       3  PIMGUCIS DA VIVA           FOOD               0.0   \n",
       "2         8       3          RASMUR S           FOOD               0.0   \n",
       "3        53       8        PAPA SUCIS           FOOD               0.0   \n",
       "4        54       8      VUZPI PAZZIS           FOOD               0.0   \n",
       "\n",
       "   store_latitude  store_longitude  \n",
       "0             NaN              NaN  \n",
       "1      -30.037415       -51.203520  \n",
       "2      -30.037415       -51.203520  \n",
       "3      -22.921475       -43.234822  \n",
       "4      -22.921475       -43.234822  "
      ]
     },
     "execution_count": 111,
     "metadata": {},
     "output_type": "execute_result"
    }
   ],
   "source": [
    "#informações sobre o dataframe\n",
    "df.head()"
   ]
  },
  {
   "cell_type": "code",
   "execution_count": 123,
   "metadata": {
    "id": "MF4nYKtsAFTc"
   },
   "outputs": [
    {
     "data": {
      "text/html": [
       "<div>\n",
       "<style scoped>\n",
       "    .dataframe tbody tr th:only-of-type {\n",
       "        vertical-align: middle;\n",
       "    }\n",
       "\n",
       "    .dataframe tbody tr th {\n",
       "        vertical-align: top;\n",
       "    }\n",
       "\n",
       "    .dataframe thead th {\n",
       "        text-align: right;\n",
       "    }\n",
       "</style>\n",
       "<table border=\"1\" class=\"dataframe\">\n",
       "  <thead>\n",
       "    <tr style=\"text-align: right;\">\n",
       "      <th></th>\n",
       "      <th>store_id</th>\n",
       "      <th>store_name</th>\n",
       "    </tr>\n",
       "  </thead>\n",
       "  <tbody>\n",
       "    <tr>\n",
       "      <th>0</th>\n",
       "      <td>3</td>\n",
       "      <td>CUMIURI</td>\n",
       "    </tr>\n",
       "    <tr>\n",
       "      <th>1</th>\n",
       "      <td>6</td>\n",
       "      <td>PIMGUCIS DA VIVA</td>\n",
       "    </tr>\n",
       "    <tr>\n",
       "      <th>2</th>\n",
       "      <td>8</td>\n",
       "      <td>RASMUR S</td>\n",
       "    </tr>\n",
       "    <tr>\n",
       "      <th>3</th>\n",
       "      <td>53</td>\n",
       "      <td>PAPA SUCIS</td>\n",
       "    </tr>\n",
       "    <tr>\n",
       "      <th>4</th>\n",
       "      <td>54</td>\n",
       "      <td>VUZPI PAZZIS</td>\n",
       "    </tr>\n",
       "    <tr>\n",
       "      <th>...</th>\n",
       "      <td>...</td>\n",
       "      <td>...</td>\n",
       "    </tr>\n",
       "    <tr>\n",
       "      <th>946</th>\n",
       "      <td>4669</td>\n",
       "      <td>CIRUMOI</td>\n",
       "    </tr>\n",
       "    <tr>\n",
       "      <th>947</th>\n",
       "      <td>4671</td>\n",
       "      <td>CIRUMOI</td>\n",
       "    </tr>\n",
       "    <tr>\n",
       "      <th>948</th>\n",
       "      <td>4675</td>\n",
       "      <td>SIMUI LIMOI</td>\n",
       "    </tr>\n",
       "    <tr>\n",
       "      <th>949</th>\n",
       "      <td>4676</td>\n",
       "      <td>PAMACIS</td>\n",
       "    </tr>\n",
       "    <tr>\n",
       "      <th>950</th>\n",
       "      <td>4679</td>\n",
       "      <td>PIGUE PIPACO</td>\n",
       "    </tr>\n",
       "  </tbody>\n",
       "</table>\n",
       "<p>951 rows × 2 columns</p>\n",
       "</div>"
      ],
      "text/plain": [
       "     store_id         store_name\n",
       "0           3            CUMIURI\n",
       "1           6  PIMGUCIS DA VIVA \n",
       "2           8          RASMUR S \n",
       "3          53        PAPA SUCIS \n",
       "4          54      VUZPI PAZZIS \n",
       "..        ...                ...\n",
       "946      4669           CIRUMOI \n",
       "947      4671           CIRUMOI \n",
       "948      4675       SIMUI LIMOI \n",
       "949      4676           PAMACIS \n",
       "950      4679      PIGUE PIPACO \n",
       "\n",
       "[951 rows x 2 columns]"
      ]
     },
     "execution_count": 123,
     "metadata": {},
     "output_type": "execute_result"
    }
   ],
   "source": [
    "stores_df = df[['store_id', 'store_name']]\n",
    "\n",
    "stores_df"
   ]
  },
  {
   "cell_type": "code",
   "execution_count": 129,
   "metadata": {
    "id": "BAlFXTfMBznp"
   },
   "outputs": [
    {
     "name": "stdout",
     "output_type": "stream",
     "text": [
      "   order_id  store_id  channel_id  payment_order_id  delivery_order_id  \\\n",
      "0  68405119      3512           5          68405119           68405119   \n",
      "1  68405123      3512           5          68405123           68405123   \n",
      "2  68405206      3512           5          68405206           68405206   \n",
      "3  68405465      3401           5          68405465           68405465   \n",
      "4  68406064      3401           5          68406064           68406064   \n",
      "\n",
      "  order_status  order_amount  order_delivery_fee  order_delivery_cost  \\\n",
      "0     CANCELED          62.7                 0.0                  NaN   \n",
      "1     CANCELED          62.7                 0.0                  NaN   \n",
      "2     CANCELED         115.5                 0.0                  NaN   \n",
      "3     CANCELED          55.9                 0.0                  NaN   \n",
      "4     CANCELED          37.9                 0.0                  NaN   \n",
      "\n",
      "   order_created_hour  ...  order_moment_delivered  order_moment_finished  \\\n",
      "0                   0  ...                     NaN                    NaN   \n",
      "1                   0  ...                     NaN                    NaN   \n",
      "2                   0  ...                     NaN                    NaN   \n",
      "3                   0  ...                     NaN                    NaN   \n",
      "4                   0  ...                     NaN                    NaN   \n",
      "\n",
      "   order_metric_collected_time  order_metric_paused_time  \\\n",
      "0                          NaN                       NaN   \n",
      "1                          NaN                       NaN   \n",
      "2                          NaN                       NaN   \n",
      "3                          NaN                       NaN   \n",
      "4                          NaN                       NaN   \n",
      "\n",
      "  order_metric_production_time order_metric_walking_time  \\\n",
      "0                          NaN                       NaN   \n",
      "1                          NaN                       NaN   \n",
      "2                          NaN                       NaN   \n",
      "3                          NaN                       NaN   \n",
      "4                          NaN                       NaN   \n",
      "\n",
      "  order_metric_expediton_speed_time order_metric_transit_time  \\\n",
      "0                               NaN                       NaN   \n",
      "1                               NaN                       NaN   \n",
      "2                               NaN                       NaN   \n",
      "3                               NaN                       NaN   \n",
      "4                               NaN                       NaN   \n",
      "\n",
      "  order_metric_cycle_time     store_name  \n",
      "0                     NaN  GOI SIPIMUSU   \n",
      "1                     NaN  GOI SIPIMUSU   \n",
      "2                     NaN  GOI SIPIMUSU   \n",
      "3                     NaN        FRUEOU   \n",
      "4                     NaN        FRUEOU   \n",
      "\n",
      "[5 rows x 30 columns]\n"
     ]
    }
   ],
   "source": [
    "#merge/join com orders\n",
    "orders_df = pd.read_csv(\"orders.csv\")\n",
    "merged_df = pd.merge(orders_df, stores_df, on='store_id')\n",
    "\n",
    "print(merged_df.head())"
   ]
  },
  {
   "cell_type": "code",
   "execution_count": 135,
   "metadata": {
    "id": "3wt5-FNCFTrE"
   },
   "outputs": [
    {
     "data": {
      "image/png": "[encoded data removed]",
      "text/plain": [
       "<Figure size 1000x600 with 1 Axes>"
      ]
     },
     "metadata": {},
     "output_type": "display_data"
    }
   ],
   "source": [
    "#análise dos registros\n",
    "import matplotlib.pyplot as plt\n",
    "import seaborn as sns\n",
    "\n",
    "plt.figure(figsize=(10, 6))\n",
    "sns.countplot(data=merged_df, x='order_status')\n",
    "plt.title('Distribuição dos Status dos Pedidos')\n",
    "plt.xlabel('Status')\n",
    "plt.ylabel('Quantidade')\n",
    "plt.xticks(rotation=45)\n",
    "plt.show()"
   ]
  },
  {
   "cell_type": "code",
   "execution_count": 141,
   "metadata": {
    "id": "-LOvupYkFJef"
   },
   "outputs": [
    {
     "data": {
      "text/plain": [
       "order_id                               int64\n",
       "store_id                               int64\n",
       "channel_id                             int64\n",
       "payment_order_id                       int64\n",
       "delivery_order_id                      int64\n",
       "order_status                          object\n",
       "order_amount                         float64\n",
       "order_delivery_fee                   float64\n",
       "order_delivery_cost                  float64\n",
       "order_created_hour                     int64\n",
       "order_created_minute                   int64\n",
       "order_created_day                      int64\n",
       "order_created_month                    int64\n",
       "order_created_year                     int64\n",
       "order_moment_created                  object\n",
       "order_moment_accepted                 object\n",
       "order_moment_ready                    object\n",
       "order_moment_collected                object\n",
       "order_moment_in_expedition            object\n",
       "order_moment_delivering               object\n",
       "order_moment_delivered                object\n",
       "order_moment_finished                 object\n",
       "order_metric_collected_time          float64\n",
       "order_metric_paused_time             float64\n",
       "order_metric_production_time         float64\n",
       "order_metric_walking_time            float64\n",
       "order_metric_expediton_speed_time    float64\n",
       "order_metric_transit_time            float64\n",
       "order_metric_cycle_time              float64\n",
       "store_name                            object\n",
       "dtype: object"
      ]
     },
     "execution_count": 141,
     "metadata": {},
     "output_type": "execute_result"
    }
   ],
   "source": [
    "#informações sobre o dataframe\n",
    "merged_df.dtypes"
   ]
  },
  {
   "cell_type": "code",
   "execution_count": 143,
   "metadata": {
    "id": "Pn7h5iKjFfSs"
   },
   "outputs": [
    {
     "name": "stdout",
     "output_type": "stream",
     "text": [
      "     store_id  count\n",
      "0           3     13\n",
      "1           6   3739\n",
      "2           8   2472\n",
      "3          53  14004\n",
      "4          54     89\n",
      "..        ...    ...\n",
      "946      4669      3\n",
      "947      4671      1\n",
      "948      4675      3\n",
      "949      4676      1\n",
      "950      4679     89\n",
      "\n",
      "[951 rows x 2 columns]\n"
     ]
    }
   ],
   "source": [
    "#group by com contagem agregada\n",
    "grouped_df = merged_df.groupby('store_id').size().reset_index(name='count')\n",
    "\n",
    "print(grouped_df)"
   ]
  },
  {
   "cell_type": "code",
   "execution_count": 149,
   "metadata": {
    "id": "SKGm8OMvGkCj"
   },
   "outputs": [
    {
     "name": "stdout",
     "output_type": "stream",
     "text": [
      "        order_id store_id channel_id payment_order_id delivery_order_id  \\\n",
      "0       68405119     3512          5         68405119          68405119   \n",
      "1       68405123     3512          5         68405123          68405123   \n",
      "2       68405206     3512          5         68405206          68405206   \n",
      "3       68405465     3401          5         68405465          68405465   \n",
      "4       68406064     3401          5         68406064          68406064   \n",
      "...          ...      ...        ...              ...               ...   \n",
      "368994  93139806     2074          5         93139806          93139806   \n",
      "368995  93139809      707          5         93139809          93139809   \n",
      "368996  93139813      631          5         93139813          93139813   \n",
      "368997  93139814      631          5         93139814          93139814   \n",
      "368998  93139817      236          5         93139817          93139817   \n",
      "\n",
      "       order_status order_amount order_delivery_fee order_delivery_cost  \\\n",
      "0          CANCELED         62.7                0.0                 nan   \n",
      "1          CANCELED         62.7                0.0                 nan   \n",
      "2          CANCELED        115.5                0.0                 nan   \n",
      "3          CANCELED         55.9                0.0                 nan   \n",
      "4          CANCELED         37.9                0.0                 nan   \n",
      "...             ...          ...                ...                 ...   \n",
      "368994     FINISHED         28.0                0.0                 0.0   \n",
      "368995     FINISHED         49.0               11.9               10.04   \n",
      "368996     FINISHED        128.7               11.9                9.29   \n",
      "368997     FINISHED        127.4               11.9                 5.0   \n",
      "368998     FINISHED        104.7               11.9               10.67   \n",
      "\n",
      "       order_created_hour  ... order_moment_delivered order_moment_finished  \\\n",
      "0                       0  ...                    nan                   nan   \n",
      "1                       0  ...                    nan                   nan   \n",
      "2                       0  ...                    nan                   nan   \n",
      "3                       0  ...                    nan                   nan   \n",
      "4                       0  ...                    nan                   nan   \n",
      "...                   ...  ...                    ...                   ...   \n",
      "368994                 23  ...                    nan   5/1/2021 1:08:04 AM   \n",
      "368995                 23  ...                    nan  5/1/2021 12:57:16 AM   \n",
      "368996                 23  ...                    nan   5/1/2021 1:05:20 AM   \n",
      "368997                 23  ...                    nan  5/1/2021 12:45:00 AM   \n",
      "368998                 23  ...                    nan  5/1/2021 12:47:31 AM   \n",
      "\n",
      "       order_metric_collected_time order_metric_paused_time  \\\n",
      "0                              nan                      nan   \n",
      "1                              nan                      nan   \n",
      "2                              nan                      nan   \n",
      "3                              nan                      nan   \n",
      "4                              nan                      nan   \n",
      "...                            ...                      ...   \n",
      "368994                        0.67                    18.33   \n",
      "368995                        1.42                     3.48   \n",
      "368996                       11.72                     6.38   \n",
      "368997                         nan                      nan   \n",
      "368998                         nan                      nan   \n",
      "\n",
      "       order_metric_production_time order_metric_walking_time  \\\n",
      "0                               nan                       nan   \n",
      "1                               nan                       nan   \n",
      "2                               nan                       nan   \n",
      "3                               nan                       nan   \n",
      "4                               nan                       nan   \n",
      "...                             ...                       ...   \n",
      "368994                         22.0                       4.8   \n",
      "368995                        27.32                      6.13   \n",
      "368996                        29.97                     11.75   \n",
      "368997                        30.27                       nan   \n",
      "368998                        16.33                       nan   \n",
      "\n",
      "       order_metric_expediton_speed_time order_metric_transit_time  \\\n",
      "0                                    nan                       nan   \n",
      "1                                    nan                       nan   \n",
      "2                                    nan                       nan   \n",
      "3                                    nan                       nan   \n",
      "4                                    nan                       nan   \n",
      "...                                  ...                       ...   \n",
      "368994                             23.13                     23.42   \n",
      "368995                              9.62                     20.67   \n",
      "368996                             18.13                     17.55   \n",
      "368997                              1.88                     13.17   \n",
      "368998                             10.27                     21.12   \n",
      "\n",
      "       order_metric_cycle_time     store_name  \n",
      "0                          nan  GOI SIPIMUSU   \n",
      "1                          nan  GOI SIPIMUSU   \n",
      "2                          nan  GOI SIPIMUSU   \n",
      "3                          nan        FRUEOU   \n",
      "4                          nan        FRUEOU   \n",
      "...                        ...            ...  \n",
      "368994                   68.53    PUPALU RAS   \n",
      "368995                    57.6       IUMPICA   \n",
      "368996                   65.65       IUMPICA   \n",
      "368997                   45.32       IUMPICA   \n",
      "368998                   47.72       IUMPICA   \n",
      "\n",
      "[368999 rows x 30 columns]\n"
     ]
    }
   ],
   "source": [
    "#cast como string\n",
    "merged_df_str = merged_df.astype(str)\n",
    "\n",
    "print(merged_df_str)\n"
   ]
  },
  {
   "cell_type": "code",
   "execution_count": 161,
   "metadata": {
    "id": "yGb20HcaHDMR"
   },
   "outputs": [
    {
     "name": "stdout",
     "output_type": "stream",
     "text": [
      "        order_id  store_id  channel_id  payment_order_id  delivery_order_id  \\\n",
      "3       68405465      3401           5          68405465           68405465   \n",
      "4       68406064      3401           5          68406064           68406064   \n",
      "2158    68663309      3402           5          68663309           68663309   \n",
      "2168    68663637      3402           5          68663637           68663637   \n",
      "2512    68697028      3401           5          68697028           68697028   \n",
      "...          ...       ...         ...               ...                ...   \n",
      "367048  93130593      3404           5          93130593           93130593   \n",
      "367087  93130847      3404           5          93130847           93130847   \n",
      "367307  93133199      3403           5          93133199           93133199   \n",
      "368105  93136530      3401          15          93136530           93136530   \n",
      "368584  93138404      3403           5          93138404           93138404   \n",
      "\n",
      "       order_status  order_amount  order_delivery_fee  order_delivery_cost  \\\n",
      "3          CANCELED          55.9                 0.0                  NaN   \n",
      "4          CANCELED          37.9                 0.0                  NaN   \n",
      "2158       FINISHED          54.9                 0.0                 9.33   \n",
      "2168       FINISHED          88.9                 0.0                 8.82   \n",
      "2512       FINISHED         113.7                 0.0                11.50   \n",
      "...             ...           ...                 ...                  ...   \n",
      "367048     CANCELED         177.8                 9.9                  NaN   \n",
      "367087     CANCELED         177.8                 9.9                  NaN   \n",
      "367307     CANCELED          37.9                 9.9                 0.00   \n",
      "368105     FINISHED          37.9                 0.0                 7.56   \n",
      "368584     FINISHED          37.9                 4.9                 7.24   \n",
      "\n",
      "        order_created_hour  ...  order_moment_delivered  \\\n",
      "3                        0  ...                     NaN   \n",
      "4                        0  ...                     NaN   \n",
      "2158                    17  ...                     NaN   \n",
      "2168                    17  ...                     NaN   \n",
      "2512                    20  ...                     NaN   \n",
      "...                    ...  ...                     ...   \n",
      "367048                  19  ...                     NaN   \n",
      "367087                  19  ...                     NaN   \n",
      "367307                  20  ...                     NaN   \n",
      "368105                  22  ...                     NaN   \n",
      "368584                  23  ...                     NaN   \n",
      "\n",
      "        order_moment_finished  order_metric_collected_time  \\\n",
      "3                         NaN                          NaN   \n",
      "4                         NaN                          NaN   \n",
      "2158      1/2/2021 6:26:10 PM                         2.62   \n",
      "2168      1/2/2021 6:33:22 PM                         2.72   \n",
      "2512      1/2/2021 9:13:53 PM                         1.83   \n",
      "...                       ...                          ...   \n",
      "367048                    NaN                          NaN   \n",
      "367087                    NaN                          NaN   \n",
      "367307                    NaN                          NaN   \n",
      "368105  4/30/2021 10:49:56 PM                         1.22   \n",
      "368584  4/30/2021 11:17:31 PM                         1.08   \n",
      "\n",
      "        order_metric_paused_time order_metric_production_time  \\\n",
      "3                            NaN                          NaN   \n",
      "4                            NaN                          NaN   \n",
      "2158                        4.23                         7.75   \n",
      "2168                        3.88                         6.63   \n",
      "2512                        1.77                        19.30   \n",
      "...                          ...                          ...   \n",
      "367048                       NaN                          NaN   \n",
      "367087                       NaN                          NaN   \n",
      "367307                       NaN                          NaN   \n",
      "368105                      0.17                         5.15   \n",
      "368584                      1.78                         3.15   \n",
      "\n",
      "       order_metric_walking_time order_metric_expediton_speed_time  \\\n",
      "3                            NaN                               NaN   \n",
      "4                            NaN                               NaN   \n",
      "2158                        5.00                              9.23   \n",
      "2168                        5.05                              8.93   \n",
      "2512                        1.87                              3.65   \n",
      "...                          ...                               ...   \n",
      "367048                       NaN                               NaN   \n",
      "367087                       NaN                               NaN   \n",
      "367307                       NaN                               NaN   \n",
      "368105                      2.32                              2.48   \n",
      "368584                      2.75                              4.53   \n",
      "\n",
      "       order_metric_transit_time order_metric_cycle_time store_name  \n",
      "3                            NaN                     NaN    FRUEOU   \n",
      "4                            NaN                     NaN    FRUEOU   \n",
      "2158                       18.32                   35.30    FRUEOU   \n",
      "2168                       25.77                   41.33    FRUEOU   \n",
      "2512                       22.02                   44.97    FRUEOU   \n",
      "...                          ...                     ...        ...  \n",
      "367048                       NaN                     NaN    FRUEOU   \n",
      "367087                       NaN                     NaN    FRUEOU   \n",
      "367307                       NaN                     NaN    FRUEOU   \n",
      "368105                      9.12                   16.75    FRUEOU   \n",
      "368584                       NaN                     NaN    FRUEOU   \n",
      "\n",
      "[977 rows x 30 columns]\n"
     ]
    }
   ],
   "source": [
    "#procura as lojas em stores\n",
    "result = merged_df[merged_df['store_name'] == 'FRUEOU ']\n",
    "\n",
    "print(result)"
   ]
  },
  {
   "cell_type": "code",
   "execution_count": 163,
   "metadata": {
    "id": "jWclLgdLI39p"
   },
   "outputs": [
    {
     "name": "stdout",
     "output_type": "stream",
     "text": [
      "0    GOI SIPIMUSU\n",
      "1    GOI SIPIMUSU\n",
      "2    GOI SIPIMUSU\n",
      "3          FRUEOU\n",
      "4          FRUEOU\n",
      "Name: store_name, dtype: object\n"
     ]
    }
   ],
   "source": [
    "#remove os espaços nas bordas\n",
    "merged_df['store_name'] = merged_df['store_name'].str.strip()\n",
    "print(merged_df['store_name'].head())"
   ]
  },
  {
   "cell_type": "code",
   "execution_count": 167,
   "metadata": {
    "id": "H1BKfc6bI_n2"
   },
   "outputs": [
    {
     "name": "stdout",
     "output_type": "stream",
     "text": [
      "        order_id  store_id  channel_id  payment_order_id  delivery_order_id  \\\n",
      "3       68405465      3401           5          68405465           68405465   \n",
      "4       68406064      3401           5          68406064           68406064   \n",
      "2158    68663309      3402           5          68663309           68663309   \n",
      "2168    68663637      3402           5          68663637           68663637   \n",
      "2512    68697028      3401           5          68697028           68697028   \n",
      "...          ...       ...         ...               ...                ...   \n",
      "367048  93130593      3404           5          93130593           93130593   \n",
      "367087  93130847      3404           5          93130847           93130847   \n",
      "367307  93133199      3403           5          93133199           93133199   \n",
      "368105  93136530      3401          15          93136530           93136530   \n",
      "368584  93138404      3403           5          93138404           93138404   \n",
      "\n",
      "       order_status  order_amount  order_delivery_fee  order_delivery_cost  \\\n",
      "3          CANCELED          55.9                 0.0                  NaN   \n",
      "4          CANCELED          37.9                 0.0                  NaN   \n",
      "2158       FINISHED          54.9                 0.0                 9.33   \n",
      "2168       FINISHED          88.9                 0.0                 8.82   \n",
      "2512       FINISHED         113.7                 0.0                11.50   \n",
      "...             ...           ...                 ...                  ...   \n",
      "367048     CANCELED         177.8                 9.9                  NaN   \n",
      "367087     CANCELED         177.8                 9.9                  NaN   \n",
      "367307     CANCELED          37.9                 9.9                 0.00   \n",
      "368105     FINISHED          37.9                 0.0                 7.56   \n",
      "368584     FINISHED          37.9                 4.9                 7.24   \n",
      "\n",
      "        order_created_hour  ...  order_moment_delivered  \\\n",
      "3                        0  ...                     NaN   \n",
      "4                        0  ...                     NaN   \n",
      "2158                    17  ...                     NaN   \n",
      "2168                    17  ...                     NaN   \n",
      "2512                    20  ...                     NaN   \n",
      "...                    ...  ...                     ...   \n",
      "367048                  19  ...                     NaN   \n",
      "367087                  19  ...                     NaN   \n",
      "367307                  20  ...                     NaN   \n",
      "368105                  22  ...                     NaN   \n",
      "368584                  23  ...                     NaN   \n",
      "\n",
      "        order_moment_finished  order_metric_collected_time  \\\n",
      "3                         NaN                          NaN   \n",
      "4                         NaN                          NaN   \n",
      "2158      1/2/2021 6:26:10 PM                         2.62   \n",
      "2168      1/2/2021 6:33:22 PM                         2.72   \n",
      "2512      1/2/2021 9:13:53 PM                         1.83   \n",
      "...                       ...                          ...   \n",
      "367048                    NaN                          NaN   \n",
      "367087                    NaN                          NaN   \n",
      "367307                    NaN                          NaN   \n",
      "368105  4/30/2021 10:49:56 PM                         1.22   \n",
      "368584  4/30/2021 11:17:31 PM                         1.08   \n",
      "\n",
      "        order_metric_paused_time order_metric_production_time  \\\n",
      "3                            NaN                          NaN   \n",
      "4                            NaN                          NaN   \n",
      "2158                        4.23                         7.75   \n",
      "2168                        3.88                         6.63   \n",
      "2512                        1.77                        19.30   \n",
      "...                          ...                          ...   \n",
      "367048                       NaN                          NaN   \n",
      "367087                       NaN                          NaN   \n",
      "367307                       NaN                          NaN   \n",
      "368105                      0.17                         5.15   \n",
      "368584                      1.78                         3.15   \n",
      "\n",
      "       order_metric_walking_time order_metric_expediton_speed_time  \\\n",
      "3                            NaN                               NaN   \n",
      "4                            NaN                               NaN   \n",
      "2158                        5.00                              9.23   \n",
      "2168                        5.05                              8.93   \n",
      "2512                        1.87                              3.65   \n",
      "...                          ...                               ...   \n",
      "367048                       NaN                               NaN   \n",
      "367087                       NaN                               NaN   \n",
      "367307                       NaN                               NaN   \n",
      "368105                      2.32                              2.48   \n",
      "368584                      2.75                              4.53   \n",
      "\n",
      "       order_metric_transit_time order_metric_cycle_time store_name  \n",
      "3                            NaN                     NaN     FRUEOU  \n",
      "4                            NaN                     NaN     FRUEOU  \n",
      "2158                       18.32                   35.30     FRUEOU  \n",
      "2168                       25.77                   41.33     FRUEOU  \n",
      "2512                       22.02                   44.97     FRUEOU  \n",
      "...                          ...                     ...        ...  \n",
      "367048                       NaN                     NaN     FRUEOU  \n",
      "367087                       NaN                     NaN     FRUEOU  \n",
      "367307                       NaN                     NaN     FRUEOU  \n",
      "368105                      9.12                   16.75     FRUEOU  \n",
      "368584                       NaN                     NaN     FRUEOU  \n",
      "\n",
      "[977 rows x 30 columns]\n"
     ]
    }
   ],
   "source": [
    "#procura as lojas em stores\n",
    "result = merged_df[merged_df['store_name'] == 'FRUEOU']\n",
    "\n",
    "print(result)"
   ]
  },
  {
   "cell_type": "markdown",
   "metadata": {
    "id": "gyGhKfgJMgzB"
   },
   "source": [
    "#Exercícios"
   ]
  },
  {
   "cell_type": "markdown",
   "metadata": {
    "id": "el541rCMLwpW"
   },
   "source": [
    "## 1 - Quais lojas possuem mais valores repedidos em df_stores?"
   ]
  },
  {
   "cell_type": "code",
   "execution_count": 190,
   "metadata": {},
   "outputs": [
    {
     "name": "stdout",
     "output_type": "stream",
     "text": [
      "store_name\n",
      "SALITO            17\n",
      "GRIME CRU         16\n",
      "CIRACIOU          14\n",
      "IUMPICA           14\n",
      "CISI PIUEUEMI     12\n",
      "Name: count, dtype: int64\n"
     ]
    }
   ],
   "source": [
    "df_stores = pd.read_csv('stores.csv', encoding=\"iso-8859-1\")\n",
    "store_name_counts = df_stores['store_name'].value_counts()\n",
    "repeated_store_names = store_name_counts[store_name_counts > 1]\n",
    "\n",
    "print(repeated_store_names.head())\n"
   ]
  },
  {
   "cell_type": "markdown",
   "metadata": {
    "id": "UrJIWZ1_LLNt"
   },
   "source": [
    "## 2 - Quais lojas possuem maior valor de pedidos?"
   ]
  },
  {
   "cell_type": "code",
   "execution_count": 193,
   "metadata": {},
   "outputs": [
    {
     "data": {
      "text/html": [
       "<div>\n",
       "<style scoped>\n",
       "    .dataframe tbody tr th:only-of-type {\n",
       "        vertical-align: middle;\n",
       "    }\n",
       "\n",
       "    .dataframe tbody tr th {\n",
       "        vertical-align: top;\n",
       "    }\n",
       "\n",
       "    .dataframe thead th {\n",
       "        text-align: right;\n",
       "    }\n",
       "</style>\n",
       "<table border=\"1\" class=\"dataframe\">\n",
       "  <thead>\n",
       "    <tr style=\"text-align: right;\">\n",
       "      <th></th>\n",
       "      <th>store_id</th>\n",
       "      <th>hub_id</th>\n",
       "      <th>store_name</th>\n",
       "      <th>store_segment</th>\n",
       "      <th>store_plan_price</th>\n",
       "      <th>store_latitude</th>\n",
       "      <th>store_longitude</th>\n",
       "    </tr>\n",
       "  </thead>\n",
       "  <tbody>\n",
       "    <tr>\n",
       "      <th>0</th>\n",
       "      <td>3</td>\n",
       "      <td>2</td>\n",
       "      <td>CUMIURI</td>\n",
       "      <td>FOOD</td>\n",
       "      <td>0.0</td>\n",
       "      <td>NaN</td>\n",
       "      <td>NaN</td>\n",
       "    </tr>\n",
       "    <tr>\n",
       "      <th>1</th>\n",
       "      <td>6</td>\n",
       "      <td>3</td>\n",
       "      <td>PIMGUCIS DA VIVA</td>\n",
       "      <td>FOOD</td>\n",
       "      <td>0.0</td>\n",
       "      <td>-30.037415</td>\n",
       "      <td>-51.203520</td>\n",
       "    </tr>\n",
       "    <tr>\n",
       "      <th>2</th>\n",
       "      <td>8</td>\n",
       "      <td>3</td>\n",
       "      <td>RASMUR S</td>\n",
       "      <td>FOOD</td>\n",
       "      <td>0.0</td>\n",
       "      <td>-30.037415</td>\n",
       "      <td>-51.203520</td>\n",
       "    </tr>\n",
       "    <tr>\n",
       "      <th>3</th>\n",
       "      <td>53</td>\n",
       "      <td>8</td>\n",
       "      <td>PAPA SUCIS</td>\n",
       "      <td>FOOD</td>\n",
       "      <td>0.0</td>\n",
       "      <td>-22.921475</td>\n",
       "      <td>-43.234822</td>\n",
       "    </tr>\n",
       "    <tr>\n",
       "      <th>4</th>\n",
       "      <td>54</td>\n",
       "      <td>8</td>\n",
       "      <td>VUZPI PAZZIS</td>\n",
       "      <td>FOOD</td>\n",
       "      <td>0.0</td>\n",
       "      <td>-22.921475</td>\n",
       "      <td>-43.234822</td>\n",
       "    </tr>\n",
       "    <tr>\n",
       "      <th>...</th>\n",
       "      <td>...</td>\n",
       "      <td>...</td>\n",
       "      <td>...</td>\n",
       "      <td>...</td>\n",
       "      <td>...</td>\n",
       "      <td>...</td>\n",
       "      <td>...</td>\n",
       "    </tr>\n",
       "    <tr>\n",
       "      <th>946</th>\n",
       "      <td>4669</td>\n",
       "      <td>21</td>\n",
       "      <td>CIRUMOI</td>\n",
       "      <td>GOOD</td>\n",
       "      <td>29.0</td>\n",
       "      <td>-23.550407</td>\n",
       "      <td>-46.721291</td>\n",
       "    </tr>\n",
       "    <tr>\n",
       "      <th>947</th>\n",
       "      <td>4671</td>\n",
       "      <td>25</td>\n",
       "      <td>CIRUMOI</td>\n",
       "      <td>GOOD</td>\n",
       "      <td>49.9</td>\n",
       "      <td>-23.570765</td>\n",
       "      <td>-46.642043</td>\n",
       "    </tr>\n",
       "    <tr>\n",
       "      <th>948</th>\n",
       "      <td>4675</td>\n",
       "      <td>13</td>\n",
       "      <td>SIMUI LIMOI</td>\n",
       "      <td>GOOD</td>\n",
       "      <td>29.0</td>\n",
       "      <td>-22.887521</td>\n",
       "      <td>-43.283366</td>\n",
       "    </tr>\n",
       "    <tr>\n",
       "      <th>949</th>\n",
       "      <td>4676</td>\n",
       "      <td>75</td>\n",
       "      <td>PAMACIS</td>\n",
       "      <td>GOOD</td>\n",
       "      <td>49.9</td>\n",
       "      <td>-25.477073</td>\n",
       "      <td>-49.289660</td>\n",
       "    </tr>\n",
       "    <tr>\n",
       "      <th>950</th>\n",
       "      <td>4679</td>\n",
       "      <td>85</td>\n",
       "      <td>PIGUE PIPACO</td>\n",
       "      <td>FOOD</td>\n",
       "      <td>49.9</td>\n",
       "      <td>-23.513353</td>\n",
       "      <td>-46.618490</td>\n",
       "    </tr>\n",
       "  </tbody>\n",
       "</table>\n",
       "<p>951 rows × 7 columns</p>\n",
       "</div>"
      ],
      "text/plain": [
       "     store_id  hub_id         store_name store_segment  store_plan_price  \\\n",
       "0           3       2            CUMIURI          FOOD               0.0   \n",
       "1           6       3  PIMGUCIS DA VIVA           FOOD               0.0   \n",
       "2           8       3          RASMUR S           FOOD               0.0   \n",
       "3          53       8        PAPA SUCIS           FOOD               0.0   \n",
       "4          54       8      VUZPI PAZZIS           FOOD               0.0   \n",
       "..        ...     ...                ...           ...               ...   \n",
       "946      4669      21           CIRUMOI           GOOD              29.0   \n",
       "947      4671      25           CIRUMOI           GOOD              49.9   \n",
       "948      4675      13       SIMUI LIMOI           GOOD              29.0   \n",
       "949      4676      75           PAMACIS           GOOD              49.9   \n",
       "950      4679      85      PIGUE PIPACO           FOOD              49.9   \n",
       "\n",
       "     store_latitude  store_longitude  \n",
       "0               NaN              NaN  \n",
       "1        -30.037415       -51.203520  \n",
       "2        -30.037415       -51.203520  \n",
       "3        -22.921475       -43.234822  \n",
       "4        -22.921475       -43.234822  \n",
       "..              ...              ...  \n",
       "946      -23.550407       -46.721291  \n",
       "947      -23.570765       -46.642043  \n",
       "948      -22.887521       -43.283366  \n",
       "949      -25.477073       -49.289660  \n",
       "950      -23.513353       -46.618490  \n",
       "\n",
       "[951 rows x 7 columns]"
      ]
     },
     "execution_count": 193,
     "metadata": {},
     "output_type": "execute_result"
    }
   ],
   "source": [
    "df_stores"
   ]
  },
  {
   "cell_type": "markdown",
   "metadata": {
    "id": "6Aqh6AW0KzH0"
   },
   "source": [
    "## 3 - Quais lojas tem o maior tempo de produção do pedido?"
   ]
  },
  {
   "cell_type": "markdown",
   "metadata": {
    "id": "7ahgVR7qL_1p"
   },
   "source": [
    "## 4 - Num cenário de negócio, quais alternativas você recomenda para diminuir o tempo de produção dos pedidos?\n",
    "Pode utilizar o Google, ChatGPT para pesquisar sobre o assunto. Consegue indicar algum artigo ciêntifíco, reposítório, ou análise no Kaggle que já tratou sobre este problema?"
   ]
  },
  {
   "cell_type": "markdown",
   "metadata": {
    "id": "9Spc177WM4In"
   },
   "source": [
    "## 5 - Quais são os principais Shoppings/Cidades em número de Pedidos. Faça o upload do .csv de hubs e realize os joins entre os dataframes de orders, stores e hubs para chegar no resultado."
   ]
  }
 ],
 "metadata": {
  "colab": {
   "provenance": []
  },
  "kernelspec": {
   "display_name": "Python 3 (ipykernel)",
   "language": "python",
   "name": "python3"
  },
  "language_info": {
   "codemirror_mode": {
    "name": "ipython",
    "version": 3
   },
   "file_extension": ".py",
   "mimetype": "text/x-python",
   "name": "python",
   "nbconvert_exporter": "python",
   "pygments_lexer": "ipython3",
   "version": "3.12.4"
  }
 },
 "nbformat": 4,
 "nbformat_minor": 4
}
