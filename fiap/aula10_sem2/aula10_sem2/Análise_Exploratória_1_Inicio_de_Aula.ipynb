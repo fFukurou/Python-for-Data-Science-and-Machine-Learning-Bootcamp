{
 "cells": [
  {
   "cell_type": "markdown",
   "metadata": {
    "id": "DBQS0hO_tQAM"
   },
   "source": [
    "## Import das bibliotecas"
   ]
  },
  {
   "cell_type": "code",
   "execution_count": 1,
   "metadata": {
    "id": "M0jyzcGgRCAE"
   },
   "outputs": [],
   "source": [
    "#import do pandas\n",
    "import pandas as pd\n"
   ]
  },
  {
   "cell_type": "markdown",
   "metadata": {
    "id": "xCymKGEmuJb0"
   },
   "source": [
    "## Crie um novo dataframe com .csv orders."
   ]
  },
  {
   "cell_type": "code",
   "execution_count": 5,
   "metadata": {
    "id": "TkdOrP3CuFME"
   },
   "outputs": [
    {
     "data": {
      "text/html": [
       "<div>\n",
       "<style scoped>\n",
       "    .dataframe tbody tr th:only-of-type {\n",
       "        vertical-align: middle;\n",
       "    }\n",
       "\n",
       "    .dataframe tbody tr th {\n",
       "        vertical-align: top;\n",
       "    }\n",
       "\n",
       "    .dataframe thead th {\n",
       "        text-align: right;\n",
       "    }\n",
       "</style>\n",
       "<table border=\"1\" class=\"dataframe\">\n",
       "  <thead>\n",
       "    <tr style=\"text-align: right;\">\n",
       "      <th></th>\n",
       "      <th>order_id</th>\n",
       "      <th>store_id</th>\n",
       "      <th>channel_id</th>\n",
       "      <th>payment_order_id</th>\n",
       "      <th>delivery_order_id</th>\n",
       "      <th>order_status</th>\n",
       "      <th>order_amount</th>\n",
       "      <th>order_delivery_fee</th>\n",
       "      <th>order_delivery_cost</th>\n",
       "      <th>order_created_hour</th>\n",
       "      <th>...</th>\n",
       "      <th>order_moment_delivering</th>\n",
       "      <th>order_moment_delivered</th>\n",
       "      <th>order_moment_finished</th>\n",
       "      <th>order_metric_collected_time</th>\n",
       "      <th>order_metric_paused_time</th>\n",
       "      <th>order_metric_production_time</th>\n",
       "      <th>order_metric_walking_time</th>\n",
       "      <th>order_metric_expediton_speed_time</th>\n",
       "      <th>order_metric_transit_time</th>\n",
       "      <th>order_metric_cycle_time</th>\n",
       "    </tr>\n",
       "  </thead>\n",
       "  <tbody>\n",
       "    <tr>\n",
       "      <th>0</th>\n",
       "      <td>68405119</td>\n",
       "      <td>3512</td>\n",
       "      <td>5</td>\n",
       "      <td>68405119</td>\n",
       "      <td>68405119</td>\n",
       "      <td>CANCELED</td>\n",
       "      <td>62.7</td>\n",
       "      <td>0.0</td>\n",
       "      <td>NaN</td>\n",
       "      <td>0</td>\n",
       "      <td>...</td>\n",
       "      <td>NaN</td>\n",
       "      <td>NaN</td>\n",
       "      <td>NaN</td>\n",
       "      <td>NaN</td>\n",
       "      <td>NaN</td>\n",
       "      <td>NaN</td>\n",
       "      <td>NaN</td>\n",
       "      <td>NaN</td>\n",
       "      <td>NaN</td>\n",
       "      <td>NaN</td>\n",
       "    </tr>\n",
       "    <tr>\n",
       "      <th>1</th>\n",
       "      <td>68405123</td>\n",
       "      <td>3512</td>\n",
       "      <td>5</td>\n",
       "      <td>68405123</td>\n",
       "      <td>68405123</td>\n",
       "      <td>CANCELED</td>\n",
       "      <td>62.7</td>\n",
       "      <td>0.0</td>\n",
       "      <td>NaN</td>\n",
       "      <td>0</td>\n",
       "      <td>...</td>\n",
       "      <td>NaN</td>\n",
       "      <td>NaN</td>\n",
       "      <td>NaN</td>\n",
       "      <td>NaN</td>\n",
       "      <td>NaN</td>\n",
       "      <td>NaN</td>\n",
       "      <td>NaN</td>\n",
       "      <td>NaN</td>\n",
       "      <td>NaN</td>\n",
       "      <td>NaN</td>\n",
       "    </tr>\n",
       "    <tr>\n",
       "      <th>2</th>\n",
       "      <td>68405206</td>\n",
       "      <td>3512</td>\n",
       "      <td>5</td>\n",
       "      <td>68405206</td>\n",
       "      <td>68405206</td>\n",
       "      <td>CANCELED</td>\n",
       "      <td>115.5</td>\n",
       "      <td>0.0</td>\n",
       "      <td>NaN</td>\n",
       "      <td>0</td>\n",
       "      <td>...</td>\n",
       "      <td>NaN</td>\n",
       "      <td>NaN</td>\n",
       "      <td>NaN</td>\n",
       "      <td>NaN</td>\n",
       "      <td>NaN</td>\n",
       "      <td>NaN</td>\n",
       "      <td>NaN</td>\n",
       "      <td>NaN</td>\n",
       "      <td>NaN</td>\n",
       "      <td>NaN</td>\n",
       "    </tr>\n",
       "    <tr>\n",
       "      <th>3</th>\n",
       "      <td>68405465</td>\n",
       "      <td>3401</td>\n",
       "      <td>5</td>\n",
       "      <td>68405465</td>\n",
       "      <td>68405465</td>\n",
       "      <td>CANCELED</td>\n",
       "      <td>55.9</td>\n",
       "      <td>0.0</td>\n",
       "      <td>NaN</td>\n",
       "      <td>0</td>\n",
       "      <td>...</td>\n",
       "      <td>NaN</td>\n",
       "      <td>NaN</td>\n",
       "      <td>NaN</td>\n",
       "      <td>NaN</td>\n",
       "      <td>NaN</td>\n",
       "      <td>NaN</td>\n",
       "      <td>NaN</td>\n",
       "      <td>NaN</td>\n",
       "      <td>NaN</td>\n",
       "      <td>NaN</td>\n",
       "    </tr>\n",
       "    <tr>\n",
       "      <th>4</th>\n",
       "      <td>68406064</td>\n",
       "      <td>3401</td>\n",
       "      <td>5</td>\n",
       "      <td>68406064</td>\n",
       "      <td>68406064</td>\n",
       "      <td>CANCELED</td>\n",
       "      <td>37.9</td>\n",
       "      <td>0.0</td>\n",
       "      <td>NaN</td>\n",
       "      <td>0</td>\n",
       "      <td>...</td>\n",
       "      <td>NaN</td>\n",
       "      <td>NaN</td>\n",
       "      <td>NaN</td>\n",
       "      <td>NaN</td>\n",
       "      <td>NaN</td>\n",
       "      <td>NaN</td>\n",
       "      <td>NaN</td>\n",
       "      <td>NaN</td>\n",
       "      <td>NaN</td>\n",
       "      <td>NaN</td>\n",
       "    </tr>\n",
       "  </tbody>\n",
       "</table>\n",
       "<p>5 rows × 29 columns</p>\n",
       "</div>"
      ],
      "text/plain": [
       "   order_id  store_id  channel_id  payment_order_id  delivery_order_id  \\\n",
       "0  68405119      3512           5          68405119           68405119   \n",
       "1  68405123      3512           5          68405123           68405123   \n",
       "2  68405206      3512           5          68405206           68405206   \n",
       "3  68405465      3401           5          68405465           68405465   \n",
       "4  68406064      3401           5          68406064           68406064   \n",
       "\n",
       "  order_status  order_amount  order_delivery_fee  order_delivery_cost  \\\n",
       "0     CANCELED          62.7                 0.0                  NaN   \n",
       "1     CANCELED          62.7                 0.0                  NaN   \n",
       "2     CANCELED         115.5                 0.0                  NaN   \n",
       "3     CANCELED          55.9                 0.0                  NaN   \n",
       "4     CANCELED          37.9                 0.0                  NaN   \n",
       "\n",
       "   order_created_hour  ...  order_moment_delivering  order_moment_delivered  \\\n",
       "0                   0  ...                      NaN                     NaN   \n",
       "1                   0  ...                      NaN                     NaN   \n",
       "2                   0  ...                      NaN                     NaN   \n",
       "3                   0  ...                      NaN                     NaN   \n",
       "4                   0  ...                      NaN                     NaN   \n",
       "\n",
       "   order_moment_finished  order_metric_collected_time  \\\n",
       "0                    NaN                          NaN   \n",
       "1                    NaN                          NaN   \n",
       "2                    NaN                          NaN   \n",
       "3                    NaN                          NaN   \n",
       "4                    NaN                          NaN   \n",
       "\n",
       "  order_metric_paused_time order_metric_production_time  \\\n",
       "0                      NaN                          NaN   \n",
       "1                      NaN                          NaN   \n",
       "2                      NaN                          NaN   \n",
       "3                      NaN                          NaN   \n",
       "4                      NaN                          NaN   \n",
       "\n",
       "  order_metric_walking_time order_metric_expediton_speed_time  \\\n",
       "0                       NaN                               NaN   \n",
       "1                       NaN                               NaN   \n",
       "2                       NaN                               NaN   \n",
       "3                       NaN                               NaN   \n",
       "4                       NaN                               NaN   \n",
       "\n",
       "  order_metric_transit_time order_metric_cycle_time  \n",
       "0                       NaN                     NaN  \n",
       "1                       NaN                     NaN  \n",
       "2                       NaN                     NaN  \n",
       "3                       NaN                     NaN  \n",
       "4                       NaN                     NaN  \n",
       "\n",
       "[5 rows x 29 columns]"
      ]
     },
     "execution_count": 5,
     "metadata": {},
     "output_type": "execute_result"
    }
   ],
   "source": [
    "#criar novo dataframe a partir de um .csv\n",
    "df = pd.read_csv('orders.csv')\n",
    "df.head()"
   ]
  },
  {
   "cell_type": "markdown",
   "metadata": {
    "id": "AWNPm_-mtVeb"
   },
   "source": [
    "## Quantos registros temos na nossa base?"
   ]
  },
  {
   "cell_type": "code",
   "execution_count": null,
   "metadata": {
    "id": "MUlX03dlwMnK"
   },
   "outputs": [],
   "source": [
    "#quantidade de registros no dataframe\n"
   ]
  },
  {
   "cell_type": "markdown",
   "metadata": {
    "id": "HdzlPIgRw2gF"
   },
   "source": [
    "## Há dados faltantes na nossa base?"
   ]
  },
  {
   "cell_type": "code",
   "execution_count": null,
   "metadata": {
    "id": "UUryFKU-v3Qq"
   },
   "outputs": [],
   "source": [
    "#informações sobre o dataframe\n"
   ]
  },
  {
   "cell_type": "markdown",
   "metadata": {
    "id": "DDNQ3lVGyErP"
   },
   "source": [
    "## Desde quando temos esse histórico?"
   ]
  },
  {
   "cell_type": "code",
   "execution_count": null,
   "metadata": {
    "id": "wHw8ckEEyI9-"
   },
   "outputs": [],
   "source": [
    "#type da coluna de data\n"
   ]
  },
  {
   "cell_type": "code",
   "execution_count": null,
   "metadata": {
    "id": "ERfYiQyFz97Z"
   },
   "outputs": [],
   "source": [
    "#min da coluna de data\n"
   ]
  },
  {
   "cell_type": "code",
   "execution_count": null,
   "metadata": {
    "id": "2SiBPXhT0BHG"
   },
   "outputs": [],
   "source": [
    "#max da coluna de data\n"
   ]
  },
  {
   "cell_type": "code",
   "execution_count": null,
   "metadata": {
    "id": "WYBZAYij0z34"
   },
   "outputs": [],
   "source": [
    "#cast da coluna de data para o formato correto\n"
   ]
  },
  {
   "cell_type": "code",
   "execution_count": null,
   "metadata": {
    "id": "oKP1HYEO1c5L"
   },
   "outputs": [],
   "source": [
    "#min da coluna de data\n"
   ]
  },
  {
   "cell_type": "code",
   "execution_count": null,
   "metadata": {
    "id": "g-sfEr9H1gXr"
   },
   "outputs": [],
   "source": [
    "#max da coluna de data\n"
   ]
  },
  {
   "cell_type": "markdown",
   "metadata": {
    "id": "eG9m9yXB2AV-"
   },
   "source": [
    "## Quantas lojas atendemos na nossa base?\n"
   ]
  },
  {
   "cell_type": "code",
   "execution_count": null,
   "metadata": {
    "id": "Xo-nhYjK2CQX"
   },
   "outputs": [],
   "source": [
    "#contagem das lojas únicas\n"
   ]
  },
  {
   "cell_type": "markdown",
   "metadata": {
    "id": "TkV9uG1k3ELu"
   },
   "source": [
    "## Quais são as principais lojas em quantidade de atendimento?\n"
   ]
  },
  {
   "cell_type": "code",
   "execution_count": null,
   "metadata": {
    "id": "1btsWJAx3LbR"
   },
   "outputs": [],
   "source": [
    "#ranking das maiores lojas por pedidos\n"
   ]
  },
  {
   "cell_type": "code",
   "execution_count": null,
   "metadata": {
    "id": "qgYkkMIE4GNN"
   },
   "outputs": [],
   "source": [
    "#group by com contagem agregada\n"
   ]
  },
  {
   "cell_type": "markdown",
   "metadata": {
    "id": "YojnJMjY6LBV"
   },
   "source": [
    "## Qual a distribuição entre os status?"
   ]
  },
  {
   "cell_type": "code",
   "execution_count": null,
   "metadata": {
    "id": "MQtNhiYg6O1X"
   },
   "outputs": [],
   "source": [
    "#distribuição entre status\n"
   ]
  },
  {
   "cell_type": "code",
   "execution_count": null,
   "metadata": {
    "id": "Xv1DTB6j7XmQ"
   },
   "outputs": [],
   "source": [
    "#distribuição entre status por porcentagem\n"
   ]
  },
  {
   "cell_type": "markdown",
   "metadata": {
    "id": "wdZNzCRp-A8w"
   },
   "source": [
    "## Qual o nome das lojas da tabela orders?"
   ]
  },
  {
   "cell_type": "code",
   "execution_count": null,
   "metadata": {
    "id": "Lw7DNEcf-kfG"
   },
   "outputs": [],
   "source": [
    "#criação de um novo dataframe a partir de stores\n"
   ]
  },
  {
   "cell_type": "code",
   "execution_count": null,
   "metadata": {
    "id": "uyIoIogB_QLM"
   },
   "outputs": [],
   "source": [
    "#informações sobre o dataframe\n"
   ]
  },
  {
   "cell_type": "code",
   "execution_count": null,
   "metadata": {
    "id": "MF4nYKtsAFTc"
   },
   "outputs": [],
   "source": [
    "#criação de um novo dataframe a partir de id e name\n"
   ]
  },
  {
   "cell_type": "code",
   "execution_count": null,
   "metadata": {
    "id": "BAlFXTfMBznp"
   },
   "outputs": [],
   "source": [
    "#merge/join com orders\n"
   ]
  },
  {
   "cell_type": "code",
   "execution_count": null,
   "metadata": {
    "id": "3wt5-FNCFTrE"
   },
   "outputs": [],
   "source": [
    "#análise dos registros\n"
   ]
  },
  {
   "cell_type": "code",
   "execution_count": null,
   "metadata": {
    "id": "-LOvupYkFJef"
   },
   "outputs": [],
   "source": [
    "#informações sobre o dataframe\n"
   ]
  },
  {
   "cell_type": "code",
   "execution_count": null,
   "metadata": {
    "id": "Pn7h5iKjFfSs"
   },
   "outputs": [],
   "source": [
    "#group by com contagem agregada\n"
   ]
  },
  {
   "cell_type": "code",
   "execution_count": null,
   "metadata": {
    "id": "SKGm8OMvGkCj"
   },
   "outputs": [],
   "source": [
    "#cast como string\n"
   ]
  },
  {
   "cell_type": "code",
   "execution_count": null,
   "metadata": {
    "id": "yGb20HcaHDMR"
   },
   "outputs": [],
   "source": [
    "#procura as lojas em stores\n"
   ]
  },
  {
   "cell_type": "code",
   "execution_count": null,
   "metadata": {
    "id": "jWclLgdLI39p"
   },
   "outputs": [],
   "source": [
    "#remove os espaços nas bordas\n"
   ]
  },
  {
   "cell_type": "code",
   "execution_count": null,
   "metadata": {
    "id": "H1BKfc6bI_n2"
   },
   "outputs": [],
   "source": [
    "#procura as lojas em stores\n"
   ]
  },
  {
   "cell_type": "markdown",
   "metadata": {
    "id": "gyGhKfgJMgzB"
   },
   "source": [
    "#Exercícios"
   ]
  },
  {
   "cell_type": "markdown",
   "metadata": {
    "id": "el541rCMLwpW"
   },
   "source": [
    "## 1 - Quais lojas possuem mais valores repedidos em df_stores?"
   ]
  },
  {
   "cell_type": "markdown",
   "metadata": {
    "id": "UrJIWZ1_LLNt"
   },
   "source": [
    "## 2 - Quais lojas possuem maior valor de pedidos?"
   ]
  },
  {
   "cell_type": "markdown",
   "metadata": {
    "id": "6Aqh6AW0KzH0"
   },
   "source": [
    "## 3 - Quais lojas tem o maior tempo de produção do pedido?"
   ]
  },
  {
   "cell_type": "markdown",
   "metadata": {
    "id": "7ahgVR7qL_1p"
   },
   "source": [
    "## 4 - Num cenário de negócio, quais alternativas você recomenda para diminuir o tempo de produção dos pedidos?\n",
    "Pode utilizar o Google, ChatGPT para pesquisar sobre o assunto. Consegue indicar algum artigo ciêntifíco, reposítório, ou análise no Kaggle que já tratou sobre este problema?"
   ]
  },
  {
   "cell_type": "markdown",
   "metadata": {
    "id": "9Spc177WM4In"
   },
   "source": [
    "## 5 - Quais são os principais Shoppings/Cidades em número de Pedidos. Faça o upload do .csv de hubs e realize os joins entre os dataframes de orders, stores e hubs para chegar no resultado."
   ]
  }
 ],
 "metadata": {
  "colab": {
   "provenance": []
  },
  "kernelspec": {
   "display_name": "Python 3 (ipykernel)",
   "language": "python",
   "name": "python3"
  },
  "language_info": {
   "codemirror_mode": {
    "name": "ipython",
    "version": 3
   },
   "file_extension": ".py",
   "mimetype": "text/x-python",
   "name": "python",
   "nbconvert_exporter": "python",
   "pygments_lexer": "ipython3",
   "version": "3.12.3"
  }
 },
 "nbformat": 4,
 "nbformat_minor": 4
}
