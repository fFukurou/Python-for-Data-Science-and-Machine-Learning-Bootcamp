{
 "cells": [
  {
   "cell_type": "markdown",
   "metadata": {
    "id": "ieVSM_NaVTDU"
   },
   "source": [
    "#Modelo de Machine Learning de Ponta a Ponta"
   ]
  },
  {
   "cell_type": "markdown",
   "metadata": {
    "id": "adsLnldVXIPu"
   },
   "source": [
    "Depois que apresentamos as soluções para melhorar o desempenho da empresa e recuperar uma parte do faturamento, estamos prontos para criar um Modelo de Machine Learning capaz de prever a demanda para os próximos dias, gerando valor para os parceiros e levando informações preciosas para que eles possam se preparar para o dia de trabalho."
   ]
  },
  {
   "cell_type": "code",
   "execution_count": 1,
   "metadata": {
    "id": "P4KJTld7xMu3"
   },
   "outputs": [],
   "source": [
    "#import das bibliotecas\n",
    "import pandas as pd\n",
    "import numpy as np"
   ]
  },
  {
   "cell_type": "markdown",
   "metadata": {
    "id": "B4rp2cIZyof2"
   },
   "source": [
    "## Análise de Estrutura"
   ]
  },
  {
   "cell_type": "markdown",
   "metadata": {
    "id": "qJjAbDBWVXI7"
   },
   "source": [
    "## Remoção de Outliers"
   ]
  },
  {
   "cell_type": "code",
   "execution_count": 2,
   "metadata": {
    "id": "QKHvsKN89Vi9"
   },
   "outputs": [
    {
     "ename": "FileNotFoundError",
     "evalue": "[Errno 2] No such file or directory: 'orders.csv'",
     "output_type": "error",
     "traceback": [
      "\u001b[1;31m---------------------------------------------------------------------------\u001b[0m",
      "\u001b[1;31mFileNotFoundError\u001b[0m                         Traceback (most recent call last)",
      "Cell \u001b[1;32mIn[2], line 2\u001b[0m\n\u001b[0;32m      1\u001b[0m \u001b[38;5;66;03m#Leitura do csv\u001b[39;00m\n\u001b[1;32m----> 2\u001b[0m df_orders \u001b[38;5;241m=\u001b[39m \u001b[43mpd\u001b[49m\u001b[38;5;241;43m.\u001b[39;49m\u001b[43mread_csv\u001b[49m\u001b[43m(\u001b[49m\u001b[38;5;124;43m\"\u001b[39;49m\u001b[38;5;124;43morders.csv\u001b[39;49m\u001b[38;5;124;43m\"\u001b[39;49m\u001b[43m)\u001b[49m\n",
      "File \u001b[1;32mC:\\Program Files\\Python312\\Lib\\site-packages\\pandas\\io\\parsers\\readers.py:1026\u001b[0m, in \u001b[0;36mread_csv\u001b[1;34m(filepath_or_buffer, sep, delimiter, header, names, index_col, usecols, dtype, engine, converters, true_values, false_values, skipinitialspace, skiprows, skipfooter, nrows, na_values, keep_default_na, na_filter, verbose, skip_blank_lines, parse_dates, infer_datetime_format, keep_date_col, date_parser, date_format, dayfirst, cache_dates, iterator, chunksize, compression, thousands, decimal, lineterminator, quotechar, quoting, doublequote, escapechar, comment, encoding, encoding_errors, dialect, on_bad_lines, delim_whitespace, low_memory, memory_map, float_precision, storage_options, dtype_backend)\u001b[0m\n\u001b[0;32m   1013\u001b[0m kwds_defaults \u001b[38;5;241m=\u001b[39m _refine_defaults_read(\n\u001b[0;32m   1014\u001b[0m     dialect,\n\u001b[0;32m   1015\u001b[0m     delimiter,\n\u001b[1;32m   (...)\u001b[0m\n\u001b[0;32m   1022\u001b[0m     dtype_backend\u001b[38;5;241m=\u001b[39mdtype_backend,\n\u001b[0;32m   1023\u001b[0m )\n\u001b[0;32m   1024\u001b[0m kwds\u001b[38;5;241m.\u001b[39mupdate(kwds_defaults)\n\u001b[1;32m-> 1026\u001b[0m \u001b[38;5;28;01mreturn\u001b[39;00m \u001b[43m_read\u001b[49m\u001b[43m(\u001b[49m\u001b[43mfilepath_or_buffer\u001b[49m\u001b[43m,\u001b[49m\u001b[43m \u001b[49m\u001b[43mkwds\u001b[49m\u001b[43m)\u001b[49m\n",
      "File \u001b[1;32mC:\\Program Files\\Python312\\Lib\\site-packages\\pandas\\io\\parsers\\readers.py:620\u001b[0m, in \u001b[0;36m_read\u001b[1;34m(filepath_or_buffer, kwds)\u001b[0m\n\u001b[0;32m    617\u001b[0m _validate_names(kwds\u001b[38;5;241m.\u001b[39mget(\u001b[38;5;124m\"\u001b[39m\u001b[38;5;124mnames\u001b[39m\u001b[38;5;124m\"\u001b[39m, \u001b[38;5;28;01mNone\u001b[39;00m))\n\u001b[0;32m    619\u001b[0m \u001b[38;5;66;03m# Create the parser.\u001b[39;00m\n\u001b[1;32m--> 620\u001b[0m parser \u001b[38;5;241m=\u001b[39m \u001b[43mTextFileReader\u001b[49m\u001b[43m(\u001b[49m\u001b[43mfilepath_or_buffer\u001b[49m\u001b[43m,\u001b[49m\u001b[43m \u001b[49m\u001b[38;5;241;43m*\u001b[39;49m\u001b[38;5;241;43m*\u001b[39;49m\u001b[43mkwds\u001b[49m\u001b[43m)\u001b[49m\n\u001b[0;32m    622\u001b[0m \u001b[38;5;28;01mif\u001b[39;00m chunksize \u001b[38;5;129;01mor\u001b[39;00m iterator:\n\u001b[0;32m    623\u001b[0m     \u001b[38;5;28;01mreturn\u001b[39;00m parser\n",
      "File \u001b[1;32mC:\\Program Files\\Python312\\Lib\\site-packages\\pandas\\io\\parsers\\readers.py:1620\u001b[0m, in \u001b[0;36mTextFileReader.__init__\u001b[1;34m(self, f, engine, **kwds)\u001b[0m\n\u001b[0;32m   1617\u001b[0m     \u001b[38;5;28mself\u001b[39m\u001b[38;5;241m.\u001b[39moptions[\u001b[38;5;124m\"\u001b[39m\u001b[38;5;124mhas_index_names\u001b[39m\u001b[38;5;124m\"\u001b[39m] \u001b[38;5;241m=\u001b[39m kwds[\u001b[38;5;124m\"\u001b[39m\u001b[38;5;124mhas_index_names\u001b[39m\u001b[38;5;124m\"\u001b[39m]\n\u001b[0;32m   1619\u001b[0m \u001b[38;5;28mself\u001b[39m\u001b[38;5;241m.\u001b[39mhandles: IOHandles \u001b[38;5;241m|\u001b[39m \u001b[38;5;28;01mNone\u001b[39;00m \u001b[38;5;241m=\u001b[39m \u001b[38;5;28;01mNone\u001b[39;00m\n\u001b[1;32m-> 1620\u001b[0m \u001b[38;5;28mself\u001b[39m\u001b[38;5;241m.\u001b[39m_engine \u001b[38;5;241m=\u001b[39m \u001b[38;5;28;43mself\u001b[39;49m\u001b[38;5;241;43m.\u001b[39;49m\u001b[43m_make_engine\u001b[49m\u001b[43m(\u001b[49m\u001b[43mf\u001b[49m\u001b[43m,\u001b[49m\u001b[43m \u001b[49m\u001b[38;5;28;43mself\u001b[39;49m\u001b[38;5;241;43m.\u001b[39;49m\u001b[43mengine\u001b[49m\u001b[43m)\u001b[49m\n",
      "File \u001b[1;32mC:\\Program Files\\Python312\\Lib\\site-packages\\pandas\\io\\parsers\\readers.py:1880\u001b[0m, in \u001b[0;36mTextFileReader._make_engine\u001b[1;34m(self, f, engine)\u001b[0m\n\u001b[0;32m   1878\u001b[0m     \u001b[38;5;28;01mif\u001b[39;00m \u001b[38;5;124m\"\u001b[39m\u001b[38;5;124mb\u001b[39m\u001b[38;5;124m\"\u001b[39m \u001b[38;5;129;01mnot\u001b[39;00m \u001b[38;5;129;01min\u001b[39;00m mode:\n\u001b[0;32m   1879\u001b[0m         mode \u001b[38;5;241m+\u001b[39m\u001b[38;5;241m=\u001b[39m \u001b[38;5;124m\"\u001b[39m\u001b[38;5;124mb\u001b[39m\u001b[38;5;124m\"\u001b[39m\n\u001b[1;32m-> 1880\u001b[0m \u001b[38;5;28mself\u001b[39m\u001b[38;5;241m.\u001b[39mhandles \u001b[38;5;241m=\u001b[39m \u001b[43mget_handle\u001b[49m\u001b[43m(\u001b[49m\n\u001b[0;32m   1881\u001b[0m \u001b[43m    \u001b[49m\u001b[43mf\u001b[49m\u001b[43m,\u001b[49m\n\u001b[0;32m   1882\u001b[0m \u001b[43m    \u001b[49m\u001b[43mmode\u001b[49m\u001b[43m,\u001b[49m\n\u001b[0;32m   1883\u001b[0m \u001b[43m    \u001b[49m\u001b[43mencoding\u001b[49m\u001b[38;5;241;43m=\u001b[39;49m\u001b[38;5;28;43mself\u001b[39;49m\u001b[38;5;241;43m.\u001b[39;49m\u001b[43moptions\u001b[49m\u001b[38;5;241;43m.\u001b[39;49m\u001b[43mget\u001b[49m\u001b[43m(\u001b[49m\u001b[38;5;124;43m\"\u001b[39;49m\u001b[38;5;124;43mencoding\u001b[39;49m\u001b[38;5;124;43m\"\u001b[39;49m\u001b[43m,\u001b[49m\u001b[43m \u001b[49m\u001b[38;5;28;43;01mNone\u001b[39;49;00m\u001b[43m)\u001b[49m\u001b[43m,\u001b[49m\n\u001b[0;32m   1884\u001b[0m \u001b[43m    \u001b[49m\u001b[43mcompression\u001b[49m\u001b[38;5;241;43m=\u001b[39;49m\u001b[38;5;28;43mself\u001b[39;49m\u001b[38;5;241;43m.\u001b[39;49m\u001b[43moptions\u001b[49m\u001b[38;5;241;43m.\u001b[39;49m\u001b[43mget\u001b[49m\u001b[43m(\u001b[49m\u001b[38;5;124;43m\"\u001b[39;49m\u001b[38;5;124;43mcompression\u001b[39;49m\u001b[38;5;124;43m\"\u001b[39;49m\u001b[43m,\u001b[49m\u001b[43m \u001b[49m\u001b[38;5;28;43;01mNone\u001b[39;49;00m\u001b[43m)\u001b[49m\u001b[43m,\u001b[49m\n\u001b[0;32m   1885\u001b[0m \u001b[43m    \u001b[49m\u001b[43mmemory_map\u001b[49m\u001b[38;5;241;43m=\u001b[39;49m\u001b[38;5;28;43mself\u001b[39;49m\u001b[38;5;241;43m.\u001b[39;49m\u001b[43moptions\u001b[49m\u001b[38;5;241;43m.\u001b[39;49m\u001b[43mget\u001b[49m\u001b[43m(\u001b[49m\u001b[38;5;124;43m\"\u001b[39;49m\u001b[38;5;124;43mmemory_map\u001b[39;49m\u001b[38;5;124;43m\"\u001b[39;49m\u001b[43m,\u001b[49m\u001b[43m \u001b[49m\u001b[38;5;28;43;01mFalse\u001b[39;49;00m\u001b[43m)\u001b[49m\u001b[43m,\u001b[49m\n\u001b[0;32m   1886\u001b[0m \u001b[43m    \u001b[49m\u001b[43mis_text\u001b[49m\u001b[38;5;241;43m=\u001b[39;49m\u001b[43mis_text\u001b[49m\u001b[43m,\u001b[49m\n\u001b[0;32m   1887\u001b[0m \u001b[43m    \u001b[49m\u001b[43merrors\u001b[49m\u001b[38;5;241;43m=\u001b[39;49m\u001b[38;5;28;43mself\u001b[39;49m\u001b[38;5;241;43m.\u001b[39;49m\u001b[43moptions\u001b[49m\u001b[38;5;241;43m.\u001b[39;49m\u001b[43mget\u001b[49m\u001b[43m(\u001b[49m\u001b[38;5;124;43m\"\u001b[39;49m\u001b[38;5;124;43mencoding_errors\u001b[39;49m\u001b[38;5;124;43m\"\u001b[39;49m\u001b[43m,\u001b[49m\u001b[43m \u001b[49m\u001b[38;5;124;43m\"\u001b[39;49m\u001b[38;5;124;43mstrict\u001b[39;49m\u001b[38;5;124;43m\"\u001b[39;49m\u001b[43m)\u001b[49m\u001b[43m,\u001b[49m\n\u001b[0;32m   1888\u001b[0m \u001b[43m    \u001b[49m\u001b[43mstorage_options\u001b[49m\u001b[38;5;241;43m=\u001b[39;49m\u001b[38;5;28;43mself\u001b[39;49m\u001b[38;5;241;43m.\u001b[39;49m\u001b[43moptions\u001b[49m\u001b[38;5;241;43m.\u001b[39;49m\u001b[43mget\u001b[49m\u001b[43m(\u001b[49m\u001b[38;5;124;43m\"\u001b[39;49m\u001b[38;5;124;43mstorage_options\u001b[39;49m\u001b[38;5;124;43m\"\u001b[39;49m\u001b[43m,\u001b[49m\u001b[43m \u001b[49m\u001b[38;5;28;43;01mNone\u001b[39;49;00m\u001b[43m)\u001b[49m\u001b[43m,\u001b[49m\n\u001b[0;32m   1889\u001b[0m \u001b[43m\u001b[49m\u001b[43m)\u001b[49m\n\u001b[0;32m   1890\u001b[0m \u001b[38;5;28;01massert\u001b[39;00m \u001b[38;5;28mself\u001b[39m\u001b[38;5;241m.\u001b[39mhandles \u001b[38;5;129;01mis\u001b[39;00m \u001b[38;5;129;01mnot\u001b[39;00m \u001b[38;5;28;01mNone\u001b[39;00m\n\u001b[0;32m   1891\u001b[0m f \u001b[38;5;241m=\u001b[39m \u001b[38;5;28mself\u001b[39m\u001b[38;5;241m.\u001b[39mhandles\u001b[38;5;241m.\u001b[39mhandle\n",
      "File \u001b[1;32mC:\\Program Files\\Python312\\Lib\\site-packages\\pandas\\io\\common.py:873\u001b[0m, in \u001b[0;36mget_handle\u001b[1;34m(path_or_buf, mode, encoding, compression, memory_map, is_text, errors, storage_options)\u001b[0m\n\u001b[0;32m    868\u001b[0m \u001b[38;5;28;01melif\u001b[39;00m \u001b[38;5;28misinstance\u001b[39m(handle, \u001b[38;5;28mstr\u001b[39m):\n\u001b[0;32m    869\u001b[0m     \u001b[38;5;66;03m# Check whether the filename is to be opened in binary mode.\u001b[39;00m\n\u001b[0;32m    870\u001b[0m     \u001b[38;5;66;03m# Binary mode does not support 'encoding' and 'newline'.\u001b[39;00m\n\u001b[0;32m    871\u001b[0m     \u001b[38;5;28;01mif\u001b[39;00m ioargs\u001b[38;5;241m.\u001b[39mencoding \u001b[38;5;129;01mand\u001b[39;00m \u001b[38;5;124m\"\u001b[39m\u001b[38;5;124mb\u001b[39m\u001b[38;5;124m\"\u001b[39m \u001b[38;5;129;01mnot\u001b[39;00m \u001b[38;5;129;01min\u001b[39;00m ioargs\u001b[38;5;241m.\u001b[39mmode:\n\u001b[0;32m    872\u001b[0m         \u001b[38;5;66;03m# Encoding\u001b[39;00m\n\u001b[1;32m--> 873\u001b[0m         handle \u001b[38;5;241m=\u001b[39m \u001b[38;5;28;43mopen\u001b[39;49m\u001b[43m(\u001b[49m\n\u001b[0;32m    874\u001b[0m \u001b[43m            \u001b[49m\u001b[43mhandle\u001b[49m\u001b[43m,\u001b[49m\n\u001b[0;32m    875\u001b[0m \u001b[43m            \u001b[49m\u001b[43mioargs\u001b[49m\u001b[38;5;241;43m.\u001b[39;49m\u001b[43mmode\u001b[49m\u001b[43m,\u001b[49m\n\u001b[0;32m    876\u001b[0m \u001b[43m            \u001b[49m\u001b[43mencoding\u001b[49m\u001b[38;5;241;43m=\u001b[39;49m\u001b[43mioargs\u001b[49m\u001b[38;5;241;43m.\u001b[39;49m\u001b[43mencoding\u001b[49m\u001b[43m,\u001b[49m\n\u001b[0;32m    877\u001b[0m \u001b[43m            \u001b[49m\u001b[43merrors\u001b[49m\u001b[38;5;241;43m=\u001b[39;49m\u001b[43merrors\u001b[49m\u001b[43m,\u001b[49m\n\u001b[0;32m    878\u001b[0m \u001b[43m            \u001b[49m\u001b[43mnewline\u001b[49m\u001b[38;5;241;43m=\u001b[39;49m\u001b[38;5;124;43m\"\u001b[39;49m\u001b[38;5;124;43m\"\u001b[39;49m\u001b[43m,\u001b[49m\n\u001b[0;32m    879\u001b[0m \u001b[43m        \u001b[49m\u001b[43m)\u001b[49m\n\u001b[0;32m    880\u001b[0m     \u001b[38;5;28;01melse\u001b[39;00m:\n\u001b[0;32m    881\u001b[0m         \u001b[38;5;66;03m# Binary mode\u001b[39;00m\n\u001b[0;32m    882\u001b[0m         handle \u001b[38;5;241m=\u001b[39m \u001b[38;5;28mopen\u001b[39m(handle, ioargs\u001b[38;5;241m.\u001b[39mmode)\n",
      "\u001b[1;31mFileNotFoundError\u001b[0m: [Errno 2] No such file or directory: 'orders.csv'"
     ]
    }
   ],
   "source": [
    "#Leitura do csv\n",
    "df_orders = pd.read_csv(\"orders.csv\")"
   ]
  },
  {
   "cell_type": "code",
   "execution_count": null,
   "metadata": {
    "id": "5018W-fu12t-"
   },
   "outputs": [],
   "source": [
    "#Corte de outliers\n",
    "df_orders = df_orders[(df_orders['order_amount'] >= 15) &\n",
    "          (df_orders['order_amount'] <= 200)]"
   ]
  },
  {
   "cell_type": "code",
   "execution_count": null,
   "metadata": {
    "colab": {
     "base_uri": "https://localhost:8080/"
    },
    "id": "KQQ9AhAmxbHm",
    "outputId": "46b1ae87-7214-4f59-c8ba-a67a7ef09294"
   },
   "outputs": [],
   "source": [
    "#info\n",
    "df_orders.info()"
   ]
  },
  {
   "cell_type": "markdown",
   "metadata": {
    "id": "m1889SjWzJYH"
   },
   "source": [
    "## Novas Features"
   ]
  },
  {
   "cell_type": "code",
   "execution_count": null,
   "metadata": {
    "colab": {
     "base_uri": "https://localhost:8080/"
    },
    "id": "9_3JJnwIzPdD",
    "outputId": "c2071eb2-e1c3-4a0b-9f54-ee1adee80b16"
   },
   "outputs": [],
   "source": [
    "#converter order_moment_created para data\n",
    "df_orders['order_moment_created'] = pd.to_datetime(df_orders['order_moment_created'])"
   ]
  },
  {
   "cell_type": "code",
   "execution_count": null,
   "metadata": {
    "id": "LMgRI5OE1hIk"
   },
   "outputs": [],
   "source": [
    "#nova coluna com o dia da semana\n",
    "df_orders['day_of_week'] = df_orders['order_moment_created'].dt.day_of_week"
   ]
  },
  {
   "cell_type": "code",
   "execution_count": null,
   "metadata": {
    "colab": {
     "base_uri": "https://localhost:8080/",
     "height": 458
    },
    "id": "Kv1fPUWqaQZr",
    "outputId": "7ab4f452-1daa-41f5-88b7-4f4294190212"
   },
   "outputs": [],
   "source": [
    "df_orders['order_moment_created'].dt.day_name()"
   ]
  },
  {
   "cell_type": "code",
   "execution_count": null,
   "metadata": {
    "colab": {
     "base_uri": "https://localhost:8080/",
     "height": 802
    },
    "id": "lPyiEvdJ5w2N",
    "outputId": "a8b7a916-8fdd-474b-ee2f-5d33aaca9540"
   },
   "outputs": [],
   "source": [
    "#Análise da quantidade de horas que temos pedidos por dia\n",
    "df_orders['order_created_hour'].value_counts().reset_index().sort_values('order_created_hour')"
   ]
  },
  {
   "cell_type": "code",
   "execution_count": null,
   "metadata": {
    "colab": {
     "base_uri": "https://localhost:8080/",
     "height": 35
    },
    "id": "Uw-f5H6Q6X7k",
    "outputId": "cdfa20ee-ff6f-498e-f958-7be5679ceb8f"
   },
   "outputs": [],
   "source": [
    "#criando função por faixa de horário\n",
    "def faixa_horario(hora):\n",
    "    if hora >= 0 and hora <= 5:\n",
    "      return 'madrugada'\n",
    "    elif hora >= 6 and hora <= 10:\n",
    "      return 'manha'\n",
    "    elif hora >= 11 and hora <= 14:\n",
    "      return 'almoco'\n",
    "    elif hora >= 15 and hora <= 18:\n",
    "      return 'tarde'\n",
    "    else:\n",
    "      return 'noite'\n",
    "\n",
    "faixa_horario(13)"
   ]
  },
  {
   "cell_type": "code",
   "execution_count": null,
   "metadata": {
    "id": "HhUb-QCe5aZ2"
   },
   "outputs": [],
   "source": [
    "#aplicando função e criando uma nova coluna com o nome de faixa de horário\n",
    "df_orders['faixa_horario'] = df_orders['order_created_hour'].apply(faixa_horario)"
   ]
  },
  {
   "cell_type": "code",
   "execution_count": null,
   "metadata": {
    "colab": {
     "base_uri": "https://localhost:8080/",
     "height": 272
    },
    "id": "MLN9tLHZ8Rn0",
    "outputId": "38742ca3-82fa-437a-a28c-32142c694a4e"
   },
   "outputs": [],
   "source": [
    "#distribuição da faixa de horário\n",
    "df_orders['faixa_horario'].value_counts()"
   ]
  },
  {
   "cell_type": "markdown",
   "metadata": {
    "id": "OqQgnykXyruE"
   },
   "source": [
    "## DataPrep"
   ]
  },
  {
   "cell_type": "code",
   "execution_count": null,
   "metadata": {
    "id": "E5tzvIEo-giy"
   },
   "outputs": [],
   "source": [
    "#Criando um novo dataset de orders_treatment\n",
    "df_orders_treatment = df_orders.copy()"
   ]
  },
  {
   "cell_type": "code",
   "execution_count": null,
   "metadata": {
    "colab": {
     "base_uri": "https://localhost:8080/"
    },
    "id": "ZEE97xId3L-k",
    "outputId": "65a9fad5-cb86-49e2-c826-08698acf8cec"
   },
   "outputs": [],
   "source": [
    "#info\n",
    "df_orders_treatment.info()"
   ]
  },
  {
   "cell_type": "markdown",
   "metadata": {
    "id": "H2YTy5rBFYlT"
   },
   "source": [
    "### Data Cleaning"
   ]
  },
  {
   "cell_type": "markdown",
   "metadata": {
    "id": "2-70KGa5-mDO"
   },
   "source": [
    "#### Exclusão de colunas"
   ]
  },
  {
   "cell_type": "code",
   "execution_count": null,
   "metadata": {
    "id": "Osr4xOQV2l0M"
   },
   "outputs": [],
   "source": [
    "#após realizar análise das variáveis excluir variável order_moment_delivered\n",
    "df_orders_treatment.drop('order_moment_delivered', axis=1, inplace=True)"
   ]
  },
  {
   "cell_type": "code",
   "execution_count": null,
   "metadata": {
    "id": "A1SOA6Px3OpG"
   },
   "outputs": [],
   "source": [
    "#definição das colunas que serão excluídas da nossa base\n",
    "columns_delete = ['payment_order_id',\n",
    "'delivery_order_id',\n",
    "'order_status',\n",
    "'order_created_minute',\n",
    "'order_created_month',\n",
    "'order_created_year',\n",
    "'order_moment_created',\n",
    "'order_moment_accepted',\n",
    "'order_moment_ready',\n",
    "'order_moment_collected',\n",
    "'order_moment_in_expedition',\n",
    "'order_moment_delivering',\n",
    "'order_moment_finished',\n",
    "'order_delivery_fee',\n",
    "'order_delivery_cost',\n",
    "'order_created_hour']"
   ]
  },
  {
   "cell_type": "code",
   "execution_count": null,
   "metadata": {
    "id": "Q0jLXVK03v9X"
   },
   "outputs": [],
   "source": [
    "#excluir colunas\n",
    "df_orders_treatment.drop(columns_delete, axis=1, inplace=True)"
   ]
  },
  {
   "cell_type": "markdown",
   "metadata": {
    "id": "bLgeTuLD-paw"
   },
   "source": [
    "#### Prenchendo valores nulos"
   ]
  },
  {
   "cell_type": "code",
   "execution_count": null,
   "metadata": {
    "colab": {
     "base_uri": "https://localhost:8080/"
    },
    "id": "joDBi9FtWVSh",
    "outputId": "7c71f111-28e0-44da-e554-666276338e6a"
   },
   "outputs": [],
   "source": [
    "df_orders_treatment.info()"
   ]
  },
  {
   "cell_type": "code",
   "execution_count": null,
   "metadata": {
    "colab": {
     "base_uri": "https://localhost:8080/"
    },
    "id": "IuOEJ3xHDBcZ",
    "outputId": "0c777f2a-b0d5-4cb0-e4cb-b0d055bc955c"
   },
   "outputs": [],
   "source": [
    "#utilização do fillna com a mediana para preencher os valores do order_metric_collected_time\n",
    "df_orders_treatment['order_metric_collected_time'].fillna(df_orders_treatment['order_metric_collected_time'].median(), inplace=True)"
   ]
  },
  {
   "cell_type": "markdown",
   "metadata": {
    "id": "FDclaSBLEkbq"
   },
   "source": [
    "### Criação do dataset final"
   ]
  },
  {
   "cell_type": "code",
   "execution_count": null,
   "metadata": {
    "colab": {
     "base_uri": "https://localhost:8080/",
     "height": 226
    },
    "id": "BroxawKwBeb4",
    "outputId": "e23b7cd1-b841-4427-ae64-ecf15bfc04e1"
   },
   "outputs": [],
   "source": [
    "#Criação do dataset final de grupos\n",
    "df_orders_treatment_group = df_orders_treatment.groupby(['store_id', 'channel_id', 'order_created_day', 'day_of_week', 'faixa_horario']) \\\n",
    "  .agg({'order_metric_collected_time':'median',\n",
    "        'order_metric_paused_time':'median',\n",
    "        'order_metric_production_time':'median',\n",
    "        'order_metric_walking_time':'median',\n",
    "        'order_metric_expediton_speed_time':'median',\n",
    "        'order_metric_transit_time':'median',\n",
    "        'order_metric_cycle_time':'median',\n",
    "        'order_id':'count'}) \\\n",
    "  .reset_index() \\\n",
    "  .sort_values('order_id', ascending=False)\n",
    "\n",
    "df_orders_treatment_group=df_orders_treatment_group.rename(columns = {'order_id':'demanda'})\n",
    "\n",
    "df_orders_treatment_group.head()"
   ]
  },
  {
   "cell_type": "code",
   "execution_count": null,
   "metadata": {
    "colab": {
     "base_uri": "https://localhost:8080/"
    },
    "id": "aNecbZgZ_iiX",
    "outputId": "f591b354-b9cf-4c74-864e-089120cf1037"
   },
   "outputs": [],
   "source": [
    "#info\n",
    "df_orders_treatment_group.info()"
   ]
  },
  {
   "cell_type": "markdown",
   "metadata": {
    "id": "NKw2IBKtEodf"
   },
   "source": [
    "### Criando um conjunto de testes"
   ]
  },
  {
   "cell_type": "markdown",
   "metadata": {
    "id": "_oqalSEkErkv"
   },
   "source": [
    "Antes de seguir adiante, vamos precisar criar um conjunto de teste, colocá-lo de lado e nunca checá-lo. <br/>\n",
    "\n",
    "Quando estimamos o erro de generalização utilizando o conjunto de teste, sua estimativa será muito otimista e será lançado um sistema que não funcionará tão bem quanto o esperado.  <br/>\n",
    "\n",
    "Isso é chamado de **data snooping bias.** <br/>\n",
    "\n",
    "O Scikit-Learn fornece algumas funções para dividir conjuntos de dados em vários subconjuntos de diversas maneiras. A função mais simples é train_test_split."
   ]
  },
  {
   "cell_type": "code",
   "execution_count": null,
   "metadata": {
    "id": "rHzKB3py_sG3"
   },
   "outputs": [],
   "source": [
    "#import do train_test_split\n",
    "from sklearn.model_selection import train_test_split"
   ]
  },
  {
   "cell_type": "code",
   "execution_count": null,
   "metadata": {
    "id": "gG3gTaR2Q5XY"
   },
   "outputs": [],
   "source": [
    "#Separa a base de treino e teste\n",
    "train_set, test_set = train_test_split(df_orders_treatment_group, test_size=0.2, random_state=42)\n",
    "df_orders_train = train_set.copy()"
   ]
  },
  {
   "cell_type": "code",
   "execution_count": null,
   "metadata": {
    "id": "KESN2BGBVApy"
   },
   "outputs": [],
   "source": [
    "#Separa a Label principal\n",
    "df_orders_treatment_label = df_orders_train[['demanda']].copy()"
   ]
  },
  {
   "cell_type": "code",
   "execution_count": null,
   "metadata": {
    "id": "Yq7j9Kc3VL-g"
   },
   "outputs": [],
   "source": [
    "#Remove a Label da base\n",
    "df_orders_treatment = df_orders_train.drop('demanda', axis=1)"
   ]
  },
  {
   "cell_type": "code",
   "execution_count": null,
   "metadata": {
    "id": "3RL7M_wyD61t"
   },
   "outputs": [],
   "source": [
    "#import do numpy\n",
    "import numpy as np"
   ]
  },
  {
   "cell_type": "code",
   "execution_count": null,
   "metadata": {
    "id": "yD4MyMloD5mw"
   },
   "outputs": [],
   "source": [
    "#Seleciona as variáveis float64\n",
    "df_orders_float64 = df_orders_treatment.select_dtypes(np.float64).copy()"
   ]
  },
  {
   "cell_type": "code",
   "execution_count": null,
   "metadata": {
    "id": "MlPpXdTcDnHf"
   },
   "outputs": [],
   "source": [
    "#Import do SimpleImputer\n",
    "from sklearn.impute import SimpleImputer"
   ]
  },
  {
   "cell_type": "code",
   "execution_count": null,
   "metadata": {
    "id": "4qp-NpFTDqHj"
   },
   "outputs": [],
   "source": [
    "#Adicionando estratégia da mediana no imputer\n",
    "imputer = SimpleImputer(strategy=\"median\")"
   ]
  },
  {
   "cell_type": "code",
   "execution_count": null,
   "metadata": {
    "colab": {
     "base_uri": "https://localhost:8080/",
     "height": 80
    },
    "id": "XHgqdnrtEQjd",
    "outputId": "d84c27f2-4149-4e2e-a2d3-8b9d85b3fbb8"
   },
   "outputs": [],
   "source": [
    "#Treina o imputer\n",
    "imputer.fit(df_orders_float64)"
   ]
  },
  {
   "cell_type": "code",
   "execution_count": null,
   "metadata": {
    "id": "25p7I6WhFJ3z"
   },
   "outputs": [],
   "source": [
    "#Cria nova matriz preenchendo os valores nulos com o imputer\n",
    "float_vars =  imputer.transform(df_orders_float64)"
   ]
  },
  {
   "cell_type": "code",
   "execution_count": null,
   "metadata": {
    "colab": {
     "base_uri": "https://localhost:8080/",
     "height": 226
    },
    "id": "zAu5FhBeFYWO",
    "outputId": "abb33b71-e225-48e3-8ace-1283b4510f95"
   },
   "outputs": [],
   "source": [
    "#Cria novo dataset para apresentar os valores\n",
    "df_float64 = pd.DataFrame(float_vars, columns=df_orders_float64.columns,\n",
    "                          index=df_orders_float64.index)\n",
    "df_float64.head()"
   ]
  },
  {
   "cell_type": "code",
   "execution_count": null,
   "metadata": {
    "colab": {
     "base_uri": "https://localhost:8080/"
    },
    "id": "CjkdpgnHFiTW",
    "outputId": "56d8a6b6-5403-45a5-eb55-94d34764a7a0"
   },
   "outputs": [],
   "source": [
    "#info do novo dataset\n",
    "df_float64.info()"
   ]
  },
  {
   "cell_type": "markdown",
   "metadata": {
    "id": "8JRumVFvC-Xs"
   },
   "source": [
    "## Seleção Final"
   ]
  },
  {
   "cell_type": "markdown",
   "metadata": {
    "id": "EwY0dcuLy5Ju"
   },
   "source": [
    "## Variáveis Categóricas"
   ]
  },
  {
   "cell_type": "code",
   "execution_count": null,
   "metadata": {
    "colab": {
     "base_uri": "https://localhost:8080/"
    },
    "id": "esYV575hF758",
    "outputId": "3037fd1b-197b-412b-fc32-52ba8600a945"
   },
   "outputs": [],
   "source": [
    "#info\n",
    "df_orders_treatment.info()"
   ]
  },
  {
   "cell_type": "code",
   "execution_count": null,
   "metadata": {
    "colab": {
     "base_uri": "https://localhost:8080/",
     "height": 206
    },
    "id": "D-QUpDRIGFU-",
    "outputId": "2870d1a5-6971-4e92-ed33-538b17ea6c80"
   },
   "outputs": [],
   "source": [
    "#seleção de day_of_week e faixa_horario\n",
    "df_orders_treatment[['day_of_week', 'faixa_horario']].head()"
   ]
  },
  {
   "cell_type": "code",
   "execution_count": null,
   "metadata": {
    "colab": {
     "base_uri": "https://localhost:8080/",
     "height": 272
    },
    "id": "jhUfHEZaGRwq",
    "outputId": "32892bcf-6b33-4e75-af08-99b3f09431a0"
   },
   "outputs": [],
   "source": [
    "#value_counts faixa de horario\n",
    "df_orders_treatment['faixa_horario'].value_counts()"
   ]
  },
  {
   "cell_type": "code",
   "execution_count": null,
   "metadata": {
    "id": "GyBrO-NgWPM3"
   },
   "outputs": [],
   "source": [
    "#novo dataset com a seleção das variaveis numéricas categóricas\n",
    "df_orders_treatment_cat_num = df_orders_treatment[['store_id', 'channel_id', 'order_created_day']].copy()"
   ]
  },
  {
   "cell_type": "code",
   "execution_count": null,
   "metadata": {
    "id": "kJOxsPD-GYO5"
   },
   "outputs": [],
   "source": [
    "#novo dataset com a seleção das variáveis categóricas\n",
    "df_orders_treatment_cat = df_orders_treatment[['faixa_horario']]"
   ]
  },
  {
   "cell_type": "code",
   "execution_count": null,
   "metadata": {
    "id": "l_LUSah5GopW"
   },
   "outputs": [],
   "source": [
    "#import do OrdinalEncoder e do OneHotEncoder\n",
    "from sklearn.preprocessing import OrdinalEncoder\n",
    "from sklearn.preprocessing import OneHotEncoder"
   ]
  },
  {
   "cell_type": "markdown",
   "metadata": {
    "id": "8DgM52plFzYT"
   },
   "source": [
    "### Ordinal Encoder\n",
    "A maioria dos algoritmos de Aprendizado de Máquina prefere trabalhar com números, então vamos converter as categorias de texto para números. Para tanto, podemos utilizar o método OrdinalEncoder(), que mapeia cada categoria para um número inteiro diferente."
   ]
  },
  {
   "cell_type": "code",
   "execution_count": null,
   "metadata": {
    "colab": {
     "base_uri": "https://localhost:8080/"
    },
    "id": "RRly-ClqGfDa",
    "outputId": "d5ad6a6c-308f-4669-d7f9-9a25231a3499"
   },
   "outputs": [],
   "source": [
    "#tratamento com o OrdinalEncoder\n",
    "ordinal_encoder = OrdinalEncoder()\n",
    "df_orders_treatment_cat_encoded = ordinal_encoder.fit_transform(df_orders_treatment_cat)\n",
    "df_orders_treatment_cat_encoded[:10]"
   ]
  },
  {
   "cell_type": "code",
   "execution_count": null,
   "metadata": {
    "colab": {
     "base_uri": "https://localhost:8080/"
    },
    "id": "aoVOnEqrGwVA",
    "outputId": "9558e96a-7a96-4d19-fcdb-96e68c19d747"
   },
   "outputs": [],
   "source": [
    "#Verificação das categorias do OrdinalEncoder\n",
    "ordinal_encoder.categories_"
   ]
  },
  {
   "cell_type": "markdown",
   "metadata": {
    "id": "VQRnqxB3GNt5"
   },
   "source": [
    "### OneHotEncoder\n",
    "O OrdinalEncoder pega a quantidade de atributos e converte em números, porém transformando puramente em números ele cria uma diferença de valores entre os números. As categorias 0 e 1 transformadas tem uma distância semelhante, não podemos dizer o mesmo para as categorias 0 e 2, os algoritmos de ML enxergarão essa escala como uma diferença significa entre os dados. <br/>\n",
    "A utilização do OneHotEncoder é melhor aproveitada para esses casos. Ela cria novos atributos de acordo com a quantidade de atributos com 0 e 1.\n"
   ]
  },
  {
   "cell_type": "code",
   "execution_count": null,
   "metadata": {
    "colab": {
     "base_uri": "https://localhost:8080/"
    },
    "id": "gkooAI5-G8sR",
    "outputId": "55582736-9779-487b-ee79-4824aae962d2"
   },
   "outputs": [],
   "source": [
    "#tratamento da categoria com o OneHotEncoder\n",
    "cat_encoder = OneHotEncoder()\n",
    "df_orders_treatment_cat_1hot = cat_encoder.fit_transform(df_orders_treatment_cat)\n",
    "df_orders_treatment_cat_1hot"
   ]
  },
  {
   "cell_type": "code",
   "execution_count": null,
   "metadata": {
    "colab": {
     "base_uri": "https://localhost:8080/"
    },
    "id": "4xdn9J15HFS0",
    "outputId": "bb066672-a430-4622-882e-02129301d257"
   },
   "outputs": [],
   "source": [
    "#Visuaulização das categorias em array\n",
    "df_orders_treatment_cat_1hot.toarray()"
   ]
  },
  {
   "cell_type": "code",
   "execution_count": null,
   "metadata": {
    "colab": {
     "base_uri": "https://localhost:8080/"
    },
    "id": "nKAFUfGDHJT7",
    "outputId": "61e873f2-e609-42d2-d15e-36320f3e3da1"
   },
   "outputs": [],
   "source": [
    "#Visuaulização das categorias\n",
    "cat_encoder.categories_"
   ]
  },
  {
   "cell_type": "markdown",
   "metadata": {
    "id": "7gP5xugHzlC0"
   },
   "source": [
    "## Escalonando nossos dados"
   ]
  },
  {
   "cell_type": "code",
   "execution_count": null,
   "metadata": {
    "colab": {
     "base_uri": "https://localhost:8080/",
     "height": 226
    },
    "id": "1BSwtH47XDD6",
    "outputId": "bf209d08-2bce-4c80-ba68-94b05573cfa4"
   },
   "outputs": [],
   "source": [
    "#visualização do df_float64\n",
    "df_float64.head()"
   ]
  },
  {
   "cell_type": "code",
   "execution_count": null,
   "metadata": {
    "id": "KZeX408IXZBh"
   },
   "outputs": [],
   "source": [
    "#import do MinMaxScaler e do StandardScaler\n",
    "from sklearn.preprocessing import MinMaxScaler\n",
    "from sklearn.preprocessing import StandardScaler"
   ]
  },
  {
   "cell_type": "markdown",
   "metadata": {
    "id": "mjazQhmnGWjt"
   },
   "source": [
    "### MinMaxScaler\n",
    "O escalonamento min-max (muitas pessoas chamam de normalização) é bastante simples: os valores são deslocados e redimensionados para que acabem variando de 0 a 1. Ele subtrai o valor mínimo e divide pelo máximo menos o mínimo. O Scikit-Learn fornece um transformador chamado MinMaxScaler para isso. Ele possui um hiper parâmetro feature_range que permite alterar o intervalo se não quiser 0-1 por algum motivo."
   ]
  },
  {
   "cell_type": "code",
   "execution_count": null,
   "metadata": {
    "id": "Nbz6ypOfXQy4"
   },
   "outputs": [],
   "source": [
    "#Tratamento com MinMaxScaler\n",
    "scaler = MinMaxScaler()\n",
    "scaler.fit(df_float64)\n",
    "df_float64_transform = scaler.transform(df_float64)"
   ]
  },
  {
   "cell_type": "code",
   "execution_count": null,
   "metadata": {
    "colab": {
     "base_uri": "https://localhost:8080/"
    },
    "id": "Y4L6UwDpXbph",
    "outputId": "6a38479a-f498-4210-fae4-e5dabca56e68"
   },
   "outputs": [],
   "source": [
    "#Visualiza transformação\n",
    "df_float64_transform"
   ]
  },
  {
   "cell_type": "markdown",
   "metadata": {
    "id": "-HKPHlK_XokM"
   },
   "source": [
    "### StandardScaler\n",
    "A padronização é bem diferente: em primeiro lugar ela subtrai o valor médio (assim os valores padronizados sempre têm média zero) e, em seguida, divide pela variância, de modo que a distribuição resultante tenha variância unitária.\n",
    "Ao contrário do escalonamento min-max, a padronização não vincula valores a um intervalo específico, o que pode ser um problema para alguns algoritmos.\n",
    "No entanto, a padronização é muito menos afetada por outliers.\n",
    "O Scikit-Learn fornece um transformador para padronização chamado StandardScaler."
   ]
  },
  {
   "cell_type": "code",
   "execution_count": null,
   "metadata": {
    "id": "fhodSlMYXp8z"
   },
   "outputs": [],
   "source": [
    "#Tratamento com o SatandardScaler\n",
    "standard = StandardScaler()\n",
    "standard.fit(df_float64)\n",
    "df_float64_stardard_transform = standard.transform(df_float64)"
   ]
  },
  {
   "cell_type": "code",
   "execution_count": null,
   "metadata": {
    "colab": {
     "base_uri": "https://localhost:8080/"
    },
    "id": "aytL1XUlXzKW",
    "outputId": "3a8452d8-ae36-4606-9982-fc1565dfac49"
   },
   "outputs": [],
   "source": [
    "#Visualiza transformação\n",
    "df_float64_stardard_transform"
   ]
  },
  {
   "cell_type": "markdown",
   "metadata": {
    "id": "_xF-yUUzz0vc"
   },
   "source": [
    "## Pipeline"
   ]
  },
  {
   "cell_type": "code",
   "execution_count": null,
   "metadata": {
    "id": "-ZZndJX7YbIT"
   },
   "outputs": [],
   "source": [
    "#import do Pipeline\n",
    "from sklearn.pipeline import Pipeline"
   ]
  },
  {
   "cell_type": "markdown",
   "metadata": {
    "id": "AuqivqRTG4H7"
   },
   "source": [
    "Existem muitas etapas de transformação de dados que precisam ser executadas na ordem correta. Felizmente, o Scikit-Learn fornece a classe Pipeline para ajudar tais sequências de transformações.\n",
    "\n",
    "O construtor Pipeline se vale de uma lista de pares de nome/estimador que definem uma sequência de etapas. Todos, exceto o último estimador, devem ser transformadores (ou seja, eles devem ter um método fit_transform()).\n"
   ]
  },
  {
   "cell_type": "markdown",
   "metadata": {
    "id": "GczkaZl3DU4b"
   },
   "source": [
    "### Pipeline Numérico"
   ]
  },
  {
   "cell_type": "code",
   "execution_count": null,
   "metadata": {
    "id": "m4uTVkPpYkAF"
   },
   "outputs": [],
   "source": [
    "#Criação do novo pipeline com o Imputer e StandardScaler\n",
    "num_pipeline = Pipeline([\n",
    "    ('imputer', SimpleImputer(strategy=\"median\")),\n",
    "    ('std_scaler', StandardScaler()),\n",
    "])"
   ]
  },
  {
   "cell_type": "code",
   "execution_count": null,
   "metadata": {
    "id": "slFec5ZHYt0g"
   },
   "outputs": [],
   "source": [
    "#Criação de um novo dataset com o pipline numérico\n",
    "orders_num_tr = num_pipeline.fit_transform(df_orders_float64)"
   ]
  },
  {
   "cell_type": "code",
   "execution_count": null,
   "metadata": {
    "colab": {
     "base_uri": "https://localhost:8080/"
    },
    "id": "Rs3d1B-wY2oz",
    "outputId": "6d5dee26-0d6a-4455-e375-cdd6219ed610"
   },
   "outputs": [],
   "source": [
    "#Apresentação do Shape da transformação após o pipeline\n",
    "orders_num_tr.shape"
   ]
  },
  {
   "cell_type": "markdown",
   "metadata": {
    "id": "JPIbqzVNHE4p"
   },
   "source": [
    "### Pipeline Categório + Full Pipeline"
   ]
  },
  {
   "cell_type": "code",
   "execution_count": null,
   "metadata": {
    "id": "D24yqg9wZSQX"
   },
   "outputs": [],
   "source": [
    "#Import do column transform\n",
    "from sklearn.compose import ColumnTransformer"
   ]
  },
  {
   "cell_type": "code",
   "execution_count": null,
   "metadata": {
    "id": "V42BlUI5Y6v3"
   },
   "outputs": [],
   "source": [
    "#Seleção das variáveis numéricas, categóricas numéricas e categóricas.\n",
    "num_attr = list(df_orders_float64.columns)\n",
    "cat_num_attr = list(df_orders_treatment_cat_num.columns)\n",
    "cat_attr = list(df_orders_treatment_cat.columns)"
   ]
  },
  {
   "cell_type": "code",
   "execution_count": null,
   "metadata": {
    "id": "A1ShBayxD5SH"
   },
   "outputs": [],
   "source": [
    "#Criação do Full Pipeline\n",
    "full_pipeline = ColumnTransformer([\n",
    "    (\"num\", num_pipeline, num_attr),\n",
    "    (\"cat_num\", OrdinalEncoder(handle_unknown='use_encoded_value', unknown_value=-1), cat_num_attr),\n",
    "    (\"cat\", OneHotEncoder(handle_unknown='ignore'), cat_attr),\n",
    "])"
   ]
  },
  {
   "cell_type": "code",
   "execution_count": null,
   "metadata": {
    "id": "09-tdMHYD6zg"
   },
   "outputs": [],
   "source": [
    "#Transformação dos dados através do full pipeline\n",
    "df_orders_prepared = full_pipeline.fit_transform(df_orders_treatment)"
   ]
  },
  {
   "cell_type": "code",
   "execution_count": null,
   "metadata": {
    "colab": {
     "base_uri": "https://localhost:8080/"
    },
    "id": "f1mEYNg3ZlrG",
    "outputId": "9a40bedd-3271-4d1a-fb62-05a32d763b6e"
   },
   "outputs": [],
   "source": [
    "#Apresentação do shspe dos dados transformados\n",
    "df_orders_prepared.shape"
   ]
  },
  {
   "cell_type": "markdown",
   "metadata": {
    "id": "FOes0NdI0j7V"
   },
   "source": [
    "## Trienando o modelo"
   ]
  },
  {
   "cell_type": "markdown",
   "metadata": {
    "id": "bpQhTNt4Hv09"
   },
   "source": [
    "### Regressão Linear\n",
    "A Regressão Linear é uma técnica estatística usada para modelar a relação entre uma variável dependente (ou alvo) e uma ou mais variáveis independentes (ou preditoras). O objetivo é ajustar uma linha reta (ou plano, no caso de múltiplas variáveis) que melhor represente essa relação, de forma a prever os valores da variável dependente com base nos valores das variáveis independentes."
   ]
  },
  {
   "cell_type": "markdown",
   "metadata": {
    "id": "e6JgCYyRI7y-"
   },
   "source": [
    "**Regressão Linear Simples:**<br/>\n",
    "Utiliza uma única variável independente para prever o valor da variável dependente. A equação da reta é dada por:\n",
    "\n",
    "$$\n",
    "y = \\beta_0 + \\beta_1 x + \\epsilon\n",
    "$$\n",
    "\n",
    "Onde:\n",
    "- $( y  )$ é a variável dependente (o que você quer prever),\n",
    "- \\( $\\beta_0 $ ) é o intercepto (onde a linha cruza o eixo y),\n",
    "- \\( $\\beta_1 $) é o coeficiente angular (influência de \\( x \\) sobre \\( y \\)),\n",
    "- \\( x \\) é a variável independente (o que você usa para prever),\n",
    "- \\( $\\epsilon \\$ ) é o erro ou termo de resíduo.\n",
    "\n",
    "**Regressão Linear Múltipla:** <br/>\n",
    "Utiliza duas ou mais variáveis independentes para prever o valor da variável dependente. A equação se expande para:\n",
    "\n",
    "$$\n",
    "y = \\beta_0 + \\beta_1 x_1 + \\beta_2 x_2 + \\dots + \\beta_n x_n + \\epsilon\n",
    "$$\n",
    "\n"
   ]
  },
  {
   "cell_type": "markdown",
   "metadata": {
    "id": "phuWzA_dL7DW"
   },
   "source": [
    "<img src=\"https://analisemacro.com.br/wp-content/uploads/2023/08/p3.png\">"
   ]
  },
  {
   "cell_type": "code",
   "execution_count": null,
   "metadata": {
    "colab": {
     "base_uri": "https://localhost:8080/",
     "height": 80
    },
    "id": "SNu7SixiZ-X_",
    "outputId": "f924b7ea-516e-495b-eae6-12db9878f34b"
   },
   "outputs": [],
   "source": [
    "#import e modelo de regressão linear\n",
    "from sklearn.linear_model import LinearRegression\n",
    "lin_reg = LinearRegression()\n",
    "lin_reg.fit(df_orders_prepared, df_orders_treatment_label)"
   ]
  },
  {
   "cell_type": "code",
   "execution_count": null,
   "metadata": {
    "id": "pfdQidDJaLx9"
   },
   "outputs": [],
   "source": [
    "#Seleciona os dados e as labels e passa pelo full pipeline\n",
    "dados = df_orders_treatment.iloc[:10]\n",
    "labels = df_orders_treatment_label.iloc[:10]\n",
    "\n",
    "dados_preparados = full_pipeline.transform(dados)"
   ]
  },
  {
   "cell_type": "code",
   "execution_count": null,
   "metadata": {
    "colab": {
     "base_uri": "https://localhost:8080/"
    },
    "id": "vUb8w5zzavup",
    "outputId": "152c348c-1859-4567-cbca-06045da69e2a"
   },
   "outputs": [],
   "source": [
    "#Verifica as predições\n",
    "print(\"Predições:\", lin_reg.predict(dados_preparados))"
   ]
  },
  {
   "cell_type": "code",
   "execution_count": null,
   "metadata": {
    "colab": {
     "base_uri": "https://localhost:8080/"
    },
    "id": "SaO1-0YmayKw",
    "outputId": "bf1e32d9-de4a-4384-c082-21a1e972805f"
   },
   "outputs": [],
   "source": [
    "#Verifica os valores reais\n",
    "print(\"Reais:\", labels.values)"
   ]
  },
  {
   "cell_type": "markdown",
   "metadata": {
    "id": "1AGDEhKqNQO2"
   },
   "source": [
    "### RMSE (Root Mean Squared Error)\n",
    "\n",
    "O **RMSE (Root Mean Squared Error)** ou **Erro Quadrático Médio da Raiz** é uma métrica usada para avaliar a qualidade de um modelo de regressão, especialmente em Machine Learning. Ele mede a diferença entre os valores preditos por um modelo e os valores reais observados. O RMSE dá uma indicação de quão bem o modelo está prevendo os dados.\n",
    "\n",
    "**Como é calculado o RMSE?** <br/>\n",
    "\n",
    "O RMSE é calculado em três etapas:\n",
    "\n",
    "1. **Calcula-se o erro para cada ponto de dados**: A diferença entre o valor observado (real) e o valor previsto pelo modelo.\n",
    "   \n",
    "   $$ \\text{Erro} = y_{\\text{real}} - y_{\\text{previsto}} $$\n",
    "\n",
    "2. **Eleva-se o erro ao quadrado**: Isso é feito para garantir que os erros negativos não cancelem os positivos, e também para dar maior peso a erros maiores.\n",
    "$$ \\text{Erro Quadrático} = (y_{\\text{real}} - y_{\\text{previsto}})^2 $$\n",
    "\n",
    "3. **Calcula-se a média dos erros quadráticos**: Soma-se todos os erros quadráticos e divide-se pelo número total de amostras.\n",
    "\n",
    "   $$ \\text{MSE} = \\frac{1}{n} \\sum_{i=1}^{n} (y_{\\text{real}}^{(i)} - y_{\\text{previsto}}^{(i)})^2 $$\n",
    "\n",
    "4. **Tira-se a raiz quadrada** da média dos erros quadráticos:\n",
    "\n",
    "   $$\\text{RMSE} = \\sqrt{\\frac{1}{n} \\sum_{i=1}^{n} (y_{\\text{real}}^{(i)} - y_{\\text{previsto}}^{(i)})^2}$$\n",
    "\n",
    "**Interpretação do RMSE:**\n",
    "- **RMSE = 0**: Indica que o modelo fez previsões perfeitas, ou seja, não houve erro entre os valores previstos e os reais.\n",
    "- **Valores maiores de RMSE**: Sugerem que o modelo tem maior erro de previsão. Quanto maior o RMSE, pior o modelo se ajusta aos dados.\n",
    "\n",
    "**Vantagens do RMSE:**\n",
    "- **Penaliza erros grandes**: Como o erro é elevado ao quadrado, os erros maiores têm um impacto mais significativo na métrica, o que é útil para identificar modelos que cometem grandes erros.\n",
    "\n",
    "**Limitação:**\n",
    "- **Sensível a outliers**: Como o erro é elevado ao quadrado, o RMSE é particularmente sensível a outliers (valores muito distantes dos demais), o que pode distorcer a avaliação do modelo.\n",
    "\n",
    "**Exemplo:**\n",
    "Se um modelo de regressão está prevendo o preço de casas, o RMSE pode ser usado para avaliar o quão próxima a previsão de preço está em relação ao preço real das casas. Se o RMSE for baixo, significa que as previsões estão próximas dos valores reais; se for alto, indica que as previsões estão dispersas dos valores reais.\n",
    "<br/><br/>\n",
    "**Comparação com outras métricas:**\n",
    "- O RMSE pode ser comparado com o **MAE (Mean Absolute Error)**, que é outra métrica comum. A diferença principal é que o RMSE penaliza mais fortemente os erros grandes, enquanto o MAE trata todos os erros de forma linear.\n"
   ]
  },
  {
   "cell_type": "code",
   "execution_count": null,
   "metadata": {
    "colab": {
     "base_uri": "https://localhost:8080/"
    },
    "id": "4ex3F-whHTV5",
    "outputId": "1db16dd2-2dac-4fc2-8a34-d6bba9934965"
   },
   "outputs": [],
   "source": [
    "#Import da métrica erro quadrado médio\n",
    "from sklearn.metrics import mean_squared_error\n",
    "\n",
    "dados_predictions = lin_reg.predict(dados_preparados)\n",
    "lin_mse = mean_squared_error(labels, dados_predictions)\n",
    "lin_rmse = np.sqrt(lin_mse)\n",
    "lin_rmse"
   ]
  },
  {
   "cell_type": "markdown",
   "metadata": {
    "id": "R8IyoCCYPCC9"
   },
   "source": [
    "### MAE (Mean Absolute Error)\n",
    "\n",
    "O **MAE (Mean Absolute Error)** ou **Erro Médio Absoluto** é uma métrica de avaliação usada em modelos de regressão. Ele mede a magnitude média dos erros entre os valores previstos pelo modelo e os valores reais, sem considerar a direção do erro (se o valor previsto foi maior ou menor que o valor real).\n",
    "\n",
    "## Fórmula do MAE:\n",
    "\n",
    "A fórmula para calcular o MAE é:\n",
    "\n",
    "$$\n",
    "MAE = \\frac{1}{n} \\sum_{i=1}^{n} |y_{\\text{real}}^{(i)} - y_{\\text{previsto}}^{(i)}|\n",
    "$$\n",
    "\n",
    "**Como o MAE funciona:**\n",
    "- O MAE simplesmente soma a magnitude de todos os erros (diferença entre previsto e real) e divide pelo número total de pontos de dados.\n",
    "- Como utiliza o valor absoluto, o MAE não se preocupa se o modelo está subestimando ou superestimando as previsões, apenas com a magnitude média do erro.\n",
    "\n",
    "**Interpretação do MAE:**\n",
    "- **MAE = 0**: Significa que o modelo fez previsões perfeitas, ou seja, não há diferença entre os valores reais e os previstos.\n",
    "- **Valores maiores de MAE**: Indicam que as previsões do modelo estão, em média, mais distantes dos valores reais.\n",
    "\n",
    "**Vantagens do MAE:**\n",
    "- **Fácil de interpretar**: O MAE representa o erro médio em unidades da variável prevista, facilitando a compreensão do quão distantes estão as previsões em relação aos valores reais.\n",
    "- **Robustez**: O MAE é menos sensível a outliers (valores extremos) comparado ao RMSE, já que não eleva os erros ao quadrado.\n",
    "\n",
    "**Limitações do MAE:**\n",
    "- **Não penaliza grandes erros com intensidade**: Como não eleva os erros ao quadrado (diferente do RMSE), o MAE trata todos os erros de forma igual. Portanto, grandes erros não são penalizados de forma mais acentuada, o que pode ser uma desvantagem em alguns contextos.\n",
    "\n",
    "**Exemplo de uso do MAE:**\n",
    "Se você estiver prevendo o preço de casas, o MAE pode indicar o erro médio em dólares entre as previsões do modelo e os preços reais. Por exemplo, um **MAE de 5.000 dólares** significa que, em média, o modelo erra em 5.000 dólares ao prever o preço de uma casa.\n",
    "\n",
    "**Comparação com RMSE:**\n",
    "- **MAE** trata todos os erros de forma linear, sem dar mais peso aos erros maiores.\n",
    "- **RMSE** penaliza mais fortemente os grandes erros porque eleva os erros ao quadrado antes de calcular a média.\n",
    "\n",
    "Ambas as métricas são úteis, e a escolha entre uma e outra depende do tipo de análise que você deseja fazer. O **MAE** é mais simples e intuitivo, enquanto o **RMSE** é mais sensível a grandes erros.\n"
   ]
  },
  {
   "cell_type": "code",
   "execution_count": null,
   "metadata": {
    "colab": {
     "base_uri": "https://localhost:8080/"
    },
    "id": "pg4O7ryvO1uv",
    "outputId": "1a6fecdc-9225-416f-cc2e-8381cfb929df"
   },
   "outputs": [],
   "source": [
    "#Import da métrica MAE\n",
    "from sklearn.metrics import mean_absolute_error\n",
    "\n",
    "# Gera as previsões\n",
    "dados_predictions = lin_reg.predict(dados_preparados)\n",
    "\n",
    "# Calcula o MAE\n",
    "lin_mae = mean_absolute_error(labels, dados_predictions)\n",
    "lin_mae\n"
   ]
  },
  {
   "cell_type": "code",
   "execution_count": null,
   "metadata": {
    "colab": {
     "base_uri": "https://localhost:8080/",
     "height": 335
    },
    "id": "Atku55XJHg_Q",
    "outputId": "55f6b72c-33cf-490e-bcf8-6ae00d1c6074"
   },
   "outputs": [],
   "source": [
    "#Describe dos Labels\n",
    "labels['demanda'].describe()"
   ]
  },
  {
   "cell_type": "markdown",
   "metadata": {
    "id": "SMoDDiPEsmmW"
   },
   "source": [
    "### R²\n",
    "\n"
   ]
  },
  {
   "cell_type": "markdown",
   "metadata": {
    "id": "il-Y6ujatmed"
   },
   "source": [
    "## Coeficiente de Determinação (R²)\n",
    "\n",
    "O **R²** (Coeficiente de Determinação) é uma métrica estatística utilizada para avaliar a qualidade de ajuste de um modelo de regressão. Ele mede a proporção da variabilidade total da variável dependente que é explicada pelas variáveis independentes do modelo.\n",
    "\n",
    "### Interpretação do R²:\n",
    "- **R² = 1**: O modelo explica 100% da variabilidade dos dados, ou seja, ajuste perfeito.\n",
    "- **R² = 0**: O modelo não explica nenhuma variabilidade dos dados. Nesse caso, a média dos dados seria um preditor tão bom quanto o modelo.\n",
    "- **R² < 0**: O modelo pode ser pior do que simplesmente usar a média dos dados como predição.\n",
    "\n",
    "### Fórmula do R²:\n",
    "\n",
    "$$\n",
    "R² = 1 - \\frac{\\text{SSR}}{\\text{SST}}\n",
    "$$\n",
    "\n",
    "Onde:\n",
    "- **SSR (Soma dos Quadrados dos Resíduos)**: Representa a soma das diferenças quadráticas entre os valores observados e os preditos pelo modelo.\n",
    "- **SST (Soma Total dos Quadrados)**: Representa a soma das diferenças quadráticas entre os valores observados e a média dos valores observados.\n",
    "\n",
    "Se a **SSR** for pequena, significa que o modelo faz boas previsões, e o valor de **R²** será próximo de 1.\n",
    "\n"
   ]
  },
  {
   "cell_type": "code",
   "execution_count": null,
   "metadata": {
    "id": "gOetZweBs7WB"
   },
   "outputs": [],
   "source": [
    "#import do R²\n",
    "from sklearn.metrics import r2_score"
   ]
  },
  {
   "cell_type": "code",
   "execution_count": null,
   "metadata": {
    "colab": {
     "base_uri": "https://localhost:8080/"
    },
    "id": "amXECLcws9Im",
    "outputId": "d2a766df-bfc4-4ed8-845a-750d7f5ee040"
   },
   "outputs": [],
   "source": [
    "#Nova variáveil com o R²\n",
    "r_squared = r2_score(labels, dados_predictions)\n",
    "\n",
    "# Exibindo o resultado\n",
    "print(f\"R²: {r_squared}\")"
   ]
  },
  {
   "cell_type": "markdown",
   "metadata": {
    "id": "juTwdUDXvWe6"
   },
   "source": [
    "### **Underfitting**\n",
    "Acontece quando o modelo é muito simples e não consegue capturar a complexidade dos dados de treinamento. Como resultado, ele apresenta um desempenho ruim tanto nos dados de treinamento quanto nos dados de teste (ou novos dados), pois não consegue aprender adequadamente os padrões.\n",
    "\n",
    "**Causas principais:**\n",
    "\n",
    "- Modelo muito simples (ex.: uma linha reta para dados que requerem uma curva mais complexa).\n",
    "- Poucos parâmetros ou features.\n",
    "- Pouco tempo de treinamento.\n",
    "- Alto erro nos dados de treinamento.\n",
    "- Baixo desempenho em dados novos (de teste ou validação).\n",
    "\n",
    "**Solução:**\n",
    "\n",
    "- Aumentar a complexidade do modelo.\n",
    "- Adicionar mais features relevantes.\n",
    "- Reduzir a regularização, se estiver em uso.\n"
   ]
  },
  {
   "cell_type": "markdown",
   "metadata": {
    "id": "wjiuQnZTK5gs"
   },
   "source": [
    "## Árvore de Decisão (DecisionTree)\n",
    "\n",
    "A Árvore de Decisão é um algoritmo de aprendizado supervisionado usado tanto para problemas de classificação quanto de regressão. Ela funciona como um conjunto de regras de decisão, onde os dados são divididos em subgrupos com base em características específicas. É chamada de \"árvore\" porque a estrutura se assemelha a um diagrama em forma de árvore, com um nó raiz no topo, nós internos que representam testes em atributos/características, e folhas que representam as decisões finais ou previsões.\n",
    "\n",
    "Estrutura da Árvore de Decisão:\n",
    "- **Nó raiz (Root Node):** É o nó inicial que contém o conjunto completo de dados e é o ponto de partida para a construção da árvore. Este nó representa a divisão do primeiro atributo.\n",
    "\n",
    "- **Nós internos (Internal Nodes):** Cada nó interno representa um teste em um atributo. Aqui, os dados são divididos com base em uma condição de decisão (por exemplo, \"Salário > 50K\").\n",
    "\n",
    "- **Galhos (Branches):** São os caminhos que conectam os nós. Cada ramo representa o resultado de um teste e direciona o fluxo de dados para os nós filhos.\n",
    "\n",
    "- **Folhas (Leaf Nodes):** Os nós folha representam a classe ou valor final de previsão. No caso de classificação, cada folha terá uma classe; no caso de regressão, terá um valor numérico."
   ]
  },
  {
   "cell_type": "code",
   "execution_count": null,
   "metadata": {
    "id": "0h9fnStdJp5d"
   },
   "outputs": [],
   "source": [
    "#import da árvore de decisão\n",
    "from sklearn.tree import DecisionTreeRegressor"
   ]
  },
  {
   "cell_type": "code",
   "execution_count": null,
   "metadata": {
    "colab": {
     "base_uri": "https://localhost:8080/",
     "height": 80
    },
    "id": "qySCrdfuJtzh",
    "outputId": "a2745082-48c6-4446-aa6b-040e8a76d40c"
   },
   "outputs": [],
   "source": [
    "#Treinamento da Árvore de Decisão\n",
    "tree_reg = DecisionTreeRegressor(random_state=42)\n",
    "tree_reg.fit(df_orders_prepared, df_orders_treatment_label)"
   ]
  },
  {
   "cell_type": "code",
   "execution_count": null,
   "metadata": {
    "colab": {
     "base_uri": "https://localhost:8080/"
    },
    "id": "m896xCjYJ4F1",
    "outputId": "d6a315a3-7d53-45a3-a619-83cba376208d"
   },
   "outputs": [],
   "source": [
    "#Realiza as previsões e testa a métrica do RMSE\n",
    "dados_predictions = tree_reg.predict(dados_preparados)\n",
    "tree_mse = mean_squared_error(labels, dados_predictions)\n",
    "tree_rmse = np.sqrt(tree_mse)\n",
    "tree_rmse"
   ]
  },
  {
   "cell_type": "code",
   "execution_count": null,
   "metadata": {
    "colab": {
     "base_uri": "https://localhost:8080/"
    },
    "id": "ND-c4NuQKJqi",
    "outputId": "d6cb38c0-e567-492b-e663-ab837909c0a8"
   },
   "outputs": [],
   "source": [
    "#Dados Predidos\n",
    "dados_predictions"
   ]
  },
  {
   "cell_type": "code",
   "execution_count": null,
   "metadata": {
    "colab": {
     "base_uri": "https://localhost:8080/"
    },
    "id": "aiUuWo8jKP_b",
    "outputId": "7c5ad096-93fe-4cb3-bc76-708784b10f21"
   },
   "outputs": [],
   "source": [
    "#dados reais\n",
    "labels.values"
   ]
  },
  {
   "cell_type": "code",
   "execution_count": null,
   "metadata": {
    "colab": {
     "base_uri": "https://localhost:8080/"
    },
    "id": "OiZF_wFjuTx9",
    "outputId": "ccfcbb05-9510-449a-bf92-812ce64d7513"
   },
   "outputs": [],
   "source": [
    "#Nova variáveil com o R²\n",
    "r_squared = r2_score(labels, dados_predictions)\n",
    "\n",
    "# Exibindo o resultado\n",
    "print(f\"R²: {r_squared}\")"
   ]
  },
  {
   "cell_type": "markdown",
   "metadata": {
    "id": "TD69ihG2v1Dh"
   },
   "source": [
    "### Overfitting\n",
    "Acontece quando o modelo é muito complexo e se ajusta muito bem aos dados de treinamento, capturando até mesmo o ruído e as peculiaridades dos dados. Como resultado, o modelo tem um ótimo desempenho nos dados de treinamento, mas um desempenho ruim em dados novos, porque ele \"aprendeu demais\" sobre os dados de treinamento e não consegue generalizar.\n",
    "\n",
    "**Causas principais:**\n",
    "\n",
    "- Modelo muito complexo (ex.: muitas camadas em uma rede neural ou uma árvore de decisão muito profunda).\n",
    "- Muito tempo de treinamento, levando o modelo a memorizar os dados de treinamento.\n",
    "- Pequeno conjunto de dados de treinamento (poucos exemplos).\n",
    "\n",
    "**Sintomas:**\n",
    "\n",
    "- Baixo erro nos dados de treinamento.\n",
    "- Alto erro nos dados de teste ou validação.\n",
    "\n",
    "**Solução:**\n",
    "\n",
    "- Obter mais dados para o treinamento.\n",
    "- Reduzir a complexidade do modelo (ex.: reduzir o número de parâmetros)."
   ]
  },
  {
   "cell_type": "markdown",
   "metadata": {
    "id": "qfArqpjVK2KC"
   },
   "source": [
    "## Árvores Aleatória (Randon Forest)\n",
    "\n",
    "As Árvores Aleatórias (ou Random Forest) são uma extensão do algoritmo de Árvores de Decisão que combinam várias árvores de decisão para melhorar a precisão do modelo e reduzir o risco de overfitting (superajuste). Essa técnica é amplamente utilizada tanto para tarefas de classificação quanto de regressão e é conhecida por ser robusta, precisa e fácil de interpretar.\n",
    "\n",
    "O que é uma Random Forest?\n",
    "Uma Random Forest é composta por um conjunto de árvores de decisão independentes (daí o nome \"floresta\"), onde cada árvore é treinada em uma amostra diferente dos dados e com um subconjunto aleatório dos atributos. As previsões finais são feitas com base no consenso das árvores, o que reduz a variância e melhora a generalização do modelo.\n",
    "\n",
    "- Para classificação, a Random Forest usa a votação majoritária: cada árvore faz uma previsão e a classe mais votada é escolhida como a previsão final.\n",
    "- Para regressão, a Random Forest faz a média das previsões das várias árvores."
   ]
  },
  {
   "cell_type": "code",
   "execution_count": null,
   "metadata": {
    "id": "OmqOfPqpKXMy"
   },
   "outputs": [],
   "source": [
    "#import do random forest\n",
    "from sklearn.ensemble import RandomForestRegressor"
   ]
  },
  {
   "cell_type": "code",
   "execution_count": null,
   "metadata": {
    "colab": {
     "base_uri": "https://localhost:8080/",
     "height": 135
    },
    "id": "6yUIGKxAKaNE",
    "outputId": "a7b65a45-9ff1-4c7a-f8c4-e446e35c5ed1"
   },
   "outputs": [],
   "source": [
    "#treinamento do random forest\n",
    "forest_reg = RandomForestRegressor(n_estimators=10, random_state=42)\n",
    "forest_reg.fit(df_orders_prepared, df_orders_treatment_label)"
   ]
  },
  {
   "cell_type": "code",
   "execution_count": null,
   "metadata": {
    "colab": {
     "base_uri": "https://localhost:8080/"
    },
    "id": "DhKkMbXkKgEY",
    "outputId": "1ce673f7-f10e-4d9a-bc17-bcf3ddd13509"
   },
   "outputs": [],
   "source": [
    "#Realiza as previsões e testa a métrica do RMSE\n",
    "dados_predictions = forest_reg.predict(dados_preparados)\n",
    "forest_mse = mean_squared_error(labels, dados_predictions)\n",
    "forest_rmse = np.sqrt(forest_mse)\n",
    "forest_rmse"
   ]
  },
  {
   "cell_type": "code",
   "execution_count": null,
   "metadata": {
    "colab": {
     "base_uri": "https://localhost:8080/"
    },
    "id": "Jozu6CqMZB5I",
    "outputId": "55b3fb9b-450c-4993-92a0-e5f5a817b292"
   },
   "outputs": [],
   "source": [
    "df_orders_treatment.shape"
   ]
  },
  {
   "cell_type": "code",
   "execution_count": null,
   "metadata": {
    "colab": {
     "base_uri": "https://localhost:8080/"
    },
    "id": "lWBQhrd1YlOE",
    "outputId": "c8500ee8-59a1-4bbb-f587-a6a92e1550e6"
   },
   "outputs": [],
   "source": [
    "forest_reg.feature_importances_.shape"
   ]
  },
  {
   "cell_type": "code",
   "execution_count": null,
   "metadata": {
    "id": "Q6vQoiXzYzbL"
   },
   "outputs": [],
   "source": []
  },
  {
   "cell_type": "code",
   "execution_count": null,
   "metadata": {
    "colab": {
     "base_uri": "https://localhost:8080/"
    },
    "id": "zcd4Gpv1Km81",
    "outputId": "0bd6c045-5e24-4afa-dd75-34281e324575"
   },
   "outputs": [],
   "source": [
    "#predições\n",
    "dados_predictions"
   ]
  },
  {
   "cell_type": "code",
   "execution_count": null,
   "metadata": {
    "colab": {
     "base_uri": "https://localhost:8080/"
    },
    "id": "NcDBOSnVKrVn",
    "outputId": "91e86e70-dbb3-4c39-8155-33ace27f6eaa"
   },
   "outputs": [],
   "source": [
    "#valores reais\n",
    "labels.values"
   ]
  },
  {
   "cell_type": "code",
   "execution_count": null,
   "metadata": {
    "colab": {
     "base_uri": "https://localhost:8080/"
    },
    "id": "e6aqfQw8uZ_j",
    "outputId": "f8d41577-21af-4526-8832-0bc235c05b72"
   },
   "outputs": [],
   "source": [
    "#Nova variáveil com o R²\n",
    "r_squared = r2_score(labels, dados_predictions)\n",
    "\n",
    "# Exibindo o resultado\n",
    "print(f\"R²: {r_squared}\")"
   ]
  },
  {
   "cell_type": "markdown",
   "metadata": {
    "id": "CaoOX2iTMbed"
   },
   "source": [
    "## Modelo Final\n",
    "\n",
    "Agora que já definimos o nosso modelo com a melhor métrica, podemos fazer criar o modelo de Machine Learning"
   ]
  },
  {
   "cell_type": "code",
   "execution_count": null,
   "metadata": {
    "id": "HON9QlzRSn_Q"
   },
   "outputs": [],
   "source": [
    "#seleciona o dataset de teste\n",
    "df_orders_test = test_set"
   ]
  },
  {
   "cell_type": "code",
   "execution_count": null,
   "metadata": {
    "id": "L1yzpXgySp25"
   },
   "outputs": [],
   "source": [
    "#seleciona o modelo final\n",
    "final_model = forest_reg"
   ]
  },
  {
   "cell_type": "code",
   "execution_count": null,
   "metadata": {
    "id": "_VE3ItifSvP_"
   },
   "outputs": [],
   "source": [
    "# Usando o conjunto de teste para a avaliação\n",
    "X_test = df_orders_test.drop(\"demanda\", axis=1)  # Remover a coluna 'demanda' do conjunto de teste\n",
    "y_test = df_orders_test[\"demanda\"].copy()        # Alvo verdadeiro do conjunto de teste"
   ]
  },
  {
   "cell_type": "code",
   "execution_count": null,
   "metadata": {
    "id": "48bwm2TRSw_a"
   },
   "outputs": [],
   "source": [
    "# Transformando os dados de teste com o pipeline usado no treinamento\n",
    "X_test_prepared = full_pipeline.transform(X_test)"
   ]
  },
  {
   "cell_type": "code",
   "execution_count": null,
   "metadata": {
    "id": "MTHiQ5L6Szge"
   },
   "outputs": [],
   "source": [
    "# Fazendo previsões com o modelo final\n",
    "final_predictions = final_model.predict(X_test_prepared)"
   ]
  },
  {
   "cell_type": "code",
   "execution_count": null,
   "metadata": {
    "colab": {
     "base_uri": "https://localhost:8080/"
    },
    "id": "BMrCEzFrOa0_",
    "outputId": "fcc1295f-17f1-474b-c97c-15cf01457a26"
   },
   "outputs": [],
   "source": [
    "# Calculando as métricas de desempenho\n",
    "final_mse = mean_squared_error(y_test, final_predictions)\n",
    "final_rmse = np.sqrt(final_mse)  # Raiz do erro quadrático médio\n",
    "final_mae = mean_absolute_error(y_test, final_predictions)  # Erro absoluto médio\n",
    "final_r_squared = r2_score(y_test, final_predictions) #R²\n",
    "\n",
    "# Exibindo o resultado\n",
    "\n",
    "\n",
    "# Exibindo os resultados\n",
    "print(f\"RMSE: {final_rmse}\")\n",
    "print(f\"MAE: {final_mae}\")\n",
    "print(f\"R²: {final_r_squared}\")"
   ]
  },
  {
   "cell_type": "code",
   "execution_count": null,
   "metadata": {
    "colab": {
     "base_uri": "https://localhost:8080/",
     "height": 335
    },
    "id": "8B1AW7D-U-tL",
    "outputId": "ad767d6c-dbbc-4f32-b3b2-c30168b215c2"
   },
   "outputs": [],
   "source": [
    "y_test.describe()"
   ]
  },
  {
   "cell_type": "code",
   "execution_count": null,
   "metadata": {
    "colab": {
     "base_uri": "https://localhost:8080/"
    },
    "id": "Z8VYEsYuNkJX",
    "outputId": "df524765-87bc-43f3-f298-00c9333f72f9"
   },
   "outputs": [],
   "source": [
    "#avalia os dados de entrada\n",
    "X_test.iloc[3].values"
   ]
  },
  {
   "cell_type": "code",
   "execution_count": null,
   "metadata": {
    "colab": {
     "base_uri": "https://localhost:8080/"
    },
    "id": "-sm3VNuEiXa5",
    "outputId": "e571b5a2-a4ca-4242-ea5b-b53e458f6aa0"
   },
   "outputs": [],
   "source": [
    "X_test.columns"
   ]
  },
  {
   "cell_type": "code",
   "execution_count": null,
   "metadata": {
    "colab": {
     "base_uri": "https://localhost:8080/"
    },
    "id": "lY9o4PUxTqyN",
    "outputId": "c4544ff2-0838-41d8-ccca-8a946604966f"
   },
   "outputs": [],
   "source": [
    "#o valor real\n",
    "y_test.iloc[3]"
   ]
  },
  {
   "cell_type": "code",
   "execution_count": null,
   "metadata": {
    "colab": {
     "base_uri": "https://localhost:8080/"
    },
    "id": "VbDODpTITcpv",
    "outputId": "c9692fa3-ccfe-42ee-d986-77096404cb52"
   },
   "outputs": [],
   "source": [
    "#previsão final\n",
    "final_predictions[3]"
   ]
  },
  {
   "cell_type": "markdown",
   "metadata": {
    "id": "0ZdzvqAS1cDZ"
   },
   "source": [
    "# Export do Modelo e do Pipeline\n",
    "\n",
    "No contexto de aprendizado de máquina, exportar um modelo refere-se ao processo de salvar o estado de um modelo treinado em um arquivo, permitindo que ele seja reutilizado posteriormente sem a necessidade de re-treinamento."
   ]
  },
  {
   "cell_type": "code",
   "execution_count": null,
   "metadata": {
    "id": "MYdIvFjMU8mL"
   },
   "outputs": [],
   "source": [
    "#import do pickle\n",
    "import pickle"
   ]
  },
  {
   "cell_type": "code",
   "execution_count": null,
   "metadata": {
    "id": "FvHpDHkcU_GY"
   },
   "outputs": [],
   "source": [
    "#realiza o dumping do modelo\n",
    "pkl_filename = \"orders_model.pkl\"\n",
    "pickle.dump(final_model, open(pkl_filename, 'wb'))"
   ]
  },
  {
   "cell_type": "code",
   "execution_count": null,
   "metadata": {
    "id": "QxtvbCcJgYnn"
   },
   "outputs": [],
   "source": [
    "#realiza o dumping do modelo\n",
    "pkl_filename_full_pipeline = \"full_pipeline.pkl\"\n",
    "pickle.dump(full_pipeline, open(pkl_filename_full_pipeline, 'wb'))"
   ]
  },
  {
   "cell_type": "markdown",
   "metadata": {
    "id": "-WKuyGNe1eSB"
   },
   "source": [
    "## Imports"
   ]
  },
  {
   "cell_type": "code",
   "execution_count": null,
   "metadata": {
    "id": "hpQfcqUSVFwk"
   },
   "outputs": [],
   "source": [
    "#import do modelo\n",
    "loaded_model = pickle.load(open(\"orders_model.pkl\", 'rb'))\n",
    "loaded_full_pipeline = pickle.load(open(\"full_pipeline.pkl\", 'rb'))"
   ]
  },
  {
   "cell_type": "code",
   "execution_count": null,
   "metadata": {
    "id": "4lVi-u28id_F"
   },
   "outputs": [],
   "source": [
    "#Estrutura os dados de entrada para integração do modelo\n",
    "columns = ['store_id', 'channel_id', 'order_created_day', 'day_of_week',\n",
    "       'faixa_horario', 'order_metric_collected_time',\n",
    "       'order_metric_paused_time', 'order_metric_production_time',\n",
    "       'order_metric_walking_time', 'order_metric_expediton_speed_time',\n",
    "       'order_metric_transit_time', 'order_metric_cycle_time']\n",
    "\n",
    "values = [295, 35, 5, 4, 'tarde', 2.67, 33.22, 55.02, 4.75, 37.97, 11.15,\n",
    "       104.13]"
   ]
  },
  {
   "cell_type": "code",
   "execution_count": null,
   "metadata": {
    "colab": {
     "base_uri": "https://localhost:8080/",
     "height": 101
    },
    "id": "YC65cUBKgOzy",
    "outputId": "d5ce41ad-a517-4ae8-9799-60e328b331c2"
   },
   "outputs": [],
   "source": [
    "#Cria o dataframe\n",
    "df = pd.DataFrame([values], columns=columns)\n",
    "df.head()"
   ]
  },
  {
   "cell_type": "code",
   "execution_count": null,
   "metadata": {
    "colab": {
     "base_uri": "https://localhost:8080/"
    },
    "id": "uxg4w2qGnMiW",
    "outputId": "5955cbf6-a287-4038-ec22-51b60ff43ab1"
   },
   "outputs": [],
   "source": [
    "#Prepada os dados para a predição\n",
    "X_test_prepared = loaded_full_pipeline.transform(df)\n",
    "X_test_prepared"
   ]
  },
  {
   "cell_type": "code",
   "execution_count": null,
   "metadata": {
    "colab": {
     "base_uri": "https://localhost:8080/"
    },
    "id": "LgPnn5ZlnXAx",
    "outputId": "c0911590-a860-4553-f6b8-90907dba7336"
   },
   "outputs": [],
   "source": [
    "#Realiza a Predição\n",
    "prediction = loaded_model.predict(X_test_prepared)\n",
    "prediction[0]"
   ]
  },
  {
   "cell_type": "code",
   "execution_count": null,
   "metadata": {
    "colab": {
     "base_uri": "https://localhost:8080/",
     "height": 35
    },
    "id": "YLfNOIXnkfrL",
    "outputId": "9d642cdd-37c9-4678-d956-793da7be78c0"
   },
   "outputs": [],
   "source": [
    "#Verifica a versão da biblioteca para adicionar ao Flask\n",
    "import sklearn\n",
    "sklearn.__version__"
   ]
  }
 ],
 "metadata": {
  "colab": {
   "provenance": [],
   "toc_visible": true
  },
  "kernelspec": {
   "display_name": "Python 3 (ipykernel)",
   "language": "python",
   "name": "python3"
  },
  "language_info": {
   "codemirror_mode": {
    "name": "ipython",
    "version": 3
   },
   "file_extension": ".py",
   "mimetype": "text/x-python",
   "name": "python",
   "nbconvert_exporter": "python",
   "pygments_lexer": "ipython3",
   "version": "3.12.3"
  }
 },
 "nbformat": 4,
 "nbformat_minor": 4
}
