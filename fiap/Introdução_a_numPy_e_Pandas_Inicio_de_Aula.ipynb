{
 "cells": [
  {
   "cell_type": "markdown",
   "metadata": {
    "id": "24Yl1Jh5Txum"
   },
   "source": [
    "#Introdução a numPy e Pandas\n",
    "pandas e numpy são bibliotecas essenciais para análise de dados em Python. numpy fornece suporte para arrays eficientes e operações matemáticas, enquanto pandas usa essa base para trabalhar com dados estruturados em tabelas, facilitando a manipulação, análise e limpeza dos dados."
   ]
  },
  {
   "cell_type": "markdown",
   "metadata": {
    "id": "LiU74UOBTt0g"
   },
   "source": [
    "##Import das Bibliotecas"
   ]
  },
  {
   "cell_type": "code",
   "execution_count": 4,
   "metadata": {
    "id": "jIvw2gdMPXpE"
   },
   "outputs": [],
   "source": [
    "#Import das bibliotecas\n",
    "import numpy as np\n",
    "import pandas as pd"
   ]
  },
  {
   "cell_type": "markdown",
   "metadata": {
    "id": "N0SClOa-VvzI"
   },
   "source": [
    "##numPy\n",
    "O numpy é uma biblioteca fundamental para computação numérica em Python. Ela fornece suporte para arrays multidimensionais, que permitem armazenar e manipular grandes volumes de dados de forma eficiente. Além disso, oferece funções matemáticas de alto desempenho para cálculos científicos e análises complexas."
   ]
  },
  {
   "cell_type": "markdown",
   "metadata": {
    "id": "YFiDexmoT2vi"
   },
   "source": [
    "### Criação de um ndarray"
   ]
  },
  {
   "cell_type": "markdown",
   "metadata": {
    "id": "Hpp8-Ax32PEz"
   },
   "source": [
    "Um ndarray (N-dimensional array) é o principal objeto da biblioteca numpy. Ele é uma estrutura de dados que armazena elementos de forma multidimensional em um array de tamanho fixo, onde todos os elementos devem ser do mesmo tipo (como inteiros, floats, etc.). O ndarray é altamente eficiente para operações matemáticas e computacionais."
   ]
  },
  {
   "cell_type": "code",
   "execution_count": 9,
   "metadata": {
    "id": "YYsgWkgzPcoD"
   },
   "outputs": [
    {
     "data": {
      "text/plain": [
       "array([20, 30, 21, 23])"
      ]
     },
     "execution_count": 9,
     "metadata": {},
     "output_type": "execute_result"
    }
   ],
   "source": [
    "#Vamos criar um ndarray simples\n",
    "numbers = np.array([20, 30, 21, 23])\n",
    "numbers"
   ]
  },
  {
   "cell_type": "markdown",
   "metadata": {
    "id": "bhhNulPWUAq5"
   },
   "source": [
    "### Operações Matemáticas"
   ]
  },
  {
   "cell_type": "code",
   "execution_count": 11,
   "metadata": {
    "id": "S5FEoqztUF3P"
   },
   "outputs": [
    {
     "data": {
      "text/plain": [
       "array([40, 60, 42, 46])"
      ]
     },
     "execution_count": 11,
     "metadata": {},
     "output_type": "execute_result"
    }
   ],
   "source": [
    "#Multiplicação do ndarray por 2\n",
    "\n",
    "numbers * 2"
   ]
  },
  {
   "cell_type": "code",
   "execution_count": 13,
   "metadata": {
    "id": "us-u3CdWUIdD"
   },
   "outputs": [
    {
     "data": {
      "text/plain": [
       "array([15, 25, 16, 18])"
      ]
     },
     "execution_count": 13,
     "metadata": {},
     "output_type": "execute_result"
    }
   ],
   "source": [
    "#Subtração do ndarray por 5\n",
    "\n",
    "numbers - 5"
   ]
  },
  {
   "cell_type": "code",
   "execution_count": 15,
   "metadata": {
    "id": "c_vfDuqKUKq-"
   },
   "outputs": [
    {
     "data": {
      "text/plain": [
       "array([20, 60, 63, 92])"
      ]
     },
     "execution_count": 15,
     "metadata": {},
     "output_type": "execute_result"
    }
   ],
   "source": [
    "#Multiplicação de dois ndarray\n",
    "numbers2 = np.array([1, 2, 3, 4])\n",
    "\n",
    "numbers * numbers2"
   ]
  },
  {
   "cell_type": "markdown",
   "metadata": {
    "id": "EmSjeLoZUN_O"
   },
   "source": [
    "### Seleção, Indexação e Fatiamento"
   ]
  },
  {
   "cell_type": "code",
   "execution_count": 27,
   "metadata": {
    "id": "neGQlquCUQ5G"
   },
   "outputs": [
    {
     "data": {
      "text/plain": [
       "array([1, 2])"
      ]
     },
     "execution_count": 27,
     "metadata": {},
     "output_type": "execute_result"
    }
   ],
   "source": [
    "#Selecionar todos os valores menores do que 3\n",
    "\n",
    "numbers2[numbers2 < 3]"
   ]
  },
  {
   "cell_type": "code",
   "execution_count": 43,
   "metadata": {
    "id": "VD9BDXCgUP6N"
   },
   "outputs": [
    {
     "data": {
      "text/plain": [
       "array([1, 2, 3])"
      ]
     },
     "execution_count": 43,
     "metadata": {},
     "output_type": "execute_result"
    }
   ],
   "source": [
    "#retornar os três primeiro valores do primeiro array\n",
    "\n",
    "numbers2[0:3]"
   ]
  },
  {
   "cell_type": "code",
   "execution_count": 49,
   "metadata": {
    "id": "KEWE9xbhRtNr"
   },
   "outputs": [
    {
     "data": {
      "text/plain": [
       "array(['Fukurou', 'Jin Sakai', 'Kratos', 'Frieren'], dtype='<U9')"
      ]
     },
     "execution_count": 49,
     "metadata": {},
     "output_type": "execute_result"
    }
   ],
   "source": [
    "#Criar um ndarray de nomes\n",
    "nomes = np.array([\"Fukurou\", \"Jin Sakai\", \"Kratos\", \"Frieren\"])\n",
    "nomes\n"
   ]
  },
  {
   "cell_type": "code",
   "execution_count": 47,
   "metadata": {
    "id": "cwcXpqFgR7bn"
   },
   "outputs": [
    {
     "data": {
      "text/plain": [
       "array([False,  True, False])"
      ]
     },
     "execution_count": 47,
     "metadata": {},
     "output_type": "execute_result"
    }
   ],
   "source": [
    "#testar condição de um nome\n",
    "\n",
    "nomes == \"Jin Sakai\""
   ]
  },
  {
   "cell_type": "code",
   "execution_count": 57,
   "metadata": {
    "id": "yEszdyKESHMC"
   },
   "outputs": [
    {
     "data": {
      "text/html": [
       "<div>\n",
       "<style scoped>\n",
       "    .dataframe tbody tr th:only-of-type {\n",
       "        vertical-align: middle;\n",
       "    }\n",
       "\n",
       "    .dataframe tbody tr th {\n",
       "        vertical-align: top;\n",
       "    }\n",
       "\n",
       "    .dataframe thead th {\n",
       "        text-align: right;\n",
       "    }\n",
       "</style>\n",
       "<table border=\"1\" class=\"dataframe\">\n",
       "  <thead>\n",
       "    <tr style=\"text-align: right;\">\n",
       "      <th></th>\n",
       "      <th>Nome</th>\n",
       "      <th>Valor</th>\n",
       "    </tr>\n",
       "  </thead>\n",
       "  <tbody>\n",
       "    <tr>\n",
       "      <th>2</th>\n",
       "      <td>Kratos</td>\n",
       "      <td>3</td>\n",
       "    </tr>\n",
       "  </tbody>\n",
       "</table>\n",
       "</div>"
      ],
      "text/plain": [
       "     Nome  Valor\n",
       "2  Kratos      3"
      ]
     },
     "execution_count": 57,
     "metadata": {},
     "output_type": "execute_result"
    }
   ],
   "source": [
    "#relacionar a condição do ndarray de nomes com o de valores\n",
    "df = pd.DataFrame({\n",
    "    \"Nome\": nomes,\n",
    "    \"Valor\": numbers2\n",
    "})\n",
    "\n",
    "# Relacionando a condição do array de nomes ao de valores\n",
    "# Exemplo de condição: selecionar valores relacionados com o nome \"Ana\"\n",
    "\n",
    "\n",
    "condicao = df[\"Nome\"] == \"Kratos\"\n",
    "\n",
    "valores_selecionados = df[condicao]\n",
    "\n",
    "valores_selecionados\n"
   ]
  },
  {
   "cell_type": "markdown",
   "metadata": {
    "id": "61151krdVWHR"
   },
   "source": [
    "### Funções Embutidas"
   ]
  },
  {
   "cell_type": "code",
   "execution_count": 65,
   "metadata": {},
   "outputs": [
    {
     "data": {
      "text/plain": [
       "array([1, 2, 3, 4])"
      ]
     },
     "execution_count": 65,
     "metadata": {},
     "output_type": "execute_result"
    }
   ],
   "source": [
    "numbers2"
   ]
  },
  {
   "cell_type": "code",
   "execution_count": 61,
   "metadata": {
    "id": "dpwn_Ps8Vaam"
   },
   "outputs": [
    {
     "data": {
      "text/plain": [
       "10"
      ]
     },
     "execution_count": 61,
     "metadata": {},
     "output_type": "execute_result"
    }
   ],
   "source": [
    "#Função embutida para somar os valores de um ndarray\n",
    "\n",
    "numbers2.sum()"
   ]
  },
  {
   "cell_type": "code",
   "execution_count": 67,
   "metadata": {
    "id": "2Sj77UgDVlTC"
   },
   "outputs": [
    {
     "data": {
      "text/plain": [
       "2.5"
      ]
     },
     "execution_count": 67,
     "metadata": {},
     "output_type": "execute_result"
    }
   ],
   "source": [
    "#Função embutida para realizar a média dos valores de um ndarray\n",
    "\n",
    "numbers2.mean()"
   ]
  },
  {
   "cell_type": "code",
   "execution_count": 69,
   "metadata": {
    "id": "nlGfSr6kVpwj"
   },
   "outputs": [
    {
     "data": {
      "text/plain": [
       "4"
      ]
     },
     "execution_count": 69,
     "metadata": {},
     "output_type": "execute_result"
    }
   ],
   "source": [
    "#Função embutida para retornar o valor máximo de um ndarray\n",
    "\n",
    "numbers2.max()"
   ]
  },
  {
   "cell_type": "markdown",
   "metadata": {
    "id": "4_ZlqtRYWli9"
   },
   "source": [
    "## Pandas\n",
    "Pandas é uma biblioteca de código aberto para análise de dados em Python. Ela é usada principalmente para manipulação, limpeza e análise de dados estruturados, como tabelas (similares às planilhas do Excel). Pandas fornece estruturas de dados eficientes e flexíveis, chamadas de Series (colunas unidimensionais) e DataFrames (tabelas bidimensionais)."
   ]
  },
  {
   "cell_type": "code",
   "execution_count": 75,
   "metadata": {
    "id": "R8AY9q7_WmnV"
   },
   "outputs": [
    {
     "data": {
      "text/html": [
       "<div>\n",
       "<style scoped>\n",
       "    .dataframe tbody tr th:only-of-type {\n",
       "        vertical-align: middle;\n",
       "    }\n",
       "\n",
       "    .dataframe tbody tr th {\n",
       "        vertical-align: top;\n",
       "    }\n",
       "\n",
       "    .dataframe thead th {\n",
       "        text-align: right;\n",
       "    }\n",
       "</style>\n",
       "<table border=\"1\" class=\"dataframe\">\n",
       "  <thead>\n",
       "    <tr style=\"text-align: right;\">\n",
       "      <th></th>\n",
       "      <th>Aluno</th>\n",
       "      <th>Matemática</th>\n",
       "      <th>História</th>\n",
       "      <th>Ciências</th>\n",
       "    </tr>\n",
       "  </thead>\n",
       "  <tbody>\n",
       "    <tr>\n",
       "      <th>0</th>\n",
       "      <td>Robb</td>\n",
       "      <td>85</td>\n",
       "      <td>88</td>\n",
       "      <td>90</td>\n",
       "    </tr>\n",
       "    <tr>\n",
       "      <th>1</th>\n",
       "      <td>Jon</td>\n",
       "      <td>90</td>\n",
       "      <td>92</td>\n",
       "      <td>85</td>\n",
       "    </tr>\n",
       "    <tr>\n",
       "      <th>2</th>\n",
       "      <td>Arya</td>\n",
       "      <td>95</td>\n",
       "      <td>80</td>\n",
       "      <td>88</td>\n",
       "    </tr>\n",
       "  </tbody>\n",
       "</table>\n",
       "</div>"
      ],
      "text/plain": [
       "  Aluno  Matemática  História  Ciências\n",
       "0  Robb          85        88        90\n",
       "1   Jon          90        92        85\n",
       "2  Arya          95        80        88"
      ]
     },
     "execution_count": 75,
     "metadata": {},
     "output_type": "execute_result"
    }
   ],
   "source": [
    "#Dataframe nota dos alunos\n",
    "data = {\n",
    "    'Aluno': ['Robb', 'Jon', 'Arya'],\n",
    "    'Matemática': [85, 90, 95],\n",
    "    'História': [88, 92, 80],\n",
    "    'Ciências': [90, 85, 88]\n",
    "}\n",
    "\n",
    "#realizar a leitura de um Dataframe\n",
    "df_notas = pd.DataFrame(data)\n",
    "\n",
    "\n",
    "#Exibir os 5 primeiros registros\n",
    "df_notas.head()\n",
    "# df_notas.tail()"
   ]
  },
  {
   "cell_type": "markdown",
   "metadata": {
    "id": "LHugsZV44NNo"
   },
   "source": [
    "Um DataFrame do pandas é uma tabela composta por dados organizados em linhas e colunas, com cada coluna tendo seu próprio tipo de dado. O índice ajuda a identificar e acessar as linhas de forma eficiente."
   ]
  },
  {
   "cell_type": "markdown",
   "metadata": {
    "id": "Z4wC2Hsryis4"
   },
   "source": [
    "### Operações Matemáticas"
   ]
  },
  {
   "cell_type": "code",
   "execution_count": 79,
   "metadata": {
    "id": "44ilCv1kylKI"
   },
   "outputs": [
    {
     "data": {
      "text/plain": [
       "0    255\n",
       "1    270\n",
       "2    285\n",
       "Name: Matemática, dtype: int64"
      ]
     },
     "execution_count": 79,
     "metadata": {},
     "output_type": "execute_result"
    }
   ],
   "source": [
    "#Multiplicação de uma coluna de um Dataframe pandas\n",
    "df_notas[\"Matemática\"] * 3\n"
   ]
  },
  {
   "cell_type": "code",
   "execution_count": 81,
   "metadata": {
    "id": "UaSfeWIEytoZ"
   },
   "outputs": [
    {
     "data": {
      "text/plain": [
       "0    28.333333\n",
       "1    30.000000\n",
       "2    31.666667\n",
       "Name: Matemática, dtype: float64"
      ]
     },
     "execution_count": 81,
     "metadata": {},
     "output_type": "execute_result"
    }
   ],
   "source": [
    "#Divisão de uma coluna de um Dataframe pandas\n",
    "df_notas[\"Matemática\"] / 3\n"
   ]
  },
  {
   "cell_type": "code",
   "execution_count": 83,
   "metadata": {
    "id": "YwVFdj1EywqF"
   },
   "outputs": [
    {
     "data": {
      "text/plain": [
       "0    82\n",
       "1    87\n",
       "2    92\n",
       "Name: Matemática, dtype: int64"
      ]
     },
     "execution_count": 83,
     "metadata": {},
     "output_type": "execute_result"
    }
   ],
   "source": [
    "#Subtração de uma coluna de um Dataframe pandas\n",
    "df_notas[\"Matemática\"] - 3\n"
   ]
  },
  {
   "cell_type": "code",
   "execution_count": 85,
   "metadata": {},
   "outputs": [
    {
     "data": {
      "text/plain": [
       "86.66666666666667"
      ]
     },
     "execution_count": 85,
     "metadata": {},
     "output_type": "execute_result"
    }
   ],
   "source": [
    "df_notas[\"História\"].mean()"
   ]
  },
  {
   "cell_type": "markdown",
   "metadata": {
    "id": "WnN0ouEHy3RC"
   },
   "source": [
    "### Seleção"
   ]
  },
  {
   "cell_type": "code",
   "execution_count": 88,
   "metadata": {
    "id": "oR_zYcIoy4sJ"
   },
   "outputs": [
    {
     "data": {
      "text/plain": [
       "0    90\n",
       "1    85\n",
       "2    88\n",
       "Name: Ciências, dtype: int64"
      ]
     },
     "execution_count": 88,
     "metadata": {},
     "output_type": "execute_result"
    }
   ],
   "source": [
    "#Selecionar dados de uma coluna\n",
    "df_notas[\"Ciências\"]"
   ]
  },
  {
   "cell_type": "code",
   "execution_count": 90,
   "metadata": {
    "id": "Gf8W9ZLIzGQ_"
   },
   "outputs": [
    {
     "data": {
      "text/html": [
       "<div>\n",
       "<style scoped>\n",
       "    .dataframe tbody tr th:only-of-type {\n",
       "        vertical-align: middle;\n",
       "    }\n",
       "\n",
       "    .dataframe tbody tr th {\n",
       "        vertical-align: top;\n",
       "    }\n",
       "\n",
       "    .dataframe thead th {\n",
       "        text-align: right;\n",
       "    }\n",
       "</style>\n",
       "<table border=\"1\" class=\"dataframe\">\n",
       "  <thead>\n",
       "    <tr style=\"text-align: right;\">\n",
       "      <th></th>\n",
       "      <th>Matemática</th>\n",
       "      <th>Ciências</th>\n",
       "    </tr>\n",
       "  </thead>\n",
       "  <tbody>\n",
       "    <tr>\n",
       "      <th>0</th>\n",
       "      <td>85</td>\n",
       "      <td>90</td>\n",
       "    </tr>\n",
       "    <tr>\n",
       "      <th>1</th>\n",
       "      <td>90</td>\n",
       "      <td>85</td>\n",
       "    </tr>\n",
       "    <tr>\n",
       "      <th>2</th>\n",
       "      <td>95</td>\n",
       "      <td>88</td>\n",
       "    </tr>\n",
       "  </tbody>\n",
       "</table>\n",
       "</div>"
      ],
      "text/plain": [
       "   Matemática  Ciências\n",
       "0          85        90\n",
       "1          90        85\n",
       "2          95        88"
      ]
     },
     "execution_count": 90,
     "metadata": {},
     "output_type": "execute_result"
    }
   ],
   "source": [
    "#Selecionar duas colunas\n",
    "df_notas[[\"Matemática\", \"Ciências\"]]"
   ]
  },
  {
   "cell_type": "markdown",
   "metadata": {
    "id": "rFNeuFdPzOxa"
   },
   "source": [
    "### Filtros"
   ]
  },
  {
   "cell_type": "markdown",
   "metadata": {
    "id": "5IkekE1G4t1-"
   },
   "source": [
    "O **iloc** é um método do pandas usado para acessar dados de um DataFrame ou Series com base na posição das linhas e colunas, ou seja, por índices numéricos. O nome \"iloc\" vem de integer location, o que significa que ele utiliza números inteiros para identificar a localização dos dados"
   ]
  },
  {
   "cell_type": "code",
   "execution_count": 94,
   "metadata": {
    "id": "5MWXOdn6zRsx"
   },
   "outputs": [
    {
     "data": {
      "text/plain": [
       "Aluno         Robb\n",
       "Matemática      85\n",
       "História        88\n",
       "Ciências        90\n",
       "Name: 0, dtype: object"
      ]
     },
     "execution_count": 94,
     "metadata": {},
     "output_type": "execute_result"
    }
   ],
   "source": [
    "#Selecione a primeira posição das linhas\n",
    "df_notas.iloc[0]\n"
   ]
  },
  {
   "cell_type": "code",
   "execution_count": 51,
   "metadata": {
    "id": "25RQbHoozy4l"
   },
   "outputs": [
    {
     "data": {
      "text/html": [
       "<div>\n",
       "<style scoped>\n",
       "    .dataframe tbody tr th:only-of-type {\n",
       "        vertical-align: middle;\n",
       "    }\n",
       "\n",
       "    .dataframe tbody tr th {\n",
       "        vertical-align: top;\n",
       "    }\n",
       "\n",
       "    .dataframe thead th {\n",
       "        text-align: right;\n",
       "    }\n",
       "</style>\n",
       "<table border=\"1\" class=\"dataframe\">\n",
       "  <thead>\n",
       "    <tr style=\"text-align: right;\">\n",
       "      <th></th>\n",
       "      <th>Aluno</th>\n",
       "      <th>Matemática</th>\n",
       "      <th>História</th>\n",
       "      <th>Ciências</th>\n",
       "    </tr>\n",
       "  </thead>\n",
       "  <tbody>\n",
       "    <tr>\n",
       "      <th>1</th>\n",
       "      <td>Jon</td>\n",
       "      <td>90</td>\n",
       "      <td>92</td>\n",
       "      <td>85</td>\n",
       "    </tr>\n",
       "    <tr>\n",
       "      <th>2</th>\n",
       "      <td>Arya</td>\n",
       "      <td>95</td>\n",
       "      <td>80</td>\n",
       "      <td>88</td>\n",
       "    </tr>\n",
       "  </tbody>\n",
       "</table>\n",
       "</div>"
      ],
      "text/plain": [
       "  Aluno  Matemática  História  Ciências\n",
       "1   Jon          90        92        85\n",
       "2  Arya          95        80        88"
      ]
     },
     "execution_count": 51,
     "metadata": {},
     "output_type": "execute_result"
    }
   ],
   "source": [
    "#Selecione as notas de um Aluno\n",
    "df_notas[ (df_notas[\"Aluno\"] == \"Jon\") | (df_notas[\"Aluno\"] == \"Arya\") ]"
   ]
  },
  {
   "cell_type": "markdown",
   "metadata": {
    "id": "HHD0FW-r5E_y"
   },
   "source": [
    "O loc é um método do pandas utilizado para acessar dados em um DataFrame ou Series com base no rótulo das linhas e colunas, ou seja, por nomes e rótulos, ao contrário do iloc que usa posições numéricas."
   ]
  },
  {
   "cell_type": "code",
   "execution_count": 55,
   "metadata": {
    "id": "atVmT5xDza5J"
   },
   "outputs": [
    {
     "data": {
      "text/html": [
       "<div>\n",
       "<style scoped>\n",
       "    .dataframe tbody tr th:only-of-type {\n",
       "        vertical-align: middle;\n",
       "    }\n",
       "\n",
       "    .dataframe tbody tr th {\n",
       "        vertical-align: top;\n",
       "    }\n",
       "\n",
       "    .dataframe thead th {\n",
       "        text-align: right;\n",
       "    }\n",
       "</style>\n",
       "<table border=\"1\" class=\"dataframe\">\n",
       "  <thead>\n",
       "    <tr style=\"text-align: right;\">\n",
       "      <th></th>\n",
       "      <th>Aluno</th>\n",
       "      <th>Matemática</th>\n",
       "      <th>História</th>\n",
       "      <th>Ciências</th>\n",
       "    </tr>\n",
       "  </thead>\n",
       "  <tbody>\n",
       "    <tr>\n",
       "      <th>1</th>\n",
       "      <td>Jon</td>\n",
       "      <td>90</td>\n",
       "      <td>92</td>\n",
       "      <td>85</td>\n",
       "    </tr>\n",
       "  </tbody>\n",
       "</table>\n",
       "</div>"
      ],
      "text/plain": [
       "  Aluno  Matemática  História  Ciências\n",
       "1   Jon          90        92        85"
      ]
     },
     "execution_count": 55,
     "metadata": {},
     "output_type": "execute_result"
    }
   ],
   "source": [
    "#Selecione as notas de um Aluno com loc\n",
    "df_notas.loc[df_notas[\"Aluno\"] == \"Jon\"]"
   ]
  },
  {
   "cell_type": "code",
   "execution_count": 56,
   "metadata": {},
   "outputs": [
    {
     "data": {
      "text/html": [
       "<div>\n",
       "<style scoped>\n",
       "    .dataframe tbody tr th:only-of-type {\n",
       "        vertical-align: middle;\n",
       "    }\n",
       "\n",
       "    .dataframe tbody tr th {\n",
       "        vertical-align: top;\n",
       "    }\n",
       "\n",
       "    .dataframe thead th {\n",
       "        text-align: right;\n",
       "    }\n",
       "</style>\n",
       "<table border=\"1\" class=\"dataframe\">\n",
       "  <thead>\n",
       "    <tr style=\"text-align: right;\">\n",
       "      <th></th>\n",
       "      <th>Aluno</th>\n",
       "      <th>Matemática</th>\n",
       "      <th>História</th>\n",
       "      <th>Ciências</th>\n",
       "    </tr>\n",
       "  </thead>\n",
       "  <tbody>\n",
       "    <tr>\n",
       "      <th>0</th>\n",
       "      <td>Robb</td>\n",
       "      <td>85</td>\n",
       "      <td>88</td>\n",
       "      <td>90</td>\n",
       "    </tr>\n",
       "    <tr>\n",
       "      <th>1</th>\n",
       "      <td>Jon</td>\n",
       "      <td>90</td>\n",
       "      <td>92</td>\n",
       "      <td>85</td>\n",
       "    </tr>\n",
       "    <tr>\n",
       "      <th>2</th>\n",
       "      <td>Arya</td>\n",
       "      <td>95</td>\n",
       "      <td>80</td>\n",
       "      <td>88</td>\n",
       "    </tr>\n",
       "  </tbody>\n",
       "</table>\n",
       "</div>"
      ],
      "text/plain": [
       "  Aluno  Matemática  História  Ciências\n",
       "0  Robb          85        88        90\n",
       "1   Jon          90        92        85\n",
       "2  Arya          95        80        88"
      ]
     },
     "execution_count": 56,
     "metadata": {},
     "output_type": "execute_result"
    }
   ],
   "source": [
    "df_notas"
   ]
  },
  {
   "cell_type": "code",
   "execution_count": 60,
   "metadata": {
    "id": "V5cXbYwTzxrY"
   },
   "outputs": [],
   "source": [
    "#Alteração de um valor de coluna baseado em uma condição\n",
    "df_notas.loc[df_notas[\"Aluno\"] == \"Jon\", \"Matemática\"] = 22\n"
   ]
  },
  {
   "cell_type": "code",
   "execution_count": 61,
   "metadata": {
    "id": "N81G2aOrz41N"
   },
   "outputs": [
    {
     "data": {
      "text/html": [
       "<div>\n",
       "<style scoped>\n",
       "    .dataframe tbody tr th:only-of-type {\n",
       "        vertical-align: middle;\n",
       "    }\n",
       "\n",
       "    .dataframe tbody tr th {\n",
       "        vertical-align: top;\n",
       "    }\n",
       "\n",
       "    .dataframe thead th {\n",
       "        text-align: right;\n",
       "    }\n",
       "</style>\n",
       "<table border=\"1\" class=\"dataframe\">\n",
       "  <thead>\n",
       "    <tr style=\"text-align: right;\">\n",
       "      <th></th>\n",
       "      <th>Aluno</th>\n",
       "      <th>Matemática</th>\n",
       "      <th>História</th>\n",
       "      <th>Ciências</th>\n",
       "    </tr>\n",
       "  </thead>\n",
       "  <tbody>\n",
       "    <tr>\n",
       "      <th>0</th>\n",
       "      <td>Robb</td>\n",
       "      <td>85</td>\n",
       "      <td>88</td>\n",
       "      <td>90</td>\n",
       "    </tr>\n",
       "    <tr>\n",
       "      <th>1</th>\n",
       "      <td>Jon</td>\n",
       "      <td>22</td>\n",
       "      <td>92</td>\n",
       "      <td>85</td>\n",
       "    </tr>\n",
       "    <tr>\n",
       "      <th>2</th>\n",
       "      <td>Arya</td>\n",
       "      <td>95</td>\n",
       "      <td>80</td>\n",
       "      <td>88</td>\n",
       "    </tr>\n",
       "  </tbody>\n",
       "</table>\n",
       "</div>"
      ],
      "text/plain": [
       "  Aluno  Matemática  História  Ciências\n",
       "0  Robb          85        88        90\n",
       "1   Jon          22        92        85\n",
       "2  Arya          95        80        88"
      ]
     },
     "execution_count": 61,
     "metadata": {},
     "output_type": "execute_result"
    }
   ],
   "source": [
    "#Visualizar o Dataframe\n",
    "df_notas\n"
   ]
  },
  {
   "cell_type": "markdown",
   "metadata": {
    "id": "FnEHnDGm0MX6"
   },
   "source": [
    "### Funções Embutidas"
   ]
  },
  {
   "cell_type": "code",
   "execution_count": 103,
   "metadata": {
    "id": "zhMXuL401dsm"
   },
   "outputs": [
    {
     "data": {
      "text/plain": [
       "90.0"
      ]
     },
     "execution_count": 103,
     "metadata": {},
     "output_type": "execute_result"
    }
   ],
   "source": [
    "#Qual a média da turma na matéria de Matemática?\n",
    "df_notas[\"Matemática\"].median()"
   ]
  },
  {
   "cell_type": "code",
   "execution_count": 78,
   "metadata": {},
   "outputs": [
    {
     "data": {
      "text/html": [
       "<div>\n",
       "<style scoped>\n",
       "    .dataframe tbody tr th:only-of-type {\n",
       "        vertical-align: middle;\n",
       "    }\n",
       "\n",
       "    .dataframe tbody tr th {\n",
       "        vertical-align: top;\n",
       "    }\n",
       "\n",
       "    .dataframe thead th {\n",
       "        text-align: right;\n",
       "    }\n",
       "</style>\n",
       "<table border=\"1\" class=\"dataframe\">\n",
       "  <thead>\n",
       "    <tr style=\"text-align: right;\">\n",
       "      <th></th>\n",
       "      <th>Aluno</th>\n",
       "      <th>Matemática</th>\n",
       "      <th>História</th>\n",
       "      <th>Ciências</th>\n",
       "    </tr>\n",
       "  </thead>\n",
       "  <tbody>\n",
       "    <tr>\n",
       "      <th>0</th>\n",
       "      <td>Robb</td>\n",
       "      <td>85</td>\n",
       "      <td>88</td>\n",
       "      <td>90</td>\n",
       "    </tr>\n",
       "    <tr>\n",
       "      <th>1</th>\n",
       "      <td>Jon</td>\n",
       "      <td>22</td>\n",
       "      <td>92</td>\n",
       "      <td>85</td>\n",
       "    </tr>\n",
       "    <tr>\n",
       "      <th>2</th>\n",
       "      <td>Arya</td>\n",
       "      <td>95</td>\n",
       "      <td>80</td>\n",
       "      <td>88</td>\n",
       "    </tr>\n",
       "  </tbody>\n",
       "</table>\n",
       "</div>"
      ],
      "text/plain": [
       "  Aluno  Matemática  História  Ciências\n",
       "0  Robb          85        88        90\n",
       "1   Jon          22        92        85\n",
       "2  Arya          95        80        88"
      ]
     },
     "execution_count": 78,
     "metadata": {},
     "output_type": "execute_result"
    }
   ],
   "source": [
    "df_notas"
   ]
  },
  {
   "cell_type": "code",
   "execution_count": 117,
   "metadata": {
    "id": "0LOkYESm0Oxd"
   },
   "outputs": [
    {
     "data": {
      "text/plain": [
       "0    87.666667\n",
       "dtype: float64"
      ]
     },
     "execution_count": 117,
     "metadata": {},
     "output_type": "execute_result"
    }
   ],
   "source": [
    "#Qual a média geral do Aluno chamado Robb\n",
    "#df_notas[(df_notas[\"Aluno\"] == \"Robb\")].iloc[:, 1:4].mean(axis=1)\n",
    "df_notas[(df_notas[\"Aluno\"] == \"Robb\")].iloc[:, 1:4].mean(axis=1)"
   ]
  },
  {
   "cell_type": "code",
   "execution_count": null,
   "metadata": {},
   "outputs": [],
   "source": []
  }
 ],
 "metadata": {
  "colab": {
   "provenance": []
  },
  "kernelspec": {
   "display_name": "Python 3 (ipykernel)",
   "language": "python",
   "name": "python3"
  },
  "language_info": {
   "codemirror_mode": {
    "name": "ipython",
    "version": 3
   },
   "file_extension": ".py",
   "mimetype": "text/x-python",
   "name": "python",
   "nbconvert_exporter": "python",
   "pygments_lexer": "ipython3",
   "version": "3.12.4"
  }
 },
 "nbformat": 4,
 "nbformat_minor": 4
}
