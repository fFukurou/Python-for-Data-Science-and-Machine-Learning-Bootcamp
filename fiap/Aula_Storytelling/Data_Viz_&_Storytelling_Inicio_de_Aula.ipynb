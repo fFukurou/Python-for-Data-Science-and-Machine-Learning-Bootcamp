{
 "cells": [
  {
   "cell_type": "code",
   "execution_count": 1,
   "metadata": {
    "id": "h7ip1Q79rXOY"
   },
   "outputs": [],
   "source": [
    "#import das bibliotecas\n",
    "import pandas as pd\n",
    "import plotly.express as px\n",
    "import numpy as np\n",
    "import seaborn as sns\n",
    "import matplotlib.pyplot as plt"
   ]
  },
  {
   "cell_type": "code",
   "execution_count": 2,
   "metadata": {
    "id": "m7Vc0cJjvBsN"
   },
   "outputs": [],
   "source": [
    "#ajuste da formatação do pandas\n",
    "pd.options.display.float_format = '{0:.2f}'.format"
   ]
  },
  {
   "cell_type": "markdown",
   "metadata": {
    "id": "j4m9KnIJFd3w"
   },
   "source": [
    "## Carregamento e ajuste de bases"
   ]
  },
  {
   "cell_type": "code",
   "execution_count": 3,
   "metadata": {
    "colab": {
     "base_uri": "https://localhost:8080/",
     "height": 256
    },
    "id": "NXqtxZZ0rIVX",
    "outputId": "667bac27-80a6-4c78-dd65-34feb7ea58f6"
   },
   "outputs": [
    {
     "data": {
      "text/html": [
       "<div>\n",
       "<style scoped>\n",
       "    .dataframe tbody tr th:only-of-type {\n",
       "        vertical-align: middle;\n",
       "    }\n",
       "\n",
       "    .dataframe tbody tr th {\n",
       "        vertical-align: top;\n",
       "    }\n",
       "\n",
       "    .dataframe thead th {\n",
       "        text-align: right;\n",
       "    }\n",
       "</style>\n",
       "<table border=\"1\" class=\"dataframe\">\n",
       "  <thead>\n",
       "    <tr style=\"text-align: right;\">\n",
       "      <th></th>\n",
       "      <th>order_id</th>\n",
       "      <th>store_id</th>\n",
       "      <th>channel_id</th>\n",
       "      <th>payment_order_id</th>\n",
       "      <th>delivery_order_id</th>\n",
       "      <th>order_status</th>\n",
       "      <th>order_amount</th>\n",
       "      <th>order_delivery_fee</th>\n",
       "      <th>order_delivery_cost</th>\n",
       "      <th>order_created_hour</th>\n",
       "      <th>...</th>\n",
       "      <th>order_moment_delivering</th>\n",
       "      <th>order_moment_delivered</th>\n",
       "      <th>order_moment_finished</th>\n",
       "      <th>order_metric_collected_time</th>\n",
       "      <th>order_metric_paused_time</th>\n",
       "      <th>order_metric_production_time</th>\n",
       "      <th>order_metric_walking_time</th>\n",
       "      <th>order_metric_expediton_speed_time</th>\n",
       "      <th>order_metric_transit_time</th>\n",
       "      <th>order_metric_cycle_time</th>\n",
       "    </tr>\n",
       "  </thead>\n",
       "  <tbody>\n",
       "    <tr>\n",
       "      <th>0</th>\n",
       "      <td>68405119</td>\n",
       "      <td>3512</td>\n",
       "      <td>5</td>\n",
       "      <td>68405119</td>\n",
       "      <td>68405119</td>\n",
       "      <td>CANCELED</td>\n",
       "      <td>62.70</td>\n",
       "      <td>0.00</td>\n",
       "      <td>NaN</td>\n",
       "      <td>0</td>\n",
       "      <td>...</td>\n",
       "      <td>NaN</td>\n",
       "      <td>NaN</td>\n",
       "      <td>NaN</td>\n",
       "      <td>NaN</td>\n",
       "      <td>NaN</td>\n",
       "      <td>NaN</td>\n",
       "      <td>NaN</td>\n",
       "      <td>NaN</td>\n",
       "      <td>NaN</td>\n",
       "      <td>NaN</td>\n",
       "    </tr>\n",
       "    <tr>\n",
       "      <th>1</th>\n",
       "      <td>68405123</td>\n",
       "      <td>3512</td>\n",
       "      <td>5</td>\n",
       "      <td>68405123</td>\n",
       "      <td>68405123</td>\n",
       "      <td>CANCELED</td>\n",
       "      <td>62.70</td>\n",
       "      <td>0.00</td>\n",
       "      <td>NaN</td>\n",
       "      <td>0</td>\n",
       "      <td>...</td>\n",
       "      <td>NaN</td>\n",
       "      <td>NaN</td>\n",
       "      <td>NaN</td>\n",
       "      <td>NaN</td>\n",
       "      <td>NaN</td>\n",
       "      <td>NaN</td>\n",
       "      <td>NaN</td>\n",
       "      <td>NaN</td>\n",
       "      <td>NaN</td>\n",
       "      <td>NaN</td>\n",
       "    </tr>\n",
       "    <tr>\n",
       "      <th>2</th>\n",
       "      <td>68405206</td>\n",
       "      <td>3512</td>\n",
       "      <td>5</td>\n",
       "      <td>68405206</td>\n",
       "      <td>68405206</td>\n",
       "      <td>CANCELED</td>\n",
       "      <td>115.50</td>\n",
       "      <td>0.00</td>\n",
       "      <td>NaN</td>\n",
       "      <td>0</td>\n",
       "      <td>...</td>\n",
       "      <td>NaN</td>\n",
       "      <td>NaN</td>\n",
       "      <td>NaN</td>\n",
       "      <td>NaN</td>\n",
       "      <td>NaN</td>\n",
       "      <td>NaN</td>\n",
       "      <td>NaN</td>\n",
       "      <td>NaN</td>\n",
       "      <td>NaN</td>\n",
       "      <td>NaN</td>\n",
       "    </tr>\n",
       "    <tr>\n",
       "      <th>3</th>\n",
       "      <td>68405465</td>\n",
       "      <td>3401</td>\n",
       "      <td>5</td>\n",
       "      <td>68405465</td>\n",
       "      <td>68405465</td>\n",
       "      <td>CANCELED</td>\n",
       "      <td>55.90</td>\n",
       "      <td>0.00</td>\n",
       "      <td>NaN</td>\n",
       "      <td>0</td>\n",
       "      <td>...</td>\n",
       "      <td>NaN</td>\n",
       "      <td>NaN</td>\n",
       "      <td>NaN</td>\n",
       "      <td>NaN</td>\n",
       "      <td>NaN</td>\n",
       "      <td>NaN</td>\n",
       "      <td>NaN</td>\n",
       "      <td>NaN</td>\n",
       "      <td>NaN</td>\n",
       "      <td>NaN</td>\n",
       "    </tr>\n",
       "    <tr>\n",
       "      <th>4</th>\n",
       "      <td>68406064</td>\n",
       "      <td>3401</td>\n",
       "      <td>5</td>\n",
       "      <td>68406064</td>\n",
       "      <td>68406064</td>\n",
       "      <td>CANCELED</td>\n",
       "      <td>37.90</td>\n",
       "      <td>0.00</td>\n",
       "      <td>NaN</td>\n",
       "      <td>0</td>\n",
       "      <td>...</td>\n",
       "      <td>NaN</td>\n",
       "      <td>NaN</td>\n",
       "      <td>NaN</td>\n",
       "      <td>NaN</td>\n",
       "      <td>NaN</td>\n",
       "      <td>NaN</td>\n",
       "      <td>NaN</td>\n",
       "      <td>NaN</td>\n",
       "      <td>NaN</td>\n",
       "      <td>NaN</td>\n",
       "    </tr>\n",
       "  </tbody>\n",
       "</table>\n",
       "<p>5 rows × 29 columns</p>\n",
       "</div>"
      ],
      "text/plain": [
       "   order_id  store_id  channel_id  payment_order_id  delivery_order_id  \\\n",
       "0  68405119      3512           5          68405119           68405119   \n",
       "1  68405123      3512           5          68405123           68405123   \n",
       "2  68405206      3512           5          68405206           68405206   \n",
       "3  68405465      3401           5          68405465           68405465   \n",
       "4  68406064      3401           5          68406064           68406064   \n",
       "\n",
       "  order_status  order_amount  order_delivery_fee  order_delivery_cost  \\\n",
       "0     CANCELED         62.70                0.00                  NaN   \n",
       "1     CANCELED         62.70                0.00                  NaN   \n",
       "2     CANCELED        115.50                0.00                  NaN   \n",
       "3     CANCELED         55.90                0.00                  NaN   \n",
       "4     CANCELED         37.90                0.00                  NaN   \n",
       "\n",
       "   order_created_hour  ...  order_moment_delivering  order_moment_delivered  \\\n",
       "0                   0  ...                      NaN                     NaN   \n",
       "1                   0  ...                      NaN                     NaN   \n",
       "2                   0  ...                      NaN                     NaN   \n",
       "3                   0  ...                      NaN                     NaN   \n",
       "4                   0  ...                      NaN                     NaN   \n",
       "\n",
       "   order_moment_finished  order_metric_collected_time  \\\n",
       "0                    NaN                          NaN   \n",
       "1                    NaN                          NaN   \n",
       "2                    NaN                          NaN   \n",
       "3                    NaN                          NaN   \n",
       "4                    NaN                          NaN   \n",
       "\n",
       "  order_metric_paused_time order_metric_production_time  \\\n",
       "0                      NaN                          NaN   \n",
       "1                      NaN                          NaN   \n",
       "2                      NaN                          NaN   \n",
       "3                      NaN                          NaN   \n",
       "4                      NaN                          NaN   \n",
       "\n",
       "  order_metric_walking_time order_metric_expediton_speed_time  \\\n",
       "0                       NaN                               NaN   \n",
       "1                       NaN                               NaN   \n",
       "2                       NaN                               NaN   \n",
       "3                       NaN                               NaN   \n",
       "4                       NaN                               NaN   \n",
       "\n",
       "  order_metric_transit_time order_metric_cycle_time  \n",
       "0                       NaN                     NaN  \n",
       "1                       NaN                     NaN  \n",
       "2                       NaN                     NaN  \n",
       "3                       NaN                     NaN  \n",
       "4                       NaN                     NaN  \n",
       "\n",
       "[5 rows x 29 columns]"
      ]
     },
     "execution_count": 3,
     "metadata": {},
     "output_type": "execute_result"
    }
   ],
   "source": [
    "#carregar dados de orders\n",
    "df_orders = pd.read_csv('orders.csv')\n",
    "df_orders.head()"
   ]
  },
  {
   "cell_type": "code",
   "execution_count": 4,
   "metadata": {
    "id": "XCNsxLabuXzT"
   },
   "outputs": [],
   "source": [
    "#seleção para remoção de outliers\n",
    "df_orders = df_orders[(df_orders['order_amount'] >= 15) & (df_orders['order_amount'] <= 200)].copy()"
   ]
  },
  {
   "cell_type": "code",
   "execution_count": 5,
   "metadata": {
    "colab": {
     "base_uri": "https://localhost:8080/"
    },
    "id": "A21_FXz5spip",
    "outputId": "600c2c7a-cb08-4cbf-a9ec-f72c5da8589c"
   },
   "outputs": [
    {
     "name": "stdout",
     "output_type": "stream",
     "text": [
      "<class 'pandas.core.frame.DataFrame'>\n",
      "Index: 333629 entries, 0 to 368998\n",
      "Data columns (total 29 columns):\n",
      " #   Column                             Non-Null Count   Dtype  \n",
      "---  ------                             --------------   -----  \n",
      " 0   order_id                           333629 non-null  int64  \n",
      " 1   store_id                           333629 non-null  int64  \n",
      " 2   channel_id                         333629 non-null  int64  \n",
      " 3   payment_order_id                   333629 non-null  int64  \n",
      " 4   delivery_order_id                  333629 non-null  int64  \n",
      " 5   order_status                       333629 non-null  object \n",
      " 6   order_amount                       333629 non-null  float64\n",
      " 7   order_delivery_fee                 333629 non-null  float64\n",
      " 8   order_delivery_cost                327275 non-null  float64\n",
      " 9   order_created_hour                 333629 non-null  int64  \n",
      " 10  order_created_minute               333629 non-null  int64  \n",
      " 11  order_created_day                  333629 non-null  int64  \n",
      " 12  order_created_month                333629 non-null  int64  \n",
      " 13  order_created_year                 333629 non-null  int64  \n",
      " 14  order_moment_created               333629 non-null  object \n",
      " 15  order_moment_accepted              325043 non-null  object \n",
      " 16  order_moment_ready                 312152 non-null  object \n",
      " 17  order_moment_collected             297660 non-null  object \n",
      " 18  order_moment_in_expedition         275498 non-null  object \n",
      " 19  order_moment_delivering            312842 non-null  object \n",
      " 20  order_moment_delivered             16930 non-null   object \n",
      " 21  order_moment_finished              320733 non-null  object \n",
      " 22  order_metric_collected_time        290223 non-null  float64\n",
      " 23  order_metric_paused_time           272423 non-null  float64\n",
      " 24  order_metric_production_time       312151 non-null  float64\n",
      " 25  order_metric_walking_time          269553 non-null  float64\n",
      " 26  order_metric_expediton_speed_time  304793 non-null  float64\n",
      " 27  order_metric_transit_time          312372 non-null  float64\n",
      " 28  order_metric_cycle_time            320707 non-null  float64\n",
      "dtypes: float64(10), int64(10), object(9)\n",
      "memory usage: 76.4+ MB\n"
     ]
    }
   ],
   "source": [
    "#info\n",
    "df_orders.info()"
   ]
  },
  {
   "cell_type": "code",
   "execution_count": 6,
   "metadata": {
    "colab": {
     "base_uri": "https://localhost:8080/"
    },
    "id": "dqpivoJcsezJ",
    "outputId": "0367c19b-de8b-4740-a5fe-eeed7f1a7f22"
   },
   "outputs": [
    {
     "name": "stderr",
     "output_type": "stream",
     "text": [
      "c:\\AppData\\Local\\Temp\\ipykernel_2444\\3443585112.py:2: UserWarning: Could not infer format, so each element will be parsed individually, falling back to `dateutil`. To ensure parsing is consistent and as-expected, please specify a format.\n",
      "  df_orders['order_moment_created'] = pd.to_datetime(df_orders['order_moment_created'])\n"
     ]
    }
   ],
   "source": [
    "#cast de order_moment_created para date\n",
    "df_orders['order_moment_created'] = pd.to_datetime(df_orders['order_moment_created'])"
   ]
  },
  {
   "cell_type": "code",
   "execution_count": 7,
   "metadata": {
    "id": "rD1_O_XdtIyu"
   },
   "outputs": [
    {
     "data": {
      "text/plain": [
       "0   2021-01-01 00:01:36\n",
       "1   2021-01-01 00:04:26\n",
       "2   2021-01-01 00:13:07\n",
       "3   2021-01-01 00:19:15\n",
       "4   2021-01-01 00:26:25\n",
       "Name: order_moment_created, dtype: datetime64[ns]"
      ]
     },
     "execution_count": 7,
     "metadata": {},
     "output_type": "execute_result"
    }
   ],
   "source": [
    "#nova variável order_moment_created_month com o mês de data\n",
    "df_orders['mes'] = df_orders['order_moment_created'].dt.month\n",
    "df_orders['order_moment_created'].head()"
   ]
  },
  {
   "cell_type": "markdown",
   "metadata": {
    "id": "v_EwzEpsF3Xc"
   },
   "source": [
    "## Correlações"
   ]
  },
  {
   "cell_type": "code",
   "execution_count": 8,
   "metadata": {
    "id": "2uFuR9e5F5M2"
   },
   "outputs": [],
   "source": [
    "#seleção das colunas com valores flutuantes\n",
    "df_orders_corr = df_orders.select_dtypes(include=[np.float64])"
   ]
  },
  {
   "cell_type": "code",
   "execution_count": 9,
   "metadata": {
    "id": "cFYtIg3mF8WP"
   },
   "outputs": [],
   "source": [
    "#correlação pandas\n",
    "corr = df_orders_corr.corr()"
   ]
  },
  {
   "cell_type": "code",
   "execution_count": 10,
   "metadata": {},
   "outputs": [
    {
     "data": {
      "image/png": "[encoded data removed]",
      "text/plain": [
       "<Figure size 1000x800 with 2 Axes>"
      ]
     },
     "metadata": {},
     "output_type": "display_data"
    }
   ],
   "source": [
    "#heatmap com MALPLOTLIB\n",
    "\n",
    "plt.figure(figsize=(10, 8))\n",
    "plt.imshow(corr, cmap='coolwarm', interpolation='nearest')\n",
    "plt.colorbar()\n",
    "plt.xticks(np.arange(len(corr.columns)), corr.columns, rotation=45)\n",
    "plt.yticks(np.arange(len(corr.index)), corr.index)\n",
    "plt.title('Correlation Matrix')\n",
    "plt.show()"
   ]
  },
  {
   "cell_type": "code",
   "execution_count": 11,
   "metadata": {
    "id": "KOc96_50GLM9"
   },
   "outputs": [
    {
     "data": {
      "image/png": "[encoded data removed]",
      "text/plain": [
       "<Figure size 1000x800 with 2 Axes>"
      ]
     },
     "metadata": {},
     "output_type": "display_data"
    }
   ],
   "source": [
    "#heatmap com SEABORN\n",
    "plt.figure(figsize=(10, 8))\n",
    "sns.heatmap(corr, annot=True, fmt=\".2f\", cmap='coolwarm', square=True, cbar_kws={\"shrink\": .8})\n",
    "plt.title('Correlation Matrix')\n",
    "plt.show()"
   ]
  },
  {
   "cell_type": "markdown",
   "metadata": {
    "id": "u5MQ8RNKHOEk"
   },
   "source": [
    "Escreva sua conclusão aqui"
   ]
  },
  {
   "cell_type": "code",
   "execution_count": 12,
   "metadata": {
    "id": "CvqYSG5lI_kO"
   },
   "outputs": [
    {
     "data": {
      "image/png": "[encoded data removed]",
      "text/plain": [
       "<Figure size 1000x600 with 1 Axes>"
      ]
     },
     "metadata": {},
     "output_type": "display_data"
    }
   ],
   "source": [
    "#configurações do scatter\n",
    "plt.figure(figsize=(10, 6))\n",
    "sns.scatterplot(x='order_metric_paused_time', y='order_metric_expediton_speed_time', data=df_orders_corr)\n",
    "#alterações do layout\n",
    "plt.title('Gráfico de Dispersão')\n",
    "plt.xlabel('Tempo de Pausa do Pedido')\n",
    "plt.ylabel('Velocidade de Expedição do Pedido')\n",
    "#apresentação do gráfico\n",
    "plt.show()\n"
   ]
  },
  {
   "cell_type": "markdown",
   "metadata": {
    "id": "KrRru-qT5kEa"
   },
   "source": [
    "## Realizado vs Meta - Linhas"
   ]
  },
  {
   "cell_type": "code",
   "execution_count": 13,
   "metadata": {
    "id": "ts9pdnwGtQTQ"
   },
   "outputs": [
    {
     "data": {
      "text/html": [
       "<div>\n",
       "<style scoped>\n",
       "    .dataframe tbody tr th:only-of-type {\n",
       "        vertical-align: middle;\n",
       "    }\n",
       "\n",
       "    .dataframe tbody tr th {\n",
       "        vertical-align: top;\n",
       "    }\n",
       "\n",
       "    .dataframe thead th {\n",
       "        text-align: right;\n",
       "    }\n",
       "</style>\n",
       "<table border=\"1\" class=\"dataframe\">\n",
       "  <thead>\n",
       "    <tr style=\"text-align: right;\">\n",
       "      <th></th>\n",
       "      <th>mes</th>\n",
       "      <th>order_amount</th>\n",
       "    </tr>\n",
       "  </thead>\n",
       "  <tbody>\n",
       "    <tr>\n",
       "      <th>0</th>\n",
       "      <td>1</td>\n",
       "      <td>5375860.04</td>\n",
       "    </tr>\n",
       "    <tr>\n",
       "      <th>1</th>\n",
       "      <td>2</td>\n",
       "      <td>5050208.34</td>\n",
       "    </tr>\n",
       "    <tr>\n",
       "      <th>2</th>\n",
       "      <td>3</td>\n",
       "      <td>7614463.74</td>\n",
       "    </tr>\n",
       "    <tr>\n",
       "      <th>3</th>\n",
       "      <td>4</td>\n",
       "      <td>7745563.77</td>\n",
       "    </tr>\n",
       "  </tbody>\n",
       "</table>\n",
       "</div>"
      ],
      "text/plain": [
       "   mes  order_amount\n",
       "0    1    5375860.04\n",
       "1    2    5050208.34\n",
       "2    3    7614463.74\n",
       "3    4    7745563.77"
      ]
     },
     "execution_count": 13,
     "metadata": {},
     "output_type": "execute_result"
    }
   ],
   "source": [
    "#novo dataset com o total de vendas agrupado por mês\n",
    "df_orders_realizado = df_orders.groupby(['mes']).agg({'order_amount':'sum'}).reset_index()\n",
    "df_orders_realizado.head()"
   ]
  },
  {
   "cell_type": "code",
   "execution_count": 14,
   "metadata": {
    "id": "i3bxut42tkuD"
   },
   "outputs": [
    {
     "data": {
      "text/plain": [
       "Index(['mes', 'order_amount'], dtype='object')"
      ]
     },
     "execution_count": 14,
     "metadata": {},
     "output_type": "execute_result"
    }
   ],
   "source": [
    "#apresenta o nome das colunas do dataset de agregação\n",
    "df_orders_realizado.columns"
   ]
  },
  {
   "cell_type": "code",
   "execution_count": 15,
   "metadata": {
    "id": "tKuj0w0ztnPq"
   },
   "outputs": [],
   "source": [
    "#altera o nome das colunas\n",
    "df_orders_realizado.columns = ['mes', 'realizado']\n"
   ]
  },
  {
   "cell_type": "code",
   "execution_count": 16,
   "metadata": {
    "id": "J5A13GFits1t"
   },
   "outputs": [
    {
     "data": {
      "text/html": [
       "<div>\n",
       "<style scoped>\n",
       "    .dataframe tbody tr th:only-of-type {\n",
       "        vertical-align: middle;\n",
       "    }\n",
       "\n",
       "    .dataframe tbody tr th {\n",
       "        vertical-align: top;\n",
       "    }\n",
       "\n",
       "    .dataframe thead th {\n",
       "        text-align: right;\n",
       "    }\n",
       "</style>\n",
       "<table border=\"1\" class=\"dataframe\">\n",
       "  <thead>\n",
       "    <tr style=\"text-align: right;\">\n",
       "      <th></th>\n",
       "      <th>mes</th>\n",
       "      <th>realizado</th>\n",
       "    </tr>\n",
       "  </thead>\n",
       "  <tbody>\n",
       "    <tr>\n",
       "      <th>0</th>\n",
       "      <td>1</td>\n",
       "      <td>5375860.04</td>\n",
       "    </tr>\n",
       "    <tr>\n",
       "      <th>1</th>\n",
       "      <td>2</td>\n",
       "      <td>5050208.34</td>\n",
       "    </tr>\n",
       "    <tr>\n",
       "      <th>2</th>\n",
       "      <td>3</td>\n",
       "      <td>7614463.74</td>\n",
       "    </tr>\n",
       "    <tr>\n",
       "      <th>3</th>\n",
       "      <td>4</td>\n",
       "      <td>7745563.77</td>\n",
       "    </tr>\n",
       "  </tbody>\n",
       "</table>\n",
       "</div>"
      ],
      "text/plain": [
       "   mes  realizado\n",
       "0    1 5375860.04\n",
       "1    2 5050208.34\n",
       "2    3 7614463.74\n",
       "3    4 7745563.77"
      ]
     },
     "execution_count": 16,
     "metadata": {},
     "output_type": "execute_result"
    }
   ],
   "source": [
    "#head do dataset após alteração do nome\n",
    "df_orders_realizado.head()"
   ]
  },
  {
   "cell_type": "code",
   "execution_count": 17,
   "metadata": {
    "id": "PDcgHDolu1C8"
   },
   "outputs": [
    {
     "data": {
      "text/html": [
       "<div>\n",
       "<style scoped>\n",
       "    .dataframe tbody tr th:only-of-type {\n",
       "        vertical-align: middle;\n",
       "    }\n",
       "\n",
       "    .dataframe tbody tr th {\n",
       "        vertical-align: top;\n",
       "    }\n",
       "\n",
       "    .dataframe thead th {\n",
       "        text-align: right;\n",
       "    }\n",
       "</style>\n",
       "<table border=\"1\" class=\"dataframe\">\n",
       "  <thead>\n",
       "    <tr style=\"text-align: right;\">\n",
       "      <th></th>\n",
       "      <th>order_id</th>\n",
       "      <th>store_id</th>\n",
       "      <th>channel_id</th>\n",
       "      <th>payment_order_id</th>\n",
       "      <th>delivery_order_id</th>\n",
       "      <th>order_amount</th>\n",
       "      <th>order_delivery_fee</th>\n",
       "      <th>order_delivery_cost</th>\n",
       "      <th>order_created_hour</th>\n",
       "      <th>order_created_minute</th>\n",
       "      <th>...</th>\n",
       "      <th>order_created_year</th>\n",
       "      <th>order_moment_created</th>\n",
       "      <th>order_metric_collected_time</th>\n",
       "      <th>order_metric_paused_time</th>\n",
       "      <th>order_metric_production_time</th>\n",
       "      <th>order_metric_walking_time</th>\n",
       "      <th>order_metric_expediton_speed_time</th>\n",
       "      <th>order_metric_transit_time</th>\n",
       "      <th>order_metric_cycle_time</th>\n",
       "      <th>mes</th>\n",
       "    </tr>\n",
       "  </thead>\n",
       "  <tbody>\n",
       "    <tr>\n",
       "      <th>count</th>\n",
       "      <td>333629.00</td>\n",
       "      <td>333629.00</td>\n",
       "      <td>333629.00</td>\n",
       "      <td>333629.00</td>\n",
       "      <td>333629.00</td>\n",
       "      <td>333629.00</td>\n",
       "      <td>333629.00</td>\n",
       "      <td>327275.00</td>\n",
       "      <td>333629.00</td>\n",
       "      <td>333629.00</td>\n",
       "      <td>...</td>\n",
       "      <td>333629.00</td>\n",
       "      <td>333629</td>\n",
       "      <td>290223.00</td>\n",
       "      <td>272423.00</td>\n",
       "      <td>312151.00</td>\n",
       "      <td>269553.00</td>\n",
       "      <td>304793.00</td>\n",
       "      <td>312372.00</td>\n",
       "      <td>320707.00</td>\n",
       "      <td>333629.00</td>\n",
       "    </tr>\n",
       "    <tr>\n",
       "      <th>mean</th>\n",
       "      <td>82157643.37</td>\n",
       "      <td>1200.63</td>\n",
       "      <td>7.28</td>\n",
       "      <td>82157643.37</td>\n",
       "      <td>82157643.37</td>\n",
       "      <td>77.29</td>\n",
       "      <td>6.11</td>\n",
       "      <td>7.24</td>\n",
       "      <td>16.71</td>\n",
       "      <td>29.45</td>\n",
       "      <td>...</td>\n",
       "      <td>2021.00</td>\n",
       "      <td>2021-03-07 14:02:02.543240960</td>\n",
       "      <td>2.57</td>\n",
       "      <td>7.53</td>\n",
       "      <td>57.10</td>\n",
       "      <td>4.53</td>\n",
       "      <td>16.32</td>\n",
       "      <td>46.56</td>\n",
       "      <td>144.44</td>\n",
       "      <td>2.67</td>\n",
       "    </tr>\n",
       "    <tr>\n",
       "      <th>min</th>\n",
       "      <td>68405119.00</td>\n",
       "      <td>3.00</td>\n",
       "      <td>1.00</td>\n",
       "      <td>68405119.00</td>\n",
       "      <td>68405119.00</td>\n",
       "      <td>15.00</td>\n",
       "      <td>0.00</td>\n",
       "      <td>0.00</td>\n",
       "      <td>0.00</td>\n",
       "      <td>0.00</td>\n",
       "      <td>...</td>\n",
       "      <td>2021.00</td>\n",
       "      <td>2021-01-01 00:01:36</td>\n",
       "      <td>-1.47</td>\n",
       "      <td>-2728.35</td>\n",
       "      <td>0.00</td>\n",
       "      <td>-1.42</td>\n",
       "      <td>-0.82</td>\n",
       "      <td>-4.10</td>\n",
       "      <td>0.33</td>\n",
       "      <td>1.00</td>\n",
       "    </tr>\n",
       "    <tr>\n",
       "      <th>25%</th>\n",
       "      <td>76140660.00</td>\n",
       "      <td>409.00</td>\n",
       "      <td>5.00</td>\n",
       "      <td>76140660.00</td>\n",
       "      <td>76140660.00</td>\n",
       "      <td>39.30</td>\n",
       "      <td>0.00</td>\n",
       "      <td>5.16</td>\n",
       "      <td>15.00</td>\n",
       "      <td>15.00</td>\n",
       "      <td>...</td>\n",
       "      <td>2021.00</td>\n",
       "      <td>2021-02-06 23:53:15</td>\n",
       "      <td>0.77</td>\n",
       "      <td>1.13</td>\n",
       "      <td>9.22</td>\n",
       "      <td>2.10</td>\n",
       "      <td>4.40</td>\n",
       "      <td>11.72</td>\n",
       "      <td>32.40</td>\n",
       "      <td>2.00</td>\n",
       "    </tr>\n",
       "    <tr>\n",
       "      <th>50%</th>\n",
       "      <td>82974835.00</td>\n",
       "      <td>707.00</td>\n",
       "      <td>5.00</td>\n",
       "      <td>82974835.00</td>\n",
       "      <td>82974835.00</td>\n",
       "      <td>65.90</td>\n",
       "      <td>6.90</td>\n",
       "      <td>7.16</td>\n",
       "      <td>17.00</td>\n",
       "      <td>29.00</td>\n",
       "      <td>...</td>\n",
       "      <td>2021.00</td>\n",
       "      <td>2021-03-11 22:26:46</td>\n",
       "      <td>1.60</td>\n",
       "      <td>2.43</td>\n",
       "      <td>15.03</td>\n",
       "      <td>3.50</td>\n",
       "      <td>6.47</td>\n",
       "      <td>16.50</td>\n",
       "      <td>41.38</td>\n",
       "      <td>3.00</td>\n",
       "    </tr>\n",
       "    <tr>\n",
       "      <th>75%</th>\n",
       "      <td>87961771.00</td>\n",
       "      <td>1641.00</td>\n",
       "      <td>5.00</td>\n",
       "      <td>87961771.00</td>\n",
       "      <td>87961771.00</td>\n",
       "      <td>106.50</td>\n",
       "      <td>11.90</td>\n",
       "      <td>8.67</td>\n",
       "      <td>22.00</td>\n",
       "      <td>44.00</td>\n",
       "      <td>...</td>\n",
       "      <td>2021.00</td>\n",
       "      <td>2021-04-04 00:49:39</td>\n",
       "      <td>2.92</td>\n",
       "      <td>5.15</td>\n",
       "      <td>21.75</td>\n",
       "      <td>5.30</td>\n",
       "      <td>9.93</td>\n",
       "      <td>24.28</td>\n",
       "      <td>54.03</td>\n",
       "      <td>4.00</td>\n",
       "    </tr>\n",
       "    <tr>\n",
       "      <th>max</th>\n",
       "      <td>93139817.00</td>\n",
       "      <td>4679.00</td>\n",
       "      <td>49.00</td>\n",
       "      <td>93139817.00</td>\n",
       "      <td>93139817.00</td>\n",
       "      <td>200.00</td>\n",
       "      <td>575.60</td>\n",
       "      <td>156.00</td>\n",
       "      <td>23.00</td>\n",
       "      <td>59.00</td>\n",
       "      <td>...</td>\n",
       "      <td>2021.00</td>\n",
       "      <td>2021-04-30 23:59:48</td>\n",
       "      <td>2050.40</td>\n",
       "      <td>11712.28</td>\n",
       "      <td>85662.03</td>\n",
       "      <td>2735.52</td>\n",
       "      <td>11718.20</td>\n",
       "      <td>154261.10</td>\n",
       "      <td>154277.32</td>\n",
       "      <td>4.00</td>\n",
       "    </tr>\n",
       "    <tr>\n",
       "      <th>std</th>\n",
       "      <td>7080228.89</td>\n",
       "      <td>1165.88</td>\n",
       "      <td>7.10</td>\n",
       "      <td>7080228.89</td>\n",
       "      <td>7080228.89</td>\n",
       "      <td>45.36</td>\n",
       "      <td>5.32</td>\n",
       "      <td>3.96</td>\n",
       "      <td>6.17</td>\n",
       "      <td>17.22</td>\n",
       "      <td>...</td>\n",
       "      <td>0.00</td>\n",
       "      <td>NaN</td>\n",
       "      <td>11.37</td>\n",
       "      <td>55.21</td>\n",
       "      <td>760.47</td>\n",
       "      <td>14.36</td>\n",
       "      <td>75.19</td>\n",
       "      <td>771.50</td>\n",
       "      <td>1190.59</td>\n",
       "      <td>1.11</td>\n",
       "    </tr>\n",
       "  </tbody>\n",
       "</table>\n",
       "<p>8 rows × 22 columns</p>\n",
       "</div>"
      ],
      "text/plain": [
       "         order_id  store_id  channel_id  payment_order_id  delivery_order_id  \\\n",
       "count   333629.00 333629.00   333629.00         333629.00          333629.00   \n",
       "mean  82157643.37   1200.63        7.28       82157643.37        82157643.37   \n",
       "min   68405119.00      3.00        1.00       68405119.00        68405119.00   \n",
       "25%   76140660.00    409.00        5.00       76140660.00        76140660.00   \n",
       "50%   82974835.00    707.00        5.00       82974835.00        82974835.00   \n",
       "75%   87961771.00   1641.00        5.00       87961771.00        87961771.00   \n",
       "max   93139817.00   4679.00       49.00       93139817.00        93139817.00   \n",
       "std    7080228.89   1165.88        7.10        7080228.89         7080228.89   \n",
       "\n",
       "       order_amount  order_delivery_fee  order_delivery_cost  \\\n",
       "count     333629.00           333629.00            327275.00   \n",
       "mean          77.29                6.11                 7.24   \n",
       "min           15.00                0.00                 0.00   \n",
       "25%           39.30                0.00                 5.16   \n",
       "50%           65.90                6.90                 7.16   \n",
       "75%          106.50               11.90                 8.67   \n",
       "max          200.00              575.60               156.00   \n",
       "std           45.36                5.32                 3.96   \n",
       "\n",
       "       order_created_hour  order_created_minute  ...  order_created_year  \\\n",
       "count           333629.00             333629.00  ...           333629.00   \n",
       "mean                16.71                 29.45  ...             2021.00   \n",
       "min                  0.00                  0.00  ...             2021.00   \n",
       "25%                 15.00                 15.00  ...             2021.00   \n",
       "50%                 17.00                 29.00  ...             2021.00   \n",
       "75%                 22.00                 44.00  ...             2021.00   \n",
       "max                 23.00                 59.00  ...             2021.00   \n",
       "std                  6.17                 17.22  ...                0.00   \n",
       "\n",
       "                order_moment_created  order_metric_collected_time  \\\n",
       "count                         333629                    290223.00   \n",
       "mean   2021-03-07 14:02:02.543240960                         2.57   \n",
       "min              2021-01-01 00:01:36                        -1.47   \n",
       "25%              2021-02-06 23:53:15                         0.77   \n",
       "50%              2021-03-11 22:26:46                         1.60   \n",
       "75%              2021-04-04 00:49:39                         2.92   \n",
       "max              2021-04-30 23:59:48                      2050.40   \n",
       "std                              NaN                        11.37   \n",
       "\n",
       "      order_metric_paused_time  order_metric_production_time  \\\n",
       "count                272423.00                     312151.00   \n",
       "mean                      7.53                         57.10   \n",
       "min                   -2728.35                          0.00   \n",
       "25%                       1.13                          9.22   \n",
       "50%                       2.43                         15.03   \n",
       "75%                       5.15                         21.75   \n",
       "max                   11712.28                      85662.03   \n",
       "std                      55.21                        760.47   \n",
       "\n",
       "       order_metric_walking_time  order_metric_expediton_speed_time  \\\n",
       "count                  269553.00                          304793.00   \n",
       "mean                        4.53                              16.32   \n",
       "min                        -1.42                              -0.82   \n",
       "25%                         2.10                               4.40   \n",
       "50%                         3.50                               6.47   \n",
       "75%                         5.30                               9.93   \n",
       "max                      2735.52                           11718.20   \n",
       "std                        14.36                              75.19   \n",
       "\n",
       "       order_metric_transit_time  order_metric_cycle_time       mes  \n",
       "count                  312372.00                320707.00 333629.00  \n",
       "mean                       46.56                   144.44      2.67  \n",
       "min                        -4.10                     0.33      1.00  \n",
       "25%                        11.72                    32.40      2.00  \n",
       "50%                        16.50                    41.38      3.00  \n",
       "75%                        24.28                    54.03      4.00  \n",
       "max                    154261.10                154277.32      4.00  \n",
       "std                       771.50                  1190.59      1.11  \n",
       "\n",
       "[8 rows x 22 columns]"
      ]
     },
     "execution_count": 17,
     "metadata": {},
     "output_type": "execute_result"
    }
   ],
   "source": [
    "#describe de orders\n",
    "df_orders.describe()"
   ]
  },
  {
   "cell_type": "code",
   "execution_count": 18,
   "metadata": {
    "id": "ZUnTlYRkv8iR"
   },
   "outputs": [
    {
     "data": {
      "text/html": [
       "<div>\n",
       "<style scoped>\n",
       "    .dataframe tbody tr th:only-of-type {\n",
       "        vertical-align: middle;\n",
       "    }\n",
       "\n",
       "    .dataframe tbody tr th {\n",
       "        vertical-align: top;\n",
       "    }\n",
       "\n",
       "    .dataframe thead th {\n",
       "        text-align: right;\n",
       "    }\n",
       "</style>\n",
       "<table border=\"1\" class=\"dataframe\">\n",
       "  <thead>\n",
       "    <tr style=\"text-align: right;\">\n",
       "      <th></th>\n",
       "      <th>mês</th>\n",
       "      <th>meta</th>\n",
       "    </tr>\n",
       "  </thead>\n",
       "  <tbody>\n",
       "    <tr>\n",
       "      <th>0</th>\n",
       "      <td>1</td>\n",
       "      <td>4000000</td>\n",
       "    </tr>\n",
       "    <tr>\n",
       "      <th>1</th>\n",
       "      <td>2</td>\n",
       "      <td>3000000</td>\n",
       "    </tr>\n",
       "    <tr>\n",
       "      <th>2</th>\n",
       "      <td>3</td>\n",
       "      <td>12000000</td>\n",
       "    </tr>\n",
       "    <tr>\n",
       "      <th>3</th>\n",
       "      <td>4</td>\n",
       "      <td>15000000</td>\n",
       "    </tr>\n",
       "  </tbody>\n",
       "</table>\n",
       "</div>"
      ],
      "text/plain": [
       "   mês      meta\n",
       "0    1   4000000\n",
       "1    2   3000000\n",
       "2    3  12000000\n",
       "3    4  15000000"
      ]
     },
     "execution_count": 18,
     "metadata": {},
     "output_type": "execute_result"
    }
   ],
   "source": [
    "#leitura do nosso dataset de metas\n",
    "df_orders_goal = pd.read_csv('orders_goal.csv', sep=';')\n",
    "df_orders_goal.head()"
   ]
  },
  {
   "cell_type": "code",
   "execution_count": 19,
   "metadata": {
    "id": "UY_Kmi36wGba"
   },
   "outputs": [
    {
     "data": {
      "text/plain": [
       "Index(['mês', 'meta'], dtype='object')"
      ]
     },
     "execution_count": 19,
     "metadata": {},
     "output_type": "execute_result"
    }
   ],
   "source": [
    "#avaliação das colunas do dataset de metas\n",
    "df_orders_goal.columns"
   ]
  },
  {
   "cell_type": "code",
   "execution_count": 20,
   "metadata": {
    "id": "5rNZZZ8PwIto"
   },
   "outputs": [],
   "source": [
    "#altera o nome das colunas do dataset de metas\n",
    "df_orders_goal.columns = ['mes', 'meta']"
   ]
  },
  {
   "cell_type": "code",
   "execution_count": 21,
   "metadata": {
    "id": "pRy9WeM1wLxL"
   },
   "outputs": [
    {
     "data": {
      "text/html": [
       "<div>\n",
       "<style scoped>\n",
       "    .dataframe tbody tr th:only-of-type {\n",
       "        vertical-align: middle;\n",
       "    }\n",
       "\n",
       "    .dataframe tbody tr th {\n",
       "        vertical-align: top;\n",
       "    }\n",
       "\n",
       "    .dataframe thead th {\n",
       "        text-align: right;\n",
       "    }\n",
       "</style>\n",
       "<table border=\"1\" class=\"dataframe\">\n",
       "  <thead>\n",
       "    <tr style=\"text-align: right;\">\n",
       "      <th></th>\n",
       "      <th>mes</th>\n",
       "      <th>realizado</th>\n",
       "      <th>meta</th>\n",
       "    </tr>\n",
       "  </thead>\n",
       "  <tbody>\n",
       "    <tr>\n",
       "      <th>0</th>\n",
       "      <td>1</td>\n",
       "      <td>5375860.04</td>\n",
       "      <td>4000000</td>\n",
       "    </tr>\n",
       "    <tr>\n",
       "      <th>1</th>\n",
       "      <td>2</td>\n",
       "      <td>5050208.34</td>\n",
       "      <td>3000000</td>\n",
       "    </tr>\n",
       "    <tr>\n",
       "      <th>2</th>\n",
       "      <td>3</td>\n",
       "      <td>7614463.74</td>\n",
       "      <td>12000000</td>\n",
       "    </tr>\n",
       "    <tr>\n",
       "      <th>3</th>\n",
       "      <td>4</td>\n",
       "      <td>7745563.77</td>\n",
       "      <td>15000000</td>\n",
       "    </tr>\n",
       "  </tbody>\n",
       "</table>\n",
       "</div>"
      ],
      "text/plain": [
       "   mes  realizado      meta\n",
       "0    1 5375860.04   4000000\n",
       "1    2 5050208.34   3000000\n",
       "2    3 7614463.74  12000000\n",
       "3    4 7745563.77  15000000"
      ]
     },
     "execution_count": 21,
     "metadata": {},
     "output_type": "execute_result"
    }
   ],
   "source": [
    "#novo dataset com o merge do realizado e meta\n",
    "df_orders_meta_realizado = df_orders_realizado.merge(df_orders_goal, on=['mes'], how='left')\n",
    "df_orders_meta_realizado.head()"
   ]
  },
  {
   "cell_type": "code",
   "execution_count": 22,
   "metadata": {
    "id": "oMG4BQvLwe0Q"
   },
   "outputs": [
    {
     "data": {
      "image/png": "[encoded data removed]",
      "text/plain": [
       "<Figure size 1000x600 with 1 Axes>"
      ]
     },
     "metadata": {},
     "output_type": "display_data"
    }
   ],
   "source": [
    "# Transformar os dados para formato \"long\"\n",
    "df_long = df_orders_meta_realizado.melt(id_vars='mes', value_vars=['realizado', 'meta'], \n",
    "                                         var_name='Tipo', value_name='Valor')\n",
    "\n",
    "# Criar o gráfico de linha\n",
    "plt.figure(figsize=(10, 6))\n",
    "sns.lineplot(data=df_long, x='mes', y='Valor', hue='Tipo', marker='o',\n",
    "             palette={'realizado': 'green', 'meta': 'blue'})\n",
    "\n",
    "# Adicionar título e rótulos\n",
    "plt.title('Realizado vs Meta por Mês')\n",
    "plt.xlabel('Mês')\n",
    "plt.ylabel('Valor')\n",
    "plt.xticks(rotation=45)\n",
    "\n",
    "# Mostrar o gráfico\n",
    "plt.legend(title='Tipo')\n",
    "plt.show()"
   ]
  },
  {
   "cell_type": "code",
   "execution_count": 34,
   "metadata": {},
   "outputs": [
    {
     "data": {
      "application/vnd.plotly.v1+json": {
       "config": {
        "plotlyServerURL": "https://plot.ly"
       },
       "data": [
        {
         "hovertemplate": "variable=realizado<br>mes=%{x}<br>value=%{y}<extra></extra>",
         "legendgroup": "realizado",
         "line": {
          "color": "green",
          "dash": "solid"
         },
         "marker": {
          "symbol": "circle"
         },
         "mode": "lines+markers",
         "name": "realizado",
         "orientation": "v",
         "showlegend": true,
         "type": "scatter",
         "x": [
          1,
          2,
          3,
          4
         ],
         "xaxis": "x",
         "y": [
          5375860.04,
          5050208.34,
          7614463.74,
          7745563.77
         ],
         "yaxis": "y"
        },
        {
         "hovertemplate": "variable=meta<br>mes=%{x}<br>value=%{y}<extra></extra>",
         "legendgroup": "meta",
         "line": {
          "color": "blue",
          "dash": "solid"
         },
         "marker": {
          "symbol": "circle"
         },
         "mode": "lines+markers",
         "name": "meta",
         "orientation": "v",
         "showlegend": true,
         "type": "scatter",
         "x": [
          1,
          2,
          3,
          4
         ],
         "xaxis": "x",
         "y": [
          4000000,
          3000000,
          12000000,
          15000000
         ],
         "yaxis": "y"
        }
       ],
       "layout": {
        "autosize": true,
        "legend": {
         "title": {
          "text": ""
         },
         "tracegroupgap": 0
        },
        "margin": {
         "t": 60
        },
        "template": {
         "data": {
          "bar": [
           {
            "error_x": {
             "color": "#2a3f5f"
            },
            "error_y": {
             "color": "#2a3f5f"
            },
            "marker": {
             "line": {
              "color": "#E5ECF6",
              "width": 0.5
             },
             "pattern": {
              "fillmode": "overlay",
              "size": 10,
              "solidity": 0.2
             }
            },
            "type": "bar"
           }
          ],
          "barpolar": [
           {
            "marker": {
             "line": {
              "color": "#E5ECF6",
              "width": 0.5
             },
             "pattern": {
              "fillmode": "overlay",
              "size": 10,
              "solidity": 0.2
             }
            },
            "type": "barpolar"
           }
          ],
          "carpet": [
           {
            "aaxis": {
             "endlinecolor": "#2a3f5f",
             "gridcolor": "white",
             "linecolor": "white",
             "minorgridcolor": "white",
             "startlinecolor": "#2a3f5f"
            },
            "baxis": {
             "endlinecolor": "#2a3f5f",
             "gridcolor": "white",
             "linecolor": "white",
             "minorgridcolor": "white",
             "startlinecolor": "#2a3f5f"
            },
            "type": "carpet"
           }
          ],
          "choropleth": [
           {
            "colorbar": {
             "outlinewidth": 0,
             "ticks": ""
            },
            "type": "choropleth"
           }
          ],
          "contour": [
           {
            "colorbar": {
             "outlinewidth": 0,
             "ticks": ""
            },
            "colorscale": [
             [
              0,
              "#0d0887"
             ],
             [
              0.1111111111111111,
              "#46039f"
             ],
             [
              0.2222222222222222,
              "#7201a8"
             ],
             [
              0.3333333333333333,
              "#9c179e"
             ],
             [
              0.4444444444444444,
              "#bd3786"
             ],
             [
              0.5555555555555556,
              "#d8576b"
             ],
             [
              0.6666666666666666,
              "#ed7953"
             ],
             [
              0.7777777777777778,
              "#fb9f3a"
             ],
             [
              0.8888888888888888,
              "#fdca26"
             ],
             [
              1,
              "#f0f921"
             ]
            ],
            "type": "contour"
           }
          ],
          "contourcarpet": [
           {
            "colorbar": {
             "outlinewidth": 0,
             "ticks": ""
            },
            "type": "contourcarpet"
           }
          ],
          "heatmap": [
           {
            "colorbar": {
             "outlinewidth": 0,
             "ticks": ""
            },
            "colorscale": [
             [
              0,
              "#0d0887"
             ],
             [
              0.1111111111111111,
              "#46039f"
             ],
             [
              0.2222222222222222,
              "#7201a8"
             ],
             [
              0.3333333333333333,
              "#9c179e"
             ],
             [
              0.4444444444444444,
              "#bd3786"
             ],
             [
              0.5555555555555556,
              "#d8576b"
             ],
             [
              0.6666666666666666,
              "#ed7953"
             ],
             [
              0.7777777777777778,
              "#fb9f3a"
             ],
             [
              0.8888888888888888,
              "#fdca26"
             ],
             [
              1,
              "#f0f921"
             ]
            ],
            "type": "heatmap"
           }
          ],
          "heatmapgl": [
           {
            "colorbar": {
             "outlinewidth": 0,
             "ticks": ""
            },
            "colorscale": [
             [
              0,
              "#0d0887"
             ],
             [
              0.1111111111111111,
              "#46039f"
             ],
             [
              0.2222222222222222,
              "#7201a8"
             ],
             [
              0.3333333333333333,
              "#9c179e"
             ],
             [
              0.4444444444444444,
              "#bd3786"
             ],
             [
              0.5555555555555556,
              "#d8576b"
             ],
             [
              0.6666666666666666,
              "#ed7953"
             ],
             [
              0.7777777777777778,
              "#fb9f3a"
             ],
             [
              0.8888888888888888,
              "#fdca26"
             ],
             [
              1,
              "#f0f921"
             ]
            ],
            "type": "heatmapgl"
           }
          ],
          "histogram": [
           {
            "marker": {
             "pattern": {
              "fillmode": "overlay",
              "size": 10,
              "solidity": 0.2
             }
            },
            "type": "histogram"
           }
          ],
          "histogram2d": [
           {
            "colorbar": {
             "outlinewidth": 0,
             "ticks": ""
            },
            "colorscale": [
             [
              0,
              "#0d0887"
             ],
             [
              0.1111111111111111,
              "#46039f"
             ],
             [
              0.2222222222222222,
              "#7201a8"
             ],
             [
              0.3333333333333333,
              "#9c179e"
             ],
             [
              0.4444444444444444,
              "#bd3786"
             ],
             [
              0.5555555555555556,
              "#d8576b"
             ],
             [
              0.6666666666666666,
              "#ed7953"
             ],
             [
              0.7777777777777778,
              "#fb9f3a"
             ],
             [
              0.8888888888888888,
              "#fdca26"
             ],
             [
              1,
              "#f0f921"
             ]
            ],
            "type": "histogram2d"
           }
          ],
          "histogram2dcontour": [
           {
            "colorbar": {
             "outlinewidth": 0,
             "ticks": ""
            },
            "colorscale": [
             [
              0,
              "#0d0887"
             ],
             [
              0.1111111111111111,
              "#46039f"
             ],
             [
              0.2222222222222222,
              "#7201a8"
             ],
             [
              0.3333333333333333,
              "#9c179e"
             ],
             [
              0.4444444444444444,
              "#bd3786"
             ],
             [
              0.5555555555555556,
              "#d8576b"
             ],
             [
              0.6666666666666666,
              "#ed7953"
             ],
             [
              0.7777777777777778,
              "#fb9f3a"
             ],
             [
              0.8888888888888888,
              "#fdca26"
             ],
             [
              1,
              "#f0f921"
             ]
            ],
            "type": "histogram2dcontour"
           }
          ],
          "mesh3d": [
           {
            "colorbar": {
             "outlinewidth": 0,
             "ticks": ""
            },
            "type": "mesh3d"
           }
          ],
          "parcoords": [
           {
            "line": {
             "colorbar": {
              "outlinewidth": 0,
              "ticks": ""
             }
            },
            "type": "parcoords"
           }
          ],
          "pie": [
           {
            "automargin": true,
            "type": "pie"
           }
          ],
          "scatter": [
           {
            "fillpattern": {
             "fillmode": "overlay",
             "size": 10,
             "solidity": 0.2
            },
            "type": "scatter"
           }
          ],
          "scatter3d": [
           {
            "line": {
             "colorbar": {
              "outlinewidth": 0,
              "ticks": ""
             }
            },
            "marker": {
             "colorbar": {
              "outlinewidth": 0,
              "ticks": ""
             }
            },
            "type": "scatter3d"
           }
          ],
          "scattercarpet": [
           {
            "marker": {
             "colorbar": {
              "outlinewidth": 0,
              "ticks": ""
             }
            },
            "type": "scattercarpet"
           }
          ],
          "scattergeo": [
           {
            "marker": {
             "colorbar": {
              "outlinewidth": 0,
              "ticks": ""
             }
            },
            "type": "scattergeo"
           }
          ],
          "scattergl": [
           {
            "marker": {
             "colorbar": {
              "outlinewidth": 0,
              "ticks": ""
             }
            },
            "type": "scattergl"
           }
          ],
          "scattermapbox": [
           {
            "marker": {
             "colorbar": {
              "outlinewidth": 0,
              "ticks": ""
             }
            },
            "type": "scattermapbox"
           }
          ],
          "scatterpolar": [
           {
            "marker": {
             "colorbar": {
              "outlinewidth": 0,
              "ticks": ""
             }
            },
            "type": "scatterpolar"
           }
          ],
          "scatterpolargl": [
           {
            "marker": {
             "colorbar": {
              "outlinewidth": 0,
              "ticks": ""
             }
            },
            "type": "scatterpolargl"
           }
          ],
          "scatterternary": [
           {
            "marker": {
             "colorbar": {
              "outlinewidth": 0,
              "ticks": ""
             }
            },
            "type": "scatterternary"
           }
          ],
          "surface": [
           {
            "colorbar": {
             "outlinewidth": 0,
             "ticks": ""
            },
            "colorscale": [
             [
              0,
              "#0d0887"
             ],
             [
              0.1111111111111111,
              "#46039f"
             ],
             [
              0.2222222222222222,
              "#7201a8"
             ],
             [
              0.3333333333333333,
              "#9c179e"
             ],
             [
              0.4444444444444444,
              "#bd3786"
             ],
             [
              0.5555555555555556,
              "#d8576b"
             ],
             [
              0.6666666666666666,
              "#ed7953"
             ],
             [
              0.7777777777777778,
              "#fb9f3a"
             ],
             [
              0.8888888888888888,
              "#fdca26"
             ],
             [
              1,
              "#f0f921"
             ]
            ],
            "type": "surface"
           }
          ],
          "table": [
           {
            "cells": {
             "fill": {
              "color": "#EBF0F8"
             },
             "line": {
              "color": "white"
             }
            },
            "header": {
             "fill": {
              "color": "#C8D4E3"
             },
             "line": {
              "color": "white"
             }
            },
            "type": "table"
           }
          ]
         },
         "layout": {
          "annotationdefaults": {
           "arrowcolor": "#2a3f5f",
           "arrowhead": 0,
           "arrowwidth": 1
          },
          "autotypenumbers": "strict",
          "coloraxis": {
           "colorbar": {
            "outlinewidth": 0,
            "ticks": ""
           }
          },
          "colorscale": {
           "diverging": [
            [
             0,
             "#8e0152"
            ],
            [
             0.1,
             "#c51b7d"
            ],
            [
             0.2,
             "#de77ae"
            ],
            [
             0.3,
             "#f1b6da"
            ],
            [
             0.4,
             "#fde0ef"
            ],
            [
             0.5,
             "#f7f7f7"
            ],
            [
             0.6,
             "#e6f5d0"
            ],
            [
             0.7,
             "#b8e186"
            ],
            [
             0.8,
             "#7fbc41"
            ],
            [
             0.9,
             "#4d9221"
            ],
            [
             1,
             "#276419"
            ]
           ],
           "sequential": [
            [
             0,
             "#0d0887"
            ],
            [
             0.1111111111111111,
             "#46039f"
            ],
            [
             0.2222222222222222,
             "#7201a8"
            ],
            [
             0.3333333333333333,
             "#9c179e"
            ],
            [
             0.4444444444444444,
             "#bd3786"
            ],
            [
             0.5555555555555556,
             "#d8576b"
            ],
            [
             0.6666666666666666,
             "#ed7953"
            ],
            [
             0.7777777777777778,
             "#fb9f3a"
            ],
            [
             0.8888888888888888,
             "#fdca26"
            ],
            [
             1,
             "#f0f921"
            ]
           ],
           "sequentialminus": [
            [
             0,
             "#0d0887"
            ],
            [
             0.1111111111111111,
             "#46039f"
            ],
            [
             0.2222222222222222,
             "#7201a8"
            ],
            [
             0.3333333333333333,
             "#9c179e"
            ],
            [
             0.4444444444444444,
             "#bd3786"
            ],
            [
             0.5555555555555556,
             "#d8576b"
            ],
            [
             0.6666666666666666,
             "#ed7953"
            ],
            [
             0.7777777777777778,
             "#fb9f3a"
            ],
            [
             0.8888888888888888,
             "#fdca26"
            ],
            [
             1,
             "#f0f921"
            ]
           ]
          },
          "colorway": [
           "#636efa",
           "#EF553B",
           "#00cc96",
           "#ab63fa",
           "#FFA15A",
           "#19d3f3",
           "#FF6692",
           "#B6E880",
           "#FF97FF",
           "#FECB52"
          ],
          "font": {
           "color": "#2a3f5f"
          },
          "geo": {
           "bgcolor": "white",
           "lakecolor": "white",
           "landcolor": "#E5ECF6",
           "showlakes": true,
           "showland": true,
           "subunitcolor": "white"
          },
          "hoverlabel": {
           "align": "left"
          },
          "hovermode": "closest",
          "mapbox": {
           "style": "light"
          },
          "paper_bgcolor": "white",
          "plot_bgcolor": "#E5ECF6",
          "polar": {
           "angularaxis": {
            "gridcolor": "white",
            "linecolor": "white",
            "ticks": ""
           },
           "bgcolor": "#E5ECF6",
           "radialaxis": {
            "gridcolor": "white",
            "linecolor": "white",
            "ticks": ""
           }
          },
          "scene": {
           "xaxis": {
            "backgroundcolor": "#E5ECF6",
            "gridcolor": "white",
            "gridwidth": 2,
            "linecolor": "white",
            "showbackground": true,
            "ticks": "",
            "zerolinecolor": "white"
           },
           "yaxis": {
            "backgroundcolor": "#E5ECF6",
            "gridcolor": "white",
            "gridwidth": 2,
            "linecolor": "white",
            "showbackground": true,
            "ticks": "",
            "zerolinecolor": "white"
           },
           "zaxis": {
            "backgroundcolor": "#E5ECF6",
            "gridcolor": "white",
            "gridwidth": 2,
            "linecolor": "white",
            "showbackground": true,
            "ticks": "",
            "zerolinecolor": "white"
           }
          },
          "shapedefaults": {
           "line": {
            "color": "#2a3f5f"
           }
          },
          "ternary": {
           "aaxis": {
            "gridcolor": "white",
            "linecolor": "white",
            "ticks": ""
           },
           "baxis": {
            "gridcolor": "white",
            "linecolor": "white",
            "ticks": ""
           },
           "bgcolor": "#E5ECF6",
           "caxis": {
            "gridcolor": "white",
            "linecolor": "white",
            "ticks": ""
           }
          },
          "title": {
           "x": 0.05
          },
          "xaxis": {
           "automargin": true,
           "gridcolor": "white",
           "linecolor": "white",
           "ticks": "",
           "title": {
            "standoff": 15
           },
           "zerolinecolor": "white",
           "zerolinewidth": 2
          },
          "yaxis": {
           "automargin": true,
           "gridcolor": "white",
           "linecolor": "white",
           "ticks": "",
           "title": {
            "standoff": 15
           },
           "zerolinecolor": "white",
           "zerolinewidth": 2
          }
         }
        },
        "title": {
         "text": "Realizado x Meta"
        },
        "xaxis": {
         "anchor": "y",
         "autorange": true,
         "domain": [
          0,
          1
         ],
         "range": [
          0.8175981873111783,
          4.182401812688822
         ],
         "title": {
          "text": "Mes"
         },
         "type": "linear"
        },
        "yaxis": {
         "anchor": "x",
         "autorange": true,
         "domain": [
          0,
          1
         ],
         "range": [
          2070866.1417322834,
          15929133.858267717
         ],
         "title": {
          "text": "Total"
         },
         "type": "linear"
        }
       }
      },
      "image/png": "[encoded data removed]",
      "text/html": [
       "<div>                            <div id=\"8d0f65fd-2d73-4771-90b7-760a9877bd1b\" class=\"plotly-graph-div\" style=\"height:525px; width:100%;\"></div>            <script type=\"text/javascript\">                require([\"plotly\"], function(Plotly) {                    window.PLOTLYENV=window.PLOTLYENV || {};                                    if (document.getElementById(\"8d0f65fd-2d73-4771-90b7-760a9877bd1b\")) {                    Plotly.newPlot(                        \"8d0f65fd-2d73-4771-90b7-760a9877bd1b\",                        [{\"hovertemplate\":\"variable=realizado\\u003cbr\\u003emes=%{x}\\u003cbr\\u003evalue=%{y}\\u003cextra\\u003e\\u003c\\u002fextra\\u003e\",\"legendgroup\":\"realizado\",\"line\":{\"color\":\"green\",\"dash\":\"solid\"},\"marker\":{\"symbol\":\"circle\"},\"mode\":\"lines+markers\",\"name\":\"realizado\",\"orientation\":\"v\",\"showlegend\":true,\"x\":[1,2,3,4],\"xaxis\":\"x\",\"y\":[5375860.04,5050208.34,7614463.74,7745563.77],\"yaxis\":\"y\",\"type\":\"scatter\"},{\"hovertemplate\":\"variable=meta\\u003cbr\\u003emes=%{x}\\u003cbr\\u003evalue=%{y}\\u003cextra\\u003e\\u003c\\u002fextra\\u003e\",\"legendgroup\":\"meta\",\"line\":{\"color\":\"blue\",\"dash\":\"solid\"},\"marker\":{\"symbol\":\"circle\"},\"mode\":\"lines+markers\",\"name\":\"meta\",\"orientation\":\"v\",\"showlegend\":true,\"x\":[1,2,3,4],\"xaxis\":\"x\",\"y\":[4000000.0,3000000.0,12000000.0,15000000.0],\"yaxis\":\"y\",\"type\":\"scatter\"}],                        {\"template\":{\"data\":{\"histogram2dcontour\":[{\"type\":\"histogram2dcontour\",\"colorbar\":{\"outlinewidth\":0,\"ticks\":\"\"},\"colorscale\":[[0.0,\"#0d0887\"],[0.1111111111111111,\"#46039f\"],[0.2222222222222222,\"#7201a8\"],[0.3333333333333333,\"#9c179e\"],[0.4444444444444444,\"#bd3786\"],[0.5555555555555556,\"#d8576b\"],[0.6666666666666666,\"#ed7953\"],[0.7777777777777778,\"#fb9f3a\"],[0.8888888888888888,\"#fdca26\"],[1.0,\"#f0f921\"]]}],\"choropleth\":[{\"type\":\"choropleth\",\"colorbar\":{\"outlinewidth\":0,\"ticks\":\"\"}}],\"histogram2d\":[{\"type\":\"histogram2d\",\"colorbar\":{\"outlinewidth\":0,\"ticks\":\"\"},\"colorscale\":[[0.0,\"#0d0887\"],[0.1111111111111111,\"#46039f\"],[0.2222222222222222,\"#7201a8\"],[0.3333333333333333,\"#9c179e\"],[0.4444444444444444,\"#bd3786\"],[0.5555555555555556,\"#d8576b\"],[0.6666666666666666,\"#ed7953\"],[0.7777777777777778,\"#fb9f3a\"],[0.8888888888888888,\"#fdca26\"],[1.0,\"#f0f921\"]]}],\"heatmap\":[{\"type\":\"heatmap\",\"colorbar\":{\"outlinewidth\":0,\"ticks\":\"\"},\"colorscale\":[[0.0,\"#0d0887\"],[0.1111111111111111,\"#46039f\"],[0.2222222222222222,\"#7201a8\"],[0.3333333333333333,\"#9c179e\"],[0.4444444444444444,\"#bd3786\"],[0.5555555555555556,\"#d8576b\"],[0.6666666666666666,\"#ed7953\"],[0.7777777777777778,\"#fb9f3a\"],[0.8888888888888888,\"#fdca26\"],[1.0,\"#f0f921\"]]}],\"heatmapgl\":[{\"type\":\"heatmapgl\",\"colorbar\":{\"outlinewidth\":0,\"ticks\":\"\"},\"colorscale\":[[0.0,\"#0d0887\"],[0.1111111111111111,\"#46039f\"],[0.2222222222222222,\"#7201a8\"],[0.3333333333333333,\"#9c179e\"],[0.4444444444444444,\"#bd3786\"],[0.5555555555555556,\"#d8576b\"],[0.6666666666666666,\"#ed7953\"],[0.7777777777777778,\"#fb9f3a\"],[0.8888888888888888,\"#fdca26\"],[1.0,\"#f0f921\"]]}],\"contourcarpet\":[{\"type\":\"contourcarpet\",\"colorbar\":{\"outlinewidth\":0,\"ticks\":\"\"}}],\"contour\":[{\"type\":\"contour\",\"colorbar\":{\"outlinewidth\":0,\"ticks\":\"\"},\"colorscale\":[[0.0,\"#0d0887\"],[0.1111111111111111,\"#46039f\"],[0.2222222222222222,\"#7201a8\"],[0.3333333333333333,\"#9c179e\"],[0.4444444444444444,\"#bd3786\"],[0.5555555555555556,\"#d8576b\"],[0.6666666666666666,\"#ed7953\"],[0.7777777777777778,\"#fb9f3a\"],[0.8888888888888888,\"#fdca26\"],[1.0,\"#f0f921\"]]}],\"surface\":[{\"type\":\"surface\",\"colorbar\":{\"outlinewidth\":0,\"ticks\":\"\"},\"colorscale\":[[0.0,\"#0d0887\"],[0.1111111111111111,\"#46039f\"],[0.2222222222222222,\"#7201a8\"],[0.3333333333333333,\"#9c179e\"],[0.4444444444444444,\"#bd3786\"],[0.5555555555555556,\"#d8576b\"],[0.6666666666666666,\"#ed7953\"],[0.7777777777777778,\"#fb9f3a\"],[0.8888888888888888,\"#fdca26\"],[1.0,\"#f0f921\"]]}],\"mesh3d\":[{\"type\":\"mesh3d\",\"colorbar\":{\"outlinewidth\":0,\"ticks\":\"\"}}],\"scatter\":[{\"fillpattern\":{\"fillmode\":\"overlay\",\"size\":10,\"solidity\":0.2},\"type\":\"scatter\"}],\"parcoords\":[{\"type\":\"parcoords\",\"line\":{\"colorbar\":{\"outlinewidth\":0,\"ticks\":\"\"}}}],\"scatterpolargl\":[{\"type\":\"scatterpolargl\",\"marker\":{\"colorbar\":{\"outlinewidth\":0,\"ticks\":\"\"}}}],\"bar\":[{\"error_x\":{\"color\":\"#2a3f5f\"},\"error_y\":{\"color\":\"#2a3f5f\"},\"marker\":{\"line\":{\"color\":\"#E5ECF6\",\"width\":0.5},\"pattern\":{\"fillmode\":\"overlay\",\"size\":10,\"solidity\":0.2}},\"type\":\"bar\"}],\"scattergeo\":[{\"type\":\"scattergeo\",\"marker\":{\"colorbar\":{\"outlinewidth\":0,\"ticks\":\"\"}}}],\"scatterpolar\":[{\"type\":\"scatterpolar\",\"marker\":{\"colorbar\":{\"outlinewidth\":0,\"ticks\":\"\"}}}],\"histogram\":[{\"marker\":{\"pattern\":{\"fillmode\":\"overlay\",\"size\":10,\"solidity\":0.2}},\"type\":\"histogram\"}],\"scattergl\":[{\"type\":\"scattergl\",\"marker\":{\"colorbar\":{\"outlinewidth\":0,\"ticks\":\"\"}}}],\"scatter3d\":[{\"type\":\"scatter3d\",\"line\":{\"colorbar\":{\"outlinewidth\":0,\"ticks\":\"\"}},\"marker\":{\"colorbar\":{\"outlinewidth\":0,\"ticks\":\"\"}}}],\"scattermapbox\":[{\"type\":\"scattermapbox\",\"marker\":{\"colorbar\":{\"outlinewidth\":0,\"ticks\":\"\"}}}],\"scatterternary\":[{\"type\":\"scatterternary\",\"marker\":{\"colorbar\":{\"outlinewidth\":0,\"ticks\":\"\"}}}],\"scattercarpet\":[{\"type\":\"scattercarpet\",\"marker\":{\"colorbar\":{\"outlinewidth\":0,\"ticks\":\"\"}}}],\"carpet\":[{\"aaxis\":{\"endlinecolor\":\"#2a3f5f\",\"gridcolor\":\"white\",\"linecolor\":\"white\",\"minorgridcolor\":\"white\",\"startlinecolor\":\"#2a3f5f\"},\"baxis\":{\"endlinecolor\":\"#2a3f5f\",\"gridcolor\":\"white\",\"linecolor\":\"white\",\"minorgridcolor\":\"white\",\"startlinecolor\":\"#2a3f5f\"},\"type\":\"carpet\"}],\"table\":[{\"cells\":{\"fill\":{\"color\":\"#EBF0F8\"},\"line\":{\"color\":\"white\"}},\"header\":{\"fill\":{\"color\":\"#C8D4E3\"},\"line\":{\"color\":\"white\"}},\"type\":\"table\"}],\"barpolar\":[{\"marker\":{\"line\":{\"color\":\"#E5ECF6\",\"width\":0.5},\"pattern\":{\"fillmode\":\"overlay\",\"size\":10,\"solidity\":0.2}},\"type\":\"barpolar\"}],\"pie\":[{\"automargin\":true,\"type\":\"pie\"}]},\"layout\":{\"autotypenumbers\":\"strict\",\"colorway\":[\"#636efa\",\"#EF553B\",\"#00cc96\",\"#ab63fa\",\"#FFA15A\",\"#19d3f3\",\"#FF6692\",\"#B6E880\",\"#FF97FF\",\"#FECB52\"],\"font\":{\"color\":\"#2a3f5f\"},\"hovermode\":\"closest\",\"hoverlabel\":{\"align\":\"left\"},\"paper_bgcolor\":\"white\",\"plot_bgcolor\":\"#E5ECF6\",\"polar\":{\"bgcolor\":\"#E5ECF6\",\"angularaxis\":{\"gridcolor\":\"white\",\"linecolor\":\"white\",\"ticks\":\"\"},\"radialaxis\":{\"gridcolor\":\"white\",\"linecolor\":\"white\",\"ticks\":\"\"}},\"ternary\":{\"bgcolor\":\"#E5ECF6\",\"aaxis\":{\"gridcolor\":\"white\",\"linecolor\":\"white\",\"ticks\":\"\"},\"baxis\":{\"gridcolor\":\"white\",\"linecolor\":\"white\",\"ticks\":\"\"},\"caxis\":{\"gridcolor\":\"white\",\"linecolor\":\"white\",\"ticks\":\"\"}},\"coloraxis\":{\"colorbar\":{\"outlinewidth\":0,\"ticks\":\"\"}},\"colorscale\":{\"sequential\":[[0.0,\"#0d0887\"],[0.1111111111111111,\"#46039f\"],[0.2222222222222222,\"#7201a8\"],[0.3333333333333333,\"#9c179e\"],[0.4444444444444444,\"#bd3786\"],[0.5555555555555556,\"#d8576b\"],[0.6666666666666666,\"#ed7953\"],[0.7777777777777778,\"#fb9f3a\"],[0.8888888888888888,\"#fdca26\"],[1.0,\"#f0f921\"]],\"sequentialminus\":[[0.0,\"#0d0887\"],[0.1111111111111111,\"#46039f\"],[0.2222222222222222,\"#7201a8\"],[0.3333333333333333,\"#9c179e\"],[0.4444444444444444,\"#bd3786\"],[0.5555555555555556,\"#d8576b\"],[0.6666666666666666,\"#ed7953\"],[0.7777777777777778,\"#fb9f3a\"],[0.8888888888888888,\"#fdca26\"],[1.0,\"#f0f921\"]],\"diverging\":[[0,\"#8e0152\"],[0.1,\"#c51b7d\"],[0.2,\"#de77ae\"],[0.3,\"#f1b6da\"],[0.4,\"#fde0ef\"],[0.5,\"#f7f7f7\"],[0.6,\"#e6f5d0\"],[0.7,\"#b8e186\"],[0.8,\"#7fbc41\"],[0.9,\"#4d9221\"],[1,\"#276419\"]]},\"xaxis\":{\"gridcolor\":\"white\",\"linecolor\":\"white\",\"ticks\":\"\",\"title\":{\"standoff\":15},\"zerolinecolor\":\"white\",\"automargin\":true,\"zerolinewidth\":2},\"yaxis\":{\"gridcolor\":\"white\",\"linecolor\":\"white\",\"ticks\":\"\",\"title\":{\"standoff\":15},\"zerolinecolor\":\"white\",\"automargin\":true,\"zerolinewidth\":2},\"scene\":{\"xaxis\":{\"backgroundcolor\":\"#E5ECF6\",\"gridcolor\":\"white\",\"linecolor\":\"white\",\"showbackground\":true,\"ticks\":\"\",\"zerolinecolor\":\"white\",\"gridwidth\":2},\"yaxis\":{\"backgroundcolor\":\"#E5ECF6\",\"gridcolor\":\"white\",\"linecolor\":\"white\",\"showbackground\":true,\"ticks\":\"\",\"zerolinecolor\":\"white\",\"gridwidth\":2},\"zaxis\":{\"backgroundcolor\":\"#E5ECF6\",\"gridcolor\":\"white\",\"linecolor\":\"white\",\"showbackground\":true,\"ticks\":\"\",\"zerolinecolor\":\"white\",\"gridwidth\":2}},\"shapedefaults\":{\"line\":{\"color\":\"#2a3f5f\"}},\"annotationdefaults\":{\"arrowcolor\":\"#2a3f5f\",\"arrowhead\":0,\"arrowwidth\":1},\"geo\":{\"bgcolor\":\"white\",\"landcolor\":\"#E5ECF6\",\"subunitcolor\":\"white\",\"showland\":true,\"showlakes\":true,\"lakecolor\":\"white\"},\"title\":{\"x\":0.05},\"mapbox\":{\"style\":\"light\"}}},\"xaxis\":{\"anchor\":\"y\",\"domain\":[0.0,1.0],\"title\":{\"text\":\"Mes\"}},\"yaxis\":{\"anchor\":\"x\",\"domain\":[0.0,1.0],\"title\":{\"text\":\"Total\"}},\"legend\":{\"title\":{\"text\":\"\"},\"tracegroupgap\":0},\"margin\":{\"t\":60},\"title\":{\"text\":\"Realizado x Meta\"}},                        {\"responsive\": true}                    ).then(function(){\n",
       "                            \n",
       "var gd = document.getElementById('8d0f65fd-2d73-4771-90b7-760a9877bd1b');\n",
       "var x = new MutationObserver(function (mutations, observer) {{\n",
       "        var display = window.getComputedStyle(gd).display;\n",
       "        if (!display || display === 'none') {{\n",
       "            console.log([gd, 'removed!']);\n",
       "            Plotly.purge(gd);\n",
       "            observer.disconnect();\n",
       "        }}\n",
       "}});\n",
       "\n",
       "// Listen for the removal of the full notebook cells\n",
       "var notebookContainer = gd.closest('#notebook-container');\n",
       "if (notebookContainer) {{\n",
       "    x.observe(notebookContainer, {childList: true});\n",
       "}}\n",
       "\n",
       "// Listen for the clearing of the current output cell\n",
       "var outputEl = gd.closest('.output');\n",
       "if (outputEl) {{\n",
       "    x.observe(outputEl, {childList: true});\n",
       "}}\n",
       "\n",
       "                        })                };                });            </script>        </div>"
      ]
     },
     "metadata": {},
     "output_type": "display_data"
    }
   ],
   "source": [
    "fig = px.line(df_orders_meta_realizado, x='mes', y=['realizado', 'meta'], markers=True, color_discrete_map={'realizado':'green', 'meta':'blue'})\n",
    "\n",
    "fig.update_layout(title='Realizado x Meta', xaxis_title='Mes', yaxis_title=\"Total\", legend_title='')\n",
    "\n",
    "fig.show()"
   ]
  },
  {
   "cell_type": "markdown",
   "metadata": {
    "id": "J2YxK8C8IZ1K"
   },
   "source": [
    "#### A conclusão é que o plotly não funciona no meu jupyter notebook (Agora foi)"
   ]
  },
  {
   "cell_type": "markdown",
   "metadata": {
    "id": "BebYV47y5eII"
   },
   "source": [
    "## Finalizados vs Cancelados - Pizza"
   ]
  },
  {
   "cell_type": "code",
   "execution_count": 24,
   "metadata": {
    "id": "_kEyqIWT0ONa"
   },
   "outputs": [],
   "source": [
    "#configurações do gráfico de pizza\n",
    "\n",
    "#apresentação do gráfico\n"
   ]
  },
  {
   "cell_type": "markdown",
   "metadata": {
    "id": "4ta6r4PLKK_-"
   },
   "source": [
    "Escreva sua conclusão aqui"
   ]
  },
  {
   "cell_type": "markdown",
   "metadata": {
    "id": "Z4ZDWtiP5Sds"
   },
   "source": [
    "## Finalizados vs Cancelados - Linhas"
   ]
  },
  {
   "cell_type": "code",
   "execution_count": 25,
   "metadata": {
    "id": "0Hvmr_OO1mBg"
   },
   "outputs": [],
   "source": [
    "#nova coluna order_moment_created_day somente com a data do order_moment_created\n"
   ]
  },
  {
   "cell_type": "code",
   "execution_count": 26,
   "metadata": {
    "id": "LFS85ikW27jd"
   },
   "outputs": [],
   "source": [
    "#novo dataset agrupado por dia e status com a agregação de count do order_id e soma do order_amount\n"
   ]
  },
  {
   "cell_type": "code",
   "execution_count": 27,
   "metadata": {
    "id": "UsQ6Bp6J3bR4"
   },
   "outputs": [],
   "source": [
    "#head do novo dataset\n"
   ]
  },
  {
   "cell_type": "code",
   "execution_count": 28,
   "metadata": {
    "id": "Vqf4cE3H1djI"
   },
   "outputs": [],
   "source": [
    "#inicio do fig com as configurações de linha\n",
    "\n",
    "#alterações do layout\n",
    "\n",
    "#apresentação do gráfico\n"
   ]
  },
  {
   "cell_type": "markdown",
   "metadata": {
    "id": "F7ulCTNiLEWw"
   },
   "source": [
    "Escreva sua conclusão aqui"
   ]
  },
  {
   "cell_type": "markdown",
   "metadata": {
    "id": "WGD2q9cC5O9A"
   },
   "source": [
    "## Maiores lojas por pedido - Barras"
   ]
  },
  {
   "cell_type": "code",
   "execution_count": 29,
   "metadata": {
    "id": "z44Tiz6E3_sF"
   },
   "outputs": [],
   "source": [
    "#novo dataset com as lojas"
   ]
  },
  {
   "cell_type": "code",
   "execution_count": 30,
   "metadata": {
    "id": "nvuakED135f2"
   },
   "outputs": [],
   "source": [
    "#novo dataset com o merge de pedidos e lojas\n"
   ]
  },
  {
   "cell_type": "code",
   "execution_count": 31,
   "metadata": {
    "id": "mBm7LNE84Pp4"
   },
   "outputs": [],
   "source": [
    "#novo dataset com o total de vendas por loja\n"
   ]
  },
  {
   "cell_type": "code",
   "execution_count": 32,
   "metadata": {
    "id": "UkKJp1VN4rHY"
   },
   "outputs": [],
   "source": [
    "#top 10 lojas em total de venda\n"
   ]
  },
  {
   "cell_type": "code",
   "execution_count": 33,
   "metadata": {
    "id": "2YN2bE3C4gnJ"
   },
   "outputs": [],
   "source": [
    "#inicio do fig com as configurações de linha\n",
    "\n",
    "\n",
    "#alterações do layout\n",
    "\n",
    "\n",
    "#apresentação do gráfico\n",
    "\n"
   ]
  },
  {
   "cell_type": "markdown",
   "metadata": {
    "id": "YvzyAIWGLvvT"
   },
   "source": [
    "Escreva sua conclusão aqui"
   ]
  }
 ],
 "metadata": {
  "colab": {
   "provenance": []
  },
  "kernelspec": {
   "display_name": "Python 3 (ipykernel)",
   "language": "python",
   "name": "python3"
  },
  "language_info": {
   "codemirror_mode": {
    "name": "ipython",
    "version": 3
   },
   "file_extension": ".py",
   "mimetype": "text/x-python",
   "name": "python",
   "nbconvert_exporter": "python",
   "pygments_lexer": "ipython3",
   "version": "3.12.3"
  }
 },
 "nbformat": 4,
 "nbformat_minor": 4
}
