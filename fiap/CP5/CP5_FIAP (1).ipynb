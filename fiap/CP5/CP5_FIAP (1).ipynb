{
  "nbformat": 4,
  "nbformat_minor": 0,
  "metadata": {
    "colab": {
      "provenance": [],
      "toc_visible": true
    },
    "kernelspec": {
      "name": "python3",
      "display_name": "Python 3"
    },
    "language_info": {
      "name": "python"
    }
  },
  "cells": [
    {
      "cell_type": "markdown",
      "source": [
        "# CP5\n"
      ],
      "metadata": {
        "id": "QC9rioRXaBZt"
      }
    },
    {
      "cell_type": "markdown",
      "source": [
        "## CP5 de Machine Learning - Previsão de Valor de Casas\n",
        "\n",
        "O objetivo deste CP5 é desenvolver um modelo de regressão utilizando machine learning para prever a coluna median_house_value, que representa o valor mediano das casas na região. Vocês deverão utilizar o dataset housing.csv e seguir o processo completo de modelagem, desde a remoção de outliers até a construção e avaliação do modelo.\n",
        "\n",
        "**Descrição do Dataset:**\n",
        "O dataset contém dados de diferentes regiões residenciais na Califórnia, com diversas características relacionadas à população, moradia e localização geográfica. Abaixo está a descrição de cada coluna:\n",
        "\n",
        "- **longitude:** Longitude da localização da região (em graus). Representa a coordenada geográfica da longitude.\n",
        "\n",
        "- **latitude:** Latitude da localização da região (em graus). Representa a coordenada geográfica da latitude.\n",
        "\n",
        "- **housing_median_age:** Idade mediana das casas na região (em anos). Reflete a média da idade das construções residenciais.\n",
        "\n",
        "- **total_rooms:** Número total de quartos em todas as casas da região.\n",
        "\n",
        "- **total_bedrooms:** Número total de dormitórios em todas as casas da região. (Nota: algumas entradas podem conter valores nulos, que precisam ser tratados).\n",
        "\n",
        "- **population:** População total da região.\n",
        "\n",
        "- **households:** Número total de domicílios na região. Cada domicílio é definido como uma unidade habitacional ocupada.\n",
        "\n",
        "- **median_income:** Renda mediana dos moradores da região. Esse valor está escalado, ou seja, foi dividido por 10.000 (por exemplo, um valor de 8.3252 representa uma renda de $83,252).\n",
        "\n",
        "- **median_house_value:** Valor mediano das casas na região (em dólares). Esta é a variável alvo que vocês devem prever com o modelo de regressão.\n",
        "\n",
        "- **ocean_proximity:** Proximidade da região em relação ao oceano.\n",
        "\n",
        "\n",
        "A coluna ocean_proximity representa a proximidade da região em relação ao oceano e contém valores categóricos. Aqui está o significado dos possíveis valores dessa coluna:\n",
        "\n",
        "\n",
        "- **NEAR BAY:** A região está próxima a uma baía, como a Baía de São Francisco.\n",
        "\n",
        "- **INLAND:** A região está no interior, distante do oceano ou de grandes massas de água.\n",
        "\n",
        "- **NEAR OCEAN:** A região está localizada próxima à costa do oceano, mas não especifica uma baía específica.\n",
        "\n",
        "- **<1H OCEAN:** A região está localizada a menos de uma hora de distância do oceano, provavelmente em áreas suburbanas ou regiões periféricas próximas ao litoral.\n",
        "\n",
        "- **ISLAND:** A região está em uma ilha."
      ],
      "metadata": {
        "id": "fs2aszVabcnS"
      }
    },
    {
      "cell_type": "markdown",
      "source": [
        "## 1) Import dos dados"
      ],
      "metadata": {
        "id": "Jqx-sczUZ0wG"
      }
    },
    {
      "cell_type": "code",
      "source": [],
      "metadata": {
        "id": "MrR-vSlBZ2yZ"
      },
      "execution_count": null,
      "outputs": []
    },
    {
      "cell_type": "markdown",
      "source": [
        "## 2) Remoção de Outliers\n",
        "Faça a análise e remoção dos outliers de housing."
      ],
      "metadata": {
        "id": "7uKm4g7eTgAx"
      }
    },
    {
      "cell_type": "code",
      "source": [],
      "metadata": {
        "id": "MJ85x1CzXDoz"
      },
      "execution_count": null,
      "outputs": []
    },
    {
      "cell_type": "markdown",
      "source": [
        "## 3) Criação de novas features (Opcional)\n",
        "Análise os dados e verifique a possibilidade de criar features/colunas novas que ajudarão a prever os dados de 'median_house_value'."
      ],
      "metadata": {
        "id": "Vm6j0pPVTnbP"
      }
    },
    {
      "cell_type": "code",
      "source": [],
      "metadata": {
        "id": "zYQ-3M3rXURS"
      },
      "execution_count": null,
      "outputs": []
    },
    {
      "cell_type": "markdown",
      "source": [
        "## 4) Preenchimento de Dados Faltantes\n",
        "Utilizando a estratégia de preenchimento de dados faltantes do Sklearn, crie um novo dataset contendo somente os dados float64 e aplique a técnica para preenchê-los. (SimpleImputer)"
      ],
      "metadata": {
        "id": "JZwe17WATs6d"
      }
    },
    {
      "cell_type": "code",
      "source": [],
      "metadata": {
        "id": "ku5tPshTXYJZ"
      },
      "execution_count": null,
      "outputs": []
    },
    {
      "cell_type": "markdown",
      "source": [
        "## 5) Separar dados de Treino e Teste\n",
        "Utilizando o SKlearn, separe os dados de treino e teste do modelo numa proporção de 80/20, onde 80% são os dados de treino e 20% são os dados de teste. (train_test_split)"
      ],
      "metadata": {
        "id": "yT7hsqfETyTv"
      }
    },
    {
      "cell_type": "code",
      "source": [],
      "metadata": {
        "id": "BWqRGZyNWteV"
      },
      "execution_count": null,
      "outputs": []
    },
    {
      "cell_type": "markdown",
      "source": [
        "## 6) Selecionar Labels\n",
        "Crie um novo dataset, a partir dos dados de treino (df_train), chamado de df_label somente com os dados da nossa variável alvo 'median_house_value'. E outro dataset chamado de df_base retirando a nossa variável alvo."
      ],
      "metadata": {
        "id": "LfOOGFo7T6I5"
      }
    },
    {
      "cell_type": "code",
      "source": [],
      "metadata": {
        "id": "fqKz8-QzWqfC"
      },
      "execution_count": null,
      "outputs": []
    },
    {
      "cell_type": "markdown",
      "source": [
        "## 7) Variáveis Categóricas\n",
        "Crie um novo dataset somente com os campos categóricos e aplique nele a técnica/tratamento escolhido. (OrdinalEncoder, OneHotEncoder, dentre outros...)"
      ],
      "metadata": {
        "id": "7gk_wemPVE2-"
      }
    },
    {
      "cell_type": "code",
      "source": [],
      "metadata": {
        "id": "C5lRLqbwV8bl"
      },
      "execution_count": null,
      "outputs": []
    },
    {
      "cell_type": "markdown",
      "source": [
        "## 8) Escalonamento de Dados\n",
        "Escolha uma técnica para escalonar os nossos dados, com o objetivo de queseja melhor aceito pelo algoritmo. (MinMax, Scaling, dentre outros ...)"
      ],
      "metadata": {
        "id": "njZRefrfUBq9"
      }
    },
    {
      "cell_type": "code",
      "source": [],
      "metadata": {
        "id": "574wqNSiX3bB"
      },
      "execution_count": null,
      "outputs": []
    },
    {
      "cell_type": "markdown",
      "source": [
        "## 9) Pipeline Númerico\n",
        "Utilizando o Sklearn, crie um pipeline numérico que faça o preenchimento dos dados faltantes e o escalonamento dos dados."
      ],
      "metadata": {
        "id": "ManPmXkUT9ix"
      }
    },
    {
      "cell_type": "code",
      "source": [],
      "metadata": {
        "id": "6OMe1lMAYRIF"
      },
      "execution_count": null,
      "outputs": []
    },
    {
      "cell_type": "markdown",
      "source": [
        "## 10) Pipeline Categórico\n",
        "Utilizando o Sklearn, crie um pipeline categórico que aplique a estratégia escolhida para os dados categóricos."
      ],
      "metadata": {
        "id": "gE9421uwUG30"
      }
    },
    {
      "cell_type": "code",
      "source": [],
      "metadata": {
        "id": "EM7QZtY5YG76"
      },
      "execution_count": null,
      "outputs": []
    },
    {
      "cell_type": "markdown",
      "source": [
        "## 11) Pipeline Final e Preparação dos Dados\n",
        "Utilizando o Sklearn, crie um pipeline final que receba ps dados numéricos e categóricos para o tratamento dos dados."
      ],
      "metadata": {
        "id": "PQ7NT3quUJYT"
      }
    },
    {
      "cell_type": "code",
      "source": [],
      "metadata": {
        "id": "gb2yb6VbYgHc"
      },
      "execution_count": null,
      "outputs": []
    },
    {
      "cell_type": "markdown",
      "source": [
        "## 12) Dados preparados\n",
        "Crie um novo dataset com os dados preparados pelo Pipeline"
      ],
      "metadata": {
        "id": "Z_EkkjMlYwj6"
      }
    },
    {
      "cell_type": "code",
      "source": [],
      "metadata": {
        "id": "bzqW5UyAY0i2"
      },
      "execution_count": null,
      "outputs": []
    },
    {
      "cell_type": "markdown",
      "source": [
        "## 13) Treinamento o Modelo\n",
        "Treine seus dados utilizando alguns algoritmos de Regressão (LinearRegression, DecisionTreeRegressor, RandomForestRegressor, dentre outros ...)"
      ],
      "metadata": {
        "id": "X7jyGt0_ULJg"
      }
    },
    {
      "cell_type": "code",
      "source": [],
      "metadata": {
        "id": "GukRvyn3ZN4E"
      },
      "execution_count": null,
      "outputs": []
    },
    {
      "cell_type": "markdown",
      "source": [
        "## 14) Validando o Modelo (MAE, RMSE e R²)"
      ],
      "metadata": {
        "id": "YZIb4gZ5Uyb5"
      }
    },
    {
      "cell_type": "markdown",
      "source": [
        "Utilize as métricas de regressão MAE, RMSE e R² com o objetivo de encontrar o melhor modelo."
      ],
      "metadata": {
        "id": "nWAEWtMFZOaP"
      }
    },
    {
      "cell_type": "code",
      "source": [],
      "metadata": {
        "id": "gTxkJyGuZNTd"
      },
      "execution_count": null,
      "outputs": []
    },
    {
      "cell_type": "markdown",
      "source": [
        "## 15) Modelo Escolhido\n",
        "Baseado no modelo que obteve a maior performance, utilize os dados de Treino e Teste (treine o modelo com os dados de treino e teste o modelo com os dados de teste) apresentando os resultados das previsões MAE e RMSE."
      ],
      "metadata": {
        "id": "EREcCMKHUwOS"
      }
    },
    {
      "cell_type": "code",
      "source": [],
      "metadata": {
        "id": "Xksu0VTddxrN"
      },
      "execution_count": null,
      "outputs": []
    },
    {
      "cell_type": "markdown",
      "source": [
        "## 16) Quais variáveis/features ou técnicas utilizadas na criação do modelo influenciaram as métricas de validação MAE, RMSE e R² negativa ou positivamente?\n",
        "\n",
        "A criação de novas features, exclusão de alguma coluna, a mudança de alguma técnica de escalonamento ou de tratamento das variáveis categóricas podem te ajudar com a resposta."
      ],
      "metadata": {
        "id": "T7uSQ3GjVKhS"
      }
    },
    {
      "cell_type": "code",
      "source": [],
      "metadata": {
        "id": "UZrku9oCdySt"
      },
      "execution_count": null,
      "outputs": []
    }
  ]
}