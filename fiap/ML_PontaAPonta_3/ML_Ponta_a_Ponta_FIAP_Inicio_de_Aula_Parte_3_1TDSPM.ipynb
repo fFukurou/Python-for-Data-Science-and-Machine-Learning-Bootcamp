{
 "cells": [
  {
   "cell_type": "markdown",
   "metadata": {
    "id": "ieVSM_NaVTDU"
   },
   "source": [
    "#Modelo de Machine Learning de Ponta a Ponta"
   ]
  },
  {
   "cell_type": "markdown",
   "metadata": {
    "id": "adsLnldVXIPu"
   },
   "source": [
    "Depois que apresentamos as soluções para melhorar o desempenho da empresa e recuperar uma parte do faturamento, estamos prontos para criar um Modelo de Machine Learning capaz de prever a demanda para os próximos dias, gerando valor para os parceiros e levando informações preciosas para que eles possam se preparar para o dia de trabalho."
   ]
  },
  {
   "cell_type": "code",
   "execution_count": 1,
   "metadata": {
    "id": "P4KJTld7xMu3"
   },
   "outputs": [],
   "source": [
    "#import das bibliotecas\n",
    "import pandas as pd\n",
    "import numpy as np"
   ]
  },
  {
   "cell_type": "markdown",
   "metadata": {
    "id": "B4rp2cIZyof2"
   },
   "source": [
    "## Análise de Estrutura"
   ]
  },
  {
   "cell_type": "markdown",
   "metadata": {
    "id": "qJjAbDBWVXI7"
   },
   "source": [
    "## Remoção de Outliers"
   ]
  },
  {
   "cell_type": "code",
   "execution_count": 2,
   "metadata": {
    "id": "QKHvsKN89Vi9"
   },
   "outputs": [],
   "source": [
    "#Leitura do csv\n",
    "df_orders = pd.read_csv(\"orders.csv\")"
   ]
  },
  {
   "cell_type": "code",
   "execution_count": 3,
   "metadata": {
    "id": "5018W-fu12t-"
   },
   "outputs": [],
   "source": [
    "#Corte de outliers\n",
    "df_orders = df_orders[(df_orders['order_amount'] >= 15) &\n",
    "          (df_orders['order_amount'] <= 200)]"
   ]
  },
  {
   "cell_type": "code",
   "execution_count": 4,
   "metadata": {
    "colab": {
     "base_uri": "https://localhost:8080/"
    },
    "id": "KQQ9AhAmxbHm",
    "outputId": "ace915d2-7d94-4fe5-fabf-64e6d6d76b29"
   },
   "outputs": [
    {
     "name": "stdout",
     "output_type": "stream",
     "text": [
      "<class 'pandas.core.frame.DataFrame'>\n",
      "Index: 333629 entries, 0 to 368998\n",
      "Data columns (total 29 columns):\n",
      " #   Column                             Non-Null Count   Dtype  \n",
      "---  ------                             --------------   -----  \n",
      " 0   order_id                           333629 non-null  int64  \n",
      " 1   store_id                           333629 non-null  int64  \n",
      " 2   channel_id                         333629 non-null  int64  \n",
      " 3   payment_order_id                   333629 non-null  int64  \n",
      " 4   delivery_order_id                  333629 non-null  int64  \n",
      " 5   order_status                       333629 non-null  object \n",
      " 6   order_amount                       333629 non-null  float64\n",
      " 7   order_delivery_fee                 333629 non-null  float64\n",
      " 8   order_delivery_cost                327275 non-null  float64\n",
      " 9   order_created_hour                 333629 non-null  int64  \n",
      " 10  order_created_minute               333629 non-null  int64  \n",
      " 11  order_created_day                  333629 non-null  int64  \n",
      " 12  order_created_month                333629 non-null  int64  \n",
      " 13  order_created_year                 333629 non-null  int64  \n",
      " 14  order_moment_created               333629 non-null  object \n",
      " 15  order_moment_accepted              325043 non-null  object \n",
      " 16  order_moment_ready                 312152 non-null  object \n",
      " 17  order_moment_collected             297660 non-null  object \n",
      " 18  order_moment_in_expedition         275498 non-null  object \n",
      " 19  order_moment_delivering            312842 non-null  object \n",
      " 20  order_moment_delivered             16930 non-null   object \n",
      " 21  order_moment_finished              320733 non-null  object \n",
      " 22  order_metric_collected_time        290223 non-null  float64\n",
      " 23  order_metric_paused_time           272423 non-null  float64\n",
      " 24  order_metric_production_time       312151 non-null  float64\n",
      " 25  order_metric_walking_time          269553 non-null  float64\n",
      " 26  order_metric_expediton_speed_time  304793 non-null  float64\n",
      " 27  order_metric_transit_time          312372 non-null  float64\n",
      " 28  order_metric_cycle_time            320707 non-null  float64\n",
      "dtypes: float64(10), int64(10), object(9)\n",
      "memory usage: 76.4+ MB\n"
     ]
    }
   ],
   "source": [
    "#info\n",
    "df_orders.info()"
   ]
  },
  {
   "cell_type": "markdown",
   "metadata": {
    "id": "m1889SjWzJYH"
   },
   "source": [
    "## Novas Features"
   ]
  },
  {
   "cell_type": "code",
   "execution_count": 5,
   "metadata": {
    "colab": {
     "base_uri": "https://localhost:8080/"
    },
    "id": "9_3JJnwIzPdD",
    "outputId": "adb6ae55-5140-423d-8436-910a1d1f31c3"
   },
   "outputs": [
    {
     "name": "stderr",
     "output_type": "stream",
     "text": [
      "c:\\AppData\\Local\\Temp\\ipykernel_13220\\2250362991.py:2: UserWarning: Could not infer format, so each element will be parsed individually, falling back to `dateutil`. To ensure parsing is consistent and as-expected, please specify a format.\n",
      "  df_orders['order_moment_created'] = pd.to_datetime(df_orders['order_moment_created'])\n"
     ]
    }
   ],
   "source": [
    "#converter order_moment_created para data\n",
    "df_orders['order_moment_created'] = pd.to_datetime(df_orders['order_moment_created'])"
   ]
  },
  {
   "cell_type": "code",
   "execution_count": 6,
   "metadata": {
    "id": "LMgRI5OE1hIk"
   },
   "outputs": [],
   "source": [
    "#nova coluna com o dia da semana\n",
    "df_orders['day_of_week'] = df_orders['order_moment_created'].dt.day_of_week"
   ]
  },
  {
   "cell_type": "code",
   "execution_count": 7,
   "metadata": {
    "id": "EgvdLSdxyyLh"
   },
   "outputs": [],
   "source": [
    "#['order_moment_created'].dt.day_name"
   ]
  },
  {
   "cell_type": "code",
   "execution_count": 8,
   "metadata": {
    "colab": {
     "base_uri": "https://localhost:8080/",
     "height": 802
    },
    "id": "lPyiEvdJ5w2N",
    "outputId": "107412e3-0e58-4bb9-fced-2c422ca86ae6"
   },
   "outputs": [
    {
     "data": {
      "text/html": [
       "<div>\n",
       "<style scoped>\n",
       "    .dataframe tbody tr th:only-of-type {\n",
       "        vertical-align: middle;\n",
       "    }\n",
       "\n",
       "    .dataframe tbody tr th {\n",
       "        vertical-align: top;\n",
       "    }\n",
       "\n",
       "    .dataframe thead th {\n",
       "        text-align: right;\n",
       "    }\n",
       "</style>\n",
       "<table border=\"1\" class=\"dataframe\">\n",
       "  <thead>\n",
       "    <tr style=\"text-align: right;\">\n",
       "      <th></th>\n",
       "      <th>order_created_hour</th>\n",
       "      <th>count</th>\n",
       "    </tr>\n",
       "  </thead>\n",
       "  <tbody>\n",
       "    <tr>\n",
       "      <th>6</th>\n",
       "      <td>0</td>\n",
       "      <td>25126</td>\n",
       "    </tr>\n",
       "    <tr>\n",
       "      <th>12</th>\n",
       "      <td>1</td>\n",
       "      <td>4002</td>\n",
       "    </tr>\n",
       "    <tr>\n",
       "      <th>13</th>\n",
       "      <td>2</td>\n",
       "      <td>1003</td>\n",
       "    </tr>\n",
       "    <tr>\n",
       "      <th>15</th>\n",
       "      <td>3</td>\n",
       "      <td>713</td>\n",
       "    </tr>\n",
       "    <tr>\n",
       "      <th>18</th>\n",
       "      <td>4</td>\n",
       "      <td>267</td>\n",
       "    </tr>\n",
       "    <tr>\n",
       "      <th>17</th>\n",
       "      <td>5</td>\n",
       "      <td>417</td>\n",
       "    </tr>\n",
       "    <tr>\n",
       "      <th>19</th>\n",
       "      <td>6</td>\n",
       "      <td>260</td>\n",
       "    </tr>\n",
       "    <tr>\n",
       "      <th>21</th>\n",
       "      <td>7</td>\n",
       "      <td>214</td>\n",
       "    </tr>\n",
       "    <tr>\n",
       "      <th>23</th>\n",
       "      <td>8</td>\n",
       "      <td>124</td>\n",
       "    </tr>\n",
       "    <tr>\n",
       "      <th>22</th>\n",
       "      <td>9</td>\n",
       "      <td>126</td>\n",
       "    </tr>\n",
       "    <tr>\n",
       "      <th>20</th>\n",
       "      <td>10</td>\n",
       "      <td>216</td>\n",
       "    </tr>\n",
       "    <tr>\n",
       "      <th>16</th>\n",
       "      <td>11</td>\n",
       "      <td>430</td>\n",
       "    </tr>\n",
       "    <tr>\n",
       "      <th>14</th>\n",
       "      <td>12</td>\n",
       "      <td>925</td>\n",
       "    </tr>\n",
       "    <tr>\n",
       "      <th>11</th>\n",
       "      <td>13</td>\n",
       "      <td>4636</td>\n",
       "    </tr>\n",
       "    <tr>\n",
       "      <th>4</th>\n",
       "      <td>14</td>\n",
       "      <td>31303</td>\n",
       "    </tr>\n",
       "    <tr>\n",
       "      <th>0</th>\n",
       "      <td>15</td>\n",
       "      <td>46235</td>\n",
       "    </tr>\n",
       "    <tr>\n",
       "      <th>3</th>\n",
       "      <td>16</td>\n",
       "      <td>32297</td>\n",
       "    </tr>\n",
       "    <tr>\n",
       "      <th>7</th>\n",
       "      <td>17</td>\n",
       "      <td>23202</td>\n",
       "    </tr>\n",
       "    <tr>\n",
       "      <th>8</th>\n",
       "      <td>18</td>\n",
       "      <td>17864</td>\n",
       "    </tr>\n",
       "    <tr>\n",
       "      <th>9</th>\n",
       "      <td>19</td>\n",
       "      <td>15239</td>\n",
       "    </tr>\n",
       "    <tr>\n",
       "      <th>10</th>\n",
       "      <td>20</td>\n",
       "      <td>14993</td>\n",
       "    </tr>\n",
       "    <tr>\n",
       "      <th>5</th>\n",
       "      <td>21</td>\n",
       "      <td>26324</td>\n",
       "    </tr>\n",
       "    <tr>\n",
       "      <th>1</th>\n",
       "      <td>22</td>\n",
       "      <td>44931</td>\n",
       "    </tr>\n",
       "    <tr>\n",
       "      <th>2</th>\n",
       "      <td>23</td>\n",
       "      <td>42782</td>\n",
       "    </tr>\n",
       "  </tbody>\n",
       "</table>\n",
       "</div>"
      ],
      "text/plain": [
       "    order_created_hour  count\n",
       "6                    0  25126\n",
       "12                   1   4002\n",
       "13                   2   1003\n",
       "15                   3    713\n",
       "18                   4    267\n",
       "17                   5    417\n",
       "19                   6    260\n",
       "21                   7    214\n",
       "23                   8    124\n",
       "22                   9    126\n",
       "20                  10    216\n",
       "16                  11    430\n",
       "14                  12    925\n",
       "11                  13   4636\n",
       "4                   14  31303\n",
       "0                   15  46235\n",
       "3                   16  32297\n",
       "7                   17  23202\n",
       "8                   18  17864\n",
       "9                   19  15239\n",
       "10                  20  14993\n",
       "5                   21  26324\n",
       "1                   22  44931\n",
       "2                   23  42782"
      ]
     },
     "execution_count": 8,
     "metadata": {},
     "output_type": "execute_result"
    }
   ],
   "source": [
    "#Análise da quantidade de horas que temos pedidos por dia\n",
    "df_orders['order_created_hour'].value_counts().reset_index().sort_values('order_created_hour')"
   ]
  },
  {
   "cell_type": "code",
   "execution_count": 9,
   "metadata": {
    "colab": {
     "base_uri": "https://localhost:8080/",
     "height": 35
    },
    "id": "Uw-f5H6Q6X7k",
    "outputId": "46470804-b4e2-40ef-c0a3-b3a7c6118a5b"
   },
   "outputs": [
    {
     "data": {
      "text/plain": [
       "'noite'"
      ]
     },
     "execution_count": 9,
     "metadata": {},
     "output_type": "execute_result"
    }
   ],
   "source": [
    "#criando função por faixa de horário\n",
    "def faixa_horario(hora):\n",
    "    if hora >= 0 and hora <= 5:\n",
    "      return 'madrugada'\n",
    "    elif hora >= 6 and hora <= 10:\n",
    "      return 'manha'\n",
    "    elif hora >= 11 and hora <= 14:\n",
    "      return 'almoco'\n",
    "    elif hora >= 15 and  hora <= 18:\n",
    "      return 'tarde'\n",
    "    else:\n",
    "      return 'noite'\n",
    "faixa_horario(19)"
   ]
  },
  {
   "cell_type": "code",
   "execution_count": 10,
   "metadata": {
    "id": "HhUb-QCe5aZ2"
   },
   "outputs": [],
   "source": [
    "#aplicando função e criando uma nova coluna com o nome de faixa de horário\n",
    "df_orders['faixa_horario'] = df_orders['order_created_hour'].apply(faixa_horario)"
   ]
  },
  {
   "cell_type": "code",
   "execution_count": 11,
   "metadata": {
    "colab": {
     "base_uri": "https://localhost:8080/",
     "height": 272
    },
    "id": "MLN9tLHZ8Rn0",
    "outputId": "e5fe3113-20d0-4988-d824-1f87375332c8"
   },
   "outputs": [
    {
     "data": {
      "text/plain": [
       "faixa_horario\n",
       "noite        144269\n",
       "tarde        119598\n",
       "almoco        37294\n",
       "madrugada     31528\n",
       "manha           940\n",
       "Name: count, dtype: int64"
      ]
     },
     "execution_count": 11,
     "metadata": {},
     "output_type": "execute_result"
    }
   ],
   "source": [
    "#distribuição da faixa de horário\n",
    "df_orders['faixa_horario'].value_counts()"
   ]
  },
  {
   "cell_type": "markdown",
   "metadata": {
    "id": "OqQgnykXyruE"
   },
   "source": [
    "## DataPrep"
   ]
  },
  {
   "cell_type": "code",
   "execution_count": 12,
   "metadata": {
    "id": "E5tzvIEo-giy"
   },
   "outputs": [],
   "source": [
    "#Criando um novo dataset de orders_treatment\n",
    "df_orders_treatment = df_orders.copy()"
   ]
  },
  {
   "cell_type": "code",
   "execution_count": 13,
   "metadata": {
    "colab": {
     "base_uri": "https://localhost:8080/"
    },
    "id": "ZEE97xId3L-k",
    "outputId": "ac4d6a20-788f-48b6-da77-3f6004a93525"
   },
   "outputs": [
    {
     "name": "stdout",
     "output_type": "stream",
     "text": [
      "<class 'pandas.core.frame.DataFrame'>\n",
      "Index: 333629 entries, 0 to 368998\n",
      "Data columns (total 31 columns):\n",
      " #   Column                             Non-Null Count   Dtype         \n",
      "---  ------                             --------------   -----         \n",
      " 0   order_id                           333629 non-null  int64         \n",
      " 1   store_id                           333629 non-null  int64         \n",
      " 2   channel_id                         333629 non-null  int64         \n",
      " 3   payment_order_id                   333629 non-null  int64         \n",
      " 4   delivery_order_id                  333629 non-null  int64         \n",
      " 5   order_status                       333629 non-null  object        \n",
      " 6   order_amount                       333629 non-null  float64       \n",
      " 7   order_delivery_fee                 333629 non-null  float64       \n",
      " 8   order_delivery_cost                327275 non-null  float64       \n",
      " 9   order_created_hour                 333629 non-null  int64         \n",
      " 10  order_created_minute               333629 non-null  int64         \n",
      " 11  order_created_day                  333629 non-null  int64         \n",
      " 12  order_created_month                333629 non-null  int64         \n",
      " 13  order_created_year                 333629 non-null  int64         \n",
      " 14  order_moment_created               333629 non-null  datetime64[ns]\n",
      " 15  order_moment_accepted              325043 non-null  object        \n",
      " 16  order_moment_ready                 312152 non-null  object        \n",
      " 17  order_moment_collected             297660 non-null  object        \n",
      " 18  order_moment_in_expedition         275498 non-null  object        \n",
      " 19  order_moment_delivering            312842 non-null  object        \n",
      " 20  order_moment_delivered             16930 non-null   object        \n",
      " 21  order_moment_finished              320733 non-null  object        \n",
      " 22  order_metric_collected_time        290223 non-null  float64       \n",
      " 23  order_metric_paused_time           272423 non-null  float64       \n",
      " 24  order_metric_production_time       312151 non-null  float64       \n",
      " 25  order_metric_walking_time          269553 non-null  float64       \n",
      " 26  order_metric_expediton_speed_time  304793 non-null  float64       \n",
      " 27  order_metric_transit_time          312372 non-null  float64       \n",
      " 28  order_metric_cycle_time            320707 non-null  float64       \n",
      " 29  day_of_week                        333629 non-null  int32         \n",
      " 30  faixa_horario                      333629 non-null  object        \n",
      "dtypes: datetime64[ns](1), float64(10), int32(1), int64(10), object(9)\n",
      "memory usage: 80.2+ MB\n"
     ]
    }
   ],
   "source": [
    "#info\n",
    "df_orders_treatment.info()"
   ]
  },
  {
   "cell_type": "markdown",
   "metadata": {
    "id": "H2YTy5rBFYlT"
   },
   "source": [
    "### Data Cleaning"
   ]
  },
  {
   "cell_type": "markdown",
   "metadata": {
    "id": "2-70KGa5-mDO"
   },
   "source": [
    "#### Exclusão de colunas"
   ]
  },
  {
   "cell_type": "code",
   "execution_count": 14,
   "metadata": {
    "id": "Osr4xOQV2l0M"
   },
   "outputs": [],
   "source": [
    "#após realizar análise das variáveis excluir variável order_moment_delivered\n",
    "df_orders_treatment.drop('order_moment_delivered', axis=1, inplace=True)"
   ]
  },
  {
   "cell_type": "code",
   "execution_count": 15,
   "metadata": {
    "id": "A1SOA6Px3OpG"
   },
   "outputs": [],
   "source": [
    "#definição das colunas que serão excluídas da nossa base\n",
    "columns_delete = ['payment_order_id',\n",
    "'delivery_order_id',\n",
    "'order_status',\n",
    "'order_created_minute',\n",
    "'order_created_month',\n",
    "'order_created_year',\n",
    "'order_moment_created',\n",
    "'order_moment_accepted',\n",
    "'order_moment_ready',\n",
    "'order_moment_collected',\n",
    "'order_moment_in_expedition',\n",
    "'order_moment_delivering',\n",
    "'order_moment_finished',\n",
    "'order_delivery_fee',\n",
    "'order_delivery_cost',\n",
    "'order_created_hour']"
   ]
  },
  {
   "cell_type": "code",
   "execution_count": 16,
   "metadata": {
    "id": "Q0jLXVK03v9X"
   },
   "outputs": [],
   "source": [
    "#excluir colunas\n",
    "df_orders_treatment.drop(columns_delete, axis=1, inplace=True)"
   ]
  },
  {
   "cell_type": "markdown",
   "metadata": {
    "id": "bLgeTuLD-paw"
   },
   "source": [
    "#### Prenchendo valores nulos"
   ]
  },
  {
   "cell_type": "code",
   "execution_count": 17,
   "metadata": {
    "colab": {
     "base_uri": "https://localhost:8080/"
    },
    "id": "joDBi9FtWVSh",
    "outputId": "0865998f-4a7a-43b5-f8e0-26347a1e8619"
   },
   "outputs": [
    {
     "name": "stdout",
     "output_type": "stream",
     "text": [
      "<class 'pandas.core.frame.DataFrame'>\n",
      "Index: 333629 entries, 0 to 368998\n",
      "Data columns (total 14 columns):\n",
      " #   Column                             Non-Null Count   Dtype  \n",
      "---  ------                             --------------   -----  \n",
      " 0   order_id                           333629 non-null  int64  \n",
      " 1   store_id                           333629 non-null  int64  \n",
      " 2   channel_id                         333629 non-null  int64  \n",
      " 3   order_amount                       333629 non-null  float64\n",
      " 4   order_created_day                  333629 non-null  int64  \n",
      " 5   order_metric_collected_time        290223 non-null  float64\n",
      " 6   order_metric_paused_time           272423 non-null  float64\n",
      " 7   order_metric_production_time       312151 non-null  float64\n",
      " 8   order_metric_walking_time          269553 non-null  float64\n",
      " 9   order_metric_expediton_speed_time  304793 non-null  float64\n",
      " 10  order_metric_transit_time          312372 non-null  float64\n",
      " 11  order_metric_cycle_time            320707 non-null  float64\n",
      " 12  day_of_week                        333629 non-null  int32  \n",
      " 13  faixa_horario                      333629 non-null  object \n",
      "dtypes: float64(8), int32(1), int64(4), object(1)\n",
      "memory usage: 36.9+ MB\n"
     ]
    }
   ],
   "source": [
    "#info\n",
    "df_orders_treatment.info()"
   ]
  },
  {
   "cell_type": "code",
   "execution_count": 18,
   "metadata": {
    "colab": {
     "base_uri": "https://localhost:8080/"
    },
    "id": "IuOEJ3xHDBcZ",
    "outputId": "dd512645-565f-4119-8963-826bb6d9770d"
   },
   "outputs": [
    {
     "name": "stderr",
     "output_type": "stream",
     "text": [
      "c:\\AppData\\Local\\Temp\\ipykernel_13220\\785321274.py:3: FutureWarning: A value is trying to be set on a copy of a DataFrame or Series through chained assignment using an inplace method.\n",
      "The behavior will change in pandas 3.0. This inplace method will never work because the intermediate object on which we are setting values always behaves as a copy.\n",
      "\n",
      "For example, when doing 'df[col].method(value, inplace=True)', try using 'df.method({col: value}, inplace=True)' or df[col] = df[col].method(value) instead, to perform the operation inplace on the original object.\n",
      "\n",
      "\n",
      "  .fillna(df_orders_treatment['order_metric_collected_time'].median(), inplace=True)\n"
     ]
    }
   ],
   "source": [
    "#utilização do fillna com a mediana para preencher os valores do order_metric_collected_time\n",
    "df_orders_treatment['order_metric_collected_time'] \\\n",
    "  .fillna(df_orders_treatment['order_metric_collected_time'].median(), inplace=True)"
   ]
  },
  {
   "cell_type": "code",
   "execution_count": 19,
   "metadata": {
    "colab": {
     "base_uri": "https://localhost:8080/"
    },
    "id": "YyjqHzYz59Bx",
    "outputId": "a353d940-8388-47ef-da69-808a83168de9"
   },
   "outputs": [
    {
     "name": "stdout",
     "output_type": "stream",
     "text": [
      "<class 'pandas.core.frame.DataFrame'>\n",
      "Index: 333629 entries, 0 to 368998\n",
      "Data columns (total 14 columns):\n",
      " #   Column                             Non-Null Count   Dtype  \n",
      "---  ------                             --------------   -----  \n",
      " 0   order_id                           333629 non-null  int64  \n",
      " 1   store_id                           333629 non-null  int64  \n",
      " 2   channel_id                         333629 non-null  int64  \n",
      " 3   order_amount                       333629 non-null  float64\n",
      " 4   order_created_day                  333629 non-null  int64  \n",
      " 5   order_metric_collected_time        333629 non-null  float64\n",
      " 6   order_metric_paused_time           272423 non-null  float64\n",
      " 7   order_metric_production_time       312151 non-null  float64\n",
      " 8   order_metric_walking_time          269553 non-null  float64\n",
      " 9   order_metric_expediton_speed_time  304793 non-null  float64\n",
      " 10  order_metric_transit_time          312372 non-null  float64\n",
      " 11  order_metric_cycle_time            320707 non-null  float64\n",
      " 12  day_of_week                        333629 non-null  int32  \n",
      " 13  faixa_horario                      333629 non-null  object \n",
      "dtypes: float64(8), int32(1), int64(4), object(1)\n",
      "memory usage: 36.9+ MB\n"
     ]
    }
   ],
   "source": [
    "df_orders_treatment.info()"
   ]
  },
  {
   "cell_type": "markdown",
   "metadata": {
    "id": "FDclaSBLEkbq"
   },
   "source": [
    "### Criação do dataset final"
   ]
  },
  {
   "cell_type": "code",
   "execution_count": 20,
   "metadata": {
    "colab": {
     "base_uri": "https://localhost:8080/",
     "height": 226
    },
    "id": "BroxawKwBeb4",
    "outputId": "1cae4345-8944-40dc-b207-719f0efc65be"
   },
   "outputs": [
    {
     "data": {
      "text/html": [
       "<div>\n",
       "<style scoped>\n",
       "    .dataframe tbody tr th:only-of-type {\n",
       "        vertical-align: middle;\n",
       "    }\n",
       "\n",
       "    .dataframe tbody tr th {\n",
       "        vertical-align: top;\n",
       "    }\n",
       "\n",
       "    .dataframe thead th {\n",
       "        text-align: right;\n",
       "    }\n",
       "</style>\n",
       "<table border=\"1\" class=\"dataframe\">\n",
       "  <thead>\n",
       "    <tr style=\"text-align: right;\">\n",
       "      <th></th>\n",
       "      <th>store_id</th>\n",
       "      <th>channel_id</th>\n",
       "      <th>order_created_day</th>\n",
       "      <th>day_of_week</th>\n",
       "      <th>faixa_horario</th>\n",
       "      <th>order_metric_collected_time</th>\n",
       "      <th>order_metric_paused_time</th>\n",
       "      <th>order_metric_production_time</th>\n",
       "      <th>order_metric_walking_time</th>\n",
       "      <th>order_metric_expediton_speed_time</th>\n",
       "      <th>order_metric_transit_time</th>\n",
       "      <th>order_metric_cycle_time</th>\n",
       "      <th>demanda</th>\n",
       "    </tr>\n",
       "  </thead>\n",
       "  <tbody>\n",
       "    <tr>\n",
       "      <th>22931</th>\n",
       "      <td>676</td>\n",
       "      <td>5</td>\n",
       "      <td>26</td>\n",
       "      <td>4</td>\n",
       "      <td>noite</td>\n",
       "      <td>1.600</td>\n",
       "      <td>2.930</td>\n",
       "      <td>30.135</td>\n",
       "      <td>2.300</td>\n",
       "      <td>5.950</td>\n",
       "      <td>15.320</td>\n",
       "      <td>52.150</td>\n",
       "      <td>182</td>\n",
       "    </tr>\n",
       "    <tr>\n",
       "      <th>22766</th>\n",
       "      <td>676</td>\n",
       "      <td>5</td>\n",
       "      <td>12</td>\n",
       "      <td>4</td>\n",
       "      <td>noite</td>\n",
       "      <td>1.600</td>\n",
       "      <td>3.475</td>\n",
       "      <td>34.250</td>\n",
       "      <td>1.840</td>\n",
       "      <td>6.250</td>\n",
       "      <td>14.185</td>\n",
       "      <td>57.880</td>\n",
       "      <td>157</td>\n",
       "    </tr>\n",
       "    <tr>\n",
       "      <th>22707</th>\n",
       "      <td>676</td>\n",
       "      <td>5</td>\n",
       "      <td>7</td>\n",
       "      <td>6</td>\n",
       "      <td>tarde</td>\n",
       "      <td>2.500</td>\n",
       "      <td>2.330</td>\n",
       "      <td>30.035</td>\n",
       "      <td>2.880</td>\n",
       "      <td>6.375</td>\n",
       "      <td>13.450</td>\n",
       "      <td>49.785</td>\n",
       "      <td>154</td>\n",
       "    </tr>\n",
       "    <tr>\n",
       "      <th>22956</th>\n",
       "      <td>676</td>\n",
       "      <td>5</td>\n",
       "      <td>28</td>\n",
       "      <td>6</td>\n",
       "      <td>tarde</td>\n",
       "      <td>1.600</td>\n",
       "      <td>2.875</td>\n",
       "      <td>33.520</td>\n",
       "      <td>1.640</td>\n",
       "      <td>5.170</td>\n",
       "      <td>12.470</td>\n",
       "      <td>52.760</td>\n",
       "      <td>147</td>\n",
       "    </tr>\n",
       "    <tr>\n",
       "      <th>24297</th>\n",
       "      <td>707</td>\n",
       "      <td>5</td>\n",
       "      <td>26</td>\n",
       "      <td>4</td>\n",
       "      <td>noite</td>\n",
       "      <td>1.345</td>\n",
       "      <td>1.570</td>\n",
       "      <td>21.525</td>\n",
       "      <td>4.465</td>\n",
       "      <td>6.075</td>\n",
       "      <td>16.025</td>\n",
       "      <td>48.625</td>\n",
       "      <td>146</td>\n",
       "    </tr>\n",
       "  </tbody>\n",
       "</table>\n",
       "</div>"
      ],
      "text/plain": [
       "       store_id  channel_id  order_created_day  day_of_week faixa_horario  \\\n",
       "22931       676           5                 26            4         noite   \n",
       "22766       676           5                 12            4         noite   \n",
       "22707       676           5                  7            6         tarde   \n",
       "22956       676           5                 28            6         tarde   \n",
       "24297       707           5                 26            4         noite   \n",
       "\n",
       "       order_metric_collected_time  order_metric_paused_time  \\\n",
       "22931                        1.600                     2.930   \n",
       "22766                        1.600                     3.475   \n",
       "22707                        2.500                     2.330   \n",
       "22956                        1.600                     2.875   \n",
       "24297                        1.345                     1.570   \n",
       "\n",
       "       order_metric_production_time  order_metric_walking_time  \\\n",
       "22931                        30.135                      2.300   \n",
       "22766                        34.250                      1.840   \n",
       "22707                        30.035                      2.880   \n",
       "22956                        33.520                      1.640   \n",
       "24297                        21.525                      4.465   \n",
       "\n",
       "       order_metric_expediton_speed_time  order_metric_transit_time  \\\n",
       "22931                              5.950                     15.320   \n",
       "22766                              6.250                     14.185   \n",
       "22707                              6.375                     13.450   \n",
       "22956                              5.170                     12.470   \n",
       "24297                              6.075                     16.025   \n",
       "\n",
       "       order_metric_cycle_time  demanda  \n",
       "22931                   52.150      182  \n",
       "22766                   57.880      157  \n",
       "22707                   49.785      154  \n",
       "22956                   52.760      147  \n",
       "24297                   48.625      146  "
      ]
     },
     "execution_count": 20,
     "metadata": {},
     "output_type": "execute_result"
    }
   ],
   "source": [
    "#Criação do dataset final de grupos\n",
    "df_orders_treatment_group = df_orders_treatment.groupby(['store_id', 'channel_id', 'order_created_day', 'day_of_week', 'faixa_horario']) \\\n",
    "  .agg({'order_metric_collected_time':'median',\n",
    "        'order_metric_paused_time':'median',\n",
    "        'order_metric_production_time':'median',\n",
    "        'order_metric_walking_time':'median',\n",
    "        'order_metric_expediton_speed_time':'median',\n",
    "        'order_metric_transit_time':'median',\n",
    "        'order_metric_cycle_time':'median',\n",
    "        'order_id':'count'}) \\\n",
    "  .reset_index() \\\n",
    "  .sort_values('order_id', ascending=False)\n",
    "\n",
    "df_orders_treatment_group=df_orders_treatment_group.rename(columns = {'order_id':'demanda'})\n",
    "\n",
    "df_orders_treatment_group.head()"
   ]
  },
  {
   "cell_type": "code",
   "execution_count": 21,
   "metadata": {
    "colab": {
     "base_uri": "https://localhost:8080/"
    },
    "id": "aNecbZgZ_iiX",
    "outputId": "48d1e67a-c2c9-4054-b350-63141f282f97"
   },
   "outputs": [
    {
     "name": "stdout",
     "output_type": "stream",
     "text": [
      "<class 'pandas.core.frame.DataFrame'>\n",
      "Index: 66624 entries, 22931 to 66623\n",
      "Data columns (total 13 columns):\n",
      " #   Column                             Non-Null Count  Dtype  \n",
      "---  ------                             --------------  -----  \n",
      " 0   store_id                           66624 non-null  int64  \n",
      " 1   channel_id                         66624 non-null  int64  \n",
      " 2   order_created_day                  66624 non-null  int64  \n",
      " 3   day_of_week                        66624 non-null  int32  \n",
      " 4   faixa_horario                      66624 non-null  object \n",
      " 5   order_metric_collected_time        66624 non-null  float64\n",
      " 6   order_metric_paused_time           57376 non-null  float64\n",
      " 7   order_metric_production_time       62378 non-null  float64\n",
      " 8   order_metric_walking_time          57516 non-null  float64\n",
      " 9   order_metric_expediton_speed_time  61213 non-null  float64\n",
      " 10  order_metric_transit_time          62402 non-null  float64\n",
      " 11  order_metric_cycle_time            63752 non-null  float64\n",
      " 12  demanda                            66624 non-null  int64  \n",
      "dtypes: float64(7), int32(1), int64(4), object(1)\n",
      "memory usage: 6.9+ MB\n"
     ]
    }
   ],
   "source": [
    "#info\n",
    "df_orders_treatment_group.info()"
   ]
  },
  {
   "cell_type": "markdown",
   "metadata": {
    "id": "NKw2IBKtEodf"
   },
   "source": [
    "### Criando um conjunto de testes"
   ]
  },
  {
   "cell_type": "markdown",
   "metadata": {
    "id": "_oqalSEkErkv"
   },
   "source": [
    "Antes de seguir adiante, vamos precisar criar um conjunto de teste, colocá-lo de lado e nunca checá-lo. <br/>\n",
    "\n",
    "Quando estimamos o erro de generalização utilizando o conjunto de teste, sua estimativa será muito otimista e será lançado um sistema que não funcionará tão bem quanto o esperado.  <br/>\n",
    "\n",
    "Isso é chamado de **data snooping bias.** <br/>\n",
    "\n",
    "O Scikit-Learn fornece algumas funções para dividir conjuntos de dados em vários subconjuntos de diversas maneiras. A função mais simples é train_test_split."
   ]
  },
  {
   "cell_type": "code",
   "execution_count": 22,
   "metadata": {
    "id": "rHzKB3py_sG3"
   },
   "outputs": [],
   "source": [
    "#import do train_test_split\n",
    "from sklearn.model_selection import train_test_split"
   ]
  },
  {
   "cell_type": "code",
   "execution_count": 23,
   "metadata": {
    "colab": {
     "base_uri": "https://localhost:8080/"
    },
    "id": "gG3gTaR2Q5XY",
    "outputId": "e3d33d38-1c4c-439e-eab5-8b23c842d6da"
   },
   "outputs": [
    {
     "name": "stdout",
     "output_type": "stream",
     "text": [
      "<class 'pandas.core.frame.DataFrame'>\n",
      "Index: 53299 entries, 49037 to 9950\n",
      "Data columns (total 13 columns):\n",
      " #   Column                             Non-Null Count  Dtype  \n",
      "---  ------                             --------------  -----  \n",
      " 0   store_id                           53299 non-null  int64  \n",
      " 1   channel_id                         53299 non-null  int64  \n",
      " 2   order_created_day                  53299 non-null  int64  \n",
      " 3   day_of_week                        53299 non-null  int32  \n",
      " 4   faixa_horario                      53299 non-null  object \n",
      " 5   order_metric_collected_time        53299 non-null  float64\n",
      " 6   order_metric_paused_time           45895 non-null  float64\n",
      " 7   order_metric_production_time       49878 non-null  float64\n",
      " 8   order_metric_walking_time          45998 non-null  float64\n",
      " 9   order_metric_expediton_speed_time  48955 non-null  float64\n",
      " 10  order_metric_transit_time          49934 non-null  float64\n",
      " 11  order_metric_cycle_time            51003 non-null  float64\n",
      " 12  demanda                            53299 non-null  int64  \n",
      "dtypes: float64(7), int32(1), int64(4), object(1)\n",
      "memory usage: 5.5+ MB\n"
     ]
    }
   ],
   "source": [
    "#Separa a base de treino e teste\n",
    "train_set, test_set = train_test_split(df_orders_treatment_group, test_size=0.2, random_state=42)\n",
    "df_orders_train = train_set.copy()\n",
    "df_orders_train.info()"
   ]
  },
  {
   "cell_type": "code",
   "execution_count": 24,
   "metadata": {
    "id": "KESN2BGBVApy"
   },
   "outputs": [],
   "source": [
    "#Separa a Label principal\n",
    "df_orders_treatment_label = df_orders_train[['demanda']].copy()"
   ]
  },
  {
   "cell_type": "code",
   "execution_count": 25,
   "metadata": {
    "id": "Yq7j9Kc3VL-g"
   },
   "outputs": [],
   "source": [
    "#Remove a Label da base\n",
    "df_orders_treatment = df_orders_train.drop('demanda', axis=1)"
   ]
  },
  {
   "cell_type": "code",
   "execution_count": 26,
   "metadata": {
    "id": "yD4MyMloD5mw"
   },
   "outputs": [],
   "source": [
    "#Seleciona as variáveis float64\n",
    "df_orders_float64 = df_orders_treatment.select_dtypes(np.float64).copy()\n",
    "#df_orders_float64.head()"
   ]
  },
  {
   "cell_type": "code",
   "execution_count": 27,
   "metadata": {
    "id": "MlPpXdTcDnHf"
   },
   "outputs": [],
   "source": [
    "#Import do SimpleImputer\n",
    "from sklearn.impute import SimpleImputer"
   ]
  },
  {
   "cell_type": "code",
   "execution_count": 28,
   "metadata": {
    "id": "4qp-NpFTDqHj"
   },
   "outputs": [],
   "source": [
    "#Adicionando estratégia da mediana no imputer\n",
    "imputer = SimpleImputer(strategy='median')"
   ]
  },
  {
   "cell_type": "code",
   "execution_count": 29,
   "metadata": {
    "colab": {
     "base_uri": "https://localhost:8080/",
     "height": 80
    },
    "id": "XHgqdnrtEQjd",
    "outputId": "d1b7e547-0141-4a31-9e86-f3ff7cc9fd3c"
   },
   "outputs": [
    {
     "data": {
      "text/html": [
       "<style>#sk-container-id-1 {\n",
       "  /* Definition of color scheme common for light and dark mode */\n",
       "  --sklearn-color-text: black;\n",
       "  --sklearn-color-line: gray;\n",
       "  /* Definition of color scheme for unfitted estimators */\n",
       "  --sklearn-color-unfitted-level-0: #fff5e6;\n",
       "  --sklearn-color-unfitted-level-1: #f6e4d2;\n",
       "  --sklearn-color-unfitted-level-2: #ffe0b3;\n",
       "  --sklearn-color-unfitted-level-3: chocolate;\n",
       "  /* Definition of color scheme for fitted estimators */\n",
       "  --sklearn-color-fitted-level-0: #f0f8ff;\n",
       "  --sklearn-color-fitted-level-1: #d4ebff;\n",
       "  --sklearn-color-fitted-level-2: #b3dbfd;\n",
       "  --sklearn-color-fitted-level-3: cornflowerblue;\n",
       "\n",
       "  /* Specific color for light theme */\n",
       "  --sklearn-color-text-on-default-background: var(--sg-text-color, var(--theme-code-foreground, var(--jp-content-font-color1, black)));\n",
       "  --sklearn-color-background: var(--sg-background-color, var(--theme-background, var(--jp-layout-color0, white)));\n",
       "  --sklearn-color-border-box: var(--sg-text-color, var(--theme-code-foreground, var(--jp-content-font-color1, black)));\n",
       "  --sklearn-color-icon: #696969;\n",
       "\n",
       "  @media (prefers-color-scheme: dark) {\n",
       "    /* Redefinition of color scheme for dark theme */\n",
       "    --sklearn-color-text-on-default-background: var(--sg-text-color, var(--theme-code-foreground, var(--jp-content-font-color1, white)));\n",
       "    --sklearn-color-background: var(--sg-background-color, var(--theme-background, var(--jp-layout-color0, #111)));\n",
       "    --sklearn-color-border-box: var(--sg-text-color, var(--theme-code-foreground, var(--jp-content-font-color1, white)));\n",
       "    --sklearn-color-icon: #878787;\n",
       "  }\n",
       "}\n",
       "\n",
       "#sk-container-id-1 {\n",
       "  color: var(--sklearn-color-text);\n",
       "}\n",
       "\n",
       "#sk-container-id-1 pre {\n",
       "  padding: 0;\n",
       "}\n",
       "\n",
       "#sk-container-id-1 input.sk-hidden--visually {\n",
       "  border: 0;\n",
       "  clip: rect(1px 1px 1px 1px);\n",
       "  clip: rect(1px, 1px, 1px, 1px);\n",
       "  height: 1px;\n",
       "  margin: -1px;\n",
       "  overflow: hidden;\n",
       "  padding: 0;\n",
       "  position: absolute;\n",
       "  width: 1px;\n",
       "}\n",
       "\n",
       "#sk-container-id-1 div.sk-dashed-wrapped {\n",
       "  border: 1px dashed var(--sklearn-color-line);\n",
       "  margin: 0 0.4em 0.5em 0.4em;\n",
       "  box-sizing: border-box;\n",
       "  padding-bottom: 0.4em;\n",
       "  background-color: var(--sklearn-color-background);\n",
       "}\n",
       "\n",
       "#sk-container-id-1 div.sk-container {\n",
       "  /* jupyter's `normalize.less` sets `[hidden] { display: none; }`\n",
       "     but bootstrap.min.css set `[hidden] { display: none !important; }`\n",
       "     so we also need the `!important` here to be able to override the\n",
       "     default hidden behavior on the sphinx rendered scikit-learn.org.\n",
       "     See: https://github.com/scikit-learn/scikit-learn/issues/21755 */\n",
       "  display: inline-block !important;\n",
       "  position: relative;\n",
       "}\n",
       "\n",
       "#sk-container-id-1 div.sk-text-repr-fallback {\n",
       "  display: none;\n",
       "}\n",
       "\n",
       "div.sk-parallel-item,\n",
       "div.sk-serial,\n",
       "div.sk-item {\n",
       "  /* draw centered vertical line to link estimators */\n",
       "  background-image: linear-gradient(var(--sklearn-color-text-on-default-background), var(--sklearn-color-text-on-default-background));\n",
       "  background-size: 2px 100%;\n",
       "  background-repeat: no-repeat;\n",
       "  background-position: center center;\n",
       "}\n",
       "\n",
       "/* Parallel-specific style estimator block */\n",
       "\n",
       "#sk-container-id-1 div.sk-parallel-item::after {\n",
       "  content: \"\";\n",
       "  width: 100%;\n",
       "  border-bottom: 2px solid var(--sklearn-color-text-on-default-background);\n",
       "  flex-grow: 1;\n",
       "}\n",
       "\n",
       "#sk-container-id-1 div.sk-parallel {\n",
       "  display: flex;\n",
       "  align-items: stretch;\n",
       "  justify-content: center;\n",
       "  background-color: var(--sklearn-color-background);\n",
       "  position: relative;\n",
       "}\n",
       "\n",
       "#sk-container-id-1 div.sk-parallel-item {\n",
       "  display: flex;\n",
       "  flex-direction: column;\n",
       "}\n",
       "\n",
       "#sk-container-id-1 div.sk-parallel-item:first-child::after {\n",
       "  align-self: flex-end;\n",
       "  width: 50%;\n",
       "}\n",
       "\n",
       "#sk-container-id-1 div.sk-parallel-item:last-child::after {\n",
       "  align-self: flex-start;\n",
       "  width: 50%;\n",
       "}\n",
       "\n",
       "#sk-container-id-1 div.sk-parallel-item:only-child::after {\n",
       "  width: 0;\n",
       "}\n",
       "\n",
       "/* Serial-specific style estimator block */\n",
       "\n",
       "#sk-container-id-1 div.sk-serial {\n",
       "  display: flex;\n",
       "  flex-direction: column;\n",
       "  align-items: center;\n",
       "  background-color: var(--sklearn-color-background);\n",
       "  padding-right: 1em;\n",
       "  padding-left: 1em;\n",
       "}\n",
       "\n",
       "\n",
       "/* Toggleable style: style used for estimator/Pipeline/ColumnTransformer box that is\n",
       "clickable and can be expanded/collapsed.\n",
       "- Pipeline and ColumnTransformer use this feature and define the default style\n",
       "- Estimators will overwrite some part of the style using the `sk-estimator` class\n",
       "*/\n",
       "\n",
       "/* Pipeline and ColumnTransformer style (default) */\n",
       "\n",
       "#sk-container-id-1 div.sk-toggleable {\n",
       "  /* Default theme specific background. It is overwritten whether we have a\n",
       "  specific estimator or a Pipeline/ColumnTransformer */\n",
       "  background-color: var(--sklearn-color-background);\n",
       "}\n",
       "\n",
       "/* Toggleable label */\n",
       "#sk-container-id-1 label.sk-toggleable__label {\n",
       "  cursor: pointer;\n",
       "  display: block;\n",
       "  width: 100%;\n",
       "  margin-bottom: 0;\n",
       "  padding: 0.5em;\n",
       "  box-sizing: border-box;\n",
       "  text-align: center;\n",
       "}\n",
       "\n",
       "#sk-container-id-1 label.sk-toggleable__label-arrow:before {\n",
       "  /* Arrow on the left of the label */\n",
       "  content: \"▸\";\n",
       "  float: left;\n",
       "  margin-right: 0.25em;\n",
       "  color: var(--sklearn-color-icon);\n",
       "}\n",
       "\n",
       "#sk-container-id-1 label.sk-toggleable__label-arrow:hover:before {\n",
       "  color: var(--sklearn-color-text);\n",
       "}\n",
       "\n",
       "/* Toggleable content - dropdown */\n",
       "\n",
       "#sk-container-id-1 div.sk-toggleable__content {\n",
       "  max-height: 0;\n",
       "  max-width: 0;\n",
       "  overflow: hidden;\n",
       "  text-align: left;\n",
       "  /* unfitted */\n",
       "  background-color: var(--sklearn-color-unfitted-level-0);\n",
       "}\n",
       "\n",
       "#sk-container-id-1 div.sk-toggleable__content.fitted {\n",
       "  /* fitted */\n",
       "  background-color: var(--sklearn-color-fitted-level-0);\n",
       "}\n",
       "\n",
       "#sk-container-id-1 div.sk-toggleable__content pre {\n",
       "  margin: 0.2em;\n",
       "  border-radius: 0.25em;\n",
       "  color: var(--sklearn-color-text);\n",
       "  /* unfitted */\n",
       "  background-color: var(--sklearn-color-unfitted-level-0);\n",
       "}\n",
       "\n",
       "#sk-container-id-1 div.sk-toggleable__content.fitted pre {\n",
       "  /* unfitted */\n",
       "  background-color: var(--sklearn-color-fitted-level-0);\n",
       "}\n",
       "\n",
       "#sk-container-id-1 input.sk-toggleable__control:checked~div.sk-toggleable__content {\n",
       "  /* Expand drop-down */\n",
       "  max-height: 200px;\n",
       "  max-width: 100%;\n",
       "  overflow: auto;\n",
       "}\n",
       "\n",
       "#sk-container-id-1 input.sk-toggleable__control:checked~label.sk-toggleable__label-arrow:before {\n",
       "  content: \"▾\";\n",
       "}\n",
       "\n",
       "/* Pipeline/ColumnTransformer-specific style */\n",
       "\n",
       "#sk-container-id-1 div.sk-label input.sk-toggleable__control:checked~label.sk-toggleable__label {\n",
       "  color: var(--sklearn-color-text);\n",
       "  background-color: var(--sklearn-color-unfitted-level-2);\n",
       "}\n",
       "\n",
       "#sk-container-id-1 div.sk-label.fitted input.sk-toggleable__control:checked~label.sk-toggleable__label {\n",
       "  background-color: var(--sklearn-color-fitted-level-2);\n",
       "}\n",
       "\n",
       "/* Estimator-specific style */\n",
       "\n",
       "/* Colorize estimator box */\n",
       "#sk-container-id-1 div.sk-estimator input.sk-toggleable__control:checked~label.sk-toggleable__label {\n",
       "  /* unfitted */\n",
       "  background-color: var(--sklearn-color-unfitted-level-2);\n",
       "}\n",
       "\n",
       "#sk-container-id-1 div.sk-estimator.fitted input.sk-toggleable__control:checked~label.sk-toggleable__label {\n",
       "  /* fitted */\n",
       "  background-color: var(--sklearn-color-fitted-level-2);\n",
       "}\n",
       "\n",
       "#sk-container-id-1 div.sk-label label.sk-toggleable__label,\n",
       "#sk-container-id-1 div.sk-label label {\n",
       "  /* The background is the default theme color */\n",
       "  color: var(--sklearn-color-text-on-default-background);\n",
       "}\n",
       "\n",
       "/* On hover, darken the color of the background */\n",
       "#sk-container-id-1 div.sk-label:hover label.sk-toggleable__label {\n",
       "  color: var(--sklearn-color-text);\n",
       "  background-color: var(--sklearn-color-unfitted-level-2);\n",
       "}\n",
       "\n",
       "/* Label box, darken color on hover, fitted */\n",
       "#sk-container-id-1 div.sk-label.fitted:hover label.sk-toggleable__label.fitted {\n",
       "  color: var(--sklearn-color-text);\n",
       "  background-color: var(--sklearn-color-fitted-level-2);\n",
       "}\n",
       "\n",
       "/* Estimator label */\n",
       "\n",
       "#sk-container-id-1 div.sk-label label {\n",
       "  font-family: monospace;\n",
       "  font-weight: bold;\n",
       "  display: inline-block;\n",
       "  line-height: 1.2em;\n",
       "}\n",
       "\n",
       "#sk-container-id-1 div.sk-label-container {\n",
       "  text-align: center;\n",
       "}\n",
       "\n",
       "/* Estimator-specific */\n",
       "#sk-container-id-1 div.sk-estimator {\n",
       "  font-family: monospace;\n",
       "  border: 1px dotted var(--sklearn-color-border-box);\n",
       "  border-radius: 0.25em;\n",
       "  box-sizing: border-box;\n",
       "  margin-bottom: 0.5em;\n",
       "  /* unfitted */\n",
       "  background-color: var(--sklearn-color-unfitted-level-0);\n",
       "}\n",
       "\n",
       "#sk-container-id-1 div.sk-estimator.fitted {\n",
       "  /* fitted */\n",
       "  background-color: var(--sklearn-color-fitted-level-0);\n",
       "}\n",
       "\n",
       "/* on hover */\n",
       "#sk-container-id-1 div.sk-estimator:hover {\n",
       "  /* unfitted */\n",
       "  background-color: var(--sklearn-color-unfitted-level-2);\n",
       "}\n",
       "\n",
       "#sk-container-id-1 div.sk-estimator.fitted:hover {\n",
       "  /* fitted */\n",
       "  background-color: var(--sklearn-color-fitted-level-2);\n",
       "}\n",
       "\n",
       "/* Specification for estimator info (e.g. \"i\" and \"?\") */\n",
       "\n",
       "/* Common style for \"i\" and \"?\" */\n",
       "\n",
       ".sk-estimator-doc-link,\n",
       "a:link.sk-estimator-doc-link,\n",
       "a:visited.sk-estimator-doc-link {\n",
       "  float: right;\n",
       "  font-size: smaller;\n",
       "  line-height: 1em;\n",
       "  font-family: monospace;\n",
       "  background-color: var(--sklearn-color-background);\n",
       "  border-radius: 1em;\n",
       "  height: 1em;\n",
       "  width: 1em;\n",
       "  text-decoration: none !important;\n",
       "  margin-left: 1ex;\n",
       "  /* unfitted */\n",
       "  border: var(--sklearn-color-unfitted-level-1) 1pt solid;\n",
       "  color: var(--sklearn-color-unfitted-level-1);\n",
       "}\n",
       "\n",
       ".sk-estimator-doc-link.fitted,\n",
       "a:link.sk-estimator-doc-link.fitted,\n",
       "a:visited.sk-estimator-doc-link.fitted {\n",
       "  /* fitted */\n",
       "  border: var(--sklearn-color-fitted-level-1) 1pt solid;\n",
       "  color: var(--sklearn-color-fitted-level-1);\n",
       "}\n",
       "\n",
       "/* On hover */\n",
       "div.sk-estimator:hover .sk-estimator-doc-link:hover,\n",
       ".sk-estimator-doc-link:hover,\n",
       "div.sk-label-container:hover .sk-estimator-doc-link:hover,\n",
       ".sk-estimator-doc-link:hover {\n",
       "  /* unfitted */\n",
       "  background-color: var(--sklearn-color-unfitted-level-3);\n",
       "  color: var(--sklearn-color-background);\n",
       "  text-decoration: none;\n",
       "}\n",
       "\n",
       "div.sk-estimator.fitted:hover .sk-estimator-doc-link.fitted:hover,\n",
       ".sk-estimator-doc-link.fitted:hover,\n",
       "div.sk-label-container:hover .sk-estimator-doc-link.fitted:hover,\n",
       ".sk-estimator-doc-link.fitted:hover {\n",
       "  /* fitted */\n",
       "  background-color: var(--sklearn-color-fitted-level-3);\n",
       "  color: var(--sklearn-color-background);\n",
       "  text-decoration: none;\n",
       "}\n",
       "\n",
       "/* Span, style for the box shown on hovering the info icon */\n",
       ".sk-estimator-doc-link span {\n",
       "  display: none;\n",
       "  z-index: 9999;\n",
       "  position: relative;\n",
       "  font-weight: normal;\n",
       "  right: .2ex;\n",
       "  padding: .5ex;\n",
       "  margin: .5ex;\n",
       "  width: min-content;\n",
       "  min-width: 20ex;\n",
       "  max-width: 50ex;\n",
       "  color: var(--sklearn-color-text);\n",
       "  box-shadow: 2pt 2pt 4pt #999;\n",
       "  /* unfitted */\n",
       "  background: var(--sklearn-color-unfitted-level-0);\n",
       "  border: .5pt solid var(--sklearn-color-unfitted-level-3);\n",
       "}\n",
       "\n",
       ".sk-estimator-doc-link.fitted span {\n",
       "  /* fitted */\n",
       "  background: var(--sklearn-color-fitted-level-0);\n",
       "  border: var(--sklearn-color-fitted-level-3);\n",
       "}\n",
       "\n",
       ".sk-estimator-doc-link:hover span {\n",
       "  display: block;\n",
       "}\n",
       "\n",
       "/* \"?\"-specific style due to the `<a>` HTML tag */\n",
       "\n",
       "#sk-container-id-1 a.estimator_doc_link {\n",
       "  float: right;\n",
       "  font-size: 1rem;\n",
       "  line-height: 1em;\n",
       "  font-family: monospace;\n",
       "  background-color: var(--sklearn-color-background);\n",
       "  border-radius: 1rem;\n",
       "  height: 1rem;\n",
       "  width: 1rem;\n",
       "  text-decoration: none;\n",
       "  /* unfitted */\n",
       "  color: var(--sklearn-color-unfitted-level-1);\n",
       "  border: var(--sklearn-color-unfitted-level-1) 1pt solid;\n",
       "}\n",
       "\n",
       "#sk-container-id-1 a.estimator_doc_link.fitted {\n",
       "  /* fitted */\n",
       "  border: var(--sklearn-color-fitted-level-1) 1pt solid;\n",
       "  color: var(--sklearn-color-fitted-level-1);\n",
       "}\n",
       "\n",
       "/* On hover */\n",
       "#sk-container-id-1 a.estimator_doc_link:hover {\n",
       "  /* unfitted */\n",
       "  background-color: var(--sklearn-color-unfitted-level-3);\n",
       "  color: var(--sklearn-color-background);\n",
       "  text-decoration: none;\n",
       "}\n",
       "\n",
       "#sk-container-id-1 a.estimator_doc_link.fitted:hover {\n",
       "  /* fitted */\n",
       "  background-color: var(--sklearn-color-fitted-level-3);\n",
       "}\n",
       "</style><div id=\"sk-container-id-1\" class=\"sk-top-container\"><div class=\"sk-text-repr-fallback\"><pre>SimpleImputer(strategy=&#x27;median&#x27;)</pre><b>In a Jupyter environment, please rerun this cell to show the HTML representation or trust the notebook. <br />On GitHub, the HTML representation is unable to render, please try loading this page with nbviewer.org.</b></div><div class=\"sk-container\" hidden><div class=\"sk-item\"><div class=\"sk-estimator fitted sk-toggleable\"><input class=\"sk-toggleable__control sk-hidden--visually\" id=\"sk-estimator-id-1\" type=\"checkbox\" checked><label for=\"sk-estimator-id-1\" class=\"sk-toggleable__label fitted sk-toggleable__label-arrow fitted\">&nbsp;&nbsp;SimpleImputer<a class=\"sk-estimator-doc-link fitted\" rel=\"noreferrer\" target=\"_blank\" href=\"https://scikit-learn.org/1.4/modules/generated/sklearn.impute.SimpleImputer.html\">?<span>Documentation for SimpleImputer</span></a><span class=\"sk-estimator-doc-link fitted\">i<span>Fitted</span></span></label><div class=\"sk-toggleable__content fitted\"><pre>SimpleImputer(strategy=&#x27;median&#x27;)</pre></div> </div></div></div></div>"
      ],
      "text/plain": [
       "SimpleImputer(strategy='median')"
      ]
     },
     "execution_count": 29,
     "metadata": {},
     "output_type": "execute_result"
    }
   ],
   "source": [
    "#Treina o imputer\n",
    "imputer.fit(df_orders_float64)"
   ]
  },
  {
   "cell_type": "code",
   "execution_count": 30,
   "metadata": {
    "id": "25p7I6WhFJ3z"
   },
   "outputs": [],
   "source": [
    "#Cria nova matriz preenchendo os valores nulos com o imputer\n",
    "float_vars = imputer.transform(df_orders_float64)"
   ]
  },
  {
   "cell_type": "code",
   "execution_count": 31,
   "metadata": {
    "id": "IMkWNNKzCiKL"
   },
   "outputs": [],
   "source": [
    "#float_vars"
   ]
  },
  {
   "cell_type": "code",
   "execution_count": 32,
   "metadata": {
    "colab": {
     "base_uri": "https://localhost:8080/"
    },
    "id": "zAu5FhBeFYWO",
    "outputId": "a9488897-4530-4480-9f5b-9ee225d345fc"
   },
   "outputs": [
    {
     "name": "stdout",
     "output_type": "stream",
     "text": [
      "<class 'pandas.core.frame.DataFrame'>\n",
      "Index: 53299 entries, 49037 to 9950\n",
      "Data columns (total 7 columns):\n",
      " #   Column                             Non-Null Count  Dtype  \n",
      "---  ------                             --------------  -----  \n",
      " 0   order_metric_collected_time        53299 non-null  float64\n",
      " 1   order_metric_paused_time           53299 non-null  float64\n",
      " 2   order_metric_production_time       53299 non-null  float64\n",
      " 3   order_metric_walking_time          53299 non-null  float64\n",
      " 4   order_metric_expediton_speed_time  53299 non-null  float64\n",
      " 5   order_metric_transit_time          53299 non-null  float64\n",
      " 6   order_metric_cycle_time            53299 non-null  float64\n",
      "dtypes: float64(7)\n",
      "memory usage: 3.3 MB\n"
     ]
    }
   ],
   "source": [
    "#Cria novo dataset para apresentar os valores\n",
    "df_float64 = pd.DataFrame(float_vars, columns=df_orders_float64.columns,\n",
    "                          index=df_orders_float64.index)\n",
    "df_float64.info()"
   ]
  },
  {
   "cell_type": "code",
   "execution_count": 33,
   "metadata": {
    "colab": {
     "base_uri": "https://localhost:8080/"
    },
    "id": "CjkdpgnHFiTW",
    "outputId": "bd92a675-d956-42b3-f709-d9f0f6e1c94c"
   },
   "outputs": [
    {
     "name": "stdout",
     "output_type": "stream",
     "text": [
      "<class 'pandas.core.frame.DataFrame'>\n",
      "Index: 53299 entries, 49037 to 9950\n",
      "Data columns (total 7 columns):\n",
      " #   Column                             Non-Null Count  Dtype  \n",
      "---  ------                             --------------  -----  \n",
      " 0   order_metric_collected_time        53299 non-null  float64\n",
      " 1   order_metric_paused_time           53299 non-null  float64\n",
      " 2   order_metric_production_time       53299 non-null  float64\n",
      " 3   order_metric_walking_time          53299 non-null  float64\n",
      " 4   order_metric_expediton_speed_time  53299 non-null  float64\n",
      " 5   order_metric_transit_time          53299 non-null  float64\n",
      " 6   order_metric_cycle_time            53299 non-null  float64\n",
      "dtypes: float64(7)\n",
      "memory usage: 3.3 MB\n"
     ]
    }
   ],
   "source": [
    "#info do novo dataset\n",
    "df_float64.info()"
   ]
  },
  {
   "cell_type": "markdown",
   "metadata": {
    "id": "8JRumVFvC-Xs"
   },
   "source": [
    "## Seleção Final"
   ]
  },
  {
   "cell_type": "markdown",
   "metadata": {
    "id": "EwY0dcuLy5Ju"
   },
   "source": [
    "## Variáveis Categóricas"
   ]
  },
  {
   "cell_type": "code",
   "execution_count": 34,
   "metadata": {
    "colab": {
     "base_uri": "https://localhost:8080/"
    },
    "id": "esYV575hF758",
    "outputId": "4262b25d-3c48-4b72-f31b-b8a562149a92"
   },
   "outputs": [
    {
     "name": "stdout",
     "output_type": "stream",
     "text": [
      "<class 'pandas.core.frame.DataFrame'>\n",
      "Index: 53299 entries, 49037 to 9950\n",
      "Data columns (total 12 columns):\n",
      " #   Column                             Non-Null Count  Dtype  \n",
      "---  ------                             --------------  -----  \n",
      " 0   store_id                           53299 non-null  int64  \n",
      " 1   channel_id                         53299 non-null  int64  \n",
      " 2   order_created_day                  53299 non-null  int64  \n",
      " 3   day_of_week                        53299 non-null  int32  \n",
      " 4   faixa_horario                      53299 non-null  object \n",
      " 5   order_metric_collected_time        53299 non-null  float64\n",
      " 6   order_metric_paused_time           45895 non-null  float64\n",
      " 7   order_metric_production_time       49878 non-null  float64\n",
      " 8   order_metric_walking_time          45998 non-null  float64\n",
      " 9   order_metric_expediton_speed_time  48955 non-null  float64\n",
      " 10  order_metric_transit_time          49934 non-null  float64\n",
      " 11  order_metric_cycle_time            51003 non-null  float64\n",
      "dtypes: float64(7), int32(1), int64(3), object(1)\n",
      "memory usage: 5.1+ MB\n"
     ]
    }
   ],
   "source": [
    "#info\n",
    "df_orders_treatment.info()"
   ]
  },
  {
   "cell_type": "code",
   "execution_count": 35,
   "metadata": {
    "colab": {
     "base_uri": "https://localhost:8080/",
     "height": 423
    },
    "id": "D-QUpDRIGFU-",
    "outputId": "8ea5b6ab-b185-490b-facd-62612e157706"
   },
   "outputs": [
    {
     "data": {
      "text/html": [
       "<div>\n",
       "<style scoped>\n",
       "    .dataframe tbody tr th:only-of-type {\n",
       "        vertical-align: middle;\n",
       "    }\n",
       "\n",
       "    .dataframe tbody tr th {\n",
       "        vertical-align: top;\n",
       "    }\n",
       "\n",
       "    .dataframe thead th {\n",
       "        text-align: right;\n",
       "    }\n",
       "</style>\n",
       "<table border=\"1\" class=\"dataframe\">\n",
       "  <thead>\n",
       "    <tr style=\"text-align: right;\">\n",
       "      <th></th>\n",
       "      <th>day_of_week</th>\n",
       "      <th>faixa_horario</th>\n",
       "    </tr>\n",
       "  </thead>\n",
       "  <tbody>\n",
       "    <tr>\n",
       "      <th>49037</th>\n",
       "      <td>5</td>\n",
       "      <td>tarde</td>\n",
       "    </tr>\n",
       "    <tr>\n",
       "      <th>23762</th>\n",
       "      <td>6</td>\n",
       "      <td>noite</td>\n",
       "    </tr>\n",
       "    <tr>\n",
       "      <th>43636</th>\n",
       "      <td>2</td>\n",
       "      <td>tarde</td>\n",
       "    </tr>\n",
       "    <tr>\n",
       "      <th>6376</th>\n",
       "      <td>0</td>\n",
       "      <td>almoco</td>\n",
       "    </tr>\n",
       "    <tr>\n",
       "      <th>288</th>\n",
       "      <td>2</td>\n",
       "      <td>noite</td>\n",
       "    </tr>\n",
       "    <tr>\n",
       "      <th>...</th>\n",
       "      <td>...</td>\n",
       "      <td>...</td>\n",
       "    </tr>\n",
       "    <tr>\n",
       "      <th>7909</th>\n",
       "      <td>6</td>\n",
       "      <td>tarde</td>\n",
       "    </tr>\n",
       "    <tr>\n",
       "      <th>65169</th>\n",
       "      <td>5</td>\n",
       "      <td>tarde</td>\n",
       "    </tr>\n",
       "    <tr>\n",
       "      <th>41771</th>\n",
       "      <td>0</td>\n",
       "      <td>tarde</td>\n",
       "    </tr>\n",
       "    <tr>\n",
       "      <th>14287</th>\n",
       "      <td>5</td>\n",
       "      <td>tarde</td>\n",
       "    </tr>\n",
       "    <tr>\n",
       "      <th>9950</th>\n",
       "      <td>3</td>\n",
       "      <td>noite</td>\n",
       "    </tr>\n",
       "  </tbody>\n",
       "</table>\n",
       "<p>53299 rows × 2 columns</p>\n",
       "</div>"
      ],
      "text/plain": [
       "       day_of_week faixa_horario\n",
       "49037            5         tarde\n",
       "23762            6         noite\n",
       "43636            2         tarde\n",
       "6376             0        almoco\n",
       "288              2         noite\n",
       "...            ...           ...\n",
       "7909             6         tarde\n",
       "65169            5         tarde\n",
       "41771            0         tarde\n",
       "14287            5         tarde\n",
       "9950             3         noite\n",
       "\n",
       "[53299 rows x 2 columns]"
      ]
     },
     "execution_count": 35,
     "metadata": {},
     "output_type": "execute_result"
    }
   ],
   "source": [
    "#seleção de day_of_week e faixa_horario\n",
    "df_orders_treatment[['day_of_week', 'faixa_horario']]"
   ]
  },
  {
   "cell_type": "code",
   "execution_count": 36,
   "metadata": {
    "id": "jhUfHEZaGRwq"
   },
   "outputs": [
    {
     "data": {
      "text/plain": [
       "faixa_horario\n",
       "noite        18451\n",
       "tarde        18100\n",
       "almoco        9048\n",
       "madrugada     7493\n",
       "manha          207\n",
       "Name: count, dtype: int64"
      ]
     },
     "execution_count": 36,
     "metadata": {},
     "output_type": "execute_result"
    }
   ],
   "source": [
    "#value_counts faixa de horario\n",
    "df_orders_treatment['faixa_horario'].value_counts()"
   ]
  },
  {
   "cell_type": "code",
   "execution_count": 37,
   "metadata": {
    "id": "GyBrO-NgWPM3"
   },
   "outputs": [],
   "source": [
    "#novo dataset com a seleção das variaveis numéricas categóricas\n",
    "df_orders_treatment_cat_num = df_orders_treatment[['store_id',\n",
    "                                                   'channel_id',\n",
    "                                                   'order_created_day',\n",
    "                                                   'day_of_week']].copy()\n",
    "#df_orders_treatment_cat_num.head()"
   ]
  },
  {
   "cell_type": "code",
   "execution_count": 38,
   "metadata": {
    "id": "kJOxsPD-GYO5"
   },
   "outputs": [],
   "source": [
    "#novo dataset com a seleção das variáveis categóricas\n",
    "df_orders_treatment_cat = df_orders_treatment[['faixa_horario']].copy()\n",
    "#df_orders_treatment_cat.head()"
   ]
  },
  {
   "cell_type": "code",
   "execution_count": 39,
   "metadata": {
    "id": "l_LUSah5GopW"
   },
   "outputs": [],
   "source": [
    "#import do OrdinalEncoder e do OneHotEncoder\n",
    "from sklearn.preprocessing import OrdinalEncoder, OneHotEncoder"
   ]
  },
  {
   "cell_type": "markdown",
   "metadata": {
    "id": "8DgM52plFzYT"
   },
   "source": [
    "### Ordinal Encoder\n",
    "A maioria dos algoritmos de Aprendizado de Máquina prefere trabalhar com números, então vamos converter as categorias de texto para números. Para tanto, podemos utilizar o método OrdinalEncoder(), que mapeia cada categoria para um número inteiro diferente."
   ]
  },
  {
   "cell_type": "code",
   "execution_count": 40,
   "metadata": {
    "colab": {
     "base_uri": "https://localhost:8080/"
    },
    "id": "RRly-ClqGfDa",
    "outputId": "19b024b8-6e5a-4751-a2f8-fbf17ffecc25"
   },
   "outputs": [
    {
     "data": {
      "text/plain": [
       "[array(['almoco', 'madrugada', 'manha', 'noite', 'tarde'], dtype=object)]"
      ]
     },
     "execution_count": 40,
     "metadata": {},
     "output_type": "execute_result"
    }
   ],
   "source": [
    "#tratamento com o OrdinalEncoder\n",
    "ordinal_encoder = OrdinalEncoder()\n",
    "df_orders_treatment_cat_encode = ordinal_encoder.fit_transform(df_orders_treatment_cat)\n",
    "#df_orders_treatment_cat_encode[:10]\n",
    "ordinal_encoder.categories_"
   ]
  },
  {
   "cell_type": "code",
   "execution_count": 41,
   "metadata": {
    "id": "aoVOnEqrGwVA"
   },
   "outputs": [],
   "source": [
    "#Verificação das categorias do OrdinalEncoder\n"
   ]
  },
  {
   "cell_type": "markdown",
   "metadata": {
    "id": "VQRnqxB3GNt5"
   },
   "source": [
    "### OneHotEncoder\n",
    "O OrdinalEncoder pega a quantidade de atributos e converte em números, porém transformando puramente em números ele cria uma diferença de valores entre os números. As categorias 0 e 1 transformadas tem uma distância semelhante, não podemos dizer o mesmo para as categorias 0 e 2, os algoritmos de ML enxergarão essa escala como uma diferença significa entre os dados. <br/>\n",
    "A utilização do OneHotEncoder é melhor aproveitada para esses casos. Ela cria novos atributos de acordo com a quantidade de atributos com 0 e 1.\n"
   ]
  },
  {
   "cell_type": "code",
   "execution_count": 42,
   "metadata": {
    "colab": {
     "base_uri": "https://localhost:8080/"
    },
    "id": "gkooAI5-G8sR",
    "outputId": "51f5cafa-4039-43ee-d0b8-8f9a3caebdbc"
   },
   "outputs": [
    {
     "data": {
      "text/plain": [
       "array([[0., 0., 0., 0., 1.],\n",
       "       [0., 0., 0., 1., 0.],\n",
       "       [0., 0., 0., 0., 1.],\n",
       "       ...,\n",
       "       [0., 0., 0., 0., 1.],\n",
       "       [0., 0., 0., 0., 1.],\n",
       "       [0., 0., 0., 1., 0.]])"
      ]
     },
     "execution_count": 42,
     "metadata": {},
     "output_type": "execute_result"
    }
   ],
   "source": [
    "#tratamento da categoria com o OneHotEncoder\n",
    "cat_encoder = OneHotEncoder()\n",
    "df_orders_treatment_cat_1hot = cat_encoder.fit_transform(df_orders_treatment_cat)\n",
    "df_orders_treatment_cat_1hot.toarray()"
   ]
  },
  {
   "cell_type": "code",
   "execution_count": 43,
   "metadata": {
    "id": "4xdn9J15HFS0"
   },
   "outputs": [],
   "source": [
    "#Visuaulização das categorias em array\n"
   ]
  },
  {
   "cell_type": "code",
   "execution_count": 44,
   "metadata": {
    "id": "nKAFUfGDHJT7"
   },
   "outputs": [],
   "source": [
    "#Visuaulização das categorias\n"
   ]
  },
  {
   "cell_type": "markdown",
   "metadata": {
    "id": "7gP5xugHzlC0"
   },
   "source": [
    "## Escalonando nossos dados"
   ]
  },
  {
   "cell_type": "code",
   "execution_count": 45,
   "metadata": {
    "colab": {
     "base_uri": "https://localhost:8080/",
     "height": 226
    },
    "id": "1BSwtH47XDD6",
    "outputId": "ab2c559c-2772-486c-8feb-aa9e635b7b7b"
   },
   "outputs": [
    {
     "data": {
      "text/html": [
       "<div>\n",
       "<style scoped>\n",
       "    .dataframe tbody tr th:only-of-type {\n",
       "        vertical-align: middle;\n",
       "    }\n",
       "\n",
       "    .dataframe tbody tr th {\n",
       "        vertical-align: top;\n",
       "    }\n",
       "\n",
       "    .dataframe thead th {\n",
       "        text-align: right;\n",
       "    }\n",
       "</style>\n",
       "<table border=\"1\" class=\"dataframe\">\n",
       "  <thead>\n",
       "    <tr style=\"text-align: right;\">\n",
       "      <th></th>\n",
       "      <th>order_metric_collected_time</th>\n",
       "      <th>order_metric_paused_time</th>\n",
       "      <th>order_metric_production_time</th>\n",
       "      <th>order_metric_walking_time</th>\n",
       "      <th>order_metric_expediton_speed_time</th>\n",
       "      <th>order_metric_transit_time</th>\n",
       "      <th>order_metric_cycle_time</th>\n",
       "    </tr>\n",
       "  </thead>\n",
       "  <tbody>\n",
       "    <tr>\n",
       "      <th>49037</th>\n",
       "      <td>1.47</td>\n",
       "      <td>2.150</td>\n",
       "      <td>20.47</td>\n",
       "      <td>2.450</td>\n",
       "      <td>5.05</td>\n",
       "      <td>15.870</td>\n",
       "      <td>36.45</td>\n",
       "    </tr>\n",
       "    <tr>\n",
       "      <th>23762</th>\n",
       "      <td>3.20</td>\n",
       "      <td>3.035</td>\n",
       "      <td>18.80</td>\n",
       "      <td>4.155</td>\n",
       "      <td>7.60</td>\n",
       "      <td>18.695</td>\n",
       "      <td>48.59</td>\n",
       "    </tr>\n",
       "    <tr>\n",
       "      <th>43636</th>\n",
       "      <td>5.02</td>\n",
       "      <td>53.200</td>\n",
       "      <td>5.03</td>\n",
       "      <td>6.630</td>\n",
       "      <td>59.83</td>\n",
       "      <td>58.370</td>\n",
       "      <td>123.23</td>\n",
       "    </tr>\n",
       "    <tr>\n",
       "      <th>6376</th>\n",
       "      <td>2.30</td>\n",
       "      <td>0.970</td>\n",
       "      <td>20.37</td>\n",
       "      <td>6.820</td>\n",
       "      <td>7.80</td>\n",
       "      <td>10.020</td>\n",
       "      <td>41.18</td>\n",
       "    </tr>\n",
       "    <tr>\n",
       "      <th>288</th>\n",
       "      <td>0.67</td>\n",
       "      <td>2.270</td>\n",
       "      <td>14.62</td>\n",
       "      <td>0.800</td>\n",
       "      <td>3.05</td>\n",
       "      <td>12.820</td>\n",
       "      <td>32.67</td>\n",
       "    </tr>\n",
       "  </tbody>\n",
       "</table>\n",
       "</div>"
      ],
      "text/plain": [
       "       order_metric_collected_time  order_metric_paused_time  \\\n",
       "49037                         1.47                     2.150   \n",
       "23762                         3.20                     3.035   \n",
       "43636                         5.02                    53.200   \n",
       "6376                          2.30                     0.970   \n",
       "288                           0.67                     2.270   \n",
       "\n",
       "       order_metric_production_time  order_metric_walking_time  \\\n",
       "49037                         20.47                      2.450   \n",
       "23762                         18.80                      4.155   \n",
       "43636                          5.03                      6.630   \n",
       "6376                          20.37                      6.820   \n",
       "288                           14.62                      0.800   \n",
       "\n",
       "       order_metric_expediton_speed_time  order_metric_transit_time  \\\n",
       "49037                               5.05                     15.870   \n",
       "23762                               7.60                     18.695   \n",
       "43636                              59.83                     58.370   \n",
       "6376                                7.80                     10.020   \n",
       "288                                 3.05                     12.820   \n",
       "\n",
       "       order_metric_cycle_time  \n",
       "49037                    36.45  \n",
       "23762                    48.59  \n",
       "43636                   123.23  \n",
       "6376                     41.18  \n",
       "288                      32.67  "
      ]
     },
     "execution_count": 45,
     "metadata": {},
     "output_type": "execute_result"
    }
   ],
   "source": [
    "#visualização do df_float64\n",
    "df_float64.head()"
   ]
  },
  {
   "cell_type": "code",
   "execution_count": 46,
   "metadata": {
    "id": "KZeX408IXZBh"
   },
   "outputs": [],
   "source": [
    "#import do MinMaxScaler e do StandardScaler\n",
    "from sklearn.preprocessing import MinMaxScaler, StandardScaler"
   ]
  },
  {
   "cell_type": "markdown",
   "metadata": {
    "id": "mjazQhmnGWjt"
   },
   "source": [
    "### MinMaxScaler\n",
    "O escalonamento min-max (muitas pessoas chamam de normalização) é bastante simples: os valores são deslocados e redimensionados para que acabem variando de 0 a 1. Ele subtrai o valor mínimo e divide pelo máximo menos o mínimo. O Scikit-Learn fornece um transformador chamado MinMaxScaler para isso. Ele possui um hiper parâmetro feature_range que permite alterar o intervalo se não quiser 0-1 por algum motivo."
   ]
  },
  {
   "cell_type": "code",
   "execution_count": 47,
   "metadata": {
    "colab": {
     "base_uri": "https://localhost:8080/"
    },
    "id": "Nbz6ypOfXQy4",
    "outputId": "638dbefe-8142-44cd-f53f-4978afbc69aa"
   },
   "outputs": [
    {
     "data": {
      "text/plain": [
       "array([[1.06106463e-03, 8.90955871e-03, 3.29045984e-04, ...,\n",
       "        4.30953559e-04, 3.35704995e-04, 5.53693404e-04],\n",
       "       [2.29303899e-03, 8.98446096e-03, 3.02201490e-04, ...,\n",
       "        6.48563773e-04, 3.86501279e-04, 7.40100446e-04],\n",
       "       [3.58910450e-03, 1.32301911e-02, 8.08549730e-05, ...,\n",
       "        5.10573296e-03, 1.09989687e-03, 1.88618130e-03],\n",
       "       ...,\n",
       "       [1.95121951e-03, 8.75721516e-03, 2.73267304e-05, ...,\n",
       "        4.56554761e-04, 3.12509524e-04, 3.26135549e-04],\n",
       "       [8.79473028e-04, 9.21593852e-03, 2.45940574e-04, ...,\n",
       "        7.10006656e-04, 3.82095937e-04, 6.52578194e-04],\n",
       "       [4.27274346e-04, 9.07036579e-03, 1.90965622e-04, ...,\n",
       "        6.74164974e-04, 3.68250579e-04, 7.09083789e-04]])"
      ]
     },
     "execution_count": 47,
     "metadata": {},
     "output_type": "execute_result"
    }
   ],
   "source": [
    "#Tratamento com MinMaxScaler\n",
    "scaler = MinMaxScaler()\n",
    "scaler.fit(df_float64)\n",
    "df_float64_transform = scaler.transform(df_float64)\n",
    "df_float64_transform"
   ]
  },
  {
   "cell_type": "code",
   "execution_count": 48,
   "metadata": {
    "id": "Y4L6UwDpXbph"
   },
   "outputs": [],
   "source": [
    "#Visualiza transformação\n"
   ]
  },
  {
   "cell_type": "markdown",
   "metadata": {
    "id": "-HKPHlK_XokM"
   },
   "source": [
    "### StandardScaler\n",
    "A padronização é bem diferente: em primeiro lugar ela subtrai o valor médio (assim os valores padronizados sempre têm média zero) e, em seguida, divide pela variância, de modo que a distribuição resultante tenha variância unitária.\n",
    "Ao contrário do escalonamento min-max, a padronização não vincula valores a um intervalo específico, o que pode ser um problema para alguns algoritmos.\n",
    "No entanto, a padronização é muito menos afetada por outliers.\n",
    "O Scikit-Learn fornece um transformador para padronização chamado StandardScaler."
   ]
  },
  {
   "cell_type": "code",
   "execution_count": 49,
   "metadata": {
    "colab": {
     "base_uri": "https://localhost:8080/"
    },
    "id": "fhodSlMYXp8z",
    "outputId": "7acf7c67-cad3-42d8-d2dc-ad4440fb0f2a"
   },
   "outputs": [
    {
     "data": {
      "text/plain": [
       "array([[-0.09533207, -0.08201388, -0.05910494, ..., -0.12363719,\n",
       "        -0.0393002 , -0.1022982 ],\n",
       "       [ 0.06297516, -0.07017721, -0.06320582, ..., -0.09488854,\n",
       "        -0.03469955, -0.08777666],\n",
       "       [ 0.22951802,  0.60076801, -0.09701967, ...,  0.49395144,\n",
       "         0.02991317,  0.00150571],\n",
       "       ...,\n",
       "       [ 0.01905177, -0.10608846, -0.10519688, ..., -0.120255  ,\n",
       "        -0.04140103, -0.12002549],\n",
       "       [-0.11866637, -0.03359722, -0.07180048, ..., -0.08677128,\n",
       "        -0.03509854, -0.09459485],\n",
       "       [-0.17677336, -0.05660182, -0.08019869, ..., -0.09150635,\n",
       "        -0.03635253, -0.09019293]])"
      ]
     },
     "execution_count": 49,
     "metadata": {},
     "output_type": "execute_result"
    }
   ],
   "source": [
    "#Tratamento com o SatandardScaler\n",
    "standard = StandardScaler()\n",
    "standard.fit(df_float64)\n",
    "df_float64_standard_transform = standard.transform(df_float64)\n",
    "df_float64_standard_transform"
   ]
  },
  {
   "cell_type": "code",
   "execution_count": 50,
   "metadata": {
    "id": "aytL1XUlXzKW"
   },
   "outputs": [],
   "source": [
    "#Visualiza transformação\n"
   ]
  },
  {
   "cell_type": "markdown",
   "metadata": {
    "id": "_xF-yUUzz0vc"
   },
   "source": [
    "## Pipeline"
   ]
  },
  {
   "cell_type": "code",
   "execution_count": 51,
   "metadata": {
    "id": "-ZZndJX7YbIT"
   },
   "outputs": [],
   "source": [
    "#import do Pipeline\n",
    "from sklearn.pipeline import Pipeline"
   ]
  },
  {
   "cell_type": "markdown",
   "metadata": {
    "id": "AuqivqRTG4H7"
   },
   "source": [
    "Existem muitas etapas de transformação de dados que precisam ser executadas na ordem correta. Felizmente, o Scikit-Learn fornece a classe Pipeline para ajudar tais sequências de transformações.\n",
    "\n",
    "O construtor Pipeline se vale de uma lista de pares de nome/estimador que definem uma sequência de etapas. Todos, exceto o último estimador, devem ser transformadores (ou seja, eles devem ter um método fit_transform()).\n"
   ]
  },
  {
   "cell_type": "markdown",
   "metadata": {
    "id": "GczkaZl3DU4b"
   },
   "source": [
    "### Pipeline Numérico"
   ]
  },
  {
   "cell_type": "code",
   "execution_count": 52,
   "metadata": {
    "id": "m4uTVkPpYkAF"
   },
   "outputs": [],
   "source": [
    "#Criação do novo pipeline com o Imputer e StandardScaler\n",
    "num_pipeline = Pipeline([\n",
    "    ('imputer', SimpleImputer(strategy='median')),\n",
    "    ('std_scaler', StandardScaler())\n",
    "])"
   ]
  },
  {
   "cell_type": "code",
   "execution_count": 53,
   "metadata": {
    "colab": {
     "base_uri": "https://localhost:8080/"
    },
    "id": "slFec5ZHYt0g",
    "outputId": "b3f383d8-955b-4eae-b72b-0f9b87039c8b"
   },
   "outputs": [
    {
     "data": {
      "text/plain": [
       "array([[-0.09533207, -0.08201388, -0.05910494, ..., -0.12363719,\n",
       "        -0.0393002 , -0.1022982 ],\n",
       "       [ 0.06297516, -0.07017721, -0.06320582, ..., -0.09488854,\n",
       "        -0.03469955, -0.08777666],\n",
       "       [ 0.22951802,  0.60076801, -0.09701967, ...,  0.49395144,\n",
       "         0.02991317,  0.00150571],\n",
       "       ...,\n",
       "       [ 0.01905177, -0.10608846, -0.10519688, ..., -0.120255  ,\n",
       "        -0.04140103, -0.12002549],\n",
       "       [-0.11866637, -0.03359722, -0.07180048, ..., -0.08677128,\n",
       "        -0.03509854, -0.09459485],\n",
       "       [-0.17677336, -0.05660182, -0.08019869, ..., -0.09150635,\n",
       "        -0.03635253, -0.09019293]])"
      ]
     },
     "execution_count": 53,
     "metadata": {},
     "output_type": "execute_result"
    }
   ],
   "source": [
    "#Criação de um novo dataset com o pipline numérico\n",
    "orders_num_tr = num_pipeline.fit_transform(df_orders_float64)\n",
    "orders_num_tr"
   ]
  },
  {
   "cell_type": "code",
   "execution_count": 54,
   "metadata": {
    "colab": {
     "base_uri": "https://localhost:8080/"
    },
    "id": "Rs3d1B-wY2oz",
    "outputId": "5faf074c-429f-4016-e0f1-0c83c8e0ac14"
   },
   "outputs": [
    {
     "data": {
      "text/plain": [
       "(53299, 7)"
      ]
     },
     "execution_count": 54,
     "metadata": {},
     "output_type": "execute_result"
    }
   ],
   "source": [
    "#Apresentação do Shape da transformação após o pipeline\n",
    "orders_num_tr.shape"
   ]
  },
  {
   "cell_type": "markdown",
   "metadata": {
    "id": "JPIbqzVNHE4p"
   },
   "source": [
    "### Pipeline Categório + Full Pipeline"
   ]
  },
  {
   "cell_type": "code",
   "execution_count": 55,
   "metadata": {
    "id": "D24yqg9wZSQX"
   },
   "outputs": [],
   "source": [
    "#Import do column transform\n",
    "from sklearn.compose import ColumnTransformer"
   ]
  },
  {
   "cell_type": "code",
   "execution_count": 56,
   "metadata": {
    "id": "V42BlUI5Y6v3"
   },
   "outputs": [],
   "source": [
    "#Seleção das variáveis numéricas, categóricas numéricas e categóricas.\n",
    "num_attr = list(df_orders_float64.columns)\n",
    "cat_num_attr = list(df_orders_treatment_cat_num.columns)\n",
    "cat_attr = list(df_orders_treatment_cat.columns)"
   ]
  },
  {
   "cell_type": "code",
   "execution_count": 57,
   "metadata": {
    "id": "A1ShBayxD5SH"
   },
   "outputs": [],
   "source": [
    "#Criação do Full Pipeline\n",
    "full_pipeline = ColumnTransformer([\n",
    "    (\"num\", num_pipeline, num_attr),\n",
    "    (\"cat_num\", OrdinalEncoder(handle_unknown='use_encoded_value', unknown_value=-1), cat_num_attr),\n",
    "    (\"cat\", OneHotEncoder(handle_unknown='ignore'), cat_attr)\n",
    "])\n",
    "#full_pipeline"
   ]
  },
  {
   "cell_type": "code",
   "execution_count": 58,
   "metadata": {
    "colab": {
     "base_uri": "https://localhost:8080/"
    },
    "id": "09-tdMHYD6zg",
    "outputId": "f8e4dc99-29c6-4fb6-9eee-e671ab7b5442"
   },
   "outputs": [
    {
     "data": {
      "text/plain": [
       "(53299, 16)"
      ]
     },
     "execution_count": 58,
     "metadata": {},
     "output_type": "execute_result"
    }
   ],
   "source": [
    "#Transformação dos dados através do full pipeline\n",
    "df_orders_prepared = full_pipeline.fit_transform(df_orders_treatment)\n",
    "df_orders_prepared.shape"
   ]
  },
  {
   "cell_type": "code",
   "execution_count": 59,
   "metadata": {
    "id": "f1mEYNg3ZlrG"
   },
   "outputs": [],
   "source": [
    "#Apresentação do shape dos dados transformados\n"
   ]
  },
  {
   "cell_type": "markdown",
   "metadata": {
    "id": "FOes0NdI0j7V"
   },
   "source": [
    "## Trienando o modelo"
   ]
  },
  {
   "cell_type": "markdown",
   "metadata": {
    "id": "bpQhTNt4Hv09"
   },
   "source": [
    "### Regressão Linear\n",
    "A Regressão Linear é uma técnica estatística usada para modelar a relação entre uma variável dependente (ou alvo) e uma ou mais variáveis independentes (ou preditoras). O objetivo é ajustar uma linha reta (ou plano, no caso de múltiplas variáveis) que melhor represente essa relação, de forma a prever os valores da variável dependente com base nos valores das variáveis independentes."
   ]
  },
  {
   "cell_type": "markdown",
   "metadata": {
    "id": "e6JgCYyRI7y-"
   },
   "source": [
    "**Regressão Linear Simples:**<br/>\n",
    "Utiliza uma única variável independente para prever o valor da variável dependente. A equação da reta é dada por:\n",
    "\n",
    "$$\n",
    "y = \\beta_0 + \\beta_1 x + \\epsilon\n",
    "$$\n",
    "\n",
    "Onde:\n",
    "- $( y  )$ é a variável dependente (o que você quer prever),\n",
    "- \\( $\\beta_0 $ ) é o intercepto (onde a linha cruza o eixo y),\n",
    "- \\( $\\beta_1 $) é o coeficiente angular (influência de \\( x \\) sobre \\( y \\)),\n",
    "- \\( x \\) é a variável independente (o que você usa para prever),\n",
    "- \\( $\\epsilon \\$ ) é o erro ou termo de resíduo.\n",
    "\n",
    "**Regressão Linear Múltipla:** <br/>\n",
    "Utiliza duas ou mais variáveis independentes para prever o valor da variável dependente. A equação se expande para:\n",
    "\n",
    "$$\n",
    "y = \\beta_0 + \\beta_1 x_1 + \\beta_2 x_2 + \\dots + \\beta_n x_n + \\epsilon\n",
    "$$\n",
    "\n"
   ]
  },
  {
   "cell_type": "markdown",
   "metadata": {
    "id": "phuWzA_dL7DW"
   },
   "source": [
    "<img src=\"https://analisemacro.com.br/wp-content/uploads/2023/08/p3.png\">"
   ]
  },
  {
   "cell_type": "code",
   "execution_count": 96,
   "metadata": {
    "id": "SNu7SixiZ-X_"
   },
   "outputs": [
    {
     "data": {
      "text/html": [
       "<style>#sk-container-id-2 {\n",
       "  /* Definition of color scheme common for light and dark mode */\n",
       "  --sklearn-color-text: black;\n",
       "  --sklearn-color-line: gray;\n",
       "  /* Definition of color scheme for unfitted estimators */\n",
       "  --sklearn-color-unfitted-level-0: #fff5e6;\n",
       "  --sklearn-color-unfitted-level-1: #f6e4d2;\n",
       "  --sklearn-color-unfitted-level-2: #ffe0b3;\n",
       "  --sklearn-color-unfitted-level-3: chocolate;\n",
       "  /* Definition of color scheme for fitted estimators */\n",
       "  --sklearn-color-fitted-level-0: #f0f8ff;\n",
       "  --sklearn-color-fitted-level-1: #d4ebff;\n",
       "  --sklearn-color-fitted-level-2: #b3dbfd;\n",
       "  --sklearn-color-fitted-level-3: cornflowerblue;\n",
       "\n",
       "  /* Specific color for light theme */\n",
       "  --sklearn-color-text-on-default-background: var(--sg-text-color, var(--theme-code-foreground, var(--jp-content-font-color1, black)));\n",
       "  --sklearn-color-background: var(--sg-background-color, var(--theme-background, var(--jp-layout-color0, white)));\n",
       "  --sklearn-color-border-box: var(--sg-text-color, var(--theme-code-foreground, var(--jp-content-font-color1, black)));\n",
       "  --sklearn-color-icon: #696969;\n",
       "\n",
       "  @media (prefers-color-scheme: dark) {\n",
       "    /* Redefinition of color scheme for dark theme */\n",
       "    --sklearn-color-text-on-default-background: var(--sg-text-color, var(--theme-code-foreground, var(--jp-content-font-color1, white)));\n",
       "    --sklearn-color-background: var(--sg-background-color, var(--theme-background, var(--jp-layout-color0, #111)));\n",
       "    --sklearn-color-border-box: var(--sg-text-color, var(--theme-code-foreground, var(--jp-content-font-color1, white)));\n",
       "    --sklearn-color-icon: #878787;\n",
       "  }\n",
       "}\n",
       "\n",
       "#sk-container-id-2 {\n",
       "  color: var(--sklearn-color-text);\n",
       "}\n",
       "\n",
       "#sk-container-id-2 pre {\n",
       "  padding: 0;\n",
       "}\n",
       "\n",
       "#sk-container-id-2 input.sk-hidden--visually {\n",
       "  border: 0;\n",
       "  clip: rect(1px 1px 1px 1px);\n",
       "  clip: rect(1px, 1px, 1px, 1px);\n",
       "  height: 1px;\n",
       "  margin: -1px;\n",
       "  overflow: hidden;\n",
       "  padding: 0;\n",
       "  position: absolute;\n",
       "  width: 1px;\n",
       "}\n",
       "\n",
       "#sk-container-id-2 div.sk-dashed-wrapped {\n",
       "  border: 1px dashed var(--sklearn-color-line);\n",
       "  margin: 0 0.4em 0.5em 0.4em;\n",
       "  box-sizing: border-box;\n",
       "  padding-bottom: 0.4em;\n",
       "  background-color: var(--sklearn-color-background);\n",
       "}\n",
       "\n",
       "#sk-container-id-2 div.sk-container {\n",
       "  /* jupyter's `normalize.less` sets `[hidden] { display: none; }`\n",
       "     but bootstrap.min.css set `[hidden] { display: none !important; }`\n",
       "     so we also need the `!important` here to be able to override the\n",
       "     default hidden behavior on the sphinx rendered scikit-learn.org.\n",
       "     See: https://github.com/scikit-learn/scikit-learn/issues/21755 */\n",
       "  display: inline-block !important;\n",
       "  position: relative;\n",
       "}\n",
       "\n",
       "#sk-container-id-2 div.sk-text-repr-fallback {\n",
       "  display: none;\n",
       "}\n",
       "\n",
       "div.sk-parallel-item,\n",
       "div.sk-serial,\n",
       "div.sk-item {\n",
       "  /* draw centered vertical line to link estimators */\n",
       "  background-image: linear-gradient(var(--sklearn-color-text-on-default-background), var(--sklearn-color-text-on-default-background));\n",
       "  background-size: 2px 100%;\n",
       "  background-repeat: no-repeat;\n",
       "  background-position: center center;\n",
       "}\n",
       "\n",
       "/* Parallel-specific style estimator block */\n",
       "\n",
       "#sk-container-id-2 div.sk-parallel-item::after {\n",
       "  content: \"\";\n",
       "  width: 100%;\n",
       "  border-bottom: 2px solid var(--sklearn-color-text-on-default-background);\n",
       "  flex-grow: 1;\n",
       "}\n",
       "\n",
       "#sk-container-id-2 div.sk-parallel {\n",
       "  display: flex;\n",
       "  align-items: stretch;\n",
       "  justify-content: center;\n",
       "  background-color: var(--sklearn-color-background);\n",
       "  position: relative;\n",
       "}\n",
       "\n",
       "#sk-container-id-2 div.sk-parallel-item {\n",
       "  display: flex;\n",
       "  flex-direction: column;\n",
       "}\n",
       "\n",
       "#sk-container-id-2 div.sk-parallel-item:first-child::after {\n",
       "  align-self: flex-end;\n",
       "  width: 50%;\n",
       "}\n",
       "\n",
       "#sk-container-id-2 div.sk-parallel-item:last-child::after {\n",
       "  align-self: flex-start;\n",
       "  width: 50%;\n",
       "}\n",
       "\n",
       "#sk-container-id-2 div.sk-parallel-item:only-child::after {\n",
       "  width: 0;\n",
       "}\n",
       "\n",
       "/* Serial-specific style estimator block */\n",
       "\n",
       "#sk-container-id-2 div.sk-serial {\n",
       "  display: flex;\n",
       "  flex-direction: column;\n",
       "  align-items: center;\n",
       "  background-color: var(--sklearn-color-background);\n",
       "  padding-right: 1em;\n",
       "  padding-left: 1em;\n",
       "}\n",
       "\n",
       "\n",
       "/* Toggleable style: style used for estimator/Pipeline/ColumnTransformer box that is\n",
       "clickable and can be expanded/collapsed.\n",
       "- Pipeline and ColumnTransformer use this feature and define the default style\n",
       "- Estimators will overwrite some part of the style using the `sk-estimator` class\n",
       "*/\n",
       "\n",
       "/* Pipeline and ColumnTransformer style (default) */\n",
       "\n",
       "#sk-container-id-2 div.sk-toggleable {\n",
       "  /* Default theme specific background. It is overwritten whether we have a\n",
       "  specific estimator or a Pipeline/ColumnTransformer */\n",
       "  background-color: var(--sklearn-color-background);\n",
       "}\n",
       "\n",
       "/* Toggleable label */\n",
       "#sk-container-id-2 label.sk-toggleable__label {\n",
       "  cursor: pointer;\n",
       "  display: block;\n",
       "  width: 100%;\n",
       "  margin-bottom: 0;\n",
       "  padding: 0.5em;\n",
       "  box-sizing: border-box;\n",
       "  text-align: center;\n",
       "}\n",
       "\n",
       "#sk-container-id-2 label.sk-toggleable__label-arrow:before {\n",
       "  /* Arrow on the left of the label */\n",
       "  content: \"▸\";\n",
       "  float: left;\n",
       "  margin-right: 0.25em;\n",
       "  color: var(--sklearn-color-icon);\n",
       "}\n",
       "\n",
       "#sk-container-id-2 label.sk-toggleable__label-arrow:hover:before {\n",
       "  color: var(--sklearn-color-text);\n",
       "}\n",
       "\n",
       "/* Toggleable content - dropdown */\n",
       "\n",
       "#sk-container-id-2 div.sk-toggleable__content {\n",
       "  max-height: 0;\n",
       "  max-width: 0;\n",
       "  overflow: hidden;\n",
       "  text-align: left;\n",
       "  /* unfitted */\n",
       "  background-color: var(--sklearn-color-unfitted-level-0);\n",
       "}\n",
       "\n",
       "#sk-container-id-2 div.sk-toggleable__content.fitted {\n",
       "  /* fitted */\n",
       "  background-color: var(--sklearn-color-fitted-level-0);\n",
       "}\n",
       "\n",
       "#sk-container-id-2 div.sk-toggleable__content pre {\n",
       "  margin: 0.2em;\n",
       "  border-radius: 0.25em;\n",
       "  color: var(--sklearn-color-text);\n",
       "  /* unfitted */\n",
       "  background-color: var(--sklearn-color-unfitted-level-0);\n",
       "}\n",
       "\n",
       "#sk-container-id-2 div.sk-toggleable__content.fitted pre {\n",
       "  /* unfitted */\n",
       "  background-color: var(--sklearn-color-fitted-level-0);\n",
       "}\n",
       "\n",
       "#sk-container-id-2 input.sk-toggleable__control:checked~div.sk-toggleable__content {\n",
       "  /* Expand drop-down */\n",
       "  max-height: 200px;\n",
       "  max-width: 100%;\n",
       "  overflow: auto;\n",
       "}\n",
       "\n",
       "#sk-container-id-2 input.sk-toggleable__control:checked~label.sk-toggleable__label-arrow:before {\n",
       "  content: \"▾\";\n",
       "}\n",
       "\n",
       "/* Pipeline/ColumnTransformer-specific style */\n",
       "\n",
       "#sk-container-id-2 div.sk-label input.sk-toggleable__control:checked~label.sk-toggleable__label {\n",
       "  color: var(--sklearn-color-text);\n",
       "  background-color: var(--sklearn-color-unfitted-level-2);\n",
       "}\n",
       "\n",
       "#sk-container-id-2 div.sk-label.fitted input.sk-toggleable__control:checked~label.sk-toggleable__label {\n",
       "  background-color: var(--sklearn-color-fitted-level-2);\n",
       "}\n",
       "\n",
       "/* Estimator-specific style */\n",
       "\n",
       "/* Colorize estimator box */\n",
       "#sk-container-id-2 div.sk-estimator input.sk-toggleable__control:checked~label.sk-toggleable__label {\n",
       "  /* unfitted */\n",
       "  background-color: var(--sklearn-color-unfitted-level-2);\n",
       "}\n",
       "\n",
       "#sk-container-id-2 div.sk-estimator.fitted input.sk-toggleable__control:checked~label.sk-toggleable__label {\n",
       "  /* fitted */\n",
       "  background-color: var(--sklearn-color-fitted-level-2);\n",
       "}\n",
       "\n",
       "#sk-container-id-2 div.sk-label label.sk-toggleable__label,\n",
       "#sk-container-id-2 div.sk-label label {\n",
       "  /* The background is the default theme color */\n",
       "  color: var(--sklearn-color-text-on-default-background);\n",
       "}\n",
       "\n",
       "/* On hover, darken the color of the background */\n",
       "#sk-container-id-2 div.sk-label:hover label.sk-toggleable__label {\n",
       "  color: var(--sklearn-color-text);\n",
       "  background-color: var(--sklearn-color-unfitted-level-2);\n",
       "}\n",
       "\n",
       "/* Label box, darken color on hover, fitted */\n",
       "#sk-container-id-2 div.sk-label.fitted:hover label.sk-toggleable__label.fitted {\n",
       "  color: var(--sklearn-color-text);\n",
       "  background-color: var(--sklearn-color-fitted-level-2);\n",
       "}\n",
       "\n",
       "/* Estimator label */\n",
       "\n",
       "#sk-container-id-2 div.sk-label label {\n",
       "  font-family: monospace;\n",
       "  font-weight: bold;\n",
       "  display: inline-block;\n",
       "  line-height: 1.2em;\n",
       "}\n",
       "\n",
       "#sk-container-id-2 div.sk-label-container {\n",
       "  text-align: center;\n",
       "}\n",
       "\n",
       "/* Estimator-specific */\n",
       "#sk-container-id-2 div.sk-estimator {\n",
       "  font-family: monospace;\n",
       "  border: 1px dotted var(--sklearn-color-border-box);\n",
       "  border-radius: 0.25em;\n",
       "  box-sizing: border-box;\n",
       "  margin-bottom: 0.5em;\n",
       "  /* unfitted */\n",
       "  background-color: var(--sklearn-color-unfitted-level-0);\n",
       "}\n",
       "\n",
       "#sk-container-id-2 div.sk-estimator.fitted {\n",
       "  /* fitted */\n",
       "  background-color: var(--sklearn-color-fitted-level-0);\n",
       "}\n",
       "\n",
       "/* on hover */\n",
       "#sk-container-id-2 div.sk-estimator:hover {\n",
       "  /* unfitted */\n",
       "  background-color: var(--sklearn-color-unfitted-level-2);\n",
       "}\n",
       "\n",
       "#sk-container-id-2 div.sk-estimator.fitted:hover {\n",
       "  /* fitted */\n",
       "  background-color: var(--sklearn-color-fitted-level-2);\n",
       "}\n",
       "\n",
       "/* Specification for estimator info (e.g. \"i\" and \"?\") */\n",
       "\n",
       "/* Common style for \"i\" and \"?\" */\n",
       "\n",
       ".sk-estimator-doc-link,\n",
       "a:link.sk-estimator-doc-link,\n",
       "a:visited.sk-estimator-doc-link {\n",
       "  float: right;\n",
       "  font-size: smaller;\n",
       "  line-height: 1em;\n",
       "  font-family: monospace;\n",
       "  background-color: var(--sklearn-color-background);\n",
       "  border-radius: 1em;\n",
       "  height: 1em;\n",
       "  width: 1em;\n",
       "  text-decoration: none !important;\n",
       "  margin-left: 1ex;\n",
       "  /* unfitted */\n",
       "  border: var(--sklearn-color-unfitted-level-1) 1pt solid;\n",
       "  color: var(--sklearn-color-unfitted-level-1);\n",
       "}\n",
       "\n",
       ".sk-estimator-doc-link.fitted,\n",
       "a:link.sk-estimator-doc-link.fitted,\n",
       "a:visited.sk-estimator-doc-link.fitted {\n",
       "  /* fitted */\n",
       "  border: var(--sklearn-color-fitted-level-1) 1pt solid;\n",
       "  color: var(--sklearn-color-fitted-level-1);\n",
       "}\n",
       "\n",
       "/* On hover */\n",
       "div.sk-estimator:hover .sk-estimator-doc-link:hover,\n",
       ".sk-estimator-doc-link:hover,\n",
       "div.sk-label-container:hover .sk-estimator-doc-link:hover,\n",
       ".sk-estimator-doc-link:hover {\n",
       "  /* unfitted */\n",
       "  background-color: var(--sklearn-color-unfitted-level-3);\n",
       "  color: var(--sklearn-color-background);\n",
       "  text-decoration: none;\n",
       "}\n",
       "\n",
       "div.sk-estimator.fitted:hover .sk-estimator-doc-link.fitted:hover,\n",
       ".sk-estimator-doc-link.fitted:hover,\n",
       "div.sk-label-container:hover .sk-estimator-doc-link.fitted:hover,\n",
       ".sk-estimator-doc-link.fitted:hover {\n",
       "  /* fitted */\n",
       "  background-color: var(--sklearn-color-fitted-level-3);\n",
       "  color: var(--sklearn-color-background);\n",
       "  text-decoration: none;\n",
       "}\n",
       "\n",
       "/* Span, style for the box shown on hovering the info icon */\n",
       ".sk-estimator-doc-link span {\n",
       "  display: none;\n",
       "  z-index: 9999;\n",
       "  position: relative;\n",
       "  font-weight: normal;\n",
       "  right: .2ex;\n",
       "  padding: .5ex;\n",
       "  margin: .5ex;\n",
       "  width: min-content;\n",
       "  min-width: 20ex;\n",
       "  max-width: 50ex;\n",
       "  color: var(--sklearn-color-text);\n",
       "  box-shadow: 2pt 2pt 4pt #999;\n",
       "  /* unfitted */\n",
       "  background: var(--sklearn-color-unfitted-level-0);\n",
       "  border: .5pt solid var(--sklearn-color-unfitted-level-3);\n",
       "}\n",
       "\n",
       ".sk-estimator-doc-link.fitted span {\n",
       "  /* fitted */\n",
       "  background: var(--sklearn-color-fitted-level-0);\n",
       "  border: var(--sklearn-color-fitted-level-3);\n",
       "}\n",
       "\n",
       ".sk-estimator-doc-link:hover span {\n",
       "  display: block;\n",
       "}\n",
       "\n",
       "/* \"?\"-specific style due to the `<a>` HTML tag */\n",
       "\n",
       "#sk-container-id-2 a.estimator_doc_link {\n",
       "  float: right;\n",
       "  font-size: 1rem;\n",
       "  line-height: 1em;\n",
       "  font-family: monospace;\n",
       "  background-color: var(--sklearn-color-background);\n",
       "  border-radius: 1rem;\n",
       "  height: 1rem;\n",
       "  width: 1rem;\n",
       "  text-decoration: none;\n",
       "  /* unfitted */\n",
       "  color: var(--sklearn-color-unfitted-level-1);\n",
       "  border: var(--sklearn-color-unfitted-level-1) 1pt solid;\n",
       "}\n",
       "\n",
       "#sk-container-id-2 a.estimator_doc_link.fitted {\n",
       "  /* fitted */\n",
       "  border: var(--sklearn-color-fitted-level-1) 1pt solid;\n",
       "  color: var(--sklearn-color-fitted-level-1);\n",
       "}\n",
       "\n",
       "/* On hover */\n",
       "#sk-container-id-2 a.estimator_doc_link:hover {\n",
       "  /* unfitted */\n",
       "  background-color: var(--sklearn-color-unfitted-level-3);\n",
       "  color: var(--sklearn-color-background);\n",
       "  text-decoration: none;\n",
       "}\n",
       "\n",
       "#sk-container-id-2 a.estimator_doc_link.fitted:hover {\n",
       "  /* fitted */\n",
       "  background-color: var(--sklearn-color-fitted-level-3);\n",
       "}\n",
       "</style><div id=\"sk-container-id-2\" class=\"sk-top-container\"><div class=\"sk-text-repr-fallback\"><pre>LinearRegression()</pre><b>In a Jupyter environment, please rerun this cell to show the HTML representation or trust the notebook. <br />On GitHub, the HTML representation is unable to render, please try loading this page with nbviewer.org.</b></div><div class=\"sk-container\" hidden><div class=\"sk-item\"><div class=\"sk-estimator fitted sk-toggleable\"><input class=\"sk-toggleable__control sk-hidden--visually\" id=\"sk-estimator-id-2\" type=\"checkbox\" checked><label for=\"sk-estimator-id-2\" class=\"sk-toggleable__label fitted sk-toggleable__label-arrow fitted\">&nbsp;&nbsp;LinearRegression<a class=\"sk-estimator-doc-link fitted\" rel=\"noreferrer\" target=\"_blank\" href=\"https://scikit-learn.org/1.4/modules/generated/sklearn.linear_model.LinearRegression.html\">?<span>Documentation for LinearRegression</span></a><span class=\"sk-estimator-doc-link fitted\">i<span>Fitted</span></span></label><div class=\"sk-toggleable__content fitted\"><pre>LinearRegression()</pre></div> </div></div></div></div>"
      ],
      "text/plain": [
       "LinearRegression()"
      ]
     },
     "execution_count": 96,
     "metadata": {},
     "output_type": "execute_result"
    }
   ],
   "source": [
    "#import e modelo de regressão linear\n",
    "from sklearn.linear_model import LinearRegression\n",
    "lin_reg = LinearRegression()\n",
    "lin_reg.fit(df_orders_prepared, df_orders_treatment_label)"
   ]
  },
  {
   "cell_type": "code",
   "execution_count": 100,
   "metadata": {
    "id": "pfdQidDJaLx9"
   },
   "outputs": [],
   "source": [
    "#Seleciona os dados e as labels e passa pelo full pipeline\n",
    "\n",
    "dados = df_orders_treatment.iloc[:10]\n",
    "labels = df_orders_treatment_label.iloc[:10]\n",
    "\n",
    "dados_preparados = full_pipeline.transform(dados)"
   ]
  },
  {
   "cell_type": "code",
   "execution_count": 101,
   "metadata": {
    "id": "vUb8w5zzavup"
   },
   "outputs": [
    {
     "data": {
      "text/plain": [
       "array([[ 5.17736622],\n",
       "       [ 8.3175632 ],\n",
       "       [ 4.74488412],\n",
       "       [ 4.25913502],\n",
       "       [ 7.83068825],\n",
       "       [ 6.03190048],\n",
       "       [ 6.64923285],\n",
       "       [-0.9179014 ],\n",
       "       [ 4.49741691],\n",
       "       [ 6.51312757]])"
      ]
     },
     "execution_count": 101,
     "metadata": {},
     "output_type": "execute_result"
    }
   ],
   "source": [
    "#Verifica as predições\n",
    "lin_reg.predict(dados_preparados)"
   ]
  },
  {
   "cell_type": "code",
   "execution_count": 102,
   "metadata": {
    "id": "SaO1-0YmayKw"
   },
   "outputs": [
    {
     "data": {
      "text/plain": [
       "array([[7],\n",
       "       [8],\n",
       "       [1],\n",
       "       [3],\n",
       "       [9],\n",
       "       [1],\n",
       "       [3],\n",
       "       [5],\n",
       "       [3],\n",
       "       [3]], dtype=int64)"
      ]
     },
     "execution_count": 102,
     "metadata": {},
     "output_type": "execute_result"
    }
   ],
   "source": [
    "#Verifica os valores reais\n",
    "labels.values"
   ]
  },
  {
   "cell_type": "markdown",
   "metadata": {
    "id": "1AGDEhKqNQO2"
   },
   "source": [
    "### RMSE (Root Mean Squared Error)\n",
    "\n",
    "O **RMSE (Root Mean Squared Error)** ou **Erro Quadrático Médio da Raiz** é uma métrica usada para avaliar a qualidade de um modelo de regressão, especialmente em Machine Learning. Ele mede a diferença entre os valores preditos por um modelo e os valores reais observados. O RMSE dá uma indicação de quão bem o modelo está prevendo os dados.\n",
    "\n",
    "**Como é calculado o RMSE?** <br/>\n",
    "\n",
    "O RMSE é calculado em três etapas:\n",
    "\n",
    "1. **Calcula-se o erro para cada ponto de dados**: A diferença entre o valor observado (real) e o valor previsto pelo modelo.\n",
    "   \n",
    "   $$ \\text{Erro} = y_{\\text{real}} - y_{\\text{previsto}} $$\n",
    "\n",
    "2. **Eleva-se o erro ao quadrado**: Isso é feito para garantir que os erros negativos não cancelem os positivos, e também para dar maior peso a erros maiores.\n",
    "$$ \\text{Erro Quadrático} = (y_{\\text{real}} - y_{\\text{previsto}})^2 $$\n",
    "\n",
    "3. **Calcula-se a média dos erros quadráticos**: Soma-se todos os erros quadráticos e divide-se pelo número total de amostras.\n",
    "\n",
    "   $$ \\text{MSE} = \\frac{1}{n} \\sum_{i=1}^{n} (y_{\\text{real}}^{(i)} - y_{\\text{previsto}}^{(i)})^2 $$\n",
    "\n",
    "4. **Tira-se a raiz quadrada** da média dos erros quadráticos:\n",
    "\n",
    "   $$\\text{RMSE} = \\sqrt{\\frac{1}{n} \\sum_{i=1}^{n} (y_{\\text{real}}^{(i)} - y_{\\text{previsto}}^{(i)})^2}$$\n",
    "\n",
    "**Interpretação do RMSE:**\n",
    "- **RMSE = 0**: Indica que o modelo fez previsões perfeitas, ou seja, não houve erro entre os valores previstos e os reais.\n",
    "- **Valores maiores de RMSE**: Sugerem que o modelo tem maior erro de previsão. Quanto maior o RMSE, pior o modelo se ajusta aos dados.\n",
    "\n",
    "**Vantagens do RMSE:**\n",
    "- **Penaliza erros grandes**: Como o erro é elevado ao quadrado, os erros maiores têm um impacto mais significativo na métrica, o que é útil para identificar modelos que cometem grandes erros.\n",
    "\n",
    "**Limitação:**\n",
    "- **Sensível a outliers**: Como o erro é elevado ao quadrado, o RMSE é particularmente sensível a outliers (valores muito distantes dos demais), o que pode distorcer a avaliação do modelo.\n",
    "\n",
    "**Exemplo:**\n",
    "Se um modelo de regressão está prevendo o preço de casas, o RMSE pode ser usado para avaliar o quão próxima a previsão de preço está em relação ao preço real das casas. Se o RMSE for baixo, significa que as previsões estão próximas dos valores reais; se for alto, indica que as previsões estão dispersas dos valores reais.\n",
    "<br/><br/>\n",
    "**Comparação com outras métricas:**\n",
    "- O RMSE pode ser comparado com o **MAE (Mean Absolute Error)**, que é outra métrica comum. A diferença principal é que o RMSE penaliza mais fortemente os erros grandes, enquanto o MAE trata todos os erros de forma linear.\n"
   ]
  },
  {
   "cell_type": "code",
   "execution_count": 103,
   "metadata": {
    "id": "4ex3F-whHTV5"
   },
   "outputs": [
    {
     "data": {
      "text/plain": [
       "3.2960963400362298"
      ]
     },
     "execution_count": 103,
     "metadata": {},
     "output_type": "execute_result"
    }
   ],
   "source": [
    "#Import da métrica erro quadrado médio\n",
    "from sklearn.metrics import mean_squared_error\n",
    "\n",
    "dados_predictions = lin_reg.predict(dados_preparados)\n",
    "lin_mse = mean_squared_error(labels, dados_predictions)\n",
    "lin_rmse = np.sqrt(lin_mse)\n",
    "lin_rmse"
   ]
  },
  {
   "cell_type": "markdown",
   "metadata": {
    "id": "R8IyoCCYPCC9"
   },
   "source": [
    "### MAE (Mean Absolute Error)\n",
    "\n",
    "O **MAE (Mean Absolute Error)** ou **Erro Médio Absoluto** é uma métrica de avaliação usada em modelos de regressão. Ele mede a magnitude média dos erros entre os valores previstos pelo modelo e os valores reais, sem considerar a direção do erro (se o valor previsto foi maior ou menor que o valor real).\n",
    "\n",
    "## Fórmula do MAE:\n",
    "\n",
    "A fórmula para calcular o MAE é:\n",
    "\n",
    "$$\n",
    "MAE = \\frac{1}{n} \\sum_{i=1}^{n} |y_{\\text{real}}^{(i)} - y_{\\text{previsto}}^{(i)}|\n",
    "$$\n",
    "\n",
    "**Como o MAE funciona:**\n",
    "- O MAE simplesmente soma a magnitude de todos os erros (diferença entre previsto e real) e divide pelo número total de pontos de dados.\n",
    "- Como utiliza o valor absoluto, o MAE não se preocupa se o modelo está subestimando ou superestimando as previsões, apenas com a magnitude média do erro.\n",
    "\n",
    "**Interpretação do MAE:**\n",
    "- **MAE = 0**: Significa que o modelo fez previsões perfeitas, ou seja, não há diferença entre os valores reais e os previstos.\n",
    "- **Valores maiores de MAE**: Indicam que as previsões do modelo estão, em média, mais distantes dos valores reais.\n",
    "\n",
    "**Vantagens do MAE:**\n",
    "- **Fácil de interpretar**: O MAE representa o erro médio em unidades da variável prevista, facilitando a compreensão do quão distantes estão as previsões em relação aos valores reais.\n",
    "- **Robustez**: O MAE é menos sensível a outliers (valores extremos) comparado ao RMSE, já que não eleva os erros ao quadrado.\n",
    "\n",
    "**Limitações do MAE:**\n",
    "- **Não penaliza grandes erros com intensidade**: Como não eleva os erros ao quadrado (diferente do RMSE), o MAE trata todos os erros de forma igual. Portanto, grandes erros não são penalizados de forma mais acentuada, o que pode ser uma desvantagem em alguns contextos.\n",
    "\n",
    "**Exemplo de uso do MAE:**\n",
    "Se você estiver prevendo o preço de casas, o MAE pode indicar o erro médio em dólares entre as previsões do modelo e os preços reais. Por exemplo, um **MAE de 5.000 dólares** significa que, em média, o modelo erra em 5.000 dólares ao prever o preço de uma casa.\n",
    "\n",
    "**Comparação com RMSE:**\n",
    "- **MAE** trata todos os erros de forma linear, sem dar mais peso aos erros maiores.\n",
    "- **RMSE** penaliza mais fortemente os grandes erros porque eleva os erros ao quadrado antes de calcular a média.\n",
    "\n",
    "Ambas as métricas são úteis, e a escolha entre uma e outra depende do tipo de análise que você deseja fazer. O **MAE** é mais simples e intuitivo, enquanto o **RMSE** é mais sensível a grandes erros.\n"
   ]
  },
  {
   "cell_type": "code",
   "execution_count": 104,
   "metadata": {
    "id": "pg4O7ryvO1uv"
   },
   "outputs": [
    {
     "data": {
      "text/plain": [
       "2.7923107075880105"
      ]
     },
     "execution_count": 104,
     "metadata": {},
     "output_type": "execute_result"
    }
   ],
   "source": [
    "#Import da métrica MAE\n",
    "from sklearn.metrics import mean_absolute_error\n",
    "# Gera as previsões\n",
    "dados_predictions = lin_reg.predict(dados_preparados)\n",
    "# Calcula o MAE\n",
    "lin_mae = mean_absolute_error(labels, dados_predictions)\n",
    "lin_mae\n"
   ]
  },
  {
   "cell_type": "code",
   "execution_count": 105,
   "metadata": {
    "id": "Atku55XJHg_Q"
   },
   "outputs": [
    {
     "data": {
      "text/html": [
       "<div>\n",
       "<style scoped>\n",
       "    .dataframe tbody tr th:only-of-type {\n",
       "        vertical-align: middle;\n",
       "    }\n",
       "\n",
       "    .dataframe tbody tr th {\n",
       "        vertical-align: top;\n",
       "    }\n",
       "\n",
       "    .dataframe thead th {\n",
       "        text-align: right;\n",
       "    }\n",
       "</style>\n",
       "<table border=\"1\" class=\"dataframe\">\n",
       "  <thead>\n",
       "    <tr style=\"text-align: right;\">\n",
       "      <th></th>\n",
       "      <th>demanda</th>\n",
       "    </tr>\n",
       "  </thead>\n",
       "  <tbody>\n",
       "    <tr>\n",
       "      <th>count</th>\n",
       "      <td>10.000000</td>\n",
       "    </tr>\n",
       "    <tr>\n",
       "      <th>mean</th>\n",
       "      <td>4.300000</td>\n",
       "    </tr>\n",
       "    <tr>\n",
       "      <th>std</th>\n",
       "      <td>2.830391</td>\n",
       "    </tr>\n",
       "    <tr>\n",
       "      <th>min</th>\n",
       "      <td>1.000000</td>\n",
       "    </tr>\n",
       "    <tr>\n",
       "      <th>25%</th>\n",
       "      <td>3.000000</td>\n",
       "    </tr>\n",
       "    <tr>\n",
       "      <th>50%</th>\n",
       "      <td>3.000000</td>\n",
       "    </tr>\n",
       "    <tr>\n",
       "      <th>75%</th>\n",
       "      <td>6.500000</td>\n",
       "    </tr>\n",
       "    <tr>\n",
       "      <th>max</th>\n",
       "      <td>9.000000</td>\n",
       "    </tr>\n",
       "  </tbody>\n",
       "</table>\n",
       "</div>"
      ],
      "text/plain": [
       "         demanda\n",
       "count  10.000000\n",
       "mean    4.300000\n",
       "std     2.830391\n",
       "min     1.000000\n",
       "25%     3.000000\n",
       "50%     3.000000\n",
       "75%     6.500000\n",
       "max     9.000000"
      ]
     },
     "execution_count": 105,
     "metadata": {},
     "output_type": "execute_result"
    }
   ],
   "source": [
    "#Describe dos Labels\n",
    "labels.describe()"
   ]
  },
  {
   "cell_type": "markdown",
   "metadata": {
    "id": "S5b_GyYJm5pE"
   },
   "source": [
    "# Coeficiente de Determinação (R²)\n",
    "\n",
    "O **R²** (Coeficiente de Determinação) é uma métrica estatística utilizada para avaliar a qualidade de ajuste de um modelo de regressão. Ele mede a proporção da variabilidade total da variável dependente que é explicada pelas variáveis independentes do modelo.\n",
    "\n",
    "## Interpretação do R²:\n",
    "- **R² = 1**: O modelo explica 100% da variabilidade dos dados, ou seja, ajuste perfeito.\n",
    "- **R² = 0**: O modelo não explica nenhuma variabilidade dos dados. Nesse caso, a média dos dados seria um preditor tão bom quanto o modelo.\n",
    "- **R² < 0**: O modelo pode ser pior do que simplesmente usar a média dos dados como predição.\n",
    "\n",
    "## Fórmula do R²:\n",
    "\n",
    "$$\n",
    "R² = 1 - \\frac{\\text{SSR}}{\\text{SST}}\n",
    "$$\n",
    "\n",
    "Onde:\n",
    "- **SSR (Soma dos Quadrados dos Resíduos)**: Representa a soma das diferenças quadráticas entre os valores observados e os preditos pelo modelo.\n",
    "- **SST (Soma Total dos Quadrados)**: Representa a soma das diferenças quadráticas entre os valores observados e a média dos valores observados.\n",
    "\n",
    "Se a **SSR** for pequena, significa que o modelo faz boas previsões, e o valor de **R²** será próximo de 1.\n",
    "\n"
   ]
  },
  {
   "cell_type": "code",
   "execution_count": 110,
   "metadata": {
    "id": "pLhbVLtjm88_"
   },
   "outputs": [],
   "source": [
    "#import do R²\n",
    "from sklearn.metrics import r2_score"
   ]
  },
  {
   "cell_type": "code",
   "execution_count": 111,
   "metadata": {
    "id": "9zbRNrhfm_cS"
   },
   "outputs": [
    {
     "data": {
      "text/plain": [
       "-0.5068309407489917"
      ]
     },
     "execution_count": 111,
     "metadata": {},
     "output_type": "execute_result"
    }
   ],
   "source": [
    "#Nova variáveil com o R²\n",
    "r_square = r2_score(labels, dados_predictions)\n",
    "# Exibindo o resultado\n",
    "r_square\n"
   ]
  },
  {
   "cell_type": "markdown",
   "metadata": {
    "id": "ItmaIH4dnOhv"
   },
   "source": [
    "### **Underfitting**\n",
    "Acontece quando o modelo é muito simples e não consegue capturar a complexidade dos dados de treinamento. Como resultado, ele apresenta um desempenho ruim tanto nos dados de treinamento quanto nos dados de teste (ou novos dados), pois não consegue aprender adequadamente os padrões.\n",
    "\n",
    "**Causas principais:**\n",
    "\n",
    "- Modelo muito simples (ex.: uma linha reta para dados que requerem uma curva mais complexa).\n",
    "- Poucos parâmetros ou features.\n",
    "- Pouco tempo de treinamento.\n",
    "- Alto erro nos dados de treinamento.\n",
    "- Baixo desempenho em dados novos (de teste ou validação).\n",
    "\n",
    "**Solução:**\n",
    "\n",
    "- Aumentar a complexidade do modelo.\n",
    "- Adicionar mais features relevantes.\n",
    "- Reduzir a regularização, se estiver em uso.\n"
   ]
  },
  {
   "cell_type": "markdown",
   "metadata": {
    "id": "wjiuQnZTK5gs"
   },
   "source": [
    "## Árvore de Decisão (DecisionTree)\n",
    "\n",
    "A Árvore de Decisão é um algoritmo de aprendizado supervisionado usado tanto para problemas de classificação quanto de regressão. Ela funciona como um conjunto de regras de decisão, onde os dados são divididos em subgrupos com base em características específicas. É chamada de \"árvore\" porque a estrutura se assemelha a um diagrama em forma de árvore, com um nó raiz no topo, nós internos que representam testes em atributos/características, e folhas que representam as decisões finais ou previsões.\n",
    "\n",
    "Estrutura da Árvore de Decisão:\n",
    "- **Nó raiz (Root Node):** É o nó inicial que contém o conjunto completo de dados e é o ponto de partida para a construção da árvore. Este nó representa a divisão do primeiro atributo.\n",
    "\n",
    "- **Nós internos (Internal Nodes):** Cada nó interno representa um teste em um atributo. Aqui, os dados são divididos com base em uma condição de decisão (por exemplo, \"Salário > 50K\").\n",
    "\n",
    "- **Galhos (Branches):** São os caminhos que conectam os nós. Cada ramo representa o resultado de um teste e direciona o fluxo de dados para os nós filhos.\n",
    "\n",
    "- **Folhas (Leaf Nodes):** Os nós folha representam a classe ou valor final de previsão. No caso de classificação, cada folha terá uma classe; no caso de regressão, terá um valor numérico."
   ]
  },
  {
   "cell_type": "code",
   "execution_count": 116,
   "metadata": {
    "id": "0h9fnStdJp5d"
   },
   "outputs": [],
   "source": [
    "#import da árvore de decisão\n",
    "from sklearn.tree import DecisionTreeRegressor"
   ]
  },
  {
   "cell_type": "code",
   "execution_count": 117,
   "metadata": {
    "id": "qySCrdfuJtzh"
   },
   "outputs": [
    {
     "data": {
      "text/html": [
       "<style>#sk-container-id-3 {\n",
       "  /* Definition of color scheme common for light and dark mode */\n",
       "  --sklearn-color-text: black;\n",
       "  --sklearn-color-line: gray;\n",
       "  /* Definition of color scheme for unfitted estimators */\n",
       "  --sklearn-color-unfitted-level-0: #fff5e6;\n",
       "  --sklearn-color-unfitted-level-1: #f6e4d2;\n",
       "  --sklearn-color-unfitted-level-2: #ffe0b3;\n",
       "  --sklearn-color-unfitted-level-3: chocolate;\n",
       "  /* Definition of color scheme for fitted estimators */\n",
       "  --sklearn-color-fitted-level-0: #f0f8ff;\n",
       "  --sklearn-color-fitted-level-1: #d4ebff;\n",
       "  --sklearn-color-fitted-level-2: #b3dbfd;\n",
       "  --sklearn-color-fitted-level-3: cornflowerblue;\n",
       "\n",
       "  /* Specific color for light theme */\n",
       "  --sklearn-color-text-on-default-background: var(--sg-text-color, var(--theme-code-foreground, var(--jp-content-font-color1, black)));\n",
       "  --sklearn-color-background: var(--sg-background-color, var(--theme-background, var(--jp-layout-color0, white)));\n",
       "  --sklearn-color-border-box: var(--sg-text-color, var(--theme-code-foreground, var(--jp-content-font-color1, black)));\n",
       "  --sklearn-color-icon: #696969;\n",
       "\n",
       "  @media (prefers-color-scheme: dark) {\n",
       "    /* Redefinition of color scheme for dark theme */\n",
       "    --sklearn-color-text-on-default-background: var(--sg-text-color, var(--theme-code-foreground, var(--jp-content-font-color1, white)));\n",
       "    --sklearn-color-background: var(--sg-background-color, var(--theme-background, var(--jp-layout-color0, #111)));\n",
       "    --sklearn-color-border-box: var(--sg-text-color, var(--theme-code-foreground, var(--jp-content-font-color1, white)));\n",
       "    --sklearn-color-icon: #878787;\n",
       "  }\n",
       "}\n",
       "\n",
       "#sk-container-id-3 {\n",
       "  color: var(--sklearn-color-text);\n",
       "}\n",
       "\n",
       "#sk-container-id-3 pre {\n",
       "  padding: 0;\n",
       "}\n",
       "\n",
       "#sk-container-id-3 input.sk-hidden--visually {\n",
       "  border: 0;\n",
       "  clip: rect(1px 1px 1px 1px);\n",
       "  clip: rect(1px, 1px, 1px, 1px);\n",
       "  height: 1px;\n",
       "  margin: -1px;\n",
       "  overflow: hidden;\n",
       "  padding: 0;\n",
       "  position: absolute;\n",
       "  width: 1px;\n",
       "}\n",
       "\n",
       "#sk-container-id-3 div.sk-dashed-wrapped {\n",
       "  border: 1px dashed var(--sklearn-color-line);\n",
       "  margin: 0 0.4em 0.5em 0.4em;\n",
       "  box-sizing: border-box;\n",
       "  padding-bottom: 0.4em;\n",
       "  background-color: var(--sklearn-color-background);\n",
       "}\n",
       "\n",
       "#sk-container-id-3 div.sk-container {\n",
       "  /* jupyter's `normalize.less` sets `[hidden] { display: none; }`\n",
       "     but bootstrap.min.css set `[hidden] { display: none !important; }`\n",
       "     so we also need the `!important` here to be able to override the\n",
       "     default hidden behavior on the sphinx rendered scikit-learn.org.\n",
       "     See: https://github.com/scikit-learn/scikit-learn/issues/21755 */\n",
       "  display: inline-block !important;\n",
       "  position: relative;\n",
       "}\n",
       "\n",
       "#sk-container-id-3 div.sk-text-repr-fallback {\n",
       "  display: none;\n",
       "}\n",
       "\n",
       "div.sk-parallel-item,\n",
       "div.sk-serial,\n",
       "div.sk-item {\n",
       "  /* draw centered vertical line to link estimators */\n",
       "  background-image: linear-gradient(var(--sklearn-color-text-on-default-background), var(--sklearn-color-text-on-default-background));\n",
       "  background-size: 2px 100%;\n",
       "  background-repeat: no-repeat;\n",
       "  background-position: center center;\n",
       "}\n",
       "\n",
       "/* Parallel-specific style estimator block */\n",
       "\n",
       "#sk-container-id-3 div.sk-parallel-item::after {\n",
       "  content: \"\";\n",
       "  width: 100%;\n",
       "  border-bottom: 2px solid var(--sklearn-color-text-on-default-background);\n",
       "  flex-grow: 1;\n",
       "}\n",
       "\n",
       "#sk-container-id-3 div.sk-parallel {\n",
       "  display: flex;\n",
       "  align-items: stretch;\n",
       "  justify-content: center;\n",
       "  background-color: var(--sklearn-color-background);\n",
       "  position: relative;\n",
       "}\n",
       "\n",
       "#sk-container-id-3 div.sk-parallel-item {\n",
       "  display: flex;\n",
       "  flex-direction: column;\n",
       "}\n",
       "\n",
       "#sk-container-id-3 div.sk-parallel-item:first-child::after {\n",
       "  align-self: flex-end;\n",
       "  width: 50%;\n",
       "}\n",
       "\n",
       "#sk-container-id-3 div.sk-parallel-item:last-child::after {\n",
       "  align-self: flex-start;\n",
       "  width: 50%;\n",
       "}\n",
       "\n",
       "#sk-container-id-3 div.sk-parallel-item:only-child::after {\n",
       "  width: 0;\n",
       "}\n",
       "\n",
       "/* Serial-specific style estimator block */\n",
       "\n",
       "#sk-container-id-3 div.sk-serial {\n",
       "  display: flex;\n",
       "  flex-direction: column;\n",
       "  align-items: center;\n",
       "  background-color: var(--sklearn-color-background);\n",
       "  padding-right: 1em;\n",
       "  padding-left: 1em;\n",
       "}\n",
       "\n",
       "\n",
       "/* Toggleable style: style used for estimator/Pipeline/ColumnTransformer box that is\n",
       "clickable and can be expanded/collapsed.\n",
       "- Pipeline and ColumnTransformer use this feature and define the default style\n",
       "- Estimators will overwrite some part of the style using the `sk-estimator` class\n",
       "*/\n",
       "\n",
       "/* Pipeline and ColumnTransformer style (default) */\n",
       "\n",
       "#sk-container-id-3 div.sk-toggleable {\n",
       "  /* Default theme specific background. It is overwritten whether we have a\n",
       "  specific estimator or a Pipeline/ColumnTransformer */\n",
       "  background-color: var(--sklearn-color-background);\n",
       "}\n",
       "\n",
       "/* Toggleable label */\n",
       "#sk-container-id-3 label.sk-toggleable__label {\n",
       "  cursor: pointer;\n",
       "  display: block;\n",
       "  width: 100%;\n",
       "  margin-bottom: 0;\n",
       "  padding: 0.5em;\n",
       "  box-sizing: border-box;\n",
       "  text-align: center;\n",
       "}\n",
       "\n",
       "#sk-container-id-3 label.sk-toggleable__label-arrow:before {\n",
       "  /* Arrow on the left of the label */\n",
       "  content: \"▸\";\n",
       "  float: left;\n",
       "  margin-right: 0.25em;\n",
       "  color: var(--sklearn-color-icon);\n",
       "}\n",
       "\n",
       "#sk-container-id-3 label.sk-toggleable__label-arrow:hover:before {\n",
       "  color: var(--sklearn-color-text);\n",
       "}\n",
       "\n",
       "/* Toggleable content - dropdown */\n",
       "\n",
       "#sk-container-id-3 div.sk-toggleable__content {\n",
       "  max-height: 0;\n",
       "  max-width: 0;\n",
       "  overflow: hidden;\n",
       "  text-align: left;\n",
       "  /* unfitted */\n",
       "  background-color: var(--sklearn-color-unfitted-level-0);\n",
       "}\n",
       "\n",
       "#sk-container-id-3 div.sk-toggleable__content.fitted {\n",
       "  /* fitted */\n",
       "  background-color: var(--sklearn-color-fitted-level-0);\n",
       "}\n",
       "\n",
       "#sk-container-id-3 div.sk-toggleable__content pre {\n",
       "  margin: 0.2em;\n",
       "  border-radius: 0.25em;\n",
       "  color: var(--sklearn-color-text);\n",
       "  /* unfitted */\n",
       "  background-color: var(--sklearn-color-unfitted-level-0);\n",
       "}\n",
       "\n",
       "#sk-container-id-3 div.sk-toggleable__content.fitted pre {\n",
       "  /* unfitted */\n",
       "  background-color: var(--sklearn-color-fitted-level-0);\n",
       "}\n",
       "\n",
       "#sk-container-id-3 input.sk-toggleable__control:checked~div.sk-toggleable__content {\n",
       "  /* Expand drop-down */\n",
       "  max-height: 200px;\n",
       "  max-width: 100%;\n",
       "  overflow: auto;\n",
       "}\n",
       "\n",
       "#sk-container-id-3 input.sk-toggleable__control:checked~label.sk-toggleable__label-arrow:before {\n",
       "  content: \"▾\";\n",
       "}\n",
       "\n",
       "/* Pipeline/ColumnTransformer-specific style */\n",
       "\n",
       "#sk-container-id-3 div.sk-label input.sk-toggleable__control:checked~label.sk-toggleable__label {\n",
       "  color: var(--sklearn-color-text);\n",
       "  background-color: var(--sklearn-color-unfitted-level-2);\n",
       "}\n",
       "\n",
       "#sk-container-id-3 div.sk-label.fitted input.sk-toggleable__control:checked~label.sk-toggleable__label {\n",
       "  background-color: var(--sklearn-color-fitted-level-2);\n",
       "}\n",
       "\n",
       "/* Estimator-specific style */\n",
       "\n",
       "/* Colorize estimator box */\n",
       "#sk-container-id-3 div.sk-estimator input.sk-toggleable__control:checked~label.sk-toggleable__label {\n",
       "  /* unfitted */\n",
       "  background-color: var(--sklearn-color-unfitted-level-2);\n",
       "}\n",
       "\n",
       "#sk-container-id-3 div.sk-estimator.fitted input.sk-toggleable__control:checked~label.sk-toggleable__label {\n",
       "  /* fitted */\n",
       "  background-color: var(--sklearn-color-fitted-level-2);\n",
       "}\n",
       "\n",
       "#sk-container-id-3 div.sk-label label.sk-toggleable__label,\n",
       "#sk-container-id-3 div.sk-label label {\n",
       "  /* The background is the default theme color */\n",
       "  color: var(--sklearn-color-text-on-default-background);\n",
       "}\n",
       "\n",
       "/* On hover, darken the color of the background */\n",
       "#sk-container-id-3 div.sk-label:hover label.sk-toggleable__label {\n",
       "  color: var(--sklearn-color-text);\n",
       "  background-color: var(--sklearn-color-unfitted-level-2);\n",
       "}\n",
       "\n",
       "/* Label box, darken color on hover, fitted */\n",
       "#sk-container-id-3 div.sk-label.fitted:hover label.sk-toggleable__label.fitted {\n",
       "  color: var(--sklearn-color-text);\n",
       "  background-color: var(--sklearn-color-fitted-level-2);\n",
       "}\n",
       "\n",
       "/* Estimator label */\n",
       "\n",
       "#sk-container-id-3 div.sk-label label {\n",
       "  font-family: monospace;\n",
       "  font-weight: bold;\n",
       "  display: inline-block;\n",
       "  line-height: 1.2em;\n",
       "}\n",
       "\n",
       "#sk-container-id-3 div.sk-label-container {\n",
       "  text-align: center;\n",
       "}\n",
       "\n",
       "/* Estimator-specific */\n",
       "#sk-container-id-3 div.sk-estimator {\n",
       "  font-family: monospace;\n",
       "  border: 1px dotted var(--sklearn-color-border-box);\n",
       "  border-radius: 0.25em;\n",
       "  box-sizing: border-box;\n",
       "  margin-bottom: 0.5em;\n",
       "  /* unfitted */\n",
       "  background-color: var(--sklearn-color-unfitted-level-0);\n",
       "}\n",
       "\n",
       "#sk-container-id-3 div.sk-estimator.fitted {\n",
       "  /* fitted */\n",
       "  background-color: var(--sklearn-color-fitted-level-0);\n",
       "}\n",
       "\n",
       "/* on hover */\n",
       "#sk-container-id-3 div.sk-estimator:hover {\n",
       "  /* unfitted */\n",
       "  background-color: var(--sklearn-color-unfitted-level-2);\n",
       "}\n",
       "\n",
       "#sk-container-id-3 div.sk-estimator.fitted:hover {\n",
       "  /* fitted */\n",
       "  background-color: var(--sklearn-color-fitted-level-2);\n",
       "}\n",
       "\n",
       "/* Specification for estimator info (e.g. \"i\" and \"?\") */\n",
       "\n",
       "/* Common style for \"i\" and \"?\" */\n",
       "\n",
       ".sk-estimator-doc-link,\n",
       "a:link.sk-estimator-doc-link,\n",
       "a:visited.sk-estimator-doc-link {\n",
       "  float: right;\n",
       "  font-size: smaller;\n",
       "  line-height: 1em;\n",
       "  font-family: monospace;\n",
       "  background-color: var(--sklearn-color-background);\n",
       "  border-radius: 1em;\n",
       "  height: 1em;\n",
       "  width: 1em;\n",
       "  text-decoration: none !important;\n",
       "  margin-left: 1ex;\n",
       "  /* unfitted */\n",
       "  border: var(--sklearn-color-unfitted-level-1) 1pt solid;\n",
       "  color: var(--sklearn-color-unfitted-level-1);\n",
       "}\n",
       "\n",
       ".sk-estimator-doc-link.fitted,\n",
       "a:link.sk-estimator-doc-link.fitted,\n",
       "a:visited.sk-estimator-doc-link.fitted {\n",
       "  /* fitted */\n",
       "  border: var(--sklearn-color-fitted-level-1) 1pt solid;\n",
       "  color: var(--sklearn-color-fitted-level-1);\n",
       "}\n",
       "\n",
       "/* On hover */\n",
       "div.sk-estimator:hover .sk-estimator-doc-link:hover,\n",
       ".sk-estimator-doc-link:hover,\n",
       "div.sk-label-container:hover .sk-estimator-doc-link:hover,\n",
       ".sk-estimator-doc-link:hover {\n",
       "  /* unfitted */\n",
       "  background-color: var(--sklearn-color-unfitted-level-3);\n",
       "  color: var(--sklearn-color-background);\n",
       "  text-decoration: none;\n",
       "}\n",
       "\n",
       "div.sk-estimator.fitted:hover .sk-estimator-doc-link.fitted:hover,\n",
       ".sk-estimator-doc-link.fitted:hover,\n",
       "div.sk-label-container:hover .sk-estimator-doc-link.fitted:hover,\n",
       ".sk-estimator-doc-link.fitted:hover {\n",
       "  /* fitted */\n",
       "  background-color: var(--sklearn-color-fitted-level-3);\n",
       "  color: var(--sklearn-color-background);\n",
       "  text-decoration: none;\n",
       "}\n",
       "\n",
       "/* Span, style for the box shown on hovering the info icon */\n",
       ".sk-estimator-doc-link span {\n",
       "  display: none;\n",
       "  z-index: 9999;\n",
       "  position: relative;\n",
       "  font-weight: normal;\n",
       "  right: .2ex;\n",
       "  padding: .5ex;\n",
       "  margin: .5ex;\n",
       "  width: min-content;\n",
       "  min-width: 20ex;\n",
       "  max-width: 50ex;\n",
       "  color: var(--sklearn-color-text);\n",
       "  box-shadow: 2pt 2pt 4pt #999;\n",
       "  /* unfitted */\n",
       "  background: var(--sklearn-color-unfitted-level-0);\n",
       "  border: .5pt solid var(--sklearn-color-unfitted-level-3);\n",
       "}\n",
       "\n",
       ".sk-estimator-doc-link.fitted span {\n",
       "  /* fitted */\n",
       "  background: var(--sklearn-color-fitted-level-0);\n",
       "  border: var(--sklearn-color-fitted-level-3);\n",
       "}\n",
       "\n",
       ".sk-estimator-doc-link:hover span {\n",
       "  display: block;\n",
       "}\n",
       "\n",
       "/* \"?\"-specific style due to the `<a>` HTML tag */\n",
       "\n",
       "#sk-container-id-3 a.estimator_doc_link {\n",
       "  float: right;\n",
       "  font-size: 1rem;\n",
       "  line-height: 1em;\n",
       "  font-family: monospace;\n",
       "  background-color: var(--sklearn-color-background);\n",
       "  border-radius: 1rem;\n",
       "  height: 1rem;\n",
       "  width: 1rem;\n",
       "  text-decoration: none;\n",
       "  /* unfitted */\n",
       "  color: var(--sklearn-color-unfitted-level-1);\n",
       "  border: var(--sklearn-color-unfitted-level-1) 1pt solid;\n",
       "}\n",
       "\n",
       "#sk-container-id-3 a.estimator_doc_link.fitted {\n",
       "  /* fitted */\n",
       "  border: var(--sklearn-color-fitted-level-1) 1pt solid;\n",
       "  color: var(--sklearn-color-fitted-level-1);\n",
       "}\n",
       "\n",
       "/* On hover */\n",
       "#sk-container-id-3 a.estimator_doc_link:hover {\n",
       "  /* unfitted */\n",
       "  background-color: var(--sklearn-color-unfitted-level-3);\n",
       "  color: var(--sklearn-color-background);\n",
       "  text-decoration: none;\n",
       "}\n",
       "\n",
       "#sk-container-id-3 a.estimator_doc_link.fitted:hover {\n",
       "  /* fitted */\n",
       "  background-color: var(--sklearn-color-fitted-level-3);\n",
       "}\n",
       "</style><div id=\"sk-container-id-3\" class=\"sk-top-container\"><div class=\"sk-text-repr-fallback\"><pre>DecisionTreeRegressor(random_state=42)</pre><b>In a Jupyter environment, please rerun this cell to show the HTML representation or trust the notebook. <br />On GitHub, the HTML representation is unable to render, please try loading this page with nbviewer.org.</b></div><div class=\"sk-container\" hidden><div class=\"sk-item\"><div class=\"sk-estimator fitted sk-toggleable\"><input class=\"sk-toggleable__control sk-hidden--visually\" id=\"sk-estimator-id-3\" type=\"checkbox\" checked><label for=\"sk-estimator-id-3\" class=\"sk-toggleable__label fitted sk-toggleable__label-arrow fitted\">&nbsp;&nbsp;DecisionTreeRegressor<a class=\"sk-estimator-doc-link fitted\" rel=\"noreferrer\" target=\"_blank\" href=\"https://scikit-learn.org/1.4/modules/generated/sklearn.tree.DecisionTreeRegressor.html\">?<span>Documentation for DecisionTreeRegressor</span></a><span class=\"sk-estimator-doc-link fitted\">i<span>Fitted</span></span></label><div class=\"sk-toggleable__content fitted\"><pre>DecisionTreeRegressor(random_state=42)</pre></div> </div></div></div></div>"
      ],
      "text/plain": [
       "DecisionTreeRegressor(random_state=42)"
      ]
     },
     "execution_count": 117,
     "metadata": {},
     "output_type": "execute_result"
    }
   ],
   "source": [
    "#Treinamento da Árvore de Decisão\n",
    "tree_reg = DecisionTreeRegressor(random_state=42)\n",
    "tree_reg.fit(df_orders_prepared, df_orders_treatment_label)"
   ]
  },
  {
   "cell_type": "code",
   "execution_count": 120,
   "metadata": {
    "id": "m896xCjYJ4F1"
   },
   "outputs": [
    {
     "data": {
      "text/plain": [
       "0.0"
      ]
     },
     "execution_count": 120,
     "metadata": {},
     "output_type": "execute_result"
    }
   ],
   "source": [
    "#Realiza as previsões e testa a métrica do RMSE\n",
    "dados_predictions = tree_reg.predict(dados_preparados)\n",
    "tree_mse = mean_squared_error(labels, dados_predictions)\n",
    "tree_rmse = np.sqrt(tree_mse)\n",
    "tree_rmse"
   ]
  },
  {
   "cell_type": "code",
   "execution_count": 121,
   "metadata": {
    "id": "ND-c4NuQKJqi"
   },
   "outputs": [
    {
     "data": {
      "text/plain": [
       "array([7., 8., 1., 3., 9., 1., 3., 5., 3., 3.])"
      ]
     },
     "execution_count": 121,
     "metadata": {},
     "output_type": "execute_result"
    }
   ],
   "source": [
    "#Dados Predidos\n",
    "dados_predictions"
   ]
  },
  {
   "cell_type": "code",
   "execution_count": 122,
   "metadata": {
    "id": "aiUuWo8jKP_b"
   },
   "outputs": [
    {
     "data": {
      "text/plain": [
       "array([[7],\n",
       "       [8],\n",
       "       [1],\n",
       "       [3],\n",
       "       [9],\n",
       "       [1],\n",
       "       [3],\n",
       "       [5],\n",
       "       [3],\n",
       "       [3]], dtype=int64)"
      ]
     },
     "execution_count": 122,
     "metadata": {},
     "output_type": "execute_result"
    }
   ],
   "source": [
    "#dados reais\n",
    "labels.values"
   ]
  },
  {
   "cell_type": "code",
   "execution_count": 123,
   "metadata": {
    "id": "Y83KGZognUZI"
   },
   "outputs": [
    {
     "data": {
      "text/plain": [
       "1.0"
      ]
     },
     "execution_count": 123,
     "metadata": {},
     "output_type": "execute_result"
    }
   ],
   "source": [
    "#Nova variáveil com o R²\n",
    "r_squared = r2_score(labels, dados_predictions)\n",
    "# Exibindo o resultado\n",
    "r_squared"
   ]
  },
  {
   "cell_type": "markdown",
   "metadata": {
    "id": "hI6fXWAOnXgT"
   },
   "source": [
    "### Overfitting\n",
    "Acontece quando o modelo é muito complexo e se ajusta muito bem aos dados de treinamento, capturando até mesmo o ruído e as peculiaridades dos dados. Como resultado, o modelo tem um ótimo desempenho nos dados de treinamento, mas um desempenho ruim em dados novos, porque ele \"aprendeu demais\" sobre os dados de treinamento e não consegue generalizar.\n",
    "\n",
    "**Causas principais:**\n",
    "\n",
    "- Modelo muito complexo (ex.: muitas camadas em uma rede neural ou uma árvore de decisão muito profunda).\n",
    "- Muito tempo de treinamento, levando o modelo a memorizar os dados de treinamento.\n",
    "- Pequeno conjunto de dados de treinamento (poucos exemplos).\n",
    "\n",
    "**Sintomas:**\n",
    "\n",
    "- Baixo erro nos dados de treinamento.\n",
    "- Alto erro nos dados de teste ou validação.\n",
    "\n",
    "**Solução:**\n",
    "\n",
    "- Obter mais dados para o treinamento.\n",
    "- Reduzir a complexidade do modelo (ex.: reduzir o número de parâmetros)."
   ]
  },
  {
   "cell_type": "markdown",
   "metadata": {
    "id": "qfArqpjVK2KC"
   },
   "source": [
    "## Árvores Aleatória (Randon Forest)\n",
    "\n",
    "As Árvores Aleatórias (ou Random Forest) são uma extensão do algoritmo de Árvores de Decisão que combinam várias árvores de decisão para melhorar a precisão do modelo e reduzir o risco de overfitting (superajuste). Essa técnica é amplamente utilizada tanto para tarefas de classificação quanto de regressão e é conhecida por ser robusta, precisa e fácil de interpretar.\n",
    "\n",
    "O que é uma Random Forest?\n",
    "Uma Random Forest é composta por um conjunto de árvores de decisão independentes (daí o nome \"floresta\"), onde cada árvore é treinada em uma amostra diferente dos dados e com um subconjunto aleatório dos atributos. As previsões finais são feitas com base no consenso das árvores, o que reduz a variância e melhora a generalização do modelo.\n",
    "\n",
    "- Para classificação, a Random Forest usa a votação majoritária: cada árvore faz uma previsão e a classe mais votada é escolhida como a previsão final.\n",
    "- Para regressão, a Random Forest faz a média das previsões das várias árvores."
   ]
  },
  {
   "cell_type": "code",
   "execution_count": 124,
   "metadata": {
    "id": "OmqOfPqpKXMy"
   },
   "outputs": [],
   "source": [
    "#import do random forest\n",
    "from sklearn.ensemble import RandomForestRegressor"
   ]
  },
  {
   "cell_type": "code",
   "execution_count": 127,
   "metadata": {
    "id": "6yUIGKxAKaNE"
   },
   "outputs": [
    {
     "name": "stderr",
     "output_type": "stream",
     "text": [
      "C:\\Program Files\\Python312\\Lib\\site-packages\\sklearn\\base.py:1474: DataConversionWarning: A column-vector y was passed when a 1d array was expected. Please change the shape of y to (n_samples,), for example using ravel().\n",
      "  return fit_method(estimator, *args, **kwargs)\n"
     ]
    },
    {
     "data": {
      "text/html": [
       "<style>#sk-container-id-4 {\n",
       "  /* Definition of color scheme common for light and dark mode */\n",
       "  --sklearn-color-text: black;\n",
       "  --sklearn-color-line: gray;\n",
       "  /* Definition of color scheme for unfitted estimators */\n",
       "  --sklearn-color-unfitted-level-0: #fff5e6;\n",
       "  --sklearn-color-unfitted-level-1: #f6e4d2;\n",
       "  --sklearn-color-unfitted-level-2: #ffe0b3;\n",
       "  --sklearn-color-unfitted-level-3: chocolate;\n",
       "  /* Definition of color scheme for fitted estimators */\n",
       "  --sklearn-color-fitted-level-0: #f0f8ff;\n",
       "  --sklearn-color-fitted-level-1: #d4ebff;\n",
       "  --sklearn-color-fitted-level-2: #b3dbfd;\n",
       "  --sklearn-color-fitted-level-3: cornflowerblue;\n",
       "\n",
       "  /* Specific color for light theme */\n",
       "  --sklearn-color-text-on-default-background: var(--sg-text-color, var(--theme-code-foreground, var(--jp-content-font-color1, black)));\n",
       "  --sklearn-color-background: var(--sg-background-color, var(--theme-background, var(--jp-layout-color0, white)));\n",
       "  --sklearn-color-border-box: var(--sg-text-color, var(--theme-code-foreground, var(--jp-content-font-color1, black)));\n",
       "  --sklearn-color-icon: #696969;\n",
       "\n",
       "  @media (prefers-color-scheme: dark) {\n",
       "    /* Redefinition of color scheme for dark theme */\n",
       "    --sklearn-color-text-on-default-background: var(--sg-text-color, var(--theme-code-foreground, var(--jp-content-font-color1, white)));\n",
       "    --sklearn-color-background: var(--sg-background-color, var(--theme-background, var(--jp-layout-color0, #111)));\n",
       "    --sklearn-color-border-box: var(--sg-text-color, var(--theme-code-foreground, var(--jp-content-font-color1, white)));\n",
       "    --sklearn-color-icon: #878787;\n",
       "  }\n",
       "}\n",
       "\n",
       "#sk-container-id-4 {\n",
       "  color: var(--sklearn-color-text);\n",
       "}\n",
       "\n",
       "#sk-container-id-4 pre {\n",
       "  padding: 0;\n",
       "}\n",
       "\n",
       "#sk-container-id-4 input.sk-hidden--visually {\n",
       "  border: 0;\n",
       "  clip: rect(1px 1px 1px 1px);\n",
       "  clip: rect(1px, 1px, 1px, 1px);\n",
       "  height: 1px;\n",
       "  margin: -1px;\n",
       "  overflow: hidden;\n",
       "  padding: 0;\n",
       "  position: absolute;\n",
       "  width: 1px;\n",
       "}\n",
       "\n",
       "#sk-container-id-4 div.sk-dashed-wrapped {\n",
       "  border: 1px dashed var(--sklearn-color-line);\n",
       "  margin: 0 0.4em 0.5em 0.4em;\n",
       "  box-sizing: border-box;\n",
       "  padding-bottom: 0.4em;\n",
       "  background-color: var(--sklearn-color-background);\n",
       "}\n",
       "\n",
       "#sk-container-id-4 div.sk-container {\n",
       "  /* jupyter's `normalize.less` sets `[hidden] { display: none; }`\n",
       "     but bootstrap.min.css set `[hidden] { display: none !important; }`\n",
       "     so we also need the `!important` here to be able to override the\n",
       "     default hidden behavior on the sphinx rendered scikit-learn.org.\n",
       "     See: https://github.com/scikit-learn/scikit-learn/issues/21755 */\n",
       "  display: inline-block !important;\n",
       "  position: relative;\n",
       "}\n",
       "\n",
       "#sk-container-id-4 div.sk-text-repr-fallback {\n",
       "  display: none;\n",
       "}\n",
       "\n",
       "div.sk-parallel-item,\n",
       "div.sk-serial,\n",
       "div.sk-item {\n",
       "  /* draw centered vertical line to link estimators */\n",
       "  background-image: linear-gradient(var(--sklearn-color-text-on-default-background), var(--sklearn-color-text-on-default-background));\n",
       "  background-size: 2px 100%;\n",
       "  background-repeat: no-repeat;\n",
       "  background-position: center center;\n",
       "}\n",
       "\n",
       "/* Parallel-specific style estimator block */\n",
       "\n",
       "#sk-container-id-4 div.sk-parallel-item::after {\n",
       "  content: \"\";\n",
       "  width: 100%;\n",
       "  border-bottom: 2px solid var(--sklearn-color-text-on-default-background);\n",
       "  flex-grow: 1;\n",
       "}\n",
       "\n",
       "#sk-container-id-4 div.sk-parallel {\n",
       "  display: flex;\n",
       "  align-items: stretch;\n",
       "  justify-content: center;\n",
       "  background-color: var(--sklearn-color-background);\n",
       "  position: relative;\n",
       "}\n",
       "\n",
       "#sk-container-id-4 div.sk-parallel-item {\n",
       "  display: flex;\n",
       "  flex-direction: column;\n",
       "}\n",
       "\n",
       "#sk-container-id-4 div.sk-parallel-item:first-child::after {\n",
       "  align-self: flex-end;\n",
       "  width: 50%;\n",
       "}\n",
       "\n",
       "#sk-container-id-4 div.sk-parallel-item:last-child::after {\n",
       "  align-self: flex-start;\n",
       "  width: 50%;\n",
       "}\n",
       "\n",
       "#sk-container-id-4 div.sk-parallel-item:only-child::after {\n",
       "  width: 0;\n",
       "}\n",
       "\n",
       "/* Serial-specific style estimator block */\n",
       "\n",
       "#sk-container-id-4 div.sk-serial {\n",
       "  display: flex;\n",
       "  flex-direction: column;\n",
       "  align-items: center;\n",
       "  background-color: var(--sklearn-color-background);\n",
       "  padding-right: 1em;\n",
       "  padding-left: 1em;\n",
       "}\n",
       "\n",
       "\n",
       "/* Toggleable style: style used for estimator/Pipeline/ColumnTransformer box that is\n",
       "clickable and can be expanded/collapsed.\n",
       "- Pipeline and ColumnTransformer use this feature and define the default style\n",
       "- Estimators will overwrite some part of the style using the `sk-estimator` class\n",
       "*/\n",
       "\n",
       "/* Pipeline and ColumnTransformer style (default) */\n",
       "\n",
       "#sk-container-id-4 div.sk-toggleable {\n",
       "  /* Default theme specific background. It is overwritten whether we have a\n",
       "  specific estimator or a Pipeline/ColumnTransformer */\n",
       "  background-color: var(--sklearn-color-background);\n",
       "}\n",
       "\n",
       "/* Toggleable label */\n",
       "#sk-container-id-4 label.sk-toggleable__label {\n",
       "  cursor: pointer;\n",
       "  display: block;\n",
       "  width: 100%;\n",
       "  margin-bottom: 0;\n",
       "  padding: 0.5em;\n",
       "  box-sizing: border-box;\n",
       "  text-align: center;\n",
       "}\n",
       "\n",
       "#sk-container-id-4 label.sk-toggleable__label-arrow:before {\n",
       "  /* Arrow on the left of the label */\n",
       "  content: \"▸\";\n",
       "  float: left;\n",
       "  margin-right: 0.25em;\n",
       "  color: var(--sklearn-color-icon);\n",
       "}\n",
       "\n",
       "#sk-container-id-4 label.sk-toggleable__label-arrow:hover:before {\n",
       "  color: var(--sklearn-color-text);\n",
       "}\n",
       "\n",
       "/* Toggleable content - dropdown */\n",
       "\n",
       "#sk-container-id-4 div.sk-toggleable__content {\n",
       "  max-height: 0;\n",
       "  max-width: 0;\n",
       "  overflow: hidden;\n",
       "  text-align: left;\n",
       "  /* unfitted */\n",
       "  background-color: var(--sklearn-color-unfitted-level-0);\n",
       "}\n",
       "\n",
       "#sk-container-id-4 div.sk-toggleable__content.fitted {\n",
       "  /* fitted */\n",
       "  background-color: var(--sklearn-color-fitted-level-0);\n",
       "}\n",
       "\n",
       "#sk-container-id-4 div.sk-toggleable__content pre {\n",
       "  margin: 0.2em;\n",
       "  border-radius: 0.25em;\n",
       "  color: var(--sklearn-color-text);\n",
       "  /* unfitted */\n",
       "  background-color: var(--sklearn-color-unfitted-level-0);\n",
       "}\n",
       "\n",
       "#sk-container-id-4 div.sk-toggleable__content.fitted pre {\n",
       "  /* unfitted */\n",
       "  background-color: var(--sklearn-color-fitted-level-0);\n",
       "}\n",
       "\n",
       "#sk-container-id-4 input.sk-toggleable__control:checked~div.sk-toggleable__content {\n",
       "  /* Expand drop-down */\n",
       "  max-height: 200px;\n",
       "  max-width: 100%;\n",
       "  overflow: auto;\n",
       "}\n",
       "\n",
       "#sk-container-id-4 input.sk-toggleable__control:checked~label.sk-toggleable__label-arrow:before {\n",
       "  content: \"▾\";\n",
       "}\n",
       "\n",
       "/* Pipeline/ColumnTransformer-specific style */\n",
       "\n",
       "#sk-container-id-4 div.sk-label input.sk-toggleable__control:checked~label.sk-toggleable__label {\n",
       "  color: var(--sklearn-color-text);\n",
       "  background-color: var(--sklearn-color-unfitted-level-2);\n",
       "}\n",
       "\n",
       "#sk-container-id-4 div.sk-label.fitted input.sk-toggleable__control:checked~label.sk-toggleable__label {\n",
       "  background-color: var(--sklearn-color-fitted-level-2);\n",
       "}\n",
       "\n",
       "/* Estimator-specific style */\n",
       "\n",
       "/* Colorize estimator box */\n",
       "#sk-container-id-4 div.sk-estimator input.sk-toggleable__control:checked~label.sk-toggleable__label {\n",
       "  /* unfitted */\n",
       "  background-color: var(--sklearn-color-unfitted-level-2);\n",
       "}\n",
       "\n",
       "#sk-container-id-4 div.sk-estimator.fitted input.sk-toggleable__control:checked~label.sk-toggleable__label {\n",
       "  /* fitted */\n",
       "  background-color: var(--sklearn-color-fitted-level-2);\n",
       "}\n",
       "\n",
       "#sk-container-id-4 div.sk-label label.sk-toggleable__label,\n",
       "#sk-container-id-4 div.sk-label label {\n",
       "  /* The background is the default theme color */\n",
       "  color: var(--sklearn-color-text-on-default-background);\n",
       "}\n",
       "\n",
       "/* On hover, darken the color of the background */\n",
       "#sk-container-id-4 div.sk-label:hover label.sk-toggleable__label {\n",
       "  color: var(--sklearn-color-text);\n",
       "  background-color: var(--sklearn-color-unfitted-level-2);\n",
       "}\n",
       "\n",
       "/* Label box, darken color on hover, fitted */\n",
       "#sk-container-id-4 div.sk-label.fitted:hover label.sk-toggleable__label.fitted {\n",
       "  color: var(--sklearn-color-text);\n",
       "  background-color: var(--sklearn-color-fitted-level-2);\n",
       "}\n",
       "\n",
       "/* Estimator label */\n",
       "\n",
       "#sk-container-id-4 div.sk-label label {\n",
       "  font-family: monospace;\n",
       "  font-weight: bold;\n",
       "  display: inline-block;\n",
       "  line-height: 1.2em;\n",
       "}\n",
       "\n",
       "#sk-container-id-4 div.sk-label-container {\n",
       "  text-align: center;\n",
       "}\n",
       "\n",
       "/* Estimator-specific */\n",
       "#sk-container-id-4 div.sk-estimator {\n",
       "  font-family: monospace;\n",
       "  border: 1px dotted var(--sklearn-color-border-box);\n",
       "  border-radius: 0.25em;\n",
       "  box-sizing: border-box;\n",
       "  margin-bottom: 0.5em;\n",
       "  /* unfitted */\n",
       "  background-color: var(--sklearn-color-unfitted-level-0);\n",
       "}\n",
       "\n",
       "#sk-container-id-4 div.sk-estimator.fitted {\n",
       "  /* fitted */\n",
       "  background-color: var(--sklearn-color-fitted-level-0);\n",
       "}\n",
       "\n",
       "/* on hover */\n",
       "#sk-container-id-4 div.sk-estimator:hover {\n",
       "  /* unfitted */\n",
       "  background-color: var(--sklearn-color-unfitted-level-2);\n",
       "}\n",
       "\n",
       "#sk-container-id-4 div.sk-estimator.fitted:hover {\n",
       "  /* fitted */\n",
       "  background-color: var(--sklearn-color-fitted-level-2);\n",
       "}\n",
       "\n",
       "/* Specification for estimator info (e.g. \"i\" and \"?\") */\n",
       "\n",
       "/* Common style for \"i\" and \"?\" */\n",
       "\n",
       ".sk-estimator-doc-link,\n",
       "a:link.sk-estimator-doc-link,\n",
       "a:visited.sk-estimator-doc-link {\n",
       "  float: right;\n",
       "  font-size: smaller;\n",
       "  line-height: 1em;\n",
       "  font-family: monospace;\n",
       "  background-color: var(--sklearn-color-background);\n",
       "  border-radius: 1em;\n",
       "  height: 1em;\n",
       "  width: 1em;\n",
       "  text-decoration: none !important;\n",
       "  margin-left: 1ex;\n",
       "  /* unfitted */\n",
       "  border: var(--sklearn-color-unfitted-level-1) 1pt solid;\n",
       "  color: var(--sklearn-color-unfitted-level-1);\n",
       "}\n",
       "\n",
       ".sk-estimator-doc-link.fitted,\n",
       "a:link.sk-estimator-doc-link.fitted,\n",
       "a:visited.sk-estimator-doc-link.fitted {\n",
       "  /* fitted */\n",
       "  border: var(--sklearn-color-fitted-level-1) 1pt solid;\n",
       "  color: var(--sklearn-color-fitted-level-1);\n",
       "}\n",
       "\n",
       "/* On hover */\n",
       "div.sk-estimator:hover .sk-estimator-doc-link:hover,\n",
       ".sk-estimator-doc-link:hover,\n",
       "div.sk-label-container:hover .sk-estimator-doc-link:hover,\n",
       ".sk-estimator-doc-link:hover {\n",
       "  /* unfitted */\n",
       "  background-color: var(--sklearn-color-unfitted-level-3);\n",
       "  color: var(--sklearn-color-background);\n",
       "  text-decoration: none;\n",
       "}\n",
       "\n",
       "div.sk-estimator.fitted:hover .sk-estimator-doc-link.fitted:hover,\n",
       ".sk-estimator-doc-link.fitted:hover,\n",
       "div.sk-label-container:hover .sk-estimator-doc-link.fitted:hover,\n",
       ".sk-estimator-doc-link.fitted:hover {\n",
       "  /* fitted */\n",
       "  background-color: var(--sklearn-color-fitted-level-3);\n",
       "  color: var(--sklearn-color-background);\n",
       "  text-decoration: none;\n",
       "}\n",
       "\n",
       "/* Span, style for the box shown on hovering the info icon */\n",
       ".sk-estimator-doc-link span {\n",
       "  display: none;\n",
       "  z-index: 9999;\n",
       "  position: relative;\n",
       "  font-weight: normal;\n",
       "  right: .2ex;\n",
       "  padding: .5ex;\n",
       "  margin: .5ex;\n",
       "  width: min-content;\n",
       "  min-width: 20ex;\n",
       "  max-width: 50ex;\n",
       "  color: var(--sklearn-color-text);\n",
       "  box-shadow: 2pt 2pt 4pt #999;\n",
       "  /* unfitted */\n",
       "  background: var(--sklearn-color-unfitted-level-0);\n",
       "  border: .5pt solid var(--sklearn-color-unfitted-level-3);\n",
       "}\n",
       "\n",
       ".sk-estimator-doc-link.fitted span {\n",
       "  /* fitted */\n",
       "  background: var(--sklearn-color-fitted-level-0);\n",
       "  border: var(--sklearn-color-fitted-level-3);\n",
       "}\n",
       "\n",
       ".sk-estimator-doc-link:hover span {\n",
       "  display: block;\n",
       "}\n",
       "\n",
       "/* \"?\"-specific style due to the `<a>` HTML tag */\n",
       "\n",
       "#sk-container-id-4 a.estimator_doc_link {\n",
       "  float: right;\n",
       "  font-size: 1rem;\n",
       "  line-height: 1em;\n",
       "  font-family: monospace;\n",
       "  background-color: var(--sklearn-color-background);\n",
       "  border-radius: 1rem;\n",
       "  height: 1rem;\n",
       "  width: 1rem;\n",
       "  text-decoration: none;\n",
       "  /* unfitted */\n",
       "  color: var(--sklearn-color-unfitted-level-1);\n",
       "  border: var(--sklearn-color-unfitted-level-1) 1pt solid;\n",
       "}\n",
       "\n",
       "#sk-container-id-4 a.estimator_doc_link.fitted {\n",
       "  /* fitted */\n",
       "  border: var(--sklearn-color-fitted-level-1) 1pt solid;\n",
       "  color: var(--sklearn-color-fitted-level-1);\n",
       "}\n",
       "\n",
       "/* On hover */\n",
       "#sk-container-id-4 a.estimator_doc_link:hover {\n",
       "  /* unfitted */\n",
       "  background-color: var(--sklearn-color-unfitted-level-3);\n",
       "  color: var(--sklearn-color-background);\n",
       "  text-decoration: none;\n",
       "}\n",
       "\n",
       "#sk-container-id-4 a.estimator_doc_link.fitted:hover {\n",
       "  /* fitted */\n",
       "  background-color: var(--sklearn-color-fitted-level-3);\n",
       "}\n",
       "</style><div id=\"sk-container-id-4\" class=\"sk-top-container\"><div class=\"sk-text-repr-fallback\"><pre>RandomForestRegressor(n_estimators=10, random_state=42)</pre><b>In a Jupyter environment, please rerun this cell to show the HTML representation or trust the notebook. <br />On GitHub, the HTML representation is unable to render, please try loading this page with nbviewer.org.</b></div><div class=\"sk-container\" hidden><div class=\"sk-item\"><div class=\"sk-estimator fitted sk-toggleable\"><input class=\"sk-toggleable__control sk-hidden--visually\" id=\"sk-estimator-id-4\" type=\"checkbox\" checked><label for=\"sk-estimator-id-4\" class=\"sk-toggleable__label fitted sk-toggleable__label-arrow fitted\">&nbsp;&nbsp;RandomForestRegressor<a class=\"sk-estimator-doc-link fitted\" rel=\"noreferrer\" target=\"_blank\" href=\"https://scikit-learn.org/1.4/modules/generated/sklearn.ensemble.RandomForestRegressor.html\">?<span>Documentation for RandomForestRegressor</span></a><span class=\"sk-estimator-doc-link fitted\">i<span>Fitted</span></span></label><div class=\"sk-toggleable__content fitted\"><pre>RandomForestRegressor(n_estimators=10, random_state=42)</pre></div> </div></div></div></div>"
      ],
      "text/plain": [
       "RandomForestRegressor(n_estimators=10, random_state=42)"
      ]
     },
     "execution_count": 127,
     "metadata": {},
     "output_type": "execute_result"
    }
   ],
   "source": [
    "#treinamento do random forest\n",
    "forest_reg = RandomForestRegressor(n_estimators=10, random_state=42)\n",
    "forest_reg.fit(df_orders_prepared, df_orders_treatment_label)"
   ]
  },
  {
   "cell_type": "code",
   "execution_count": 135,
   "metadata": {
    "id": "DhKkMbXkKgEY"
   },
   "outputs": [
    {
     "data": {
      "text/plain": [
       "0.8000000000000002"
      ]
     },
     "execution_count": 135,
     "metadata": {},
     "output_type": "execute_result"
    }
   ],
   "source": [
    "#Realiza as previsões e testa a métrica do RMSE\n",
    "dados_predictions = forest_reg.predict(dados_preparados)\n",
    "forest_mse = mean_squared_error(labels, dados_predictions)\n",
    "forest_rmse = np.sqrt(forest_mse)\n",
    "forest_mse"
   ]
  },
  {
   "cell_type": "code",
   "execution_count": 136,
   "metadata": {},
   "outputs": [
    {
     "data": {
      "text/plain": [
       "array([0.05261412, 0.04261525, 0.11450634, 0.057493  , 0.05134389,\n",
       "       0.0854506 , 0.06830066, 0.29761485, 0.07002335, 0.03264387,\n",
       "       0.0467371 , 0.00570571, 0.00689333, 0.00063652, 0.03795423,\n",
       "       0.02946717])"
      ]
     },
     "execution_count": 136,
     "metadata": {},
     "output_type": "execute_result"
    }
   ],
   "source": [
    "forest_reg.feature_importances_"
   ]
  },
  {
   "cell_type": "code",
   "execution_count": 137,
   "metadata": {
    "id": "zcd4Gpv1Km81"
   },
   "outputs": [
    {
     "data": {
      "text/plain": [
       "array([ 7.3,  7.9,  1.8,  4.8, 10.8,  1.3,  2.6,  4.6,  2.9,  3.6])"
      ]
     },
     "execution_count": 137,
     "metadata": {},
     "output_type": "execute_result"
    }
   ],
   "source": [
    "#predições\n",
    "dados_predictions"
   ]
  },
  {
   "cell_type": "code",
   "execution_count": 138,
   "metadata": {
    "id": "NcDBOSnVKrVn"
   },
   "outputs": [
    {
     "data": {
      "text/plain": [
       "array([[7],\n",
       "       [8],\n",
       "       [1],\n",
       "       [3],\n",
       "       [9],\n",
       "       [1],\n",
       "       [3],\n",
       "       [5],\n",
       "       [3],\n",
       "       [3]], dtype=int64)"
      ]
     },
     "execution_count": 138,
     "metadata": {},
     "output_type": "execute_result"
    }
   ],
   "source": [
    "#valores reais\n",
    "labels.values"
   ]
  },
  {
   "cell_type": "code",
   "execution_count": 139,
   "metadata": {
    "id": "oQ8FlOdQncw5"
   },
   "outputs": [
    {
     "data": {
      "text/plain": [
       "0.8890429958391123"
      ]
     },
     "execution_count": 139,
     "metadata": {},
     "output_type": "execute_result"
    }
   ],
   "source": [
    "#Nova variáveil com o R²\n",
    "r_squared = r2_score(labels, dados_predictions)\n",
    "# Exibindo o resultado\n",
    "r_squared"
   ]
  },
  {
   "cell_type": "markdown",
   "metadata": {
    "id": "CaoOX2iTMbed"
   },
   "source": [
    "## Modelo Final\n",
    "\n",
    "Agora que já definimos o nosso modelo com a melhor métrica, podemos fazer criar o modelo de Machine Learning"
   ]
  },
  {
   "cell_type": "code",
   "execution_count": 140,
   "metadata": {
    "id": "HON9QlzRSn_Q"
   },
   "outputs": [],
   "source": [
    "#seleciona o dataset de teste\n",
    "df_orders_test = test_set.copy()"
   ]
  },
  {
   "cell_type": "code",
   "execution_count": 143,
   "metadata": {
    "id": "L1yzpXgySp25"
   },
   "outputs": [],
   "source": [
    "#seleciona o modelo final\n",
    "final_model = forest_reg"
   ]
  },
  {
   "cell_type": "code",
   "execution_count": 144,
   "metadata": {
    "id": "_VE3ItifSvP_"
   },
   "outputs": [],
   "source": [
    "# Usando o conjunto de teste para a avaliação\n",
    "x_test = df_orders_test.drop('demanda', axis=1)\n",
    "y_test = df_orders_test['demanda'].copy()"
   ]
  },
  {
   "cell_type": "code",
   "execution_count": 145,
   "metadata": {
    "id": "48bwm2TRSw_a"
   },
   "outputs": [],
   "source": [
    "# Transformando os dados de teste com o pipeline usado no treinamento\n",
    "x_test_prepared = full_pipeline.transform(x_test)"
   ]
  },
  {
   "cell_type": "code",
   "execution_count": 146,
   "metadata": {
    "id": "MTHiQ5L6Szge"
   },
   "outputs": [],
   "source": [
    "# Fazendo previsões com o modelo final\n",
    "final_predictions = final_model.predict(x_test_prepared)"
   ]
  },
  {
   "cell_type": "code",
   "execution_count": 149,
   "metadata": {
    "id": "BMrCEzFrOa0_"
   },
   "outputs": [
    {
     "name": "stdout",
     "output_type": "stream",
     "text": [
      "RMSE: 5.2098544955608475\n",
      "MSE: 2.690829268292683\n",
      "R²: 0.6333748818060349\n"
     ]
    }
   ],
   "source": [
    "# Calculando as métricas de desempenho\n",
    "final_mse = mean_squared_error(y_test, final_predictions)\n",
    "final_rmse = np.sqrt(final_mse)\n",
    "final_mse = mean_absolute_error(y_test, final_predictions)\n",
    "final_r_squared = r2_score(y_test, final_predictions)\n",
    "# Exibindo os resultados\n",
    "print(f\"RMSE: {final_rmse}\")\n",
    "print(f\"MSE: {final_mse}\")\n",
    "print(f\"R²: {final_r_squared}\")\n"
   ]
  },
  {
   "cell_type": "code",
   "execution_count": 87,
   "metadata": {
    "id": "8B1AW7D-U-tL"
   },
   "outputs": [],
   "source": [
    "#describe y_test\n"
   ]
  },
  {
   "cell_type": "code",
   "execution_count": 88,
   "metadata": {
    "id": "Z8VYEsYuNkJX"
   },
   "outputs": [],
   "source": [
    "#avalia os dados de entrada\n"
   ]
  },
  {
   "cell_type": "code",
   "execution_count": 89,
   "metadata": {
    "id": "lY9o4PUxTqyN"
   },
   "outputs": [],
   "source": [
    "#o valor real\n"
   ]
  },
  {
   "cell_type": "code",
   "execution_count": 90,
   "metadata": {
    "id": "VbDODpTITcpv"
   },
   "outputs": [],
   "source": [
    "#previsão final\n"
   ]
  },
  {
   "cell_type": "markdown",
   "metadata": {
    "id": "0ZdzvqAS1cDZ"
   },
   "source": [
    "## Export do Modelo\n",
    "\n",
    "No contexto de aprendizado de máquina, exportar um modelo refere-se ao processo de salvar o estado de um modelo treinado em um arquivo, permitindo que ele seja reutilizado posteriormente sem a necessidade de re-treinamento."
   ]
  },
  {
   "cell_type": "code",
   "execution_count": 91,
   "metadata": {
    "id": "MYdIvFjMU8mL"
   },
   "outputs": [],
   "source": [
    "#import do pickle\n"
   ]
  },
  {
   "cell_type": "code",
   "execution_count": 92,
   "metadata": {
    "id": "FvHpDHkcU_GY"
   },
   "outputs": [],
   "source": [
    "#realiza o dumping do modelo\n"
   ]
  },
  {
   "cell_type": "markdown",
   "metadata": {
    "id": "-WKuyGNe1eSB"
   },
   "source": [
    "## Import do Modelo"
   ]
  },
  {
   "cell_type": "code",
   "execution_count": 93,
   "metadata": {
    "id": "hpQfcqUSVFwk"
   },
   "outputs": [],
   "source": [
    "#import do modelo\n"
   ]
  },
  {
   "cell_type": "code",
   "execution_count": 94,
   "metadata": {
    "id": "e2EinC4VVHkN"
   },
   "outputs": [],
   "source": [
    "#faz a predição do X_test\n"
   ]
  },
  {
   "cell_type": "code",
   "execution_count": 95,
   "metadata": {
    "id": "jE5D14rIUju2"
   },
   "outputs": [],
   "source": [
    "#traz as métricas do rmse e mae\n"
   ]
  }
 ],
 "metadata": {
  "colab": {
   "provenance": []
  },
  "kernelspec": {
   "display_name": "Python 3 (ipykernel)",
   "language": "python",
   "name": "python3"
  },
  "language_info": {
   "codemirror_mode": {
    "name": "ipython",
    "version": 3
   },
   "file_extension": ".py",
   "mimetype": "text/x-python",
   "name": "python",
   "nbconvert_exporter": "python",
   "pygments_lexer": "ipython3",
   "version": "3.12.3"
  }
 },
 "nbformat": 4,
 "nbformat_minor": 4
}
