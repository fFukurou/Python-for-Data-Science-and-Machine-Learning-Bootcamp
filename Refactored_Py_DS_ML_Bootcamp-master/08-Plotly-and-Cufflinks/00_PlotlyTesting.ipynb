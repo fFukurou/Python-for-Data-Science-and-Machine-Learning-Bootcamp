{
 "cells": [
  {
   "cell_type": "code",
   "execution_count": 3,
   "id": "d826a0df-323c-466c-b554-aafc966c7231",
   "metadata": {},
   "outputs": [],
   "source": [
    "import pandas as pd\n",
    "import numpy as np"
   ]
  },
  {
   "cell_type": "code",
   "execution_count": 4,
   "id": "3dd52bf3-afec-4b3c-82fa-8c8de969f3de",
   "metadata": {},
   "outputs": [],
   "source": [
    "from plotly import __version__"
   ]
  },
  {
   "cell_type": "code",
   "execution_count": 5,
   "id": "0bf33656-b351-4836-b2c0-3545e63f81fb",
   "metadata": {},
   "outputs": [
    {
     "name": "stdout",
     "output_type": "stream",
     "text": [
      "5.24.1\n"
     ]
    }
   ],
   "source": [
    "print(__version__)"
   ]
  },
  {
   "cell_type": "code",
   "execution_count": 6,
   "id": "a021c039-48dc-40be-8391-106c9cb320e6",
   "metadata": {},
   "outputs": [
    {
     "name": "stdout",
     "output_type": "stream",
     "text": [
      "Requirement already satisfied: cufflinks in c:\\python312\\lib\\site-packages (0.17.3)\n",
      "Requirement already satisfied: numpy>=1.9.2 in c:\\python312\\lib\\site-packages (from cufflinks) (1.26.4)\n",
      "Requirement already satisfied: pandas>=0.19.2 in c:\\python312\\lib\\site-packages (from cufflinks) (2.2.2)\n",
      "Requirement already satisfied: plotly>=4.1.1 in c:\\python312\\lib\\site-packages (from cufflinks) (5.24.1)\n",
      "Requirement already satisfied: six>=1.9.0 in c:\\python312\\lib\\site-packages (from cufflinks) (1.16.0)\n",
      "Requirement already satisfied: colorlover>=0.2.1 in c:\\python312\\lib\\site-packages (from cufflinks) (0.3.0)\n",
      "Requirement already satisfied: setuptools>=34.4.1 in c:\\python312\\lib\\site-packages (from cufflinks) (72.2.0)\n",
      "Requirement already satisfied: ipython>=5.3.0 in c:\\users\\supev\\appdata\\roaming\\python\\python312\\site-packages (from cufflinks) (8.25.0)\n",
      "Requirement already satisfied: ipywidgets>=7.0.0 in c:\\python312\\lib\\site-packages (from cufflinks) (8.1.5)\n",
      "Requirement already satisfied: decorator in c:\\users\\supev\\appdata\\roaming\\python\\python312\\site-packages (from ipython>=5.3.0->cufflinks) (5.1.1)\n",
      "Requirement already satisfied: jedi>=0.16 in c:\\users\\supev\\appdata\\roaming\\python\\python312\\site-packages (from ipython>=5.3.0->cufflinks) (0.19.1)\n",
      "Requirement already satisfied: matplotlib-inline in c:\\users\\supev\\appdata\\roaming\\python\\python312\\site-packages (from ipython>=5.3.0->cufflinks) (0.1.7)\n",
      "Requirement already satisfied: prompt-toolkit<3.1.0,>=3.0.41 in c:\\users\\supev\\appdata\\roaming\\python\\python312\\site-packages (from ipython>=5.3.0->cufflinks) (3.0.47)\n",
      "Requirement already satisfied: pygments>=2.4.0 in c:\\users\\supev\\appdata\\roaming\\python\\python312\\site-packages (from ipython>=5.3.0->cufflinks) (2.18.0)\n",
      "Requirement already satisfied: stack-data in c:\\users\\supev\\appdata\\roaming\\python\\python312\\site-packages (from ipython>=5.3.0->cufflinks) (0.6.3)\n",
      "Requirement already satisfied: traitlets>=5.13.0 in c:\\users\\supev\\appdata\\roaming\\python\\python312\\site-packages (from ipython>=5.3.0->cufflinks) (5.14.3)\n",
      "Requirement already satisfied: colorama in c:\\users\\supev\\appdata\\roaming\\python\\python312\\site-packages (from ipython>=5.3.0->cufflinks) (0.4.6)\n",
      "Requirement already satisfied: comm>=0.1.3 in c:\\users\\supev\\appdata\\roaming\\python\\python312\\site-packages (from ipywidgets>=7.0.0->cufflinks) (0.2.2)\n",
      "Requirement already satisfied: widgetsnbextension~=4.0.12 in c:\\python312\\lib\\site-packages (from ipywidgets>=7.0.0->cufflinks) (4.0.13)\n",
      "Requirement already satisfied: jupyterlab-widgets~=3.0.12 in c:\\python312\\lib\\site-packages (from ipywidgets>=7.0.0->cufflinks) (3.0.13)\n",
      "Requirement already satisfied: python-dateutil>=2.8.2 in c:\\python312\\lib\\site-packages (from pandas>=0.19.2->cufflinks) (2.9.0.post0)\n",
      "Requirement already satisfied: pytz>=2020.1 in c:\\python312\\lib\\site-packages (from pandas>=0.19.2->cufflinks) (2024.1)\n",
      "Requirement already satisfied: tzdata>=2022.7 in c:\\python312\\lib\\site-packages (from pandas>=0.19.2->cufflinks) (2024.1)\n",
      "Requirement already satisfied: tenacity>=6.2.0 in c:\\python312\\lib\\site-packages (from plotly>=4.1.1->cufflinks) (9.0.0)\n",
      "Requirement already satisfied: packaging in c:\\users\\supev\\appdata\\roaming\\python\\python312\\site-packages (from plotly>=4.1.1->cufflinks) (24.1)\n",
      "Requirement already satisfied: parso<0.9.0,>=0.8.3 in c:\\users\\supev\\appdata\\roaming\\python\\python312\\site-packages (from jedi>=0.16->ipython>=5.3.0->cufflinks) (0.8.4)\n",
      "Requirement already satisfied: wcwidth in c:\\python312\\lib\\site-packages (from prompt-toolkit<3.1.0,>=3.0.41->ipython>=5.3.0->cufflinks) (0.2.13)\n",
      "Requirement already satisfied: executing>=1.2.0 in c:\\users\\supev\\appdata\\roaming\\python\\python312\\site-packages (from stack-data->ipython>=5.3.0->cufflinks) (2.0.1)\n",
      "Requirement already satisfied: asttokens>=2.1.0 in c:\\users\\supev\\appdata\\roaming\\python\\python312\\site-packages (from stack-data->ipython>=5.3.0->cufflinks) (2.4.1)\n",
      "Requirement already satisfied: pure-eval in c:\\users\\supev\\appdata\\roaming\\python\\python312\\site-packages (from stack-data->ipython>=5.3.0->cufflinks) (0.2.2)\n"
     ]
    },
    {
     "name": "stderr",
     "output_type": "stream",
     "text": [
      "WARNING: Ignoring invalid distribution ~ (C:\\Python312\\Lib\\site-packages)\n",
      "WARNING: Ignoring invalid distribution ~-p (C:\\Python312\\Lib\\site-packages)\n",
      "WARNING: Ignoring invalid distribution ~ip (C:\\Python312\\Lib\\site-packages)\n",
      "WARNING: Ignoring invalid distribution ~~p (C:\\Python312\\Lib\\site-packages)\n",
      "WARNING: Ignoring invalid distribution ~ (C:\\Python312\\Lib\\site-packages)\n",
      "WARNING: Ignoring invalid distribution ~-p (C:\\Python312\\Lib\\site-packages)\n",
      "WARNING: Ignoring invalid distribution ~ip (C:\\Python312\\Lib\\site-packages)\n",
      "WARNING: Ignoring invalid distribution ~~p (C:\\Python312\\Lib\\site-packages)\n",
      "WARNING: Ignoring invalid distribution ~ (C:\\Python312\\Lib\\site-packages)\n",
      "WARNING: Ignoring invalid distribution ~-p (C:\\Python312\\Lib\\site-packages)\n",
      "WARNING: Ignoring invalid distribution ~ip (C:\\Python312\\Lib\\site-packages)\n",
      "WARNING: Ignoring invalid distribution ~~p (C:\\Python312\\Lib\\site-packages)\n"
     ]
    }
   ],
   "source": [
    "!pip install cufflinks"
   ]
  },
  {
   "cell_type": "code",
   "execution_count": 7,
   "id": "c1f6e289-a9cc-45bc-912c-51b1fdcba696",
   "metadata": {},
   "outputs": [
    {
     "ename": "ModuleNotFoundError",
     "evalue": "No module named 'cufflinks'",
     "output_type": "error",
     "traceback": [
      "\u001b[1;31m---------------------------------------------------------------------------\u001b[0m",
      "\u001b[1;31mModuleNotFoundError\u001b[0m                       Traceback (most recent call last)",
      "Cell \u001b[1;32mIn[7], line 1\u001b[0m\n\u001b[1;32m----> 1\u001b[0m \u001b[38;5;28;01mimport\u001b[39;00m \u001b[38;5;21;01mcufflinks\u001b[39;00m \u001b[38;5;28;01mas\u001b[39;00m \u001b[38;5;21;01mcf\u001b[39;00m\n",
      "\u001b[1;31mModuleNotFoundError\u001b[0m: No module named 'cufflinks'"
     ]
    }
   ],
   "source": [
    "import cufflinks as cf"
   ]
  },
  {
   "cell_type": "code",
   "execution_count": null,
   "id": "f531934f-602e-47b7-b59e-f29a842208d0",
   "metadata": {},
   "outputs": [],
   "source": [
    "from "
   ]
  },
  {
   "cell_type": "code",
   "execution_count": null,
   "id": "b477a344-fd9c-4414-9d0a-c023a620acde",
   "metadata": {},
   "outputs": [],
   "source": []
  }
 ],
 "metadata": {
  "kernelspec": {
   "display_name": "Python 3 (ipykernel)",
   "language": "python",
   "name": "python3"
  },
  "language_info": {
   "codemirror_mode": {
    "name": "ipython",
    "version": 3
   },
   "file_extension": ".py",
   "mimetype": "text/x-python",
   "name": "python",
   "nbconvert_exporter": "python",
   "pygments_lexer": "ipython3",
   "version": "3.12.4"
  }
 },
 "nbformat": 4,
 "nbformat_minor": 5
}
